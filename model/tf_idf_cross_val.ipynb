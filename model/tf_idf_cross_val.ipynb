{
 "cells": [
  {
   "cell_type": "code",
   "execution_count": 1,
   "metadata": {},
   "outputs": [],
   "source": [
    "import pandas as pd, numpy as np\n",
    "import sklearn\n",
    "import scipy.sparse\n",
    "import warnings\n",
    "warnings.filterwarnings('ignore')\n",
    "from sklearn.feature_extraction.text import CountVectorizer\n",
    "from scipy import sparse\n",
    "from sklearn.metrics import confusion_matrix\n",
    "from sklearn.naive_bayes import MultinomialNB\n",
    "from bs4 import BeautifulSoup\n",
    "import re\n",
    "from sklearn.metrics import f1_score"
   ]
  },
  {
   "cell_type": "code",
   "execution_count": null,
   "metadata": {},
   "outputs": [],
   "source": [
    "data = pd.read_csv('../data/raw_data/kaggle/train.csv')\n",
    "labels=(data[\"toxic\"] | data[\"severe_toxic\"] | data[\"obscene\"] | data[\"threat\"] | data[\"insult\"] | data[\"identity_hate\"])\n",
    "# labels=data[\"Labels\"]\n",
    "train_data = data[0:100000]\n",
    "test_data = data[100001:]\n",
    "train_labels = labels[0:100000]\n",
    "test_labels = labels[100001:]\n",
    "\n",
    "corpus = data[\"comment_text\"]"
   ]
  },
  {
   "cell_type": "code",
   "execution_count": null,
   "metadata": {},
   "outputs": [],
   "source": [
    "vectorizer = CountVectorizer(strip_accents='unicode',lowercase=True,stop_words='english', analyzer=\"word\",token_pattern=r'\\w{1,}')\n",
    "X = vectorizer.fit_transform(corpus)\n",
    "train_feature_vectors_sparse = X[0:100000]\n",
    "test_feature_vectors_sparse = X[100001:]"
   ]
  },
  {
   "cell_type": "code",
   "execution_count": null,
   "metadata": {},
   "outputs": [],
   "source": [
    "def cross_val_tf_idf(tfidf_transformer):\n",
    "    X_train_tfidf = tfidf_transformer.fit_transform(train_feature_vectors_sparse)\n",
    "    X_test_tfidf = tfidf_transformer.transform(test_feature_vectors_sparse)\n",
    "\n",
    "    # TRAINING\n",
    "\n",
    "    clf = MultinomialNB()\n",
    "    clf.fit(X_train_tfidf, train_labels)\n",
    "    \n",
    "    # PREDICTION\n",
    "    predictions = clf.predict(X_test_tfidf)\n",
    "\n",
    "\n",
    "    # PERFORMANCE METRICS\n",
    "\n",
    "    confmat = confusion_matrix(test_labels, predictions)\n",
    "\n",
    "    precision = confmat[1,1]/(confmat[1,1] + confmat[1,0])\n",
    "    recall = confmat[1,1]/(confmat[1,1] + confmat[0,1])\n",
    "    fScore = f1_score(test_labels, predictions, average='weighted')\n",
    "    ccr = (confmat[0,0] + confmat[1,1])/(sum(sum(confmat)))\n",
    "\n",
    "    print(\"Precision = \",precision)\n",
    "    print(\"Recall = \",recall)\n",
    "    print(\"F_score = \",fScore)\n",
    "    print(\"CCR = \",ccr)\n",
    "    print()\n",
    "    print(\"Confusion Matrix: \\n\", confmat)\n",
    "    \n",
    "    return [precision,recall, fScore, ccr]"
   ]
  },
  {
   "cell_type": "code",
   "execution_count": null,
   "metadata": {},
   "outputs": [],
   "source": [
    "fsc = []\n",
    "prec = []\n",
    "recall = []\n",
    "ccr = []\n",
    "\n",
    "tfidf_transformer = TfidfTransformer(norm=None, use_idf=False, smooth_idf=True, sublinear_tf=False)\n",
    "res = cross_val_tf_idf(tfidf_transformer)\n",
    "\n",
    "fsc.append(res[2])\n",
    "prec.append(res[0])\n",
    "recall.append(res[1])\n",
    "ccr.append(res[3])\n",
    "\n",
    "tfidf_transformer = TfidfTransformer(norm=None, use_idf=True, smooth_idf=True, sublinear_tf=False)\n",
    "res = cross_val_tf_idf(tfidf_transformer)\n",
    "\n",
    "fsc.append(res[2])\n",
    "prec.append(res[0])\n",
    "recall.append(res[1])\n",
    "ccr.append(res[3])\n"
   ]
  }
 ],
 "metadata": {
  "kernelspec": {
   "display_name": "Python 3",
   "language": "python",
   "name": "python3"
  },
  "language_info": {
   "codemirror_mode": {
    "name": "ipython",
    "version": 3
   },
   "file_extension": ".py",
   "mimetype": "text/x-python",
   "name": "python",
   "nbconvert_exporter": "python",
   "pygments_lexer": "ipython3",
   "version": "3.6.7"
  }
 },
 "nbformat": 4,
 "nbformat_minor": 2
}
