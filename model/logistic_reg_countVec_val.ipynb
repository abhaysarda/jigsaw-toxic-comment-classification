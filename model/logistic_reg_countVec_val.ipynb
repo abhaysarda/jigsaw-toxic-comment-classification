{
 "cells": [
  {
   "cell_type": "code",
   "execution_count": 1,
   "metadata": {
    "collapsed": true
   },
   "outputs": [],
   "source": [
    "import pandas as pd, numpy as np\n",
    "import sklearn\n",
    "import scipy.sparse\n",
    "import warnings\n",
    "warnings.filterwarnings('ignore')\n",
    "from sklearn.feature_extraction.text import CountVectorizer\n",
    "from scipy import sparse\n",
    "from sklearn.metrics import confusion_matrix\n",
    "from bs4 import BeautifulSoup\n",
    "import re\n",
    "from sklearn.metrics import f1_score\n",
    "from sklearn.linear_model import LogisticRegression\n",
    "from sklearn.feature_extraction.text import TfidfTransformer\n"
   ]
  },
  {
   "cell_type": "code",
   "execution_count": 2,
   "metadata": {
    "collapsed": true
   },
   "outputs": [],
   "source": [
    "train_data = pd.read_csv('../data/raw_data/train.csv')\n",
    "test_data = pd.read_csv('../data/raw_data/test.csv')\n",
    "\n",
    "train_labels=(train_data[\"Labels\"])\n",
    "test_labels = test_data[\"Labels\"]\n",
    "\n",
    "corpus_train = train_data[\"Comment\"]\n",
    "corpus_test = test_data[\"Comment\"]"
   ]
  },
  {
   "cell_type": "code",
   "execution_count": 4,
   "metadata": {},
   "outputs": [
    {
     "data": {
      "text/html": [
       "<div>\n",
       "<style>\n",
       "    .dataframe thead tr:only-child th {\n",
       "        text-align: right;\n",
       "    }\n",
       "\n",
       "    .dataframe thead th {\n",
       "        text-align: left;\n",
       "    }\n",
       "\n",
       "    .dataframe tbody tr th {\n",
       "        vertical-align: top;\n",
       "    }\n",
       "</style>\n",
       "<table border=\"1\" class=\"dataframe\">\n",
       "  <thead>\n",
       "    <tr style=\"text-align: right;\">\n",
       "      <th></th>\n",
       "      <th>Comment</th>\n",
       "      <th>Labels</th>\n",
       "    </tr>\n",
       "  </thead>\n",
       "  <tbody>\n",
       "    <tr>\n",
       "      <th>0</th>\n",
       "      <td>Thank you for understanding. I think very high...</td>\n",
       "      <td>0</td>\n",
       "    </tr>\n",
       "    <tr>\n",
       "      <th>1</th>\n",
       "      <td>:Dear god this site is horrible.</td>\n",
       "      <td>0</td>\n",
       "    </tr>\n",
       "    <tr>\n",
       "      <th>2</th>\n",
       "      <td>\"::: Somebody will invariably try to add Relig...</td>\n",
       "      <td>0</td>\n",
       "    </tr>\n",
       "    <tr>\n",
       "      <th>3</th>\n",
       "      <td>\" \\n\\n It says it right there that it IS a typ...</td>\n",
       "      <td>0</td>\n",
       "    </tr>\n",
       "    <tr>\n",
       "      <th>4</th>\n",
       "      <td>\" \\n\\n == Before adding a new product to the l...</td>\n",
       "      <td>0</td>\n",
       "    </tr>\n",
       "  </tbody>\n",
       "</table>\n",
       "</div>"
      ],
      "text/plain": [
       "                                             Comment  Labels\n",
       "0  Thank you for understanding. I think very high...       0\n",
       "1                   :Dear god this site is horrible.       0\n",
       "2  \"::: Somebody will invariably try to add Relig...       0\n",
       "3  \" \\n\\n It says it right there that it IS a typ...       0\n",
       "4  \" \\n\\n == Before adding a new product to the l...       0"
      ]
     },
     "execution_count": 4,
     "metadata": {},
     "output_type": "execute_result"
    }
   ],
   "source": [
    "test_data.head()"
   ]
  },
  {
   "cell_type": "code",
   "execution_count": 5,
   "metadata": {
    "collapsed": true
   },
   "outputs": [],
   "source": [
    "from sklearn.pipeline import Pipeline\n",
    "pipeline = Pipeline([\n",
    "    ('cv', CountVectorizer(strip_accents='unicode',lowercase=True,stop_words='english', ngram_range=(1, 2))),\n",
    "    ('clf', LogisticRegression(multi_class='ovr'))\n",
    "])\n"
   ]
  },
  {
   "cell_type": "code",
   "execution_count": 6,
   "metadata": {
    "collapsed": true
   },
   "outputs": [],
   "source": [
    "from sklearn.metrics import make_scorer, roc_auc_score\n",
    "\n",
    "from sklearn.model_selection import GridSearchCV\n",
    "# tfidf_transformer = TfidfTransformer()\n",
    "parameters = {'clf__penalty':('l1','l2', None), 'clf__class_weight':(None, 'balanced'), 'clf__solver':('newton-cg', 'lbfgs')}\n",
    "grid = GridSearchCV(pipeline, parameters, scoring = make_scorer(roc_auc_score, average='macro'), cv=5, error_score=0.0, verbose=10)\n"
   ]
  },
  {
   "cell_type": "code",
   "execution_count": null,
   "metadata": {
    "scrolled": true
   },
   "outputs": [
    {
     "name": "stdout",
     "output_type": "stream",
     "text": [
      "Fitting 5 folds for each of 12 candidates, totalling 60 fits\n",
      "[CV] clf__class_weight=None, clf__penalty=l1, clf__solver=newton-cg ..\n"
     ]
    },
    {
     "name": "stderr",
     "output_type": "stream",
     "text": [
      "[Parallel(n_jobs=1)]: Using backend SequentialBackend with 1 concurrent workers.\n"
     ]
    },
    {
     "name": "stdout",
     "output_type": "stream",
     "text": [
      "[CV]  clf__class_weight=None, clf__penalty=l1, clf__solver=newton-cg, score=0.0, total=  32.6s\n",
      "[CV] clf__class_weight=None, clf__penalty=l1, clf__solver=newton-cg ..\n"
     ]
    },
    {
     "name": "stderr",
     "output_type": "stream",
     "text": [
      "[Parallel(n_jobs=1)]: Done   1 out of   1 | elapsed:   32.6s remaining:    0.0s\n"
     ]
    },
    {
     "name": "stdout",
     "output_type": "stream",
     "text": [
      "[CV]  clf__class_weight=None, clf__penalty=l1, clf__solver=newton-cg, score=0.0, total=  29.9s\n",
      "[CV] clf__class_weight=None, clf__penalty=l1, clf__solver=newton-cg ..\n"
     ]
    },
    {
     "name": "stderr",
     "output_type": "stream",
     "text": [
      "[Parallel(n_jobs=1)]: Done   2 out of   2 | elapsed:  1.0min remaining:    0.0s\n"
     ]
    },
    {
     "name": "stdout",
     "output_type": "stream",
     "text": [
      "[CV]  clf__class_weight=None, clf__penalty=l1, clf__solver=newton-cg, score=0.0, total=  30.9s\n",
      "[CV] clf__class_weight=None, clf__penalty=l1, clf__solver=newton-cg ..\n"
     ]
    },
    {
     "name": "stderr",
     "output_type": "stream",
     "text": [
      "[Parallel(n_jobs=1)]: Done   3 out of   3 | elapsed:  1.6min remaining:    0.0s\n"
     ]
    },
    {
     "name": "stdout",
     "output_type": "stream",
     "text": [
      "[CV]  clf__class_weight=None, clf__penalty=l1, clf__solver=newton-cg, score=0.0, total=  29.5s\n",
      "[CV] clf__class_weight=None, clf__penalty=l1, clf__solver=newton-cg ..\n"
     ]
    },
    {
     "name": "stderr",
     "output_type": "stream",
     "text": [
      "[Parallel(n_jobs=1)]: Done   4 out of   4 | elapsed:  2.1min remaining:    0.0s\n"
     ]
    },
    {
     "name": "stdout",
     "output_type": "stream",
     "text": [
      "[CV]  clf__class_weight=None, clf__penalty=l1, clf__solver=newton-cg, score=0.0, total=  33.5s\n"
     ]
    },
    {
     "name": "stderr",
     "output_type": "stream",
     "text": [
      "[Parallel(n_jobs=1)]: Done   5 out of   5 | elapsed:  2.6min remaining:    0.0s\n"
     ]
    },
    {
     "name": "stdout",
     "output_type": "stream",
     "text": [
      "[CV] clf__class_weight=None, clf__penalty=l1, clf__solver=lbfgs ......\n",
      "[CV]  clf__class_weight=None, clf__penalty=l1, clf__solver=lbfgs, score=0.0, total=  32.4s\n",
      "[CV] clf__class_weight=None, clf__penalty=l1, clf__solver=lbfgs ......\n"
     ]
    },
    {
     "name": "stderr",
     "output_type": "stream",
     "text": [
      "[Parallel(n_jobs=1)]: Done   6 out of   6 | elapsed:  3.2min remaining:    0.0s\n"
     ]
    },
    {
     "name": "stdout",
     "output_type": "stream",
     "text": [
      "[CV]  clf__class_weight=None, clf__penalty=l1, clf__solver=lbfgs, score=0.0, total=  30.8s\n",
      "[CV] clf__class_weight=None, clf__penalty=l1, clf__solver=lbfgs ......\n"
     ]
    },
    {
     "name": "stderr",
     "output_type": "stream",
     "text": [
      "[Parallel(n_jobs=1)]: Done   7 out of   7 | elapsed:  3.7min remaining:    0.0s\n"
     ]
    },
    {
     "name": "stdout",
     "output_type": "stream",
     "text": [
      "[CV]  clf__class_weight=None, clf__penalty=l1, clf__solver=lbfgs, score=0.0, total=  32.0s\n",
      "[CV] clf__class_weight=None, clf__penalty=l1, clf__solver=lbfgs ......\n"
     ]
    },
    {
     "name": "stderr",
     "output_type": "stream",
     "text": [
      "[Parallel(n_jobs=1)]: Done   8 out of   8 | elapsed:  4.2min remaining:    0.0s\n"
     ]
    },
    {
     "name": "stdout",
     "output_type": "stream",
     "text": [
      "[CV]  clf__class_weight=None, clf__penalty=l1, clf__solver=lbfgs, score=0.0, total=  32.5s\n",
      "[CV] clf__class_weight=None, clf__penalty=l1, clf__solver=lbfgs ......\n"
     ]
    },
    {
     "name": "stderr",
     "output_type": "stream",
     "text": [
      "[Parallel(n_jobs=1)]: Done   9 out of   9 | elapsed:  4.8min remaining:    0.0s\n"
     ]
    },
    {
     "name": "stdout",
     "output_type": "stream",
     "text": [
      "[CV]  clf__class_weight=None, clf__penalty=l1, clf__solver=lbfgs, score=0.0, total=  30.2s\n",
      "[CV] clf__class_weight=None, clf__penalty=l2, clf__solver=newton-cg ..\n",
      "[CV]  clf__class_weight=None, clf__penalty=l2, clf__solver=newton-cg, score=0.8299833448255289, total=11.8min\n",
      "[CV] clf__class_weight=None, clf__penalty=l2, clf__solver=newton-cg ..\n",
      "[CV]  clf__class_weight=None, clf__penalty=l2, clf__solver=newton-cg, score=0.8320851226804683, total= 7.3min\n",
      "[CV] clf__class_weight=None, clf__penalty=l2, clf__solver=newton-cg ..\n"
     ]
    }
   ],
   "source": [
    "grid.fit(corpus_train, train_labels)"
   ]
  },
  {
   "cell_type": "code",
   "execution_count": 7,
   "metadata": {
    "scrolled": true
   },
   "outputs": [
    {
     "data": {
      "text/plain": [
       "0.76080052735964854"
      ]
     },
     "execution_count": 7,
     "metadata": {},
     "output_type": "execute_result"
    }
   ],
   "source": [
    "grid.best_score_"
   ]
  },
  {
   "cell_type": "code",
   "execution_count": 8,
   "metadata": {
    "scrolled": true
   },
   "outputs": [
    {
     "data": {
      "text/html": [
       "<div>\n",
       "<style>\n",
       "    .dataframe thead tr:only-child th {\n",
       "        text-align: right;\n",
       "    }\n",
       "\n",
       "    .dataframe thead th {\n",
       "        text-align: left;\n",
       "    }\n",
       "\n",
       "    .dataframe tbody tr th {\n",
       "        vertical-align: top;\n",
       "    }\n",
       "</style>\n",
       "<table border=\"1\" class=\"dataframe\">\n",
       "  <thead>\n",
       "    <tr style=\"text-align: right;\">\n",
       "      <th></th>\n",
       "      <th>mean_fit_time</th>\n",
       "      <th>mean_score_time</th>\n",
       "      <th>mean_test_score</th>\n",
       "      <th>mean_train_score</th>\n",
       "      <th>param_clf__class_weight</th>\n",
       "      <th>param_clf__penalty</th>\n",
       "      <th>param_clf__solver</th>\n",
       "      <th>params</th>\n",
       "      <th>rank_test_score</th>\n",
       "      <th>split0_test_score</th>\n",
       "      <th>...</th>\n",
       "      <th>split2_test_score</th>\n",
       "      <th>split2_train_score</th>\n",
       "      <th>split3_test_score</th>\n",
       "      <th>split3_train_score</th>\n",
       "      <th>split4_test_score</th>\n",
       "      <th>split4_train_score</th>\n",
       "      <th>std_fit_time</th>\n",
       "      <th>std_score_time</th>\n",
       "      <th>std_test_score</th>\n",
       "      <th>std_train_score</th>\n",
       "    </tr>\n",
       "  </thead>\n",
       "  <tbody>\n",
       "    <tr>\n",
       "      <th>0</th>\n",
       "      <td>0.126878</td>\n",
       "      <td>0.000000</td>\n",
       "      <td>0.000000</td>\n",
       "      <td>0.000000</td>\n",
       "      <td>None</td>\n",
       "      <td>l1</td>\n",
       "      <td>newton-cg</td>\n",
       "      <td>{'clf__class_weight': None, 'clf__penalty': 'l...</td>\n",
       "      <td>9</td>\n",
       "      <td>0.000000</td>\n",
       "      <td>...</td>\n",
       "      <td>0.000000</td>\n",
       "      <td>0.000000</td>\n",
       "      <td>0.000000</td>\n",
       "      <td>0.000000</td>\n",
       "      <td>0.000000</td>\n",
       "      <td>0.000000</td>\n",
       "      <td>0.005123</td>\n",
       "      <td>0.000000</td>\n",
       "      <td>0.000000</td>\n",
       "      <td>0.000000</td>\n",
       "    </tr>\n",
       "    <tr>\n",
       "      <th>1</th>\n",
       "      <td>0.122108</td>\n",
       "      <td>0.000000</td>\n",
       "      <td>0.000000</td>\n",
       "      <td>0.000000</td>\n",
       "      <td>None</td>\n",
       "      <td>l1</td>\n",
       "      <td>lbfgs</td>\n",
       "      <td>{'clf__class_weight': None, 'clf__penalty': 'l...</td>\n",
       "      <td>9</td>\n",
       "      <td>0.000000</td>\n",
       "      <td>...</td>\n",
       "      <td>0.000000</td>\n",
       "      <td>0.000000</td>\n",
       "      <td>0.000000</td>\n",
       "      <td>0.000000</td>\n",
       "      <td>0.000000</td>\n",
       "      <td>0.000000</td>\n",
       "      <td>0.004195</td>\n",
       "      <td>0.000000</td>\n",
       "      <td>0.000000</td>\n",
       "      <td>0.000000</td>\n",
       "    </tr>\n",
       "    <tr>\n",
       "      <th>2</th>\n",
       "      <td>12.170704</td>\n",
       "      <td>0.030099</td>\n",
       "      <td>0.602469</td>\n",
       "      <td>0.728202</td>\n",
       "      <td>None</td>\n",
       "      <td>l1</td>\n",
       "      <td>liblinear</td>\n",
       "      <td>{'clf__class_weight': None, 'clf__penalty': 'l...</td>\n",
       "      <td>8</td>\n",
       "      <td>0.578125</td>\n",
       "      <td>...</td>\n",
       "      <td>0.606735</td>\n",
       "      <td>0.726709</td>\n",
       "      <td>0.620543</td>\n",
       "      <td>0.754021</td>\n",
       "      <td>0.655817</td>\n",
       "      <td>0.761084</td>\n",
       "      <td>0.562364</td>\n",
       "      <td>0.000544</td>\n",
       "      <td>0.035830</td>\n",
       "      <td>0.026134</td>\n",
       "    </tr>\n",
       "    <tr>\n",
       "      <th>3</th>\n",
       "      <td>15.591796</td>\n",
       "      <td>0.027935</td>\n",
       "      <td>0.748731</td>\n",
       "      <td>0.909980</td>\n",
       "      <td>None</td>\n",
       "      <td>l2</td>\n",
       "      <td>newton-cg</td>\n",
       "      <td>{'clf__class_weight': None, 'clf__penalty': 'l...</td>\n",
       "      <td>5</td>\n",
       "      <td>0.755214</td>\n",
       "      <td>...</td>\n",
       "      <td>0.756104</td>\n",
       "      <td>0.911711</td>\n",
       "      <td>0.745988</td>\n",
       "      <td>0.910371</td>\n",
       "      <td>0.742666</td>\n",
       "      <td>0.911294</td>\n",
       "      <td>0.956050</td>\n",
       "      <td>0.001205</td>\n",
       "      <td>0.005765</td>\n",
       "      <td>0.001472</td>\n",
       "    </tr>\n",
       "    <tr>\n",
       "      <th>4</th>\n",
       "      <td>2.844136</td>\n",
       "      <td>0.025706</td>\n",
       "      <td>0.749201</td>\n",
       "      <td>0.908791</td>\n",
       "      <td>None</td>\n",
       "      <td>l2</td>\n",
       "      <td>lbfgs</td>\n",
       "      <td>{'clf__class_weight': None, 'clf__penalty': 'l...</td>\n",
       "      <td>4</td>\n",
       "      <td>0.755180</td>\n",
       "      <td>...</td>\n",
       "      <td>0.757808</td>\n",
       "      <td>0.911600</td>\n",
       "      <td>0.746821</td>\n",
       "      <td>0.906802</td>\n",
       "      <td>0.741379</td>\n",
       "      <td>0.909761</td>\n",
       "      <td>0.124904</td>\n",
       "      <td>0.000509</td>\n",
       "      <td>0.006259</td>\n",
       "      <td>0.001913</td>\n",
       "    </tr>\n",
       "    <tr>\n",
       "      <th>5</th>\n",
       "      <td>4.517600</td>\n",
       "      <td>0.027901</td>\n",
       "      <td>0.719302</td>\n",
       "      <td>0.795968</td>\n",
       "      <td>None</td>\n",
       "      <td>l2</td>\n",
       "      <td>liblinear</td>\n",
       "      <td>{'clf__class_weight': None, 'clf__penalty': 'l...</td>\n",
       "      <td>6</td>\n",
       "      <td>0.710758</td>\n",
       "      <td>...</td>\n",
       "      <td>0.733929</td>\n",
       "      <td>0.803316</td>\n",
       "      <td>0.734076</td>\n",
       "      <td>0.820811</td>\n",
       "      <td>0.701439</td>\n",
       "      <td>0.773936</td>\n",
       "      <td>0.193719</td>\n",
       "      <td>0.003286</td>\n",
       "      <td>0.012909</td>\n",
       "      <td>0.023032</td>\n",
       "    </tr>\n",
       "    <tr>\n",
       "      <th>6</th>\n",
       "      <td>0.122431</td>\n",
       "      <td>0.000000</td>\n",
       "      <td>0.000000</td>\n",
       "      <td>0.000000</td>\n",
       "      <td>None</td>\n",
       "      <td>None</td>\n",
       "      <td>newton-cg</td>\n",
       "      <td>{'clf__class_weight': None, 'clf__penalty': No...</td>\n",
       "      <td>9</td>\n",
       "      <td>0.000000</td>\n",
       "      <td>...</td>\n",
       "      <td>0.000000</td>\n",
       "      <td>0.000000</td>\n",
       "      <td>0.000000</td>\n",
       "      <td>0.000000</td>\n",
       "      <td>0.000000</td>\n",
       "      <td>0.000000</td>\n",
       "      <td>0.004945</td>\n",
       "      <td>0.000000</td>\n",
       "      <td>0.000000</td>\n",
       "      <td>0.000000</td>\n",
       "    </tr>\n",
       "    <tr>\n",
       "      <th>7</th>\n",
       "      <td>0.119220</td>\n",
       "      <td>0.000000</td>\n",
       "      <td>0.000000</td>\n",
       "      <td>0.000000</td>\n",
       "      <td>None</td>\n",
       "      <td>None</td>\n",
       "      <td>lbfgs</td>\n",
       "      <td>{'clf__class_weight': None, 'clf__penalty': No...</td>\n",
       "      <td>9</td>\n",
       "      <td>0.000000</td>\n",
       "      <td>...</td>\n",
       "      <td>0.000000</td>\n",
       "      <td>0.000000</td>\n",
       "      <td>0.000000</td>\n",
       "      <td>0.000000</td>\n",
       "      <td>0.000000</td>\n",
       "      <td>0.000000</td>\n",
       "      <td>0.002178</td>\n",
       "      <td>0.000000</td>\n",
       "      <td>0.000000</td>\n",
       "      <td>0.000000</td>\n",
       "    </tr>\n",
       "    <tr>\n",
       "      <th>8</th>\n",
       "      <td>0.117854</td>\n",
       "      <td>0.000000</td>\n",
       "      <td>0.000000</td>\n",
       "      <td>0.000000</td>\n",
       "      <td>None</td>\n",
       "      <td>None</td>\n",
       "      <td>liblinear</td>\n",
       "      <td>{'clf__class_weight': None, 'clf__penalty': No...</td>\n",
       "      <td>9</td>\n",
       "      <td>0.000000</td>\n",
       "      <td>...</td>\n",
       "      <td>0.000000</td>\n",
       "      <td>0.000000</td>\n",
       "      <td>0.000000</td>\n",
       "      <td>0.000000</td>\n",
       "      <td>0.000000</td>\n",
       "      <td>0.000000</td>\n",
       "      <td>0.001395</td>\n",
       "      <td>0.000000</td>\n",
       "      <td>0.000000</td>\n",
       "      <td>0.000000</td>\n",
       "    </tr>\n",
       "    <tr>\n",
       "      <th>9</th>\n",
       "      <td>0.117963</td>\n",
       "      <td>0.000000</td>\n",
       "      <td>0.000000</td>\n",
       "      <td>0.000000</td>\n",
       "      <td>balanced</td>\n",
       "      <td>l1</td>\n",
       "      <td>newton-cg</td>\n",
       "      <td>{'clf__class_weight': 'balanced', 'clf__penalt...</td>\n",
       "      <td>9</td>\n",
       "      <td>0.000000</td>\n",
       "      <td>...</td>\n",
       "      <td>0.000000</td>\n",
       "      <td>0.000000</td>\n",
       "      <td>0.000000</td>\n",
       "      <td>0.000000</td>\n",
       "      <td>0.000000</td>\n",
       "      <td>0.000000</td>\n",
       "      <td>0.003009</td>\n",
       "      <td>0.000000</td>\n",
       "      <td>0.000000</td>\n",
       "      <td>0.000000</td>\n",
       "    </tr>\n",
       "    <tr>\n",
       "      <th>10</th>\n",
       "      <td>0.118230</td>\n",
       "      <td>0.000000</td>\n",
       "      <td>0.000000</td>\n",
       "      <td>0.000000</td>\n",
       "      <td>balanced</td>\n",
       "      <td>l1</td>\n",
       "      <td>lbfgs</td>\n",
       "      <td>{'clf__class_weight': 'balanced', 'clf__penalt...</td>\n",
       "      <td>9</td>\n",
       "      <td>0.000000</td>\n",
       "      <td>...</td>\n",
       "      <td>0.000000</td>\n",
       "      <td>0.000000</td>\n",
       "      <td>0.000000</td>\n",
       "      <td>0.000000</td>\n",
       "      <td>0.000000</td>\n",
       "      <td>0.000000</td>\n",
       "      <td>0.002800</td>\n",
       "      <td>0.000000</td>\n",
       "      <td>0.000000</td>\n",
       "      <td>0.000000</td>\n",
       "    </tr>\n",
       "    <tr>\n",
       "      <th>11</th>\n",
       "      <td>820.538170</td>\n",
       "      <td>0.030657</td>\n",
       "      <td>0.680842</td>\n",
       "      <td>0.836020</td>\n",
       "      <td>balanced</td>\n",
       "      <td>l1</td>\n",
       "      <td>liblinear</td>\n",
       "      <td>{'clf__class_weight': 'balanced', 'clf__penalt...</td>\n",
       "      <td>7</td>\n",
       "      <td>0.688247</td>\n",
       "      <td>...</td>\n",
       "      <td>0.675530</td>\n",
       "      <td>0.837968</td>\n",
       "      <td>0.688800</td>\n",
       "      <td>0.840156</td>\n",
       "      <td>0.674274</td>\n",
       "      <td>0.836658</td>\n",
       "      <td>75.952321</td>\n",
       "      <td>0.000577</td>\n",
       "      <td>0.006351</td>\n",
       "      <td>0.004210</td>\n",
       "    </tr>\n",
       "    <tr>\n",
       "      <th>12</th>\n",
       "      <td>27.227202</td>\n",
       "      <td>0.029512</td>\n",
       "      <td>0.760801</td>\n",
       "      <td>0.933798</td>\n",
       "      <td>balanced</td>\n",
       "      <td>l2</td>\n",
       "      <td>newton-cg</td>\n",
       "      <td>{'clf__class_weight': 'balanced', 'clf__penalt...</td>\n",
       "      <td>1</td>\n",
       "      <td>0.756498</td>\n",
       "      <td>...</td>\n",
       "      <td>0.760648</td>\n",
       "      <td>0.933756</td>\n",
       "      <td>0.754541</td>\n",
       "      <td>0.933755</td>\n",
       "      <td>0.766368</td>\n",
       "      <td>0.932475</td>\n",
       "      <td>4.523718</td>\n",
       "      <td>0.002088</td>\n",
       "      <td>0.004800</td>\n",
       "      <td>0.000952</td>\n",
       "    </tr>\n",
       "    <tr>\n",
       "      <th>13</th>\n",
       "      <td>3.282049</td>\n",
       "      <td>0.029911</td>\n",
       "      <td>0.759871</td>\n",
       "      <td>0.927649</td>\n",
       "      <td>balanced</td>\n",
       "      <td>l2</td>\n",
       "      <td>lbfgs</td>\n",
       "      <td>{'clf__class_weight': 'balanced', 'clf__penalt...</td>\n",
       "      <td>2</td>\n",
       "      <td>0.754535</td>\n",
       "      <td>...</td>\n",
       "      <td>0.758573</td>\n",
       "      <td>0.932697</td>\n",
       "      <td>0.754822</td>\n",
       "      <td>0.926542</td>\n",
       "      <td>0.766237</td>\n",
       "      <td>0.924243</td>\n",
       "      <td>0.164480</td>\n",
       "      <td>0.003278</td>\n",
       "      <td>0.004989</td>\n",
       "      <td>0.002922</td>\n",
       "    </tr>\n",
       "    <tr>\n",
       "      <th>14</th>\n",
       "      <td>12.544415</td>\n",
       "      <td>0.028173</td>\n",
       "      <td>0.751477</td>\n",
       "      <td>0.917738</td>\n",
       "      <td>balanced</td>\n",
       "      <td>l2</td>\n",
       "      <td>liblinear</td>\n",
       "      <td>{'clf__class_weight': 'balanced', 'clf__penalt...</td>\n",
       "      <td>3</td>\n",
       "      <td>0.746709</td>\n",
       "      <td>...</td>\n",
       "      <td>0.755833</td>\n",
       "      <td>0.926344</td>\n",
       "      <td>0.749595</td>\n",
       "      <td>0.924421</td>\n",
       "      <td>0.756682</td>\n",
       "      <td>0.901636</td>\n",
       "      <td>1.535630</td>\n",
       "      <td>0.002134</td>\n",
       "      <td>0.004020</td>\n",
       "      <td>0.009941</td>\n",
       "    </tr>\n",
       "    <tr>\n",
       "      <th>15</th>\n",
       "      <td>0.122323</td>\n",
       "      <td>0.000000</td>\n",
       "      <td>0.000000</td>\n",
       "      <td>0.000000</td>\n",
       "      <td>balanced</td>\n",
       "      <td>None</td>\n",
       "      <td>newton-cg</td>\n",
       "      <td>{'clf__class_weight': 'balanced', 'clf__penalt...</td>\n",
       "      <td>9</td>\n",
       "      <td>0.000000</td>\n",
       "      <td>...</td>\n",
       "      <td>0.000000</td>\n",
       "      <td>0.000000</td>\n",
       "      <td>0.000000</td>\n",
       "      <td>0.000000</td>\n",
       "      <td>0.000000</td>\n",
       "      <td>0.000000</td>\n",
       "      <td>0.003518</td>\n",
       "      <td>0.000000</td>\n",
       "      <td>0.000000</td>\n",
       "      <td>0.000000</td>\n",
       "    </tr>\n",
       "    <tr>\n",
       "      <th>16</th>\n",
       "      <td>0.117949</td>\n",
       "      <td>0.000000</td>\n",
       "      <td>0.000000</td>\n",
       "      <td>0.000000</td>\n",
       "      <td>balanced</td>\n",
       "      <td>None</td>\n",
       "      <td>lbfgs</td>\n",
       "      <td>{'clf__class_weight': 'balanced', 'clf__penalt...</td>\n",
       "      <td>9</td>\n",
       "      <td>0.000000</td>\n",
       "      <td>...</td>\n",
       "      <td>0.000000</td>\n",
       "      <td>0.000000</td>\n",
       "      <td>0.000000</td>\n",
       "      <td>0.000000</td>\n",
       "      <td>0.000000</td>\n",
       "      <td>0.000000</td>\n",
       "      <td>0.000879</td>\n",
       "      <td>0.000000</td>\n",
       "      <td>0.000000</td>\n",
       "      <td>0.000000</td>\n",
       "    </tr>\n",
       "    <tr>\n",
       "      <th>17</th>\n",
       "      <td>0.118606</td>\n",
       "      <td>0.000000</td>\n",
       "      <td>0.000000</td>\n",
       "      <td>0.000000</td>\n",
       "      <td>balanced</td>\n",
       "      <td>None</td>\n",
       "      <td>liblinear</td>\n",
       "      <td>{'clf__class_weight': 'balanced', 'clf__penalt...</td>\n",
       "      <td>9</td>\n",
       "      <td>0.000000</td>\n",
       "      <td>...</td>\n",
       "      <td>0.000000</td>\n",
       "      <td>0.000000</td>\n",
       "      <td>0.000000</td>\n",
       "      <td>0.000000</td>\n",
       "      <td>0.000000</td>\n",
       "      <td>0.000000</td>\n",
       "      <td>0.001868</td>\n",
       "      <td>0.000000</td>\n",
       "      <td>0.000000</td>\n",
       "      <td>0.000000</td>\n",
       "    </tr>\n",
       "  </tbody>\n",
       "</table>\n",
       "<p>18 rows × 23 columns</p>\n",
       "</div>"
      ],
      "text/plain": [
       "    mean_fit_time  mean_score_time  mean_test_score  mean_train_score  \\\n",
       "0        0.126878         0.000000         0.000000          0.000000   \n",
       "1        0.122108         0.000000         0.000000          0.000000   \n",
       "2       12.170704         0.030099         0.602469          0.728202   \n",
       "3       15.591796         0.027935         0.748731          0.909980   \n",
       "4        2.844136         0.025706         0.749201          0.908791   \n",
       "5        4.517600         0.027901         0.719302          0.795968   \n",
       "6        0.122431         0.000000         0.000000          0.000000   \n",
       "7        0.119220         0.000000         0.000000          0.000000   \n",
       "8        0.117854         0.000000         0.000000          0.000000   \n",
       "9        0.117963         0.000000         0.000000          0.000000   \n",
       "10       0.118230         0.000000         0.000000          0.000000   \n",
       "11     820.538170         0.030657         0.680842          0.836020   \n",
       "12      27.227202         0.029512         0.760801          0.933798   \n",
       "13       3.282049         0.029911         0.759871          0.927649   \n",
       "14      12.544415         0.028173         0.751477          0.917738   \n",
       "15       0.122323         0.000000         0.000000          0.000000   \n",
       "16       0.117949         0.000000         0.000000          0.000000   \n",
       "17       0.118606         0.000000         0.000000          0.000000   \n",
       "\n",
       "   param_clf__class_weight param_clf__penalty param_clf__solver  \\\n",
       "0                     None                 l1         newton-cg   \n",
       "1                     None                 l1             lbfgs   \n",
       "2                     None                 l1         liblinear   \n",
       "3                     None                 l2         newton-cg   \n",
       "4                     None                 l2             lbfgs   \n",
       "5                     None                 l2         liblinear   \n",
       "6                     None               None         newton-cg   \n",
       "7                     None               None             lbfgs   \n",
       "8                     None               None         liblinear   \n",
       "9                 balanced                 l1         newton-cg   \n",
       "10                balanced                 l1             lbfgs   \n",
       "11                balanced                 l1         liblinear   \n",
       "12                balanced                 l2         newton-cg   \n",
       "13                balanced                 l2             lbfgs   \n",
       "14                balanced                 l2         liblinear   \n",
       "15                balanced               None         newton-cg   \n",
       "16                balanced               None             lbfgs   \n",
       "17                balanced               None         liblinear   \n",
       "\n",
       "                                               params  rank_test_score  \\\n",
       "0   {'clf__class_weight': None, 'clf__penalty': 'l...                9   \n",
       "1   {'clf__class_weight': None, 'clf__penalty': 'l...                9   \n",
       "2   {'clf__class_weight': None, 'clf__penalty': 'l...                8   \n",
       "3   {'clf__class_weight': None, 'clf__penalty': 'l...                5   \n",
       "4   {'clf__class_weight': None, 'clf__penalty': 'l...                4   \n",
       "5   {'clf__class_weight': None, 'clf__penalty': 'l...                6   \n",
       "6   {'clf__class_weight': None, 'clf__penalty': No...                9   \n",
       "7   {'clf__class_weight': None, 'clf__penalty': No...                9   \n",
       "8   {'clf__class_weight': None, 'clf__penalty': No...                9   \n",
       "9   {'clf__class_weight': 'balanced', 'clf__penalt...                9   \n",
       "10  {'clf__class_weight': 'balanced', 'clf__penalt...                9   \n",
       "11  {'clf__class_weight': 'balanced', 'clf__penalt...                7   \n",
       "12  {'clf__class_weight': 'balanced', 'clf__penalt...                1   \n",
       "13  {'clf__class_weight': 'balanced', 'clf__penalt...                2   \n",
       "14  {'clf__class_weight': 'balanced', 'clf__penalt...                3   \n",
       "15  {'clf__class_weight': 'balanced', 'clf__penalt...                9   \n",
       "16  {'clf__class_weight': 'balanced', 'clf__penalt...                9   \n",
       "17  {'clf__class_weight': 'balanced', 'clf__penalt...                9   \n",
       "\n",
       "    split0_test_score       ...         split2_test_score  split2_train_score  \\\n",
       "0            0.000000       ...                  0.000000            0.000000   \n",
       "1            0.000000       ...                  0.000000            0.000000   \n",
       "2            0.578125       ...                  0.606735            0.726709   \n",
       "3            0.755214       ...                  0.756104            0.911711   \n",
       "4            0.755180       ...                  0.757808            0.911600   \n",
       "5            0.710758       ...                  0.733929            0.803316   \n",
       "6            0.000000       ...                  0.000000            0.000000   \n",
       "7            0.000000       ...                  0.000000            0.000000   \n",
       "8            0.000000       ...                  0.000000            0.000000   \n",
       "9            0.000000       ...                  0.000000            0.000000   \n",
       "10           0.000000       ...                  0.000000            0.000000   \n",
       "11           0.688247       ...                  0.675530            0.837968   \n",
       "12           0.756498       ...                  0.760648            0.933756   \n",
       "13           0.754535       ...                  0.758573            0.932697   \n",
       "14           0.746709       ...                  0.755833            0.926344   \n",
       "15           0.000000       ...                  0.000000            0.000000   \n",
       "16           0.000000       ...                  0.000000            0.000000   \n",
       "17           0.000000       ...                  0.000000            0.000000   \n",
       "\n",
       "    split3_test_score  split3_train_score  split4_test_score  \\\n",
       "0            0.000000            0.000000           0.000000   \n",
       "1            0.000000            0.000000           0.000000   \n",
       "2            0.620543            0.754021           0.655817   \n",
       "3            0.745988            0.910371           0.742666   \n",
       "4            0.746821            0.906802           0.741379   \n",
       "5            0.734076            0.820811           0.701439   \n",
       "6            0.000000            0.000000           0.000000   \n",
       "7            0.000000            0.000000           0.000000   \n",
       "8            0.000000            0.000000           0.000000   \n",
       "9            0.000000            0.000000           0.000000   \n",
       "10           0.000000            0.000000           0.000000   \n",
       "11           0.688800            0.840156           0.674274   \n",
       "12           0.754541            0.933755           0.766368   \n",
       "13           0.754822            0.926542           0.766237   \n",
       "14           0.749595            0.924421           0.756682   \n",
       "15           0.000000            0.000000           0.000000   \n",
       "16           0.000000            0.000000           0.000000   \n",
       "17           0.000000            0.000000           0.000000   \n",
       "\n",
       "    split4_train_score  std_fit_time  std_score_time  std_test_score  \\\n",
       "0             0.000000      0.005123        0.000000        0.000000   \n",
       "1             0.000000      0.004195        0.000000        0.000000   \n",
       "2             0.761084      0.562364        0.000544        0.035830   \n",
       "3             0.911294      0.956050        0.001205        0.005765   \n",
       "4             0.909761      0.124904        0.000509        0.006259   \n",
       "5             0.773936      0.193719        0.003286        0.012909   \n",
       "6             0.000000      0.004945        0.000000        0.000000   \n",
       "7             0.000000      0.002178        0.000000        0.000000   \n",
       "8             0.000000      0.001395        0.000000        0.000000   \n",
       "9             0.000000      0.003009        0.000000        0.000000   \n",
       "10            0.000000      0.002800        0.000000        0.000000   \n",
       "11            0.836658     75.952321        0.000577        0.006351   \n",
       "12            0.932475      4.523718        0.002088        0.004800   \n",
       "13            0.924243      0.164480        0.003278        0.004989   \n",
       "14            0.901636      1.535630        0.002134        0.004020   \n",
       "15            0.000000      0.003518        0.000000        0.000000   \n",
       "16            0.000000      0.000879        0.000000        0.000000   \n",
       "17            0.000000      0.001868        0.000000        0.000000   \n",
       "\n",
       "    std_train_score  \n",
       "0          0.000000  \n",
       "1          0.000000  \n",
       "2          0.026134  \n",
       "3          0.001472  \n",
       "4          0.001913  \n",
       "5          0.023032  \n",
       "6          0.000000  \n",
       "7          0.000000  \n",
       "8          0.000000  \n",
       "9          0.000000  \n",
       "10         0.000000  \n",
       "11         0.004210  \n",
       "12         0.000952  \n",
       "13         0.002922  \n",
       "14         0.009941  \n",
       "15         0.000000  \n",
       "16         0.000000  \n",
       "17         0.000000  \n",
       "\n",
       "[18 rows x 23 columns]"
      ]
     },
     "execution_count": 8,
     "metadata": {},
     "output_type": "execute_result"
    }
   ],
   "source": [
    "a = pd.DataFrame.from_dict(grid.cv_results_)\n",
    "a"
   ]
  },
  {
   "cell_type": "code",
   "execution_count": 9,
   "metadata": {},
   "outputs": [
    {
     "data": {
      "text/plain": [
       "Pipeline(memory=None,\n",
       "     steps=[('tfidf', TfidfTransformer(norm=None, smooth_idf=True, sublinear_tf=False,\n",
       "         use_idf=False)), ('clf', LogisticRegression(C=1.0, class_weight='balanced', dual=False,\n",
       "          fit_intercept=True, intercept_scaling=1, max_iter=100,\n",
       "          multi_class='ovr', n_jobs=None, penalty='l2', random_state=None,\n",
       "          solver='newton-cg', tol=0.0001, verbose=0, warm_start=False))])"
      ]
     },
     "execution_count": 9,
     "metadata": {},
     "output_type": "execute_result"
    }
   ],
   "source": [
    "grid.best_estimator_"
   ]
  },
  {
   "cell_type": "code",
   "execution_count": 41,
   "metadata": {
    "collapsed": true
   },
   "outputs": [],
   "source": [
    "from sklearn.metrics import roc_auc_score\n",
    "\n",
    "def accuracy_plot(a):\n",
    "    \n",
    "\n",
    "    clf = LogisticRegression(C=1.0, class_weight=a['clf__class_weight'], dual=False,\n",
    "              fit_intercept=True, intercept_scaling=1, max_iter=100,\n",
    "              multi_class='ovr', n_jobs=None, penalty=a['clf__penalty'], random_state=None,\n",
    "              solver=a['clf__solver'], tol=0.0001, verbose=0, warm_start=False)\n",
    "\n",
    "    clf.fit(train_feature_vectors_sparse, train_labels)\n",
    "\n",
    "    predictions = clf.predict(test_feature_vectors_sparse)\n",
    "    confmat = confusion_matrix(test_labels, predictions)\n",
    "\n",
    "    precision = confmat[1,1]/(confmat[1,1] + confmat[1,0])\n",
    "    recall = confmat[1,1]/(confmat[1,1] + confmat[0,1])\n",
    "    fScore = f1_score(test_labels, predictions, average='macro')\n",
    "    ccr = (confmat[0,0] + confmat[1,1])/(sum(sum(confmat)))\n",
    "    roc_auc = roc_auc_score(test_labels, predictions)\n",
    "    print(\"Precision = \",precision)\n",
    "    print(\"Recall = \",recall)\n",
    "    print(\"F_score = \",fScore)\n",
    "    print(\"CCR = \",ccr)\n",
    "    print(\"ROC_AUC = \", roc_auc)\n",
    "    print()\n",
    "    print(\"Confusion Matrix: \\n\", confmat)\n",
    "    print()\n",
    "    return [precision,recall, fScore, ccr, roc_auc]"
   ]
  },
  {
   "cell_type": "code",
   "execution_count": 42,
   "metadata": {},
   "outputs": [
    {
     "name": "stdout",
     "output_type": "stream",
     "text": [
      "Precision =  0.810739144846\n",
      "Recall =  0.719094517125\n",
      "F_score =  0.866726027733\n",
      "CCR =  0.948749370489\n",
      "ROC_AUC =  0.887521769076\n",
      "\n",
      "Confusion Matrix: \n",
      " [[51625  1911]\n",
      " [ 1142  4892]]\n",
      "\n",
      "Precision =  0.814219423268\n",
      "Recall =  0.717959959082\n",
      "F_score =  0.86717707518\n",
      "CCR =  0.948782944435\n",
      "ROC_AUC =  0.889084457599\n",
      "\n",
      "Confusion Matrix: \n",
      " [[51606  1930]\n",
      " [ 1121  4913]]\n",
      "\n",
      "Precision =  0.819522704674\n",
      "Recall =  0.700127424607\n",
      "F_score =  0.862446157434\n",
      "CCR =  0.946164176599\n",
      "ROC_AUC =  0.889980270448\n",
      "\n",
      "Confusion Matrix: \n",
      " [[51418  2118]\n",
      " [ 1089  4945]]\n",
      "\n",
      "Precision =  0.682797480941\n",
      "Recall =  0.864093959732\n",
      "F_score =  0.869586743804\n",
      "CCR =  0.956991774383\n",
      "ROC_AUC =  0.83534673808\n",
      "\n",
      "Confusion Matrix: \n",
      " [[52888   648]\n",
      " [ 1914  4120]]\n",
      "\n",
      "Precision =  0.681968843222\n",
      "Recall =  0.863045302013\n",
      "F_score =  0.869077714701\n",
      "CCR =  0.95682390465\n",
      "ROC_AUC =  0.834885721671\n",
      "\n",
      "Confusion Matrix: \n",
      " [[52883   653]\n",
      " [ 1919  4115]]\n",
      "\n"
     ]
    }
   ],
   "source": [
    "fsc = []\n",
    "prec = []\n",
    "recall = []\n",
    "ccr = []\n",
    "roc_auc = []\n",
    "for i in range (1,6):\n",
    "    ind = list((a[\"rank_test_score\"] == i)).index(True)\n",
    "    params = a['params'][ind]\n",
    "    res = accuracy_plot(params)\n",
    "    fsc.append(res[2])\n",
    "    prec.append(res[0])\n",
    "    recall.append(res[1])\n",
    "    ccr.append(res[3])\n",
    "    roc_auc.append(res[4])"
   ]
  },
  {
   "cell_type": "code",
   "execution_count": 44,
   "metadata": {},
   "outputs": [
    {
     "data": {
      "image/png": "[encoded data removed]",
      "text/plain": [
       "<matplotlib.figure.Figure at 0x1a1255a898>"
      ]
     },
     "metadata": {},
     "output_type": "display_data"
    }
   ],
   "source": [
    "import matplotlib.pyplot as plt\n",
    "plt.plot(np.arange(1, 6, 1), fsc, 'r', np.arange(1, 6, 1), prec, 'g', np.arange(1, 6, 1), recall, 'b', np.arange(1, 6, 1),ccr, 'm',np.arange(1, 6, 1),roc_auc, 'y')\n",
    "plt.ylabel('Metrics')\n",
    "plt.legend(('F-sc', 'Prec', 'Recall', 'CCR'), loc='lower left')\n",
    "plt.show()\n",
    "\n"
   ]
  },
  {
   "cell_type": "markdown",
   "metadata": {},
   "source": [
    "## Using liblinear solver"
   ]
  },
  {
   "cell_type": "code",
   "execution_count": 45,
   "metadata": {
    "scrolled": true
   },
   "outputs": [
    {
     "name": "stdout",
     "output_type": "stream",
     "text": [
      "Fitting 5 folds for each of 6 candidates, totalling 30 fits\n",
      "[CV] clf__class_weight=None, clf__penalty=l1 .........................\n"
     ]
    },
    {
     "name": "stderr",
     "output_type": "stream",
     "text": [
      "[Parallel(n_jobs=1)]: Using backend SequentialBackend with 1 concurrent workers.\n"
     ]
    },
    {
     "name": "stdout",
     "output_type": "stream",
     "text": [
      "[CV]  clf__class_weight=None, clf__penalty=l1, score=0.6140189776553413, total=  12.3s\n",
      "[CV] clf__class_weight=None, clf__penalty=l1 .........................\n"
     ]
    },
    {
     "name": "stderr",
     "output_type": "stream",
     "text": [
      "[Parallel(n_jobs=1)]: Done   1 out of   1 | elapsed:   12.3s remaining:    0.0s\n"
     ]
    },
    {
     "name": "stdout",
     "output_type": "stream",
     "text": [
      "[CV]  clf__class_weight=None, clf__penalty=l1, score=0.6013031337263418, total=  11.2s\n",
      "[CV] clf__class_weight=None, clf__penalty=l1 .........................\n"
     ]
    },
    {
     "name": "stderr",
     "output_type": "stream",
     "text": [
      "[Parallel(n_jobs=1)]: Done   2 out of   2 | elapsed:   23.6s remaining:    0.0s\n"
     ]
    },
    {
     "name": "stdout",
     "output_type": "stream",
     "text": [
      "[CV]  clf__class_weight=None, clf__penalty=l1, score=0.6044799018103713, total=  11.4s\n",
      "[CV] clf__class_weight=None, clf__penalty=l1 .........................\n"
     ]
    },
    {
     "name": "stderr",
     "output_type": "stream",
     "text": [
      "[Parallel(n_jobs=1)]: Done   3 out of   3 | elapsed:   35.0s remaining:    0.0s\n"
     ]
    },
    {
     "name": "stdout",
     "output_type": "stream",
     "text": [
      "[CV]  clf__class_weight=None, clf__penalty=l1, score=0.5965238981998758, total=  11.4s\n",
      "[CV] clf__class_weight=None, clf__penalty=l1 .........................\n"
     ]
    },
    {
     "name": "stderr",
     "output_type": "stream",
     "text": [
      "[Parallel(n_jobs=1)]: Done   4 out of   4 | elapsed:   46.5s remaining:    0.0s\n"
     ]
    },
    {
     "name": "stdout",
     "output_type": "stream",
     "text": [
      "[CV]  clf__class_weight=None, clf__penalty=l1, score=0.6326093606607526, total=  11.5s\n",
      "[CV] clf__class_weight=None, clf__penalty=l2 .........................\n"
     ]
    },
    {
     "name": "stderr",
     "output_type": "stream",
     "text": [
      "[Parallel(n_jobs=1)]: Done   5 out of   5 | elapsed:   58.0s remaining:    0.0s\n"
     ]
    },
    {
     "name": "stdout",
     "output_type": "stream",
     "text": [
      "[CV]  clf__class_weight=None, clf__penalty=l2, score=0.7107583774250441, total=   4.5s\n",
      "[CV] clf__class_weight=None, clf__penalty=l2 .........................\n"
     ]
    },
    {
     "name": "stderr",
     "output_type": "stream",
     "text": [
      "[Parallel(n_jobs=1)]: Done   6 out of   6 | elapsed:  1.0min remaining:    0.0s\n"
     ]
    },
    {
     "name": "stdout",
     "output_type": "stream",
     "text": [
      "[CV]  clf__class_weight=None, clf__penalty=l2, score=0.7163059163059163, total=   4.9s\n",
      "[CV] clf__class_weight=None, clf__penalty=l2 .........................\n"
     ]
    },
    {
     "name": "stderr",
     "output_type": "stream",
     "text": [
      "[Parallel(n_jobs=1)]: Done   7 out of   7 | elapsed:  1.1min remaining:    0.0s\n"
     ]
    },
    {
     "name": "stdout",
     "output_type": "stream",
     "text": [
      "[CV]  clf__class_weight=None, clf__penalty=l2, score=0.7339290861919862, total=   5.2s\n",
      "[CV] clf__class_weight=None, clf__penalty=l2 .........................\n"
     ]
    },
    {
     "name": "stderr",
     "output_type": "stream",
     "text": [
      "[Parallel(n_jobs=1)]: Done   8 out of   8 | elapsed:  1.2min remaining:    0.0s\n"
     ]
    },
    {
     "name": "stdout",
     "output_type": "stream",
     "text": [
      "[CV]  clf__class_weight=None, clf__penalty=l2, score=0.7340759782919167, total=   7.8s\n",
      "[CV] clf__class_weight=None, clf__penalty=l2 .........................\n"
     ]
    },
    {
     "name": "stderr",
     "output_type": "stream",
     "text": [
      "[Parallel(n_jobs=1)]: Done   9 out of   9 | elapsed:  1.3min remaining:    0.0s\n"
     ]
    },
    {
     "name": "stdout",
     "output_type": "stream",
     "text": [
      "[CV]  clf__class_weight=None, clf__penalty=l2, score=0.7014388489208634, total=   5.5s\n",
      "[CV] clf__class_weight=None, clf__penalty=None .......................\n",
      "[CV]  clf__class_weight=None, clf__penalty=None, score=0.0, total=   0.1s\n",
      "[CV] clf__class_weight=None, clf__penalty=None .......................\n",
      "[CV]  clf__class_weight=None, clf__penalty=None, score=0.0, total=   0.1s\n",
      "[CV] clf__class_weight=None, clf__penalty=None .......................\n",
      "[CV]  clf__class_weight=None, clf__penalty=None, score=0.0, total=   0.1s\n",
      "[CV] clf__class_weight=None, clf__penalty=None .......................\n",
      "[CV]  clf__class_weight=None, clf__penalty=None, score=0.0, total=   0.1s\n",
      "[CV] clf__class_weight=None, clf__penalty=None .......................\n",
      "[CV]  clf__class_weight=None, clf__penalty=None, score=0.0, total=   0.1s\n",
      "[CV] clf__class_weight=balanced, clf__penalty=l1 .....................\n",
      "[CV]  clf__class_weight=balanced, clf__penalty=l1, score=0.6907430469074305, total=11.9min\n",
      "[CV] clf__class_weight=balanced, clf__penalty=l1 .....................\n",
      "[CV]  clf__class_weight=balanced, clf__penalty=l1, score=0.6881219563836545, total=12.3min\n",
      "[CV] clf__class_weight=balanced, clf__penalty=l1 .....................\n",
      "[CV]  clf__class_weight=balanced, clf__penalty=l1, score=0.6696982224059528, total=14.0min\n",
      "[CV] clf__class_weight=balanced, clf__penalty=l1 .....................\n",
      "[CV]  clf__class_weight=balanced, clf__penalty=l1, score=0.6801176965111392, total=14.4min\n",
      "[CV] clf__class_weight=balanced, clf__penalty=l1 .....................\n",
      "[CV]  clf__class_weight=balanced, clf__penalty=l1, score=0.6771458117890382, total=11.2min\n",
      "[CV] clf__class_weight=balanced, clf__penalty=l2 .....................\n",
      "[CV]  clf__class_weight=balanced, clf__penalty=l2, score=0.7467090331366318, total=  12.8s\n",
      "[CV] clf__class_weight=balanced, clf__penalty=l2 .....................\n",
      "[CV]  clf__class_weight=balanced, clf__penalty=l2, score=0.748564867967853, total=  10.7s\n",
      "[CV] clf__class_weight=balanced, clf__penalty=l2 .....................\n",
      "[CV]  clf__class_weight=balanced, clf__penalty=l2, score=0.7558327558327559, total=  12.5s\n",
      "[CV] clf__class_weight=balanced, clf__penalty=l2 .....................\n",
      "[CV]  clf__class_weight=balanced, clf__penalty=l2, score=0.7495946258976142, total=  12.8s\n",
      "[CV] clf__class_weight=balanced, clf__penalty=l2 .....................\n",
      "[CV]  clf__class_weight=balanced, clf__penalty=l2, score=0.7566820276497694, total=  10.2s\n",
      "[CV] clf__class_weight=balanced, clf__penalty=None ...................\n",
      "[CV]  clf__class_weight=balanced, clf__penalty=None, score=0.0, total=   0.1s\n",
      "[CV] clf__class_weight=balanced, clf__penalty=None ...................\n",
      "[CV]  clf__class_weight=balanced, clf__penalty=None, score=0.0, total=   0.1s\n",
      "[CV] clf__class_weight=balanced, clf__penalty=None ...................\n",
      "[CV]  clf__class_weight=balanced, clf__penalty=None, score=0.0, total=   0.1s\n",
      "[CV] clf__class_weight=balanced, clf__penalty=None ...................\n",
      "[CV]  clf__class_weight=balanced, clf__penalty=None, score=0.0, total=   0.1s\n",
      "[CV] clf__class_weight=balanced, clf__penalty=None ...................\n",
      "[CV]  clf__class_weight=balanced, clf__penalty=None, score=0.0, total=   0.1s\n"
     ]
    },
    {
     "name": "stderr",
     "output_type": "stream",
     "text": [
      "[Parallel(n_jobs=1)]: Done  30 out of  30 | elapsed: 66.1min finished\n"
     ]
    },
    {
     "data": {
      "text/plain": [
       "GridSearchCV(cv=5, error_score=0.0,\n",
       "       estimator=Pipeline(memory=None,\n",
       "     steps=[('tfidf', TfidfTransformer(norm=None, smooth_idf=True, sublinear_tf=False,\n",
       "         use_idf=False)), ('clf', LogisticRegression(C=1.0, class_weight=None, dual=False, fit_intercept=True,\n",
       "          intercept_scaling=1, max_iter=100, multi_class='ovr',\n",
       "          n_jobs=None, penalty='l2', random_state=None, solver='liblinear',\n",
       "          tol=0.0001, verbose=0, warm_start=False))]),\n",
       "       fit_params=None, iid='warn', n_jobs=None,\n",
       "       param_grid={'clf__penalty': ('l1', 'l2', None), 'clf__class_weight': (None, 'balanced')},\n",
       "       pre_dispatch='2*n_jobs', refit=True, return_train_score='warn',\n",
       "       scoring=make_scorer(f1_score), verbose=10)"
      ]
     },
     "execution_count": 45,
     "metadata": {},
     "output_type": "execute_result"
    }
   ],
   "source": [
    "pipeline = Pipeline([\n",
    "    ('tfidf', TfidfTransformer(norm=None, smooth_idf=True, sublinear_tf=False,use_idf=False)),\n",
    "    ('clf', LogisticRegression(multi_class='ovr', solver='liblinear'))\n",
    "])\n",
    "\n",
    "parameters = {'clf__penalty':('l1','l2', None), 'clf__class_weight':(None, 'balanced')}\n",
    "grid = GridSearchCV(pipeline, parameters, scoring = make_scorer(f1_score), cv=5, error_score=0.0, verbose=10)\n",
    "\n",
    "grid.fit(train_feature_vectors_sparse, train_labels)"
   ]
  },
  {
   "cell_type": "code",
   "execution_count": 46,
   "metadata": {
    "scrolled": true
   },
   "outputs": [
    {
     "data": {
      "text/plain": [
       "Pipeline(memory=None,\n",
       "     steps=[('tfidf', TfidfTransformer(norm=None, smooth_idf=True, sublinear_tf=False,\n",
       "         use_idf=False)), ('clf', LogisticRegression(C=1.0, class_weight='balanced', dual=False,\n",
       "          fit_intercept=True, intercept_scaling=1, max_iter=100,\n",
       "          multi_class='ovr', n_jobs=None, penalty='l2', random_state=None,\n",
       "          solver='liblinear', tol=0.0001, verbose=0, warm_start=False))])"
      ]
     },
     "execution_count": 46,
     "metadata": {},
     "output_type": "execute_result"
    }
   ],
   "source": [
    "grid.best_estimator_"
   ]
  },
  {
   "cell_type": "code",
   "execution_count": 52,
   "metadata": {
    "scrolled": true
   },
   "outputs": [
    {
     "name": "stdout",
     "output_type": "stream",
     "text": [
      "Precision =  0.819522704674\n",
      "Recall =  0.700127424607\n",
      "F_score =  0.862446157434\n",
      "CCR =  0.946164176599\n",
      "ROC_AUC =  0.889980270448\n",
      "\n",
      "Confusion Matrix: \n",
      " [[51418  2118]\n",
      " [ 1089  4945]]\n",
      "\n"
     ]
    }
   ],
   "source": [
    "clf = LogisticRegression(C=1.0, class_weight='balanced', dual=False,\n",
    "          fit_intercept=True, intercept_scaling=1, max_iter=100,\n",
    "          multi_class='ovr', n_jobs=None, penalty='l2', random_state=None,\n",
    "          solver='liblinear', tol=0.0001, verbose=0, warm_start=False)\n",
    "\n",
    "clf.fit(train_feature_vectors_sparse, train_labels)\n",
    "\n",
    "predictions = clf.predict(test_feature_vectors_sparse)\n",
    "confmat = confusion_matrix(test_labels, predictions)\n",
    "\n",
    "precision = confmat[1,1]/(confmat[1,1] + confmat[1,0])\n",
    "recall = confmat[1,1]/(confmat[1,1] + confmat[0,1])\n",
    "fScore = f1_score(test_labels, predictions, average='macro')\n",
    "ccr = (confmat[0,0] + confmat[1,1])/(sum(sum(confmat)))\n",
    "roc_auc = roc_auc_score(test_labels, predictions)\n",
    "print(\"Precision = \",precision)\n",
    "print(\"Recall = \",recall)\n",
    "print(\"F_score = \",fScore)\n",
    "print(\"CCR = \",ccr)\n",
    "print(\"ROC_AUC = \", roc_auc)\n",
    "print()\n",
    "print(\"Confusion Matrix: \\n\", confmat)\n",
    "print()"
   ]
  },
  {
   "cell_type": "code",
   "execution_count": null,
   "metadata": {
    "collapsed": true
   },
   "outputs": [],
   "source": []
  }
 ],
 "metadata": {
  "kernelspec": {
   "display_name": "Python 3",
   "language": "python",
   "name": "python3"
  },
  "language_info": {
   "codemirror_mode": {
    "name": "ipython",
    "version": 3
   },
   "file_extension": ".py",
   "mimetype": "text/x-python",
   "name": "python",
   "nbconvert_exporter": "python",
   "pygments_lexer": "ipython3",
   "version": "3.6.3"
  }
 },
 "nbformat": 4,
 "nbformat_minor": 2
}
