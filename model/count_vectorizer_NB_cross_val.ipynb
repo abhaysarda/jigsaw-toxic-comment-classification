{
 "cells": [
  {
   "cell_type": "code",
   "execution_count": 38,
   "metadata": {
    "collapsed": true
   },
   "outputs": [],
   "source": [
    "import pandas as pd, numpy as np\n",
    "import sklearn\n",
    "import scipy.sparse\n",
    "import warnings\n",
    "warnings.filterwarnings('ignore')\n",
    "from sklearn.feature_extraction.text import CountVectorizer\n",
    "from scipy import sparse\n",
    "from sklearn.metrics import confusion_matrix\n",
    "from sklearn.naive_bayes import MultinomialNB\n",
    "from bs4 import BeautifulSoup\n",
    "import re\n",
    "from sklearn.metrics import f1_score"
   ]
  },
  {
   "cell_type": "code",
   "execution_count": 39,
   "metadata": {
    "collapsed": true
   },
   "outputs": [],
   "source": [
    "data = pd.read_csv('../data/raw_data/kaggle/train.csv')\n",
    "labels=(data[\"toxic\"] | data[\"severe_toxic\"] | data[\"obscene\"] | data[\"threat\"] | data[\"insult\"] | data[\"identity_hate\"])\n",
    "# labels=data[\"Labels\"]\n",
    "train_data = data[0:100000]\n",
    "test_data = data[100001:]\n",
    "train_labels = labels[0:100000]\n",
    "test_labels = labels[100001:]\n",
    "\n",
    "corpus = data[\"comment_text\"]"
   ]
  },
  {
   "cell_type": "code",
   "execution_count": 40,
   "metadata": {
    "collapsed": true
   },
   "outputs": [],
   "source": [
    "def review_to_words( corpus ):\n",
    "    # Function to convert a raw review to a string of words\n",
    "    # The input is a single string (a raw movie review), and \n",
    "    # the output is a single string (a preprocessed movie review)\n",
    "    #\n",
    "    new_corp = []\n",
    "    i=0\n",
    "    for rev in corpus:\n",
    "        i+=1\n",
    "        if(i%10000 == 0):\n",
    "            print(\"iter\", i/10000,\"of\", len(corpus)/10000)\n",
    "        \n",
    "        # 1. Remove HTML\n",
    "        review_text = BeautifulSoup(rev).get_text() \n",
    "        #\n",
    "        # 2. Remove non-letters        \n",
    "        letters_only = re.sub(\"[^a-zA-Z']\", \" \", review_text)\n",
    "\n",
    "        p = letters_only.split()\n",
    "        new_corp.append(\" \".join(p))\n",
    "    return(new_corp)   "
   ]
  },
  {
   "cell_type": "markdown",
   "metadata": {},
   "source": [
    "## Multinomial naive bayes"
   ]
  },
  {
   "cell_type": "code",
   "execution_count": 41,
   "metadata": {},
   "outputs": [
    {
     "name": "stdout",
     "output_type": "stream",
     "text": [
      "iter 1.0 of 15.9571\n",
      "iter 2.0 of 15.9571\n",
      "iter 3.0 of 15.9571\n",
      "iter 4.0 of 15.9571\n",
      "iter 5.0 of 15.9571\n",
      "iter 6.0 of 15.9571\n",
      "iter 7.0 of 15.9571\n",
      "iter 8.0 of 15.9571\n",
      "iter 9.0 of 15.9571\n",
      "iter 10.0 of 15.9571\n",
      "iter 11.0 of 15.9571\n",
      "iter 12.0 of 15.9571\n",
      "iter 13.0 of 15.9571\n",
      "iter 14.0 of 15.9571\n",
      "iter 15.0 of 15.9571\n"
     ]
    }
   ],
   "source": [
    "corpus = list(corpus)\n",
    "new_corp=review_to_words(corpus)\n"
   ]
  },
  {
   "cell_type": "code",
   "execution_count": 52,
   "metadata": {
    "collapsed": true
   },
   "outputs": [],
   "source": [
    "def cross_val_count_vec(vectorizer, corpus):\n",
    "    X = vectorizer.fit_transform(corpus)\n",
    "    train_feature_vectors_sparse = X[0:100000]\n",
    "    test_feature_vectors_sparse = X[100001:]\n",
    "    # TRAINING\n",
    "\n",
    "    clf = MultinomialNB()\n",
    "    clf.fit(train_feature_vectors_sparse, train_labels)\n",
    "\n",
    "    # PREDICTION\n",
    "    predictions = clf.predict(test_feature_vectors_sparse)\n",
    "\n",
    "\n",
    "    # PERFORMANCE METRICS\n",
    "\n",
    "    confmat = confusion_matrix(test_labels, predictions)\n",
    "\n",
    "    precision = confmat[1,1]/(confmat[1,1] + confmat[1,0])\n",
    "    recall = confmat[1,1]/(confmat[1,1] + confmat[0,1])\n",
    "    fScore = f1_score(test_labels, predictions, average='weighted')\n",
    "    ccr = (confmat[0,0] + confmat[1,1])/(sum(sum(confmat)))\n",
    "\n",
    "    print(\"Precision = \",precision)\n",
    "    print(\"Recall = \",recall)\n",
    "    print(\"F_score = \",fScore)\n",
    "    print(\"CCR = \",ccr)\n",
    "    print()\n",
    "    print(\"Confusion Matrix: \\n\", confmat)\n",
    "    \n",
    "    return [precision,recall, fScore, ccr]"
   ]
  },
  {
   "cell_type": "code",
   "execution_count": 45,
   "metadata": {},
   "outputs": [
    {
     "name": "stdout",
     "output_type": "stream",
     "text": [
      "Iter 1\n",
      "Precision =  0.618826648989062\n",
      "Recall =  0.7595606183889341\n",
      "F_score =  0.9388657718381463\n",
      "CCR =  0.9415477589390633\n",
      "\n",
      "Confusion Matrix: \n",
      " [[52354  1182]\n",
      " [ 2300  3734]]\n",
      "Iter 2\n",
      "Precision =  0.4643685780576732\n",
      "Recall =  0.8632162661737524\n",
      "F_score =  0.9298044665026337\n",
      "CCR =  0.938291086117173\n",
      "\n",
      "Confusion Matrix: \n",
      " [[53092   444]\n",
      " [ 3232  2802]]\n",
      "Iter 3\n",
      "Precision =  0.48989061982101423\n",
      "Recall =  0.8333803213983648\n",
      "F_score =  0.9311138275701375\n",
      "CCR =  0.938408594930334\n",
      "\n",
      "Confusion Matrix: \n",
      " [[52945   591]\n",
      " [ 3078  2956]]\n",
      "Iter 4\n",
      "Precision =  0.5546900894928737\n",
      "Recall =  0.7349582784365393\n",
      "F_score =  0.9305085118895404\n",
      "CCR =  0.9346315259358737\n",
      "\n",
      "Confusion Matrix: \n",
      " [[52329  1207]\n",
      " [ 2687  3347]]\n",
      "Iter 5\n",
      "Precision =  0.6372224063639377\n",
      "Recall =  0.5613958242079136\n",
      "F_score =  0.9152483387074932\n",
      "CCR =  0.9128252476078563\n",
      "\n",
      "Confusion Matrix: \n",
      " [[50532  3004]\n",
      " [ 2189  3845]]\n",
      "Iter 6\n",
      "Precision =  0.7142857142857143\n",
      "Recall =  0.37993653032440056\n",
      "F_score =  0.8716055569073266\n",
      "CCR =  0.8529796877622965\n",
      "\n",
      "Confusion Matrix: \n",
      " [[46502  7034]\n",
      " [ 1724  4310]]\n",
      "Iter 7\n",
      "Precision =  0.762346702021876\n",
      "Recall =  0.26373122348354544\n",
      "F_score =  0.8042882358301816\n",
      "CCR =  0.7603491690448212\n",
      "\n",
      "Confusion Matrix: \n",
      " [[40694 12842]\n",
      " [ 1434  4600]]\n",
      "Iter 8\n",
      "Precision =  0.7872058336095459\n",
      "Recall =  0.20708898286611152\n",
      "F_score =  0.7378567348275272\n",
      "CCR =  0.6731408427060601\n",
      "\n",
      "Confusion Matrix: \n",
      " [[35349 18187]\n",
      " [ 1284  4750]]\n",
      "Iter 9\n",
      "Precision =  0.7959893934371892\n",
      "Recall =  0.17961854899027674\n",
      "F_score =  0.6873144837070321\n",
      "CCR =  0.6110794023837502\n",
      "\n",
      "Confusion Matrix: \n",
      " [[31599 21937]\n",
      " [ 1231  4803]]\n",
      "Iter 10\n",
      "Precision =  0.7984753065959562\n",
      "Recall =  0.16517535739997943\n",
      "F_score =  0.6526898640417421\n",
      "CCR =  0.570807453416149\n",
      "\n",
      "Confusion Matrix: \n",
      " [[29185 24351]\n",
      " [ 1216  4818]]\n"
     ]
    }
   ],
   "source": [
    "fsc = []\n",
    "prec = []\n",
    "recall = []\n",
    "ccr = []\n",
    "for i in range (1,11):\n",
    "    print(\"Iter\", i)\n",
    "    vectorizer = CountVectorizer(strip_accents='unicode',lowercase=True,stop_words='english',ngram_range=(1, i))\n",
    "    res = cross_val_count_vec(vectorizer, new_corp)\n",
    "    fsc.append(res[2])\n",
    "    prec.append(res[0])\n",
    "    recall.append(res[1])\n",
    "    ccr.append(res[3])\n"
   ]
  },
  {
   "cell_type": "code",
   "execution_count": 47,
   "metadata": {},
   "outputs": [
    {
     "data": {
      "image/png": "[encoded data removed]",
      "text/plain": [
       "<Figure size 432x288 with 1 Axes>"
      ]
     },
     "metadata": {
      "needs_background": "light"
     },
     "output_type": "display_data"
    }
   ],
   "source": [
    "import matplotlib.pyplot as plt\n",
    "plt.plot(np.arange(1, 11, 1), fsc, 'r', np.arange(1, 11, 1), prec, 'g', np.arange(1, 11, 1), recall, 'b', ccr, 'm')\n",
    "plt.ylabel('F-score')\n",
    "legend('F-sc', 'Prec', 'Recall', 'CCR')\n",
    "plt.show()\n"
   ]
  },
  {
   "cell_type": "code",
   "execution_count": 60,
   "metadata": {},
   "outputs": [
    {
     "name": "stdout",
     "output_type": "stream",
     "text": [
      "Precision =  0.6118660921445144\n",
      "Recall =  0.759046052631579\n",
      "F_score =  0.8225456109001\n",
      "CCR =  0.9410105757931845\n",
      "\n",
      "Confusion Matrix: \n",
      " [[52364  1172]\n",
      " [ 2342  3692]]\n"
     ]
    },
    {
     "data": {
      "text/plain": [
       "[0.6118660921445144, 0.759046052631579, 0.8225456109001, 0.9410105757931845]"
      ]
     },
     "execution_count": 60,
     "metadata": {},
     "output_type": "execute_result"
    }
   ],
   "source": [
    "vectorizer = CountVectorizer(lowercase=True,stop_words='english', analyzer=\"word\",token_pattern=r'\\w{1,}')\n",
    "\n",
    "cross_val_count_vec(vectorizer, new_corp)"
   ]
  },
  {
   "cell_type": "code",
   "execution_count": 57,
   "metadata": {},
   "outputs": [
    {
     "data": {
      "text/plain": [
       "168499"
      ]
     },
     "execution_count": 57,
     "metadata": {},
     "output_type": "execute_result"
    }
   ],
   "source": []
  },
  {
   "cell_type": "code",
   "execution_count": null,
   "metadata": {
    "collapsed": true
   },
   "outputs": [],
   "source": []
  }
 ],
 "metadata": {
  "kernelspec": {
   "display_name": "Python 3",
   "language": "python",
   "name": "python3"
  },
  "language_info": {
   "codemirror_mode": {
    "name": "ipython",
    "version": 3
   },
   "file_extension": ".py",
   "mimetype": "text/x-python",
   "name": "python",
   "nbconvert_exporter": "python",
   "pygments_lexer": "ipython3",
   "version": "3.6.3"
  }
 },
 "nbformat": 4,
 "nbformat_minor": 2
}
