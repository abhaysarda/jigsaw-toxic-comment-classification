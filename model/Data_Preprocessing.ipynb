{
 "cells": [
  {
   "cell_type": "code",
   "execution_count": 2,
   "metadata": {
    "collapsed": true
   },
   "outputs": [],
   "source": [
    "import pandas as pd, numpy as np\n",
    "from bs4 import BeautifulSoup\n",
    "import re\n",
    "import nltk\n",
    "from nltk.corpus import stopwords\n",
    "from sklearn.feature_extraction.text import CountVectorizer\n",
    "import scipy.sparse\n",
    "import warnings\n",
    "warnings.filterwarnings('ignore')\n",
    "\n",
    "#If you use nltk for the first time, run nltk.download() after importing it"
   ]
  },
  {
   "cell_type": "markdown",
   "metadata": {},
   "source": [
    "#### Put all your data in a directory called /data/ in your current folder"
   ]
  },
  {
   "cell_type": "markdown",
   "metadata": {},
   "source": [
    "# Import train data"
   ]
  },
  {
   "cell_type": "code",
   "execution_count": 3,
   "metadata": {
    "collapsed": true
   },
   "outputs": [],
   "source": [
    "#sum(train_labels)/len(train_labels)\n",
    "#sum(train_data[\"toxic\"])/len(train_labels)"
   ]
  },
  {
   "cell_type": "markdown",
   "metadata": {},
   "source": [
    "# Removing stop words"
   ]
  },
  {
   "cell_type": "code",
   "execution_count": 4,
   "metadata": {
    "collapsed": true
   },
   "outputs": [],
   "source": [
    "#function to remove stop words\n",
    "\n",
    "def clean_data(raw_comment): \n",
    "    #remove html\n",
    "    comment_text = BeautifulSoup(raw_comment, \"lxml\")\n",
    "    \n",
    "    #remove symbols\n",
    "    letters_only = re.sub(\"[^a-zA-Z]\", \" \", comment_text.get_text())\n",
    "    \n",
    "    #convert all to lower case\n",
    "    lower_case = letters_only.lower().split()\n",
    "    \n",
    "    #list of stop words\n",
    "    stop_words = set(stopwords.words(\"english\"))\n",
    "    \n",
    "    #remove stop words\n",
    "    words = [w for w in lower_case if not w in stop_words]\n",
    "    \n",
    "    return \" \".join(words)"
   ]
  },
  {
   "cell_type": "code",
   "execution_count": 30,
   "metadata": {
    "collapsed": true
   },
   "outputs": [],
   "source": [
    "#making a list of all comments after removing stop words\n",
    "\n",
    "def remove_stop_words(train_data):\n",
    "    \n",
    "    num_comments = train_data[\"comment_text\"].size\n",
    "    clean_comments = []\n",
    "\n",
    "    for i,k in enumerate(train_data[\"comment_text\"]):\n",
    "        #clean_comment = clean_data(k)\n",
    "        clean_comment = k\n",
    "        clean_comments.append(clean_comment)\n",
    "\n",
    "        if((i+1)%10000==0):\n",
    "            print(\"{}% of {}% processed\".format((i+1)*100/(num_comments),num_comments*100/num_comments))\n",
    "\n",
    "    print(\"Data processed!\")\n",
    "    \n",
    "    return clean_comments\n"
   ]
  },
  {
   "cell_type": "markdown",
   "metadata": {},
   "source": [
    "# Conversion to sparse matrix representation "
   ]
  },
  {
   "cell_type": "code",
   "execution_count": 31,
   "metadata": {
    "collapsed": true
   },
   "outputs": [],
   "source": [
    "# creating sparse representation of feature vectors\n",
    "\n",
    "def make_feature_vec(clean_comments):\n",
    "    print(\"Starting to create bag of words...\")\n",
    "    vectorizer = CountVectorizer(analyzer=\"word\", tokenizer=None, preprocessor=None)\n",
    "    train_feature_vectors_sparse = vectorizer.fit_transform(clean_comments)\n",
    "#     train_feature_vectors_full = train_feature_vectors_sparse.toarray()\n",
    "\n",
    "    print(\"Bag of words created.\")\n",
    "\n",
    "    #get vocabulary\n",
    "    vocab = vectorizer.get_feature_names()\n",
    "    print(\"Vocabulary size:{}\".format(len(vocab)))\n",
    "    \n",
    "    return {\"train_feature_vectors_sparse\":train_feature_vectors_sparse,\"vocab\":vocab}"
   ]
  },
  {
   "cell_type": "markdown",
   "metadata": {},
   "source": [
    "### UNCOMMENT THIS BLOCK TO STORE PROCESSED DATA"
   ]
  },
  {
   "cell_type": "code",
   "execution_count": 32,
   "metadata": {},
   "outputs": [
    {
     "name": "stdout",
     "output_type": "stream",
     "text": [
      "6.26680286518227% of 100.0% processed\n",
      "12.53360573036454% of 100.0% processed\n",
      "18.80040859554681% of 100.0% processed\n",
      "25.06721146072908% of 100.0% processed\n",
      "31.33401432591135% of 100.0% processed\n",
      "37.60081719109362% of 100.0% processed\n",
      "43.86762005627589% of 100.0% processed\n",
      "50.13442292145816% of 100.0% processed\n",
      "56.40122578664043% of 100.0% processed\n",
      "62.6680286518227% of 100.0% processed\n",
      "68.93483151700497% of 100.0% processed\n",
      "75.20163438218724% of 100.0% processed\n",
      "81.46843724736951% of 100.0% processed\n",
      "87.73524011255178% of 100.0% processed\n",
      "94.00204297773405% of 100.0% processed\n",
      "Data processed!\n",
      "Starting to create bag of words...\n",
      "Bag of words created.\n",
      "Vocabulary size:189775\n"
     ]
    }
   ],
   "source": [
    "# train_data = pd.read_csv('../data/train.csv')\n",
    "# train_labels = (train_data[\"toxic\"] | train_data[\"severe_toxic\"] | train_data[\"obscene\"] | train_data[\"threat\"] | train_data[\"insult\"] | train_data[\"identity_hate\"])\n",
    "# clean_comments = remove_stop_words(train_data)\n",
    "# ret=make_feature_vec(clean_comments)\n",
    "\n",
    "\n",
    "# scipy.sparse.save_npz('../data/Processed/sparse_train_matrix.npz', ret['train_feature_vectors_sparse'])\n",
    "# df = pd.DataFrame(data={\"comment_text\": clean_comments, \"label\": train_labels})\n",
    "# df.to_csv(\"../data/Processed/train_data.csv\", sep=',',index=False)\n",
    "\n",
    "# df_vocab = pd.DataFrame(data={\"vocab\": ret[\"vocab\"]})\n",
    "# df_vocab.to_csv(\"../data/Processed/vocab.csv\", sep=',',index=False)\n",
    "\n",
    "# df_labels = pd.DataFrame(data={\"labels\": train_labels})\n",
    "# df_labels.to_csv(\"../data/Processed/labels.csv\", sep=',',index=False)\n"
   ]
  },
  {
   "cell_type": "code",
   "execution_count": 14,
   "metadata": {},
   "outputs": [
    {
     "data": {
      "text/plain": [
       "12053"
      ]
     },
     "execution_count": 14,
     "metadata": {},
     "output_type": "execute_result"
    }
   ],
   "source": [
    "######## checking the index of a word in the vocab\n",
    "\n",
    "\n",
    "\n",
    "# vectorizer.vocabulary_.get(u'background')\n",
    "# train_feature_vectors_sparse.shape\n",
    "# train_feature_vectors_sparse[1,12051]\n",
    "\n"
   ]
  },
  {
   "cell_type": "code",
   "execution_count": null,
   "metadata": {
    "collapsed": true
   },
   "outputs": [],
   "source": []
  },
  {
   "cell_type": "code",
   "execution_count": null,
   "metadata": {
    "collapsed": true
   },
   "outputs": [],
   "source": []
  }
 ],
 "metadata": {
  "kernelspec": {
   "display_name": "Python 3",
   "language": "python",
   "name": "python3"
  },
  "language_info": {
   "codemirror_mode": {
    "name": "ipython",
    "version": 3
   },
   "file_extension": ".py",
   "mimetype": "text/x-python",
   "name": "python",
   "nbconvert_exporter": "python",
   "pygments_lexer": "ipython3",
   "version": "3.6.3"
  }
 },
 "nbformat": 4,
 "nbformat_minor": 2
}
