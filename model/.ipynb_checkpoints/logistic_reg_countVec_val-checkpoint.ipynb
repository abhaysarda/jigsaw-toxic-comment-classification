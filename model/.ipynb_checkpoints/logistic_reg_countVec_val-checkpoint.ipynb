{
 "cells": [
  {
   "cell_type": "code",
   "execution_count": 1,
   "metadata": {
    "collapsed": true
   },
   "outputs": [],
   "source": [
    "import pandas as pd, numpy as np\n",
    "import sklearn\n",
    "import scipy.sparse\n",
    "import warnings\n",
    "warnings.filterwarnings('ignore')\n",
    "from sklearn.feature_extraction.text import CountVectorizer\n",
    "from scipy import sparse\n",
    "from sklearn.metrics import confusion_matrix\n",
    "from bs4 import BeautifulSoup\n",
    "import re\n",
    "from sklearn.metrics import f1_score\n",
    "from sklearn.linear_model import LogisticRegression\n",
    "from sklearn.feature_extraction.text import TfidfTransformer\n"
   ]
  },
  {
   "cell_type": "code",
   "execution_count": 2,
   "metadata": {
    "collapsed": true
   },
   "outputs": [],
   "source": [
    "train_data = pd.read_csv('../data/raw_data/train.csv')\n",
    "test_data = pd.read_csv('../data/raw_data/test.csv')\n",
    "\n",
    "train_labels=(train_data[\"Labels\"])\n",
    "test_labels = test_data[\"Labels\"]\n",
    "\n",
    "corpus_train = train_data[\"Comment\"]\n",
    "corpus_test = test_data[\"Comment\"]"
   ]
  },
  {
   "cell_type": "code",
   "execution_count": 4,
   "metadata": {},
   "outputs": [
    {
     "data": {
      "text/html": [
       "<div>\n",
       "<style>\n",
       "    .dataframe thead tr:only-child th {\n",
       "        text-align: right;\n",
       "    }\n",
       "\n",
       "    .dataframe thead th {\n",
       "        text-align: left;\n",
       "    }\n",
       "\n",
       "    .dataframe tbody tr th {\n",
       "        vertical-align: top;\n",
       "    }\n",
       "</style>\n",
       "<table border=\"1\" class=\"dataframe\">\n",
       "  <thead>\n",
       "    <tr style=\"text-align: right;\">\n",
       "      <th></th>\n",
       "      <th>Comment</th>\n",
       "      <th>Labels</th>\n",
       "    </tr>\n",
       "  </thead>\n",
       "  <tbody>\n",
       "    <tr>\n",
       "      <th>0</th>\n",
       "      <td>Thank you for understanding. I think very high...</td>\n",
       "      <td>0</td>\n",
       "    </tr>\n",
       "    <tr>\n",
       "      <th>1</th>\n",
       "      <td>:Dear god this site is horrible.</td>\n",
       "      <td>0</td>\n",
       "    </tr>\n",
       "    <tr>\n",
       "      <th>2</th>\n",
       "      <td>\"::: Somebody will invariably try to add Relig...</td>\n",
       "      <td>0</td>\n",
       "    </tr>\n",
       "    <tr>\n",
       "      <th>3</th>\n",
       "      <td>\" \\n\\n It says it right there that it IS a typ...</td>\n",
       "      <td>0</td>\n",
       "    </tr>\n",
       "    <tr>\n",
       "      <th>4</th>\n",
       "      <td>\" \\n\\n == Before adding a new product to the l...</td>\n",
       "      <td>0</td>\n",
       "    </tr>\n",
       "  </tbody>\n",
       "</table>\n",
       "</div>"
      ],
      "text/plain": [
       "                                             Comment  Labels\n",
       "0  Thank you for understanding. I think very high...       0\n",
       "1                   :Dear god this site is horrible.       0\n",
       "2  \"::: Somebody will invariably try to add Relig...       0\n",
       "3  \" \\n\\n It says it right there that it IS a typ...       0\n",
       "4  \" \\n\\n == Before adding a new product to the l...       0"
      ]
     },
     "execution_count": 4,
     "metadata": {},
     "output_type": "execute_result"
    }
   ],
   "source": [
    "test_data.head()"
   ]
  },
  {
   "cell_type": "code",
   "execution_count": 5,
   "metadata": {
    "collapsed": true
   },
   "outputs": [],
   "source": [
    "from sklearn.pipeline import Pipeline\n",
    "pipeline = Pipeline([\n",
    "    ('cv', CountVectorizer(strip_accents='unicode',lowercase=True,stop_words='english', ngram_range=(1, 2))),\n",
    "    ('clf', LogisticRegression(multi_class='ovr'))\n",
    "])\n"
   ]
  },
  {
   "cell_type": "code",
   "execution_count": 6,
   "metadata": {
    "collapsed": true
   },
   "outputs": [],
   "source": [
    "from sklearn.metrics import make_scorer, roc_auc_score\n",
    "\n",
    "from sklearn.model_selection import GridSearchCV\n",
    "# tfidf_transformer = TfidfTransformer()\n",
    "parameters = {'clf__penalty':('l1','l2', None), 'clf__class_weight':(None, 'balanced'), 'clf__solver':('newton-cg', 'lbfgs')}\n",
    "grid = GridSearchCV(pipeline, parameters, scoring = make_scorer(roc_auc_score, average='macro'), cv=5, error_score=0.0, verbose=10)\n"
   ]
  },
  {
   "cell_type": "code",
   "execution_count": 7,
   "metadata": {
    "scrolled": true
   },
   "outputs": [
    {
     "name": "stdout",
     "output_type": "stream",
     "text": [
      "Fitting 5 folds for each of 12 candidates, totalling 60 fits\n",
      "[CV] clf__class_weight=None, clf__penalty=l1, clf__solver=newton-cg ..\n"
     ]
    },
    {
     "name": "stderr",
     "output_type": "stream",
     "text": [
      "[Parallel(n_jobs=1)]: Using backend SequentialBackend with 1 concurrent workers.\n"
     ]
    },
    {
     "name": "stdout",
     "output_type": "stream",
     "text": [
      "[CV]  clf__class_weight=None, clf__penalty=l1, clf__solver=newton-cg, score=0.0, total=  32.6s\n",
      "[CV] clf__class_weight=None, clf__penalty=l1, clf__solver=newton-cg ..\n"
     ]
    },
    {
     "name": "stderr",
     "output_type": "stream",
     "text": [
      "[Parallel(n_jobs=1)]: Done   1 out of   1 | elapsed:   32.6s remaining:    0.0s\n"
     ]
    },
    {
     "name": "stdout",
     "output_type": "stream",
     "text": [
      "[CV]  clf__class_weight=None, clf__penalty=l1, clf__solver=newton-cg, score=0.0, total=  29.9s\n",
      "[CV] clf__class_weight=None, clf__penalty=l1, clf__solver=newton-cg ..\n"
     ]
    },
    {
     "name": "stderr",
     "output_type": "stream",
     "text": [
      "[Parallel(n_jobs=1)]: Done   2 out of   2 | elapsed:  1.0min remaining:    0.0s\n"
     ]
    },
    {
     "name": "stdout",
     "output_type": "stream",
     "text": [
      "[CV]  clf__class_weight=None, clf__penalty=l1, clf__solver=newton-cg, score=0.0, total=  30.9s\n",
      "[CV] clf__class_weight=None, clf__penalty=l1, clf__solver=newton-cg ..\n"
     ]
    },
    {
     "name": "stderr",
     "output_type": "stream",
     "text": [
      "[Parallel(n_jobs=1)]: Done   3 out of   3 | elapsed:  1.6min remaining:    0.0s\n"
     ]
    },
    {
     "name": "stdout",
     "output_type": "stream",
     "text": [
      "[CV]  clf__class_weight=None, clf__penalty=l1, clf__solver=newton-cg, score=0.0, total=  29.5s\n",
      "[CV] clf__class_weight=None, clf__penalty=l1, clf__solver=newton-cg ..\n"
     ]
    },
    {
     "name": "stderr",
     "output_type": "stream",
     "text": [
      "[Parallel(n_jobs=1)]: Done   4 out of   4 | elapsed:  2.1min remaining:    0.0s\n"
     ]
    },
    {
     "name": "stdout",
     "output_type": "stream",
     "text": [
      "[CV]  clf__class_weight=None, clf__penalty=l1, clf__solver=newton-cg, score=0.0, total=  33.5s\n"
     ]
    },
    {
     "name": "stderr",
     "output_type": "stream",
     "text": [
      "[Parallel(n_jobs=1)]: Done   5 out of   5 | elapsed:  2.6min remaining:    0.0s\n"
     ]
    },
    {
     "name": "stdout",
     "output_type": "stream",
     "text": [
      "[CV] clf__class_weight=None, clf__penalty=l1, clf__solver=lbfgs ......\n",
      "[CV]  clf__class_weight=None, clf__penalty=l1, clf__solver=lbfgs, score=0.0, total=  32.4s\n",
      "[CV] clf__class_weight=None, clf__penalty=l1, clf__solver=lbfgs ......\n"
     ]
    },
    {
     "name": "stderr",
     "output_type": "stream",
     "text": [
      "[Parallel(n_jobs=1)]: Done   6 out of   6 | elapsed:  3.2min remaining:    0.0s\n"
     ]
    },
    {
     "name": "stdout",
     "output_type": "stream",
     "text": [
      "[CV]  clf__class_weight=None, clf__penalty=l1, clf__solver=lbfgs, score=0.0, total=  30.8s\n",
      "[CV] clf__class_weight=None, clf__penalty=l1, clf__solver=lbfgs ......\n"
     ]
    },
    {
     "name": "stderr",
     "output_type": "stream",
     "text": [
      "[Parallel(n_jobs=1)]: Done   7 out of   7 | elapsed:  3.7min remaining:    0.0s\n"
     ]
    },
    {
     "name": "stdout",
     "output_type": "stream",
     "text": [
      "[CV]  clf__class_weight=None, clf__penalty=l1, clf__solver=lbfgs, score=0.0, total=  32.0s\n",
      "[CV] clf__class_weight=None, clf__penalty=l1, clf__solver=lbfgs ......\n"
     ]
    },
    {
     "name": "stderr",
     "output_type": "stream",
     "text": [
      "[Parallel(n_jobs=1)]: Done   8 out of   8 | elapsed:  4.2min remaining:    0.0s\n"
     ]
    },
    {
     "name": "stdout",
     "output_type": "stream",
     "text": [
      "[CV]  clf__class_weight=None, clf__penalty=l1, clf__solver=lbfgs, score=0.0, total=  32.5s\n",
      "[CV] clf__class_weight=None, clf__penalty=l1, clf__solver=lbfgs ......\n"
     ]
    },
    {
     "name": "stderr",
     "output_type": "stream",
     "text": [
      "[Parallel(n_jobs=1)]: Done   9 out of   9 | elapsed:  4.8min remaining:    0.0s\n"
     ]
    },
    {
     "name": "stdout",
     "output_type": "stream",
     "text": [
      "[CV]  clf__class_weight=None, clf__penalty=l1, clf__solver=lbfgs, score=0.0, total=  30.2s\n",
      "[CV] clf__class_weight=None, clf__penalty=l2, clf__solver=newton-cg ..\n",
      "[CV]  clf__class_weight=None, clf__penalty=l2, clf__solver=newton-cg, score=0.8299833448255289, total=11.8min\n",
      "[CV] clf__class_weight=None, clf__penalty=l2, clf__solver=newton-cg ..\n",
      "[CV]  clf__class_weight=None, clf__penalty=l2, clf__solver=newton-cg, score=0.8320851226804683, total= 7.3min\n",
      "[CV] clf__class_weight=None, clf__penalty=l2, clf__solver=newton-cg ..\n",
      "[CV]  clf__class_weight=None, clf__penalty=l2, clf__solver=newton-cg, score=0.8270090192071119, total=15.5min\n",
      "[CV] clf__class_weight=None, clf__penalty=l2, clf__solver=newton-cg ..\n",
      "[CV]  clf__class_weight=None, clf__penalty=l2, clf__solver=newton-cg, score=0.8275584710263755, total=15.1min\n",
      "[CV] clf__class_weight=None, clf__penalty=l2, clf__solver=newton-cg ..\n",
      "[CV]  clf__class_weight=None, clf__penalty=l2, clf__solver=newton-cg, score=0.8323902524650276, total= 5.8min\n",
      "[CV] clf__class_weight=None, clf__penalty=l2, clf__solver=lbfgs ......\n",
      "[CV]  clf__class_weight=None, clf__penalty=l2, clf__solver=lbfgs, score=0.8310270475948885, total= 1.2min\n",
      "[CV] clf__class_weight=None, clf__penalty=l2, clf__solver=lbfgs ......\n",
      "[CV]  clf__class_weight=None, clf__penalty=l2, clf__solver=lbfgs, score=0.8339312403765179, total=  59.1s\n",
      "[CV] clf__class_weight=None, clf__penalty=l2, clf__solver=lbfgs ......\n",
      "[CV]  clf__class_weight=None, clf__penalty=l2, clf__solver=lbfgs, score=0.8294743504860024, total=  57.5s\n",
      "[CV] clf__class_weight=None, clf__penalty=l2, clf__solver=lbfgs ......\n",
      "[CV]  clf__class_weight=None, clf__penalty=l2, clf__solver=lbfgs, score=0.8268258166466295, total=  58.7s\n",
      "[CV] clf__class_weight=None, clf__penalty=l2, clf__solver=lbfgs ......\n",
      "[CV]  clf__class_weight=None, clf__penalty=l2, clf__solver=lbfgs, score=0.8336897991049319, total= 1.0min\n",
      "[CV] clf__class_weight=None, clf__penalty=None, clf__solver=newton-cg \n",
      "[CV]  clf__class_weight=None, clf__penalty=None, clf__solver=newton-cg, score=0.0, total=  22.0s\n",
      "[CV] clf__class_weight=None, clf__penalty=None, clf__solver=newton-cg \n",
      "[CV]  clf__class_weight=None, clf__penalty=None, clf__solver=newton-cg, score=0.0, total=  23.0s\n",
      "[CV] clf__class_weight=None, clf__penalty=None, clf__solver=newton-cg \n",
      "[CV]  clf__class_weight=None, clf__penalty=None, clf__solver=newton-cg, score=0.0, total=  23.1s\n",
      "[CV] clf__class_weight=None, clf__penalty=None, clf__solver=newton-cg \n",
      "[CV]  clf__class_weight=None, clf__penalty=None, clf__solver=newton-cg, score=0.0, total=  23.1s\n",
      "[CV] clf__class_weight=None, clf__penalty=None, clf__solver=newton-cg \n",
      "[CV]  clf__class_weight=None, clf__penalty=None, clf__solver=newton-cg, score=0.0, total=  23.4s\n",
      "[CV] clf__class_weight=None, clf__penalty=None, clf__solver=lbfgs ....\n",
      "[CV]  clf__class_weight=None, clf__penalty=None, clf__solver=lbfgs, score=0.0, total=  23.2s\n",
      "[CV] clf__class_weight=None, clf__penalty=None, clf__solver=lbfgs ....\n",
      "[CV]  clf__class_weight=None, clf__penalty=None, clf__solver=lbfgs, score=0.0, total=  22.8s\n",
      "[CV] clf__class_weight=None, clf__penalty=None, clf__solver=lbfgs ....\n",
      "[CV]  clf__class_weight=None, clf__penalty=None, clf__solver=lbfgs, score=0.0, total=  24.2s\n",
      "[CV] clf__class_weight=None, clf__penalty=None, clf__solver=lbfgs ....\n",
      "[CV]  clf__class_weight=None, clf__penalty=None, clf__solver=lbfgs, score=0.0, total=  32.6s\n",
      "[CV] clf__class_weight=None, clf__penalty=None, clf__solver=lbfgs ....\n",
      "[CV]  clf__class_weight=None, clf__penalty=None, clf__solver=lbfgs, score=0.0, total=  23.3s\n",
      "[CV] clf__class_weight=balanced, clf__penalty=l1, clf__solver=newton-cg \n",
      "[CV]  clf__class_weight=balanced, clf__penalty=l1, clf__solver=newton-cg, score=0.0, total=  23.0s\n",
      "[CV] clf__class_weight=balanced, clf__penalty=l1, clf__solver=newton-cg \n",
      "[CV]  clf__class_weight=balanced, clf__penalty=l1, clf__solver=newton-cg, score=0.0, total=  23.0s\n",
      "[CV] clf__class_weight=balanced, clf__penalty=l1, clf__solver=newton-cg \n",
      "[CV]  clf__class_weight=balanced, clf__penalty=l1, clf__solver=newton-cg, score=0.0, total=  22.6s\n",
      "[CV] clf__class_weight=balanced, clf__penalty=l1, clf__solver=newton-cg \n",
      "[CV]  clf__class_weight=balanced, clf__penalty=l1, clf__solver=newton-cg, score=0.0, total=  25.4s\n",
      "[CV] clf__class_weight=balanced, clf__penalty=l1, clf__solver=newton-cg \n",
      "[CV]  clf__class_weight=balanced, clf__penalty=l1, clf__solver=newton-cg, score=0.0, total=  26.4s\n",
      "[CV] clf__class_weight=balanced, clf__penalty=l1, clf__solver=lbfgs ..\n",
      "[CV]  clf__class_weight=balanced, clf__penalty=l1, clf__solver=lbfgs, score=0.0, total=  31.5s\n",
      "[CV] clf__class_weight=balanced, clf__penalty=l1, clf__solver=lbfgs ..\n",
      "[CV]  clf__class_weight=balanced, clf__penalty=l1, clf__solver=lbfgs, score=0.0, total=  30.9s\n",
      "[CV] clf__class_weight=balanced, clf__penalty=l1, clf__solver=lbfgs ..\n",
      "[CV]  clf__class_weight=balanced, clf__penalty=l1, clf__solver=lbfgs, score=0.0, total=  24.2s\n",
      "[CV] clf__class_weight=balanced, clf__penalty=l1, clf__solver=lbfgs ..\n",
      "[CV]  clf__class_weight=balanced, clf__penalty=l1, clf__solver=lbfgs, score=0.0, total=  22.8s\n",
      "[CV] clf__class_weight=balanced, clf__penalty=l1, clf__solver=lbfgs ..\n",
      "[CV]  clf__class_weight=balanced, clf__penalty=l1, clf__solver=lbfgs, score=0.0, total=  22.7s\n",
      "[CV] clf__class_weight=balanced, clf__penalty=l2, clf__solver=newton-cg \n",
      "[CV]  clf__class_weight=balanced, clf__penalty=l2, clf__solver=newton-cg, score=0.8766310542956538, total= 8.5min\n",
      "[CV] clf__class_weight=balanced, clf__penalty=l2, clf__solver=newton-cg \n",
      "[CV]  clf__class_weight=balanced, clf__penalty=l2, clf__solver=newton-cg, score=0.8799564940274417, total= 8.8min\n",
      "[CV] clf__class_weight=balanced, clf__penalty=l2, clf__solver=newton-cg \n",
      "[CV]  clf__class_weight=balanced, clf__penalty=l2, clf__solver=newton-cg, score=0.871851047778155, total= 8.0min\n",
      "[CV] clf__class_weight=balanced, clf__penalty=l2, clf__solver=newton-cg \n",
      "[CV]  clf__class_weight=balanced, clf__penalty=l2, clf__solver=newton-cg, score=0.8749181521989924, total=10.7min\n",
      "[CV] clf__class_weight=balanced, clf__penalty=l2, clf__solver=newton-cg \n",
      "[CV]  clf__class_weight=balanced, clf__penalty=l2, clf__solver=newton-cg, score=0.8769327569155647, total= 8.7min\n",
      "[CV] clf__class_weight=balanced, clf__penalty=l2, clf__solver=lbfgs ..\n",
      "[CV]  clf__class_weight=balanced, clf__penalty=l2, clf__solver=lbfgs, score=0.8771078684547555, total= 1.0min\n",
      "[CV] clf__class_weight=balanced, clf__penalty=l2, clf__solver=lbfgs ..\n",
      "[CV]  clf__class_weight=balanced, clf__penalty=l2, clf__solver=lbfgs, score=0.8791017565614352, total= 1.1min\n",
      "[CV] clf__class_weight=balanced, clf__penalty=l2, clf__solver=lbfgs ..\n",
      "[CV]  clf__class_weight=balanced, clf__penalty=l2, clf__solver=lbfgs, score=0.874214617174798, total= 1.0min\n",
      "[CV] clf__class_weight=balanced, clf__penalty=l2, clf__solver=lbfgs ..\n",
      "[CV]  clf__class_weight=balanced, clf__penalty=l2, clf__solver=lbfgs, score=0.8766479483350185, total= 1.2min\n",
      "[CV] clf__class_weight=balanced, clf__penalty=l2, clf__solver=lbfgs ..\n",
      "[CV]  clf__class_weight=balanced, clf__penalty=l2, clf__solver=lbfgs, score=0.8773746853263438, total= 1.0min\n",
      "[CV] clf__class_weight=balanced, clf__penalty=None, clf__solver=newton-cg \n",
      "[CV]  clf__class_weight=balanced, clf__penalty=None, clf__solver=newton-cg, score=0.0, total=  26.4s\n",
      "[CV] clf__class_weight=balanced, clf__penalty=None, clf__solver=newton-cg \n",
      "[CV]  clf__class_weight=balanced, clf__penalty=None, clf__solver=newton-cg, score=0.0, total=  25.9s\n",
      "[CV] clf__class_weight=balanced, clf__penalty=None, clf__solver=newton-cg \n",
      "[CV]  clf__class_weight=balanced, clf__penalty=None, clf__solver=newton-cg, score=0.0, total=  28.6s\n",
      "[CV] clf__class_weight=balanced, clf__penalty=None, clf__solver=newton-cg \n",
      "[CV]  clf__class_weight=balanced, clf__penalty=None, clf__solver=newton-cg, score=0.0, total=  34.5s\n",
      "[CV] clf__class_weight=balanced, clf__penalty=None, clf__solver=newton-cg \n",
      "[CV]  clf__class_weight=balanced, clf__penalty=None, clf__solver=newton-cg, score=0.0, total=  28.2s\n",
      "[CV] clf__class_weight=balanced, clf__penalty=None, clf__solver=lbfgs \n",
      "[CV]  clf__class_weight=balanced, clf__penalty=None, clf__solver=lbfgs, score=0.0, total=  35.8s\n",
      "[CV] clf__class_weight=balanced, clf__penalty=None, clf__solver=lbfgs \n",
      "[CV]  clf__class_weight=balanced, clf__penalty=None, clf__solver=lbfgs, score=0.0, total=  34.5s\n"
     ]
    },
    {
     "name": "stdout",
     "output_type": "stream",
     "text": [
      "[CV] clf__class_weight=balanced, clf__penalty=None, clf__solver=lbfgs \n",
      "[CV]  clf__class_weight=balanced, clf__penalty=None, clf__solver=lbfgs, score=0.0, total=  30.5s\n",
      "[CV] clf__class_weight=balanced, clf__penalty=None, clf__solver=lbfgs \n",
      "[CV]  clf__class_weight=balanced, clf__penalty=None, clf__solver=lbfgs, score=0.0, total=  34.1s\n",
      "[CV] clf__class_weight=balanced, clf__penalty=None, clf__solver=lbfgs \n",
      "[CV]  clf__class_weight=balanced, clf__penalty=None, clf__solver=lbfgs, score=0.0, total=  34.3s\n"
     ]
    },
    {
     "name": "stderr",
     "output_type": "stream",
     "text": [
      "[Parallel(n_jobs=1)]: Done  60 out of  60 | elapsed: 133.8min finished\n"
     ]
    },
    {
     "data": {
      "text/plain": [
       "GridSearchCV(cv=5, error_score=0.0,\n",
       "       estimator=Pipeline(memory=None,\n",
       "     steps=[('cv', CountVectorizer(analyzer='word', binary=False, decode_error='strict',\n",
       "        dtype=<class 'numpy.int64'>, encoding='utf-8', input='content',\n",
       "        lowercase=True, max_df=1.0, max_features=None, min_df=1,\n",
       "        ngram_range=(1, 2), preprocessor=None, stop_words='english',\n",
       "        st...penalty='l2', random_state=None, solver='warn',\n",
       "          tol=0.0001, verbose=0, warm_start=False))]),\n",
       "       fit_params=None, iid='warn', n_jobs=None,\n",
       "       param_grid={'clf__penalty': ('l1', 'l2', None), 'clf__class_weight': (None, 'balanced'), 'clf__solver': ('newton-cg', 'lbfgs')},\n",
       "       pre_dispatch='2*n_jobs', refit=True, return_train_score='warn',\n",
       "       scoring=make_scorer(roc_auc_score, average=macro), verbose=10)"
      ]
     },
     "execution_count": 7,
     "metadata": {},
     "output_type": "execute_result"
    }
   ],
   "source": [
    "grid.fit(corpus_train, train_labels)"
   ]
  },
  {
   "cell_type": "code",
   "execution_count": 8,
   "metadata": {
    "scrolled": true
   },
   "outputs": [
    {
     "data": {
      "text/plain": [
       "0.87688937653972454"
      ]
     },
     "execution_count": 8,
     "metadata": {},
     "output_type": "execute_result"
    }
   ],
   "source": [
    "grid.best_score_"
   ]
  },
  {
   "cell_type": "code",
   "execution_count": 9,
   "metadata": {
    "scrolled": true
   },
   "outputs": [
    {
     "data": {
      "text/html": [
       "<div>\n",
       "<style>\n",
       "    .dataframe thead tr:only-child th {\n",
       "        text-align: right;\n",
       "    }\n",
       "\n",
       "    .dataframe thead th {\n",
       "        text-align: left;\n",
       "    }\n",
       "\n",
       "    .dataframe tbody tr th {\n",
       "        vertical-align: top;\n",
       "    }\n",
       "</style>\n",
       "<table border=\"1\" class=\"dataframe\">\n",
       "  <thead>\n",
       "    <tr style=\"text-align: right;\">\n",
       "      <th></th>\n",
       "      <th>mean_fit_time</th>\n",
       "      <th>mean_score_time</th>\n",
       "      <th>mean_test_score</th>\n",
       "      <th>mean_train_score</th>\n",
       "      <th>param_clf__class_weight</th>\n",
       "      <th>param_clf__penalty</th>\n",
       "      <th>param_clf__solver</th>\n",
       "      <th>params</th>\n",
       "      <th>rank_test_score</th>\n",
       "      <th>split0_test_score</th>\n",
       "      <th>...</th>\n",
       "      <th>split2_test_score</th>\n",
       "      <th>split2_train_score</th>\n",
       "      <th>split3_test_score</th>\n",
       "      <th>split3_train_score</th>\n",
       "      <th>split4_test_score</th>\n",
       "      <th>split4_train_score</th>\n",
       "      <th>std_fit_time</th>\n",
       "      <th>std_score_time</th>\n",
       "      <th>std_test_score</th>\n",
       "      <th>std_train_score</th>\n",
       "    </tr>\n",
       "  </thead>\n",
       "  <tbody>\n",
       "    <tr>\n",
       "      <th>0</th>\n",
       "      <td>31.267038</td>\n",
       "      <td>0.000000</td>\n",
       "      <td>0.000000</td>\n",
       "      <td>0.000000</td>\n",
       "      <td>None</td>\n",
       "      <td>l1</td>\n",
       "      <td>newton-cg</td>\n",
       "      <td>{'clf__class_weight': None, 'clf__penalty': 'l...</td>\n",
       "      <td>5</td>\n",
       "      <td>0.000000</td>\n",
       "      <td>...</td>\n",
       "      <td>0.000000</td>\n",
       "      <td>0.000000</td>\n",
       "      <td>0.000000</td>\n",
       "      <td>0.000000</td>\n",
       "      <td>0.000000</td>\n",
       "      <td>0.000000</td>\n",
       "      <td>1.522412</td>\n",
       "      <td>0.000000</td>\n",
       "      <td>0.000000</td>\n",
       "      <td>0.000000</td>\n",
       "    </tr>\n",
       "    <tr>\n",
       "      <th>1</th>\n",
       "      <td>31.581106</td>\n",
       "      <td>0.000000</td>\n",
       "      <td>0.000000</td>\n",
       "      <td>0.000000</td>\n",
       "      <td>None</td>\n",
       "      <td>l1</td>\n",
       "      <td>lbfgs</td>\n",
       "      <td>{'clf__class_weight': None, 'clf__penalty': 'l...</td>\n",
       "      <td>5</td>\n",
       "      <td>0.000000</td>\n",
       "      <td>...</td>\n",
       "      <td>0.000000</td>\n",
       "      <td>0.000000</td>\n",
       "      <td>0.000000</td>\n",
       "      <td>0.000000</td>\n",
       "      <td>0.000000</td>\n",
       "      <td>0.000000</td>\n",
       "      <td>0.917895</td>\n",
       "      <td>0.000000</td>\n",
       "      <td>0.000000</td>\n",
       "      <td>0.000000</td>\n",
       "    </tr>\n",
       "    <tr>\n",
       "      <th>2</th>\n",
       "      <td>662.432310</td>\n",
       "      <td>3.461630</td>\n",
       "      <td>0.829805</td>\n",
       "      <td>0.982040</td>\n",
       "      <td>None</td>\n",
       "      <td>l2</td>\n",
       "      <td>newton-cg</td>\n",
       "      <td>{'clf__class_weight': None, 'clf__penalty': 'l...</td>\n",
       "      <td>4</td>\n",
       "      <td>0.829983</td>\n",
       "      <td>...</td>\n",
       "      <td>0.827009</td>\n",
       "      <td>0.981710</td>\n",
       "      <td>0.827558</td>\n",
       "      <td>0.983225</td>\n",
       "      <td>0.832390</td>\n",
       "      <td>0.981958</td>\n",
       "      <td>238.457577</td>\n",
       "      <td>0.875079</td>\n",
       "      <td>0.002226</td>\n",
       "      <td>0.000624</td>\n",
       "    </tr>\n",
       "    <tr>\n",
       "      <th>3</th>\n",
       "      <td>58.378145</td>\n",
       "      <td>2.938708</td>\n",
       "      <td>0.830990</td>\n",
       "      <td>0.976844</td>\n",
       "      <td>None</td>\n",
       "      <td>l2</td>\n",
       "      <td>lbfgs</td>\n",
       "      <td>{'clf__class_weight': None, 'clf__penalty': 'l...</td>\n",
       "      <td>3</td>\n",
       "      <td>0.831027</td>\n",
       "      <td>...</td>\n",
       "      <td>0.829474</td>\n",
       "      <td>0.972065</td>\n",
       "      <td>0.826826</td>\n",
       "      <td>0.973807</td>\n",
       "      <td>0.833690</td>\n",
       "      <td>0.982703</td>\n",
       "      <td>4.236909</td>\n",
       "      <td>0.538618</td>\n",
       "      <td>0.002668</td>\n",
       "      <td>0.003697</td>\n",
       "    </tr>\n",
       "    <tr>\n",
       "      <th>4</th>\n",
       "      <td>22.917487</td>\n",
       "      <td>0.000000</td>\n",
       "      <td>0.000000</td>\n",
       "      <td>0.000000</td>\n",
       "      <td>None</td>\n",
       "      <td>None</td>\n",
       "      <td>newton-cg</td>\n",
       "      <td>{'clf__class_weight': None, 'clf__penalty': No...</td>\n",
       "      <td>5</td>\n",
       "      <td>0.000000</td>\n",
       "      <td>...</td>\n",
       "      <td>0.000000</td>\n",
       "      <td>0.000000</td>\n",
       "      <td>0.000000</td>\n",
       "      <td>0.000000</td>\n",
       "      <td>0.000000</td>\n",
       "      <td>0.000000</td>\n",
       "      <td>0.461764</td>\n",
       "      <td>0.000000</td>\n",
       "      <td>0.000000</td>\n",
       "      <td>0.000000</td>\n",
       "    </tr>\n",
       "    <tr>\n",
       "      <th>5</th>\n",
       "      <td>25.218131</td>\n",
       "      <td>0.000000</td>\n",
       "      <td>0.000000</td>\n",
       "      <td>0.000000</td>\n",
       "      <td>None</td>\n",
       "      <td>None</td>\n",
       "      <td>lbfgs</td>\n",
       "      <td>{'clf__class_weight': None, 'clf__penalty': No...</td>\n",
       "      <td>5</td>\n",
       "      <td>0.000000</td>\n",
       "      <td>...</td>\n",
       "      <td>0.000000</td>\n",
       "      <td>0.000000</td>\n",
       "      <td>0.000000</td>\n",
       "      <td>0.000000</td>\n",
       "      <td>0.000000</td>\n",
       "      <td>0.000000</td>\n",
       "      <td>3.722575</td>\n",
       "      <td>0.000000</td>\n",
       "      <td>0.000000</td>\n",
       "      <td>0.000000</td>\n",
       "    </tr>\n",
       "    <tr>\n",
       "      <th>6</th>\n",
       "      <td>24.073135</td>\n",
       "      <td>0.000000</td>\n",
       "      <td>0.000000</td>\n",
       "      <td>0.000000</td>\n",
       "      <td>balanced</td>\n",
       "      <td>l1</td>\n",
       "      <td>newton-cg</td>\n",
       "      <td>{'clf__class_weight': 'balanced', 'clf__penalt...</td>\n",
       "      <td>5</td>\n",
       "      <td>0.000000</td>\n",
       "      <td>...</td>\n",
       "      <td>0.000000</td>\n",
       "      <td>0.000000</td>\n",
       "      <td>0.000000</td>\n",
       "      <td>0.000000</td>\n",
       "      <td>0.000000</td>\n",
       "      <td>0.000000</td>\n",
       "      <td>1.506880</td>\n",
       "      <td>0.000000</td>\n",
       "      <td>0.000000</td>\n",
       "      <td>0.000000</td>\n",
       "    </tr>\n",
       "    <tr>\n",
       "      <th>7</th>\n",
       "      <td>26.437050</td>\n",
       "      <td>0.000000</td>\n",
       "      <td>0.000000</td>\n",
       "      <td>0.000000</td>\n",
       "      <td>balanced</td>\n",
       "      <td>l1</td>\n",
       "      <td>lbfgs</td>\n",
       "      <td>{'clf__class_weight': 'balanced', 'clf__penalt...</td>\n",
       "      <td>5</td>\n",
       "      <td>0.000000</td>\n",
       "      <td>...</td>\n",
       "      <td>0.000000</td>\n",
       "      <td>0.000000</td>\n",
       "      <td>0.000000</td>\n",
       "      <td>0.000000</td>\n",
       "      <td>0.000000</td>\n",
       "      <td>0.000000</td>\n",
       "      <td>3.923836</td>\n",
       "      <td>0.000000</td>\n",
       "      <td>0.000000</td>\n",
       "      <td>0.000000</td>\n",
       "    </tr>\n",
       "    <tr>\n",
       "      <th>8</th>\n",
       "      <td>532.166311</td>\n",
       "      <td>4.178250</td>\n",
       "      <td>0.876058</td>\n",
       "      <td>0.998223</td>\n",
       "      <td>balanced</td>\n",
       "      <td>l2</td>\n",
       "      <td>newton-cg</td>\n",
       "      <td>{'clf__class_weight': 'balanced', 'clf__penalt...</td>\n",
       "      <td>2</td>\n",
       "      <td>0.876631</td>\n",
       "      <td>...</td>\n",
       "      <td>0.871851</td>\n",
       "      <td>0.998310</td>\n",
       "      <td>0.874918</td>\n",
       "      <td>0.998182</td>\n",
       "      <td>0.876933</td>\n",
       "      <td>0.998177</td>\n",
       "      <td>56.613707</td>\n",
       "      <td>0.651077</td>\n",
       "      <td>0.002657</td>\n",
       "      <td>0.000052</td>\n",
       "    </tr>\n",
       "    <tr>\n",
       "      <th>9</th>\n",
       "      <td>60.781316</td>\n",
       "      <td>3.409665</td>\n",
       "      <td>0.876889</td>\n",
       "      <td>0.996938</td>\n",
       "      <td>balanced</td>\n",
       "      <td>l2</td>\n",
       "      <td>lbfgs</td>\n",
       "      <td>{'clf__class_weight': 'balanced', 'clf__penalt...</td>\n",
       "      <td>1</td>\n",
       "      <td>0.877108</td>\n",
       "      <td>...</td>\n",
       "      <td>0.874215</td>\n",
       "      <td>0.996115</td>\n",
       "      <td>0.876648</td>\n",
       "      <td>0.996155</td>\n",
       "      <td>0.877375</td>\n",
       "      <td>0.997899</td>\n",
       "      <td>2.471308</td>\n",
       "      <td>0.960777</td>\n",
       "      <td>0.001574</td>\n",
       "      <td>0.000780</td>\n",
       "    </tr>\n",
       "    <tr>\n",
       "      <th>10</th>\n",
       "      <td>28.733491</td>\n",
       "      <td>0.000000</td>\n",
       "      <td>0.000000</td>\n",
       "      <td>0.000000</td>\n",
       "      <td>balanced</td>\n",
       "      <td>None</td>\n",
       "      <td>newton-cg</td>\n",
       "      <td>{'clf__class_weight': 'balanced', 'clf__penalt...</td>\n",
       "      <td>5</td>\n",
       "      <td>0.000000</td>\n",
       "      <td>...</td>\n",
       "      <td>0.000000</td>\n",
       "      <td>0.000000</td>\n",
       "      <td>0.000000</td>\n",
       "      <td>0.000000</td>\n",
       "      <td>0.000000</td>\n",
       "      <td>0.000000</td>\n",
       "      <td>3.072902</td>\n",
       "      <td>0.000000</td>\n",
       "      <td>0.000000</td>\n",
       "      <td>0.000000</td>\n",
       "    </tr>\n",
       "    <tr>\n",
       "      <th>11</th>\n",
       "      <td>33.836252</td>\n",
       "      <td>0.000000</td>\n",
       "      <td>0.000000</td>\n",
       "      <td>0.000000</td>\n",
       "      <td>balanced</td>\n",
       "      <td>None</td>\n",
       "      <td>lbfgs</td>\n",
       "      <td>{'clf__class_weight': 'balanced', 'clf__penalt...</td>\n",
       "      <td>5</td>\n",
       "      <td>0.000000</td>\n",
       "      <td>...</td>\n",
       "      <td>0.000000</td>\n",
       "      <td>0.000000</td>\n",
       "      <td>0.000000</td>\n",
       "      <td>0.000000</td>\n",
       "      <td>0.000000</td>\n",
       "      <td>0.000000</td>\n",
       "      <td>1.776924</td>\n",
       "      <td>0.000000</td>\n",
       "      <td>0.000000</td>\n",
       "      <td>0.000000</td>\n",
       "    </tr>\n",
       "  </tbody>\n",
       "</table>\n",
       "<p>12 rows × 23 columns</p>\n",
       "</div>"
      ],
      "text/plain": [
       "    mean_fit_time  mean_score_time  mean_test_score  mean_train_score  \\\n",
       "0       31.267038         0.000000         0.000000          0.000000   \n",
       "1       31.581106         0.000000         0.000000          0.000000   \n",
       "2      662.432310         3.461630         0.829805          0.982040   \n",
       "3       58.378145         2.938708         0.830990          0.976844   \n",
       "4       22.917487         0.000000         0.000000          0.000000   \n",
       "5       25.218131         0.000000         0.000000          0.000000   \n",
       "6       24.073135         0.000000         0.000000          0.000000   \n",
       "7       26.437050         0.000000         0.000000          0.000000   \n",
       "8      532.166311         4.178250         0.876058          0.998223   \n",
       "9       60.781316         3.409665         0.876889          0.996938   \n",
       "10      28.733491         0.000000         0.000000          0.000000   \n",
       "11      33.836252         0.000000         0.000000          0.000000   \n",
       "\n",
       "   param_clf__class_weight param_clf__penalty param_clf__solver  \\\n",
       "0                     None                 l1         newton-cg   \n",
       "1                     None                 l1             lbfgs   \n",
       "2                     None                 l2         newton-cg   \n",
       "3                     None                 l2             lbfgs   \n",
       "4                     None               None         newton-cg   \n",
       "5                     None               None             lbfgs   \n",
       "6                 balanced                 l1         newton-cg   \n",
       "7                 balanced                 l1             lbfgs   \n",
       "8                 balanced                 l2         newton-cg   \n",
       "9                 balanced                 l2             lbfgs   \n",
       "10                balanced               None         newton-cg   \n",
       "11                balanced               None             lbfgs   \n",
       "\n",
       "                                               params  rank_test_score  \\\n",
       "0   {'clf__class_weight': None, 'clf__penalty': 'l...                5   \n",
       "1   {'clf__class_weight': None, 'clf__penalty': 'l...                5   \n",
       "2   {'clf__class_weight': None, 'clf__penalty': 'l...                4   \n",
       "3   {'clf__class_weight': None, 'clf__penalty': 'l...                3   \n",
       "4   {'clf__class_weight': None, 'clf__penalty': No...                5   \n",
       "5   {'clf__class_weight': None, 'clf__penalty': No...                5   \n",
       "6   {'clf__class_weight': 'balanced', 'clf__penalt...                5   \n",
       "7   {'clf__class_weight': 'balanced', 'clf__penalt...                5   \n",
       "8   {'clf__class_weight': 'balanced', 'clf__penalt...                2   \n",
       "9   {'clf__class_weight': 'balanced', 'clf__penalt...                1   \n",
       "10  {'clf__class_weight': 'balanced', 'clf__penalt...                5   \n",
       "11  {'clf__class_weight': 'balanced', 'clf__penalt...                5   \n",
       "\n",
       "    split0_test_score       ...         split2_test_score  split2_train_score  \\\n",
       "0            0.000000       ...                  0.000000            0.000000   \n",
       "1            0.000000       ...                  0.000000            0.000000   \n",
       "2            0.829983       ...                  0.827009            0.981710   \n",
       "3            0.831027       ...                  0.829474            0.972065   \n",
       "4            0.000000       ...                  0.000000            0.000000   \n",
       "5            0.000000       ...                  0.000000            0.000000   \n",
       "6            0.000000       ...                  0.000000            0.000000   \n",
       "7            0.000000       ...                  0.000000            0.000000   \n",
       "8            0.876631       ...                  0.871851            0.998310   \n",
       "9            0.877108       ...                  0.874215            0.996115   \n",
       "10           0.000000       ...                  0.000000            0.000000   \n",
       "11           0.000000       ...                  0.000000            0.000000   \n",
       "\n",
       "    split3_test_score  split3_train_score  split4_test_score  \\\n",
       "0            0.000000            0.000000           0.000000   \n",
       "1            0.000000            0.000000           0.000000   \n",
       "2            0.827558            0.983225           0.832390   \n",
       "3            0.826826            0.973807           0.833690   \n",
       "4            0.000000            0.000000           0.000000   \n",
       "5            0.000000            0.000000           0.000000   \n",
       "6            0.000000            0.000000           0.000000   \n",
       "7            0.000000            0.000000           0.000000   \n",
       "8            0.874918            0.998182           0.876933   \n",
       "9            0.876648            0.996155           0.877375   \n",
       "10           0.000000            0.000000           0.000000   \n",
       "11           0.000000            0.000000           0.000000   \n",
       "\n",
       "    split4_train_score  std_fit_time  std_score_time  std_test_score  \\\n",
       "0             0.000000      1.522412        0.000000        0.000000   \n",
       "1             0.000000      0.917895        0.000000        0.000000   \n",
       "2             0.981958    238.457577        0.875079        0.002226   \n",
       "3             0.982703      4.236909        0.538618        0.002668   \n",
       "4             0.000000      0.461764        0.000000        0.000000   \n",
       "5             0.000000      3.722575        0.000000        0.000000   \n",
       "6             0.000000      1.506880        0.000000        0.000000   \n",
       "7             0.000000      3.923836        0.000000        0.000000   \n",
       "8             0.998177     56.613707        0.651077        0.002657   \n",
       "9             0.997899      2.471308        0.960777        0.001574   \n",
       "10            0.000000      3.072902        0.000000        0.000000   \n",
       "11            0.000000      1.776924        0.000000        0.000000   \n",
       "\n",
       "    std_train_score  \n",
       "0          0.000000  \n",
       "1          0.000000  \n",
       "2          0.000624  \n",
       "3          0.003697  \n",
       "4          0.000000  \n",
       "5          0.000000  \n",
       "6          0.000000  \n",
       "7          0.000000  \n",
       "8          0.000052  \n",
       "9          0.000780  \n",
       "10         0.000000  \n",
       "11         0.000000  \n",
       "\n",
       "[12 rows x 23 columns]"
      ]
     },
     "execution_count": 9,
     "metadata": {},
     "output_type": "execute_result"
    }
   ],
   "source": [
    "a = pd.DataFrame.from_dict(grid.cv_results_)\n",
    "a"
   ]
  },
  {
   "cell_type": "code",
   "execution_count": 10,
   "metadata": {},
   "outputs": [
    {
     "data": {
      "text/plain": [
       "Pipeline(memory=None,\n",
       "     steps=[('cv', CountVectorizer(analyzer='word', binary=False, decode_error='strict',\n",
       "        dtype=<class 'numpy.int64'>, encoding='utf-8', input='content',\n",
       "        lowercase=True, max_df=1.0, max_features=None, min_df=1,\n",
       "        ngram_range=(1, 2), preprocessor=None, stop_words='english',\n",
       "        st...enalty='l2', random_state=None,\n",
       "          solver='lbfgs', tol=0.0001, verbose=0, warm_start=False))])"
      ]
     },
     "execution_count": 10,
     "metadata": {},
     "output_type": "execute_result"
    }
   ],
   "source": [
    "grid.best_estimator_"
   ]
  },
  {
   "cell_type": "code",
   "execution_count": 13,
   "metadata": {},
   "outputs": [
    {
     "name": "stdout",
     "output_type": "stream",
     "text": [
      "Precision =  0.907095947461\n",
      "Recall =  0.447067182443\n",
      "F_score =  0.764696863844\n",
      "CCR =  0.881459251618\n",
      "ROC_AUC =  0.892891526168\n",
      "\n",
      "Confusion Matrix: \n",
      " [[50731  7004]\n",
      " [  580  5663]]\n",
      "\n"
     ]
    }
   ],
   "source": [
    "from sklearn.metrics import roc_auc_score\n",
    "vectorizer = CountVectorizer(strip_accents='unicode',lowercase=True,stop_words='english', analyzer=\"word\",token_pattern=r'\\w{1,}')\n",
    "train_feature_vectors_sparse = vectorizer.fit_transform(corpus_train)\n",
    "vectorizer_test = CountVectorizer(strip_accents='unicode',lowercase=True,stop_words='english', analyzer=\"word\",token_pattern=r'\\w{1,}', vocabulary= vectorizer.get_feature_names())\n",
    "test_feature_vectors_sparse = vectorizer_test.fit_transform(corpus_test)\n",
    "\n",
    "    \n",
    "\n",
    "clf = LogisticRegression(C=1.0, class_weight='balanced', dual=False,\n",
    "          fit_intercept=True, intercept_scaling=1, max_iter=100,\n",
    "          multi_class='ovr', n_jobs=None, penalty='l2', random_state=None,\n",
    "          solver='lbfgs', tol=0.0001, verbose=0, warm_start=False)\n",
    "\n",
    "clf.fit(train_feature_vectors_sparse, train_labels)\n",
    "\n",
    "predictions = clf.predict(test_feature_vectors_sparse)\n",
    "confmat = confusion_matrix(test_labels, predictions)\n",
    "\n",
    "precision = confmat[1,1]/(confmat[1,1] + confmat[1,0])\n",
    "recall = confmat[1,1]/(confmat[1,1] + confmat[0,1])\n",
    "fScore = f1_score(test_labels, predictions, average='macro')\n",
    "ccr = (confmat[0,0] + confmat[1,1])/(sum(sum(confmat)))\n",
    "roc_auc = roc_auc_score(test_labels, predictions)\n",
    "print(\"Precision = \",precision)\n",
    "print(\"Recall = \",recall)\n",
    "print(\"F_score = \",fScore)\n",
    "print(\"CCR = \",ccr)\n",
    "print(\"ROC_AUC = \", roc_auc)\n",
    "print()\n",
    "print(\"Confusion Matrix: \\n\", confmat)\n",
    "print()\n"
   ]
  },
  {
   "cell_type": "code",
   "execution_count": null,
   "metadata": {
    "collapsed": true
   },
   "outputs": [],
   "source": []
  }
 ],
 "metadata": {
  "kernelspec": {
   "display_name": "Python 3",
   "language": "python",
   "name": "python3"
  },
  "language_info": {
   "codemirror_mode": {
    "name": "ipython",
    "version": 3
   },
   "file_extension": ".py",
   "mimetype": "text/x-python",
   "name": "python",
   "nbconvert_exporter": "python",
   "pygments_lexer": "ipython3",
   "version": "3.6.3"
  }
 },
 "nbformat": 4,
 "nbformat_minor": 2
}
