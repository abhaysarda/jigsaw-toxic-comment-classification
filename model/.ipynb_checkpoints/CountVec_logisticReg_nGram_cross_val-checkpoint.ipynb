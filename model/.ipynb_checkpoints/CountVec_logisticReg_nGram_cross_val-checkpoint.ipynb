{
 "cells": [
  {
   "cell_type": "code",
   "execution_count": 9,
   "metadata": {
    "collapsed": true
   },
   "outputs": [],
   "source": [
    "import pandas as pd, numpy as np\n",
    "import sklearn\n",
    "import scipy.sparse\n",
    "import warnings\n",
    "warnings.filterwarnings('ignore')\n",
    "from sklearn.feature_extraction.text import CountVectorizer\n",
    "from scipy import sparse\n",
    "from sklearn.metrics import confusion_matrix\n",
    "from bs4 import BeautifulSoup\n",
    "import re\n",
    "from sklearn.metrics import f1_score\n",
    "from sklearn.linear_model import LogisticRegression\n",
    "from sklearn.feature_extraction.text import TfidfTransformer\n",
    "import matplotlib.pyplot as plt"
   ]
  },
  {
   "cell_type": "code",
   "execution_count": 2,
   "metadata": {
    "collapsed": true
   },
   "outputs": [],
   "source": [
    "train_data = pd.read_csv('../data/raw_data/train.csv')\n",
    "test_data = pd.read_csv('../data/raw_data/test.csv')\n",
    "\n",
    "train_labels=(train_data[\"Labels\"])\n",
    "test_labels = test_data[\"Labels\"]\n",
    "\n",
    "corpus_train = train_data[\"Comment\"]\n",
    "corpus_test = test_data[\"Comment\"]"
   ]
  },
  {
   "cell_type": "code",
   "execution_count": 3,
   "metadata": {},
   "outputs": [
    {
     "data": {
      "text/plain": [
       "(63978, 2)"
      ]
     },
     "execution_count": 3,
     "metadata": {},
     "output_type": "execute_result"
    }
   ],
   "source": [
    "test_data.shape"
   ]
  },
  {
   "cell_type": "code",
   "execution_count": 3,
   "metadata": {
    "collapsed": true
   },
   "outputs": [],
   "source": [
    "# vectorizer = CountVectorizer(strip_accents='unicode',lowercase=True,stop_words='english',ngram_range=(1, i))\n",
    "# train_feature_vectors_sparse = vectorizer.fit_transform(corpus_train)\n",
    "# test_feature_vectors_sparse = vectorizer.fit_transform(corpus_test)"
   ]
  },
  {
   "cell_type": "code",
   "execution_count": 8,
   "metadata": {
    "collapsed": true
   },
   "outputs": [],
   "source": [
    "from sklearn.pipeline import Pipeline\n",
    "pipeline = Pipeline([\n",
    "    ('cv', CountVectorizer(strip_accents='unicode',lowercase=True,stop_words='english')),\n",
    "    ('clf', LogisticRegression(C=1.0, class_weight='balanced', dual=False,\n",
    "          fit_intercept=True, intercept_scaling=1, max_iter=100,\n",
    "          multi_class='ovr', n_jobs=None, penalty='l2', random_state=None,\n",
    "          solver='newton-cg', tol=0.0001, verbose=0, warm_start=False))\n",
    "])\n"
   ]
  },
  {
   "cell_type": "code",
   "execution_count": 10,
   "metadata": {
    "collapsed": true
   },
   "outputs": [],
   "source": [
    "from sklearn.metrics import make_scorer\n",
    "\n",
    "from sklearn.model_selection import GridSearchCV\n",
    "# tfidf_transformer = TfidfTransformer()\n",
    "parameters = {'cv__ngram_range':((1, 1),(2, 2),(3, 3),(1, 2),(1, 3))}\n",
    "grid = GridSearchCV(pipeline, parameters, scoring = make_scorer(f1_score), cv=5, error_score=0.0, verbose=10)\n"
   ]
  },
  {
   "cell_type": "code",
   "execution_count": 11,
   "metadata": {
    "scrolled": true
   },
   "outputs": [
    {
     "name": "stdout",
     "output_type": "stream",
     "text": [
      "Fitting 5 folds for each of 5 candidates, totalling 25 fits\n",
      "[CV] cv__ngram_range=(1, 1) ..........................................\n"
     ]
    },
    {
     "name": "stderr",
     "output_type": "stream",
     "text": [
      "[Parallel(n_jobs=1)]: Using backend SequentialBackend with 1 concurrent workers.\n"
     ]
    },
    {
     "name": "stdout",
     "output_type": "stream",
     "text": [
      "[CV] . cv__ngram_range=(1, 1), score=0.7656585925182743, total=  56.8s\n",
      "[CV] cv__ngram_range=(1, 1) ..........................................\n"
     ]
    },
    {
     "name": "stderr",
     "output_type": "stream",
     "text": [
      "[Parallel(n_jobs=1)]: Done   1 out of   1 | elapsed:  1.0min remaining:    0.0s\n"
     ]
    },
    {
     "name": "stdout",
     "output_type": "stream",
     "text": [
      "[CV] . cv__ngram_range=(1, 1), score=0.7629661380197171, total=  49.5s\n",
      "[CV] cv__ngram_range=(1, 1) ..........................................\n"
     ]
    },
    {
     "name": "stderr",
     "output_type": "stream",
     "text": [
      "[Parallel(n_jobs=1)]: Done   2 out of   2 | elapsed:  2.0min remaining:    0.0s\n"
     ]
    },
    {
     "name": "stdout",
     "output_type": "stream",
     "text": [
      "[CV] . cv__ngram_range=(1, 1), score=0.7623461259956553, total=  55.9s\n",
      "[CV] cv__ngram_range=(1, 1) ..........................................\n"
     ]
    },
    {
     "name": "stderr",
     "output_type": "stream",
     "text": [
      "[Parallel(n_jobs=1)]: Done   3 out of   3 | elapsed:  3.0min remaining:    0.0s\n"
     ]
    },
    {
     "name": "stdout",
     "output_type": "stream",
     "text": [
      "[CV] .. cv__ngram_range=(1, 1), score=0.770166545981173, total=  55.0s\n",
      "[CV] cv__ngram_range=(1, 1) ..........................................\n"
     ]
    },
    {
     "name": "stderr",
     "output_type": "stream",
     "text": [
      "[Parallel(n_jobs=1)]: Done   4 out of   4 | elapsed:  4.0min remaining:    0.0s\n"
     ]
    },
    {
     "name": "stdout",
     "output_type": "stream",
     "text": [
      "[CV] . cv__ngram_range=(1, 1), score=0.7642205818497613, total=  58.2s\n",
      "[CV] cv__ngram_range=(2, 2) ..........................................\n"
     ]
    },
    {
     "name": "stderr",
     "output_type": "stream",
     "text": [
      "[Parallel(n_jobs=1)]: Done   5 out of   5 | elapsed:  5.1min remaining:    0.0s\n"
     ]
    },
    {
     "name": "stdout",
     "output_type": "stream",
     "text": [
      "[CV] . cv__ngram_range=(2, 2), score=0.5027567898713498, total= 3.9min\n",
      "[CV] cv__ngram_range=(2, 2) ..........................................\n"
     ]
    },
    {
     "name": "stderr",
     "output_type": "stream",
     "text": [
      "[Parallel(n_jobs=1)]: Done   6 out of   6 | elapsed:  9.1min remaining:    0.0s\n"
     ]
    },
    {
     "name": "stdout",
     "output_type": "stream",
     "text": [
      "[CV] . cv__ngram_range=(2, 2), score=0.5232204421009937, total= 5.7min\n",
      "[CV] cv__ngram_range=(2, 2) ..........................................\n"
     ]
    },
    {
     "name": "stderr",
     "output_type": "stream",
     "text": [
      "[Parallel(n_jobs=1)]: Done   7 out of   7 | elapsed: 15.0min remaining:    0.0s\n"
     ]
    },
    {
     "name": "stdout",
     "output_type": "stream",
     "text": [
      "[CV] . cv__ngram_range=(2, 2), score=0.5093167701863354, total= 4.3min\n",
      "[CV] cv__ngram_range=(2, 2) ..........................................\n"
     ]
    },
    {
     "name": "stderr",
     "output_type": "stream",
     "text": [
      "[Parallel(n_jobs=1)]: Done   8 out of   8 | elapsed: 19.4min remaining:    0.0s\n"
     ]
    },
    {
     "name": "stdout",
     "output_type": "stream",
     "text": [
      "[CV]  cv__ngram_range=(2, 2), score=0.49938296997120524, total= 4.4min\n",
      "[CV] cv__ngram_range=(2, 2) ..........................................\n"
     ]
    },
    {
     "name": "stderr",
     "output_type": "stream",
     "text": [
      "[Parallel(n_jobs=1)]: Done   9 out of   9 | elapsed: 24.0min remaining:    0.0s\n"
     ]
    },
    {
     "name": "stdout",
     "output_type": "stream",
     "text": [
      "[CV]  cv__ngram_range=(2, 2), score=0.49526163988463123, total= 3.8min\n",
      "[CV] cv__ngram_range=(3, 3) ..........................................\n",
      "[CV]  cv__ngram_range=(3, 3), score=0.18406889128094725, total= 5.4min\n",
      "[CV] cv__ngram_range=(3, 3) ..........................................\n",
      "[CV]  cv__ngram_range=(3, 3), score=0.18567212235041589, total= 4.4min\n",
      "[CV] cv__ngram_range=(3, 3) ..........................................\n",
      "[CV]  cv__ngram_range=(3, 3), score=0.18196588139723804, total= 5.0min\n",
      "[CV] cv__ngram_range=(3, 3) ..........................................\n",
      "[CV]  cv__ngram_range=(3, 3), score=0.16883821932681867, total= 6.4min\n",
      "[CV] cv__ngram_range=(3, 3) ..........................................\n",
      "[CV]  cv__ngram_range=(3, 3), score=0.16712030484485577, total= 4.0min\n",
      "[CV] cv__ngram_range=(1, 2) ..........................................\n",
      "[CV] . cv__ngram_range=(1, 2), score=0.7860712054965646, total= 9.5min\n",
      "[CV] cv__ngram_range=(1, 2) ..........................................\n",
      "[CV] .. cv__ngram_range=(1, 2), score=0.791575663026521, total= 7.7min\n",
      "[CV] cv__ngram_range=(1, 2) ..........................................\n",
      "[CV] . cv__ngram_range=(1, 2), score=0.7846299810246679, total= 7.9min\n",
      "[CV] cv__ngram_range=(1, 2) ..........................................\n",
      "[CV] . cv__ngram_range=(1, 2), score=0.7892659826361484, total=10.7min\n",
      "[CV] cv__ngram_range=(1, 2) ..........................................\n",
      "[CV] . cv__ngram_range=(1, 2), score=0.7954977805960686, total=10.3min\n",
      "[CV] cv__ngram_range=(1, 3) ..........................................\n",
      "[CV] . cv__ngram_range=(1, 3), score=0.7839437070206301, total=21.5min\n",
      "[CV] cv__ngram_range=(1, 3) ..........................................\n",
      "[CV] . cv__ngram_range=(1, 3), score=0.7904534606205251, total=24.4min\n",
      "[CV] cv__ngram_range=(1, 3) ..........................................\n",
      "[CV] . cv__ngram_range=(1, 3), score=0.7825242718446602, total=18.2min\n",
      "[CV] cv__ngram_range=(1, 3) ..........................................\n",
      "[CV] . cv__ngram_range=(1, 3), score=0.7905329254548381, total=20.5min\n",
      "[CV] cv__ngram_range=(1, 3) ..........................................\n",
      "[CV] .. cv__ngram_range=(1, 3), score=0.790179292521402, total=16.2min\n"
     ]
    },
    {
     "name": "stderr",
     "output_type": "stream",
     "text": [
      "[Parallel(n_jobs=1)]: Done  25 out of  25 | elapsed: 203.2min finished\n"
     ]
    },
    {
     "data": {
      "text/plain": [
       "GridSearchCV(cv=5, error_score=0.0,\n",
       "       estimator=Pipeline(memory=None,\n",
       "     steps=[('cv', CountVectorizer(analyzer='word', binary=False, decode_error='strict',\n",
       "        dtype=<class 'numpy.int64'>, encoding='utf-8', input='content',\n",
       "        lowercase=True, max_df=1.0, max_features=None, min_df=1,\n",
       "        ngram_range=(1, 1), preprocessor=None, stop_words='english',\n",
       "        st...ty='l2', random_state=None,\n",
       "          solver='newton-cg', tol=0.0001, verbose=0, warm_start=False))]),\n",
       "       fit_params=None, iid='warn', n_jobs=None,\n",
       "       param_grid={'cv__ngram_range': ((1, 1), (2, 2), (3, 3), (1, 2), (1, 3))},\n",
       "       pre_dispatch='2*n_jobs', refit=True, return_train_score='warn',\n",
       "       scoring=make_scorer(f1_score), verbose=10)"
      ]
     },
     "execution_count": 11,
     "metadata": {},
     "output_type": "execute_result"
    }
   ],
   "source": [
    "grid.fit(corpus_train, train_labels)"
   ]
  },
  {
   "cell_type": "code",
   "execution_count": 13,
   "metadata": {
    "scrolled": true
   },
   "outputs": [
    {
     "data": {
      "text/plain": [
       "0.78940810164419273"
      ]
     },
     "execution_count": 13,
     "metadata": {},
     "output_type": "execute_result"
    }
   ],
   "source": [
    "grid.best_score_"
   ]
  },
  {
   "cell_type": "code",
   "execution_count": 14,
   "metadata": {
    "scrolled": false
   },
   "outputs": [
    {
     "data": {
      "text/html": [
       "<div>\n",
       "<style>\n",
       "    .dataframe thead tr:only-child th {\n",
       "        text-align: right;\n",
       "    }\n",
       "\n",
       "    .dataframe thead th {\n",
       "        text-align: left;\n",
       "    }\n",
       "\n",
       "    .dataframe tbody tr th {\n",
       "        vertical-align: top;\n",
       "    }\n",
       "</style>\n",
       "<table border=\"1\" class=\"dataframe\">\n",
       "  <thead>\n",
       "    <tr style=\"text-align: right;\">\n",
       "      <th></th>\n",
       "      <th>mean_fit_time</th>\n",
       "      <th>mean_score_time</th>\n",
       "      <th>mean_test_score</th>\n",
       "      <th>mean_train_score</th>\n",
       "      <th>param_cv__ngram_range</th>\n",
       "      <th>params</th>\n",
       "      <th>rank_test_score</th>\n",
       "      <th>split0_test_score</th>\n",
       "      <th>split0_train_score</th>\n",
       "      <th>split1_test_score</th>\n",
       "      <th>...</th>\n",
       "      <th>split2_test_score</th>\n",
       "      <th>split2_train_score</th>\n",
       "      <th>split3_test_score</th>\n",
       "      <th>split3_train_score</th>\n",
       "      <th>split4_test_score</th>\n",
       "      <th>split4_train_score</th>\n",
       "      <th>std_fit_time</th>\n",
       "      <th>std_score_time</th>\n",
       "      <th>std_test_score</th>\n",
       "      <th>std_train_score</th>\n",
       "    </tr>\n",
       "  </thead>\n",
       "  <tbody>\n",
       "    <tr>\n",
       "      <th>0</th>\n",
       "      <td>53.555645</td>\n",
       "      <td>1.509771</td>\n",
       "      <td>0.765072</td>\n",
       "      <td>0.919044</td>\n",
       "      <td>(1, 1)</td>\n",
       "      <td>{'cv__ngram_range': (1, 1)}</td>\n",
       "      <td>3</td>\n",
       "      <td>0.765659</td>\n",
       "      <td>0.919479</td>\n",
       "      <td>0.762966</td>\n",
       "      <td>...</td>\n",
       "      <td>0.762346</td>\n",
       "      <td>0.919297</td>\n",
       "      <td>0.770167</td>\n",
       "      <td>0.919334</td>\n",
       "      <td>0.764221</td>\n",
       "      <td>0.918205</td>\n",
       "      <td>2.973291</td>\n",
       "      <td>0.016745</td>\n",
       "      <td>0.002789</td>\n",
       "      <td>0.000461</td>\n",
       "    </tr>\n",
       "    <tr>\n",
       "      <th>1</th>\n",
       "      <td>263.791873</td>\n",
       "      <td>2.381530</td>\n",
       "      <td>0.505988</td>\n",
       "      <td>0.990102</td>\n",
       "      <td>(2, 2)</td>\n",
       "      <td>{'cv__ngram_range': (2, 2)}</td>\n",
       "      <td>4</td>\n",
       "      <td>0.502757</td>\n",
       "      <td>0.990407</td>\n",
       "      <td>0.523220</td>\n",
       "      <td>...</td>\n",
       "      <td>0.509317</td>\n",
       "      <td>0.989439</td>\n",
       "      <td>0.499383</td>\n",
       "      <td>0.990126</td>\n",
       "      <td>0.495262</td>\n",
       "      <td>0.990059</td>\n",
       "      <td>40.731821</td>\n",
       "      <td>0.180887</td>\n",
       "      <td>0.009769</td>\n",
       "      <td>0.000368</td>\n",
       "    </tr>\n",
       "    <tr>\n",
       "      <th>2</th>\n",
       "      <td>300.727387</td>\n",
       "      <td>2.255641</td>\n",
       "      <td>0.177533</td>\n",
       "      <td>0.977348</td>\n",
       "      <td>(3, 3)</td>\n",
       "      <td>{'cv__ngram_range': (3, 3)}</td>\n",
       "      <td>5</td>\n",
       "      <td>0.184069</td>\n",
       "      <td>0.976469</td>\n",
       "      <td>0.185672</td>\n",
       "      <td>...</td>\n",
       "      <td>0.181966</td>\n",
       "      <td>0.977214</td>\n",
       "      <td>0.168838</td>\n",
       "      <td>0.978284</td>\n",
       "      <td>0.167120</td>\n",
       "      <td>0.977707</td>\n",
       "      <td>49.739946</td>\n",
       "      <td>0.120267</td>\n",
       "      <td>0.007907</td>\n",
       "      <td>0.000612</td>\n",
       "    </tr>\n",
       "    <tr>\n",
       "      <th>3</th>\n",
       "      <td>550.221610</td>\n",
       "      <td>2.844876</td>\n",
       "      <td>0.789408</td>\n",
       "      <td>0.989527</td>\n",
       "      <td>(1, 2)</td>\n",
       "      <td>{'cv__ngram_range': (1, 2)}</td>\n",
       "      <td>1</td>\n",
       "      <td>0.786071</td>\n",
       "      <td>0.989240</td>\n",
       "      <td>0.791576</td>\n",
       "      <td>...</td>\n",
       "      <td>0.784630</td>\n",
       "      <td>0.989695</td>\n",
       "      <td>0.789266</td>\n",
       "      <td>0.989767</td>\n",
       "      <td>0.795498</td>\n",
       "      <td>0.989428</td>\n",
       "      <td>72.772533</td>\n",
       "      <td>0.169412</td>\n",
       "      <td>0.003893</td>\n",
       "      <td>0.000189</td>\n",
       "    </tr>\n",
       "    <tr>\n",
       "      <th>4</th>\n",
       "      <td>1206.425275</td>\n",
       "      <td>4.077643</td>\n",
       "      <td>0.787527</td>\n",
       "      <td>0.994668</td>\n",
       "      <td>(1, 3)</td>\n",
       "      <td>{'cv__ngram_range': (1, 3)}</td>\n",
       "      <td>2</td>\n",
       "      <td>0.783944</td>\n",
       "      <td>0.994553</td>\n",
       "      <td>0.790453</td>\n",
       "      <td>...</td>\n",
       "      <td>0.782524</td>\n",
       "      <td>0.994782</td>\n",
       "      <td>0.790533</td>\n",
       "      <td>0.994743</td>\n",
       "      <td>0.790179</td>\n",
       "      <td>0.994858</td>\n",
       "      <td>167.691715</td>\n",
       "      <td>0.650347</td>\n",
       "      <td>0.003536</td>\n",
       "      <td>0.000167</td>\n",
       "    </tr>\n",
       "  </tbody>\n",
       "</table>\n",
       "<p>5 rows × 21 columns</p>\n",
       "</div>"
      ],
      "text/plain": [
       "   mean_fit_time  mean_score_time  mean_test_score  mean_train_score  \\\n",
       "0      53.555645         1.509771         0.765072          0.919044   \n",
       "1     263.791873         2.381530         0.505988          0.990102   \n",
       "2     300.727387         2.255641         0.177533          0.977348   \n",
       "3     550.221610         2.844876         0.789408          0.989527   \n",
       "4    1206.425275         4.077643         0.787527          0.994668   \n",
       "\n",
       "  param_cv__ngram_range                       params  rank_test_score  \\\n",
       "0                (1, 1)  {'cv__ngram_range': (1, 1)}                3   \n",
       "1                (2, 2)  {'cv__ngram_range': (2, 2)}                4   \n",
       "2                (3, 3)  {'cv__ngram_range': (3, 3)}                5   \n",
       "3                (1, 2)  {'cv__ngram_range': (1, 2)}                1   \n",
       "4                (1, 3)  {'cv__ngram_range': (1, 3)}                2   \n",
       "\n",
       "   split0_test_score  split0_train_score  split1_test_score       ...         \\\n",
       "0           0.765659            0.919479           0.762966       ...          \n",
       "1           0.502757            0.990407           0.523220       ...          \n",
       "2           0.184069            0.976469           0.185672       ...          \n",
       "3           0.786071            0.989240           0.791576       ...          \n",
       "4           0.783944            0.994553           0.790453       ...          \n",
       "\n",
       "   split2_test_score  split2_train_score  split3_test_score  \\\n",
       "0           0.762346            0.919297           0.770167   \n",
       "1           0.509317            0.989439           0.499383   \n",
       "2           0.181966            0.977214           0.168838   \n",
       "3           0.784630            0.989695           0.789266   \n",
       "4           0.782524            0.994782           0.790533   \n",
       "\n",
       "   split3_train_score  split4_test_score  split4_train_score  std_fit_time  \\\n",
       "0            0.919334           0.764221            0.918205      2.973291   \n",
       "1            0.990126           0.495262            0.990059     40.731821   \n",
       "2            0.978284           0.167120            0.977707     49.739946   \n",
       "3            0.989767           0.795498            0.989428     72.772533   \n",
       "4            0.994743           0.790179            0.994858    167.691715   \n",
       "\n",
       "   std_score_time  std_test_score  std_train_score  \n",
       "0        0.016745        0.002789         0.000461  \n",
       "1        0.180887        0.009769         0.000368  \n",
       "2        0.120267        0.007907         0.000612  \n",
       "3        0.169412        0.003893         0.000189  \n",
       "4        0.650347        0.003536         0.000167  \n",
       "\n",
       "[5 rows x 21 columns]"
      ]
     },
     "execution_count": 14,
     "metadata": {},
     "output_type": "execute_result"
    }
   ],
   "source": [
    "a = pd.DataFrame.from_dict(grid.cv_results_)\n",
    "a"
   ]
  },
  {
   "cell_type": "code",
   "execution_count": 15,
   "metadata": {},
   "outputs": [
    {
     "data": {
      "text/plain": [
       "Pipeline(memory=None,\n",
       "     steps=[('cv', CountVectorizer(analyzer='word', binary=False, decode_error='strict',\n",
       "        dtype=<class 'numpy.int64'>, encoding='utf-8', input='content',\n",
       "        lowercase=True, max_df=1.0, max_features=None, min_df=1,\n",
       "        ngram_range=(1, 2), preprocessor=None, stop_words='english',\n",
       "        st...ty='l2', random_state=None,\n",
       "          solver='newton-cg', tol=0.0001, verbose=0, warm_start=False))])"
      ]
     },
     "execution_count": 15,
     "metadata": {},
     "output_type": "execute_result"
    }
   ],
   "source": [
    "grid.best_estimator_"
   ]
  },
  {
   "cell_type": "code",
   "execution_count": 4,
   "metadata": {
    "collapsed": true
   },
   "outputs": [],
   "source": [
    "from sklearn.metrics import roc_auc_score\n",
    "\n",
    "\n",
    "vectorizer = CountVectorizer(strip_accents='unicode',lowercase=True,stop_words='english', ngram_range=(1, 2))\n",
    "\n",
    "train_feature_vectors_sparse = vectorizer.fit_transform(corpus_train)\n",
    "\n",
    "vectorizer_test = CountVectorizer(strip_accents='unicode',lowercase=True,stop_words='english', ngram_range=(1, 2),vocabulary=vectorizer.get_feature_names())\n",
    "test_feature_vectors_sparse = vectorizer_test.fit_transform(corpus_test)\n",
    "\n",
    "\n"
   ]
  },
  {
   "cell_type": "code",
   "execution_count": 5,
   "metadata": {},
   "outputs": [
    {
     "data": {
      "text/plain": [
       "(159571, 2844402)"
      ]
     },
     "execution_count": 5,
     "metadata": {},
     "output_type": "execute_result"
    }
   ],
   "source": [
    "train_feature_vectors_sparse.shape"
   ]
  },
  {
   "cell_type": "code",
   "execution_count": 6,
   "metadata": {},
   "outputs": [
    {
     "data": {
      "text/plain": [
       "(63978, 2844402)"
      ]
     },
     "execution_count": 6,
     "metadata": {},
     "output_type": "execute_result"
    }
   ],
   "source": [
    "test_feature_vectors_sparse.shape"
   ]
  },
  {
   "cell_type": "code",
   "execution_count": 7,
   "metadata": {},
   "outputs": [
    {
     "name": "stderr",
     "output_type": "stream",
     "text": [
      "[Parallel(n_jobs=1)]: Using backend SequentialBackend with 1 concurrent workers.\n"
     ]
    },
    {
     "name": "stdout",
     "output_type": "stream",
     "text": [
      "Precision =  0.871375941054\n",
      "Recall =  0.504217258319\n",
      "F_score =  0.791668080273\n",
      "CCR =  0.903841945669\n",
      "ROC_AUC =  0.88936425008\n",
      "\n",
      "Confusion Matrix: \n",
      " [[52386  5349]\n",
      " [  803  5440]]\n",
      "\n"
     ]
    },
    {
     "name": "stderr",
     "output_type": "stream",
     "text": [
      "[Parallel(n_jobs=1)]: Done   1 out of   1 | elapsed: 13.1min remaining:    0.0s\n",
      "[Parallel(n_jobs=1)]: Done   1 out of   1 | elapsed: 13.1min finished\n"
     ]
    }
   ],
   "source": [
    "clf = LogisticRegression(C=1.0, class_weight='balanced', dual=False,\n",
    "      fit_intercept=True, intercept_scaling=1, max_iter=100,\n",
    "      multi_class='ovr', n_jobs=None, penalty='l2', random_state=None,\n",
    "      solver='newton-cg', tol=0.0001, verbose=10, warm_start=False)\n",
    "\n",
    "clf.fit(train_feature_vectors_sparse, train_labels)\n",
    "\n",
    "predictions = clf.predict(test_feature_vectors_sparse)\n",
    "confmat = confusion_matrix(test_labels, predictions)\n",
    "\n",
    "precision = confmat[1,1]/(confmat[1,1] + confmat[1,0])\n",
    "recall = confmat[1,1]/(confmat[1,1] + confmat[0,1])\n",
    "fScore = f1_score(test_labels, predictions, average='macro')\n",
    "ccr = (confmat[0,0] + confmat[1,1])/(sum(sum(confmat)))\n",
    "roc_auc = roc_auc_score(test_labels, predictions)\n",
    "print(\"Precision = \",precision)\n",
    "print(\"Recall = \",recall)\n",
    "print(\"F_score = \",fScore)\n",
    "print(\"CCR = \",ccr)\n",
    "print(\"ROC_AUC = \", roc_auc)\n",
    "print()\n",
    "print(\"Confusion Matrix: \\n\", confmat)\n",
    "print()"
   ]
  },
  {
   "cell_type": "code",
   "execution_count": 22,
   "metadata": {},
   "outputs": [],
   "source": [
    "import seaborn as sns\n",
    "fig, ax = plt.subplots(figsize=(10,10))         # Sample figsize in inches\n",
    "\n",
    "sns.set(font_scale=5.0)\n",
    "cm = pd.DataFrame(confmat);\n",
    "sns.heatmap(cm, annot=True, linewidths=.5, ax=ax,fmt='g')\n",
    "plt.ylabel('True label')\n",
    "plt.xlabel('Predicted label')\n",
    "# plt.show()\n",
    "plt.savefig('../foo.png')"
   ]
  },
  {
   "cell_type": "code",
   "execution_count": null,
   "metadata": {
    "collapsed": true
   },
   "outputs": [],
   "source": []
  }
 ],
 "metadata": {
  "kernelspec": {
   "display_name": "Python 3",
   "language": "python",
   "name": "python3"
  },
  "language_info": {
   "codemirror_mode": {
    "name": "ipython",
    "version": 3
   },
   "file_extension": ".py",
   "mimetype": "text/x-python",
   "name": "python",
   "nbconvert_exporter": "python",
   "pygments_lexer": "ipython3",
   "version": "3.6.3"
  }
 },
 "nbformat": 4,
 "nbformat_minor": 2
}
