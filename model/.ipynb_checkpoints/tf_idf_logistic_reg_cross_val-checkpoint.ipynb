{
 "cells": [
  {
   "cell_type": "code",
   "execution_count": 28,
   "metadata": {
    "collapsed": true
   },
   "outputs": [],
   "source": [
    "import pandas as pd, numpy as np\n",
    "import sklearn\n",
    "import scipy.sparse\n",
    "import warnings\n",
    "warnings.filterwarnings('ignore')\n",
    "from sklearn.feature_extraction.text import CountVectorizer\n",
    "from scipy import sparse\n",
    "from sklearn.metrics import confusion_matrix\n",
    "from sklearn.linear_model import LogisticRegression\n",
    "from bs4 import BeautifulSoup\n",
    "import re\n",
    "from sklearn.metrics import f1_score\n",
    "from sklearn.feature_extraction.text import TfidfTransformer"
   ]
  },
  {
   "cell_type": "code",
   "execution_count": 29,
   "metadata": {
    "collapsed": true
   },
   "outputs": [],
   "source": [
    "train_data = pd.read_csv('../data/raw_data/train.csv')\n",
    "test_data = pd.read_csv('../data/raw_data/test.csv')\n",
    "\n",
    "train_labels=(train_data[\"Labels\"])\n",
    "test_labels = test_data[\"Labels\"]\n",
    "\n",
    "corpus_train = train_data[\"Comment\"]\n",
    "corpus_test = test_data[\"Comment\"]"
   ]
  },
  {
   "cell_type": "code",
   "execution_count": 30,
   "metadata": {
    "collapsed": true
   },
   "outputs": [],
   "source": [
    "vectorizer = CountVectorizer(strip_accents='unicode',lowercase=True,stop_words='english', analyzer=\"word\",token_pattern=r'\\w{1,}')\n",
    "train_feature_vectors_sparse = vectorizer.fit_transform(corpus_train)\n",
    "vectorizer_test = CountVectorizer(strip_accents='unicode',lowercase=True,stop_words='english', analyzer=\"word\",token_pattern=r'\\w{1,}', vocabulary= vectorizer.get_feature_names())\n",
    "test_feature_vectors_sparse = vectorizer_test.fit_transform(corpus_test)"
   ]
  },
  {
   "cell_type": "code",
   "execution_count": 7,
   "metadata": {
    "collapsed": true
   },
   "outputs": [],
   "source": [
    "from sklearn.pipeline import Pipeline\n",
    "pipeline = Pipeline([\n",
    "    ('tfidf', TfidfTransformer(smooth_idf=True)),\n",
    "    ('clf', LogisticRegression(C=1.0, class_weight='balanced', dual=False,\n",
    "          fit_intercept=True, intercept_scaling=1, max_iter=100,\n",
    "          multi_class='ovr', n_jobs=None, penalty='l2', random_state=None,\n",
    "          solver='newton-cg', tol=0.0001, verbose=0, warm_start=False))\n",
    "])\n"
   ]
  },
  {
   "cell_type": "code",
   "execution_count": 8,
   "metadata": {
    "collapsed": true
   },
   "outputs": [],
   "source": [
    "from sklearn.metrics import make_scorer, roc_auc_score\n",
    "\n",
    "from sklearn.model_selection import GridSearchCV\n",
    "from sklearn.feature_extraction.text import TfidfTransformer\n",
    "# tfidf_transformer = TfidfTransformer()\n",
    "parameters = {'tfidf__norm':('l1','l2', None), 'tfidf__use_idf':(True, False), 'tfidf__sublinear_tf':(True, False)}\n",
    "grid = GridSearchCV(pipeline, parameters, scoring = make_scorer(roc_auc_score, average='macro'), cv=5, error_score=0.0, verbose=10)\n"
   ]
  },
  {
   "cell_type": "code",
   "execution_count": 9,
   "metadata": {
    "scrolled": true
   },
   "outputs": [
    {
     "name": "stdout",
     "output_type": "stream",
     "text": [
      "Fitting 5 folds for each of 12 candidates, totalling 60 fits\n",
      "[CV] tfidf__norm=l1, tfidf__sublinear_tf=True, tfidf__use_idf=True ...\n"
     ]
    },
    {
     "name": "stderr",
     "output_type": "stream",
     "text": [
      "[Parallel(n_jobs=1)]: Using backend SequentialBackend with 1 concurrent workers.\n"
     ]
    },
    {
     "name": "stdout",
     "output_type": "stream",
     "text": [
      "[CV]  tfidf__norm=l1, tfidf__sublinear_tf=True, tfidf__use_idf=True, score=0.876424033540372, total=   5.0s\n",
      "[CV] tfidf__norm=l1, tfidf__sublinear_tf=True, tfidf__use_idf=True ...\n"
     ]
    },
    {
     "name": "stderr",
     "output_type": "stream",
     "text": [
      "[Parallel(n_jobs=1)]: Done   1 out of   1 | elapsed:    5.3s remaining:    0.0s\n"
     ]
    },
    {
     "name": "stdout",
     "output_type": "stream",
     "text": [
      "[CV]  tfidf__norm=l1, tfidf__sublinear_tf=True, tfidf__use_idf=True, score=0.8772954267186801, total=   6.1s\n",
      "[CV] tfidf__norm=l1, tfidf__sublinear_tf=True, tfidf__use_idf=True ...\n"
     ]
    },
    {
     "name": "stderr",
     "output_type": "stream",
     "text": [
      "[Parallel(n_jobs=1)]: Done   2 out of   2 | elapsed:   11.8s remaining:    0.0s\n"
     ]
    },
    {
     "name": "stdout",
     "output_type": "stream",
     "text": [
      "[CV]  tfidf__norm=l1, tfidf__sublinear_tf=True, tfidf__use_idf=True, score=0.8719025145461069, total=   6.7s\n",
      "[CV] tfidf__norm=l1, tfidf__sublinear_tf=True, tfidf__use_idf=True ...\n"
     ]
    },
    {
     "name": "stderr",
     "output_type": "stream",
     "text": [
      "[Parallel(n_jobs=1)]: Done   3 out of   3 | elapsed:   19.1s remaining:    0.0s\n"
     ]
    },
    {
     "name": "stdout",
     "output_type": "stream",
     "text": [
      "[CV]  tfidf__norm=l1, tfidf__sublinear_tf=True, tfidf__use_idf=True, score=0.8689720528893059, total=   6.3s\n",
      "[CV] tfidf__norm=l1, tfidf__sublinear_tf=True, tfidf__use_idf=True ...\n"
     ]
    },
    {
     "name": "stderr",
     "output_type": "stream",
     "text": [
      "[Parallel(n_jobs=1)]: Done   4 out of   4 | elapsed:   26.0s remaining:    0.0s\n"
     ]
    },
    {
     "name": "stdout",
     "output_type": "stream",
     "text": [
      "[CV]  tfidf__norm=l1, tfidf__sublinear_tf=True, tfidf__use_idf=True, score=0.8730972626784614, total=   5.9s\n",
      "[CV] tfidf__norm=l1, tfidf__sublinear_tf=True, tfidf__use_idf=False ..\n"
     ]
    },
    {
     "name": "stderr",
     "output_type": "stream",
     "text": [
      "[Parallel(n_jobs=1)]: Done   5 out of   5 | elapsed:   32.4s remaining:    0.0s\n"
     ]
    },
    {
     "name": "stdout",
     "output_type": "stream",
     "text": [
      "[CV]  tfidf__norm=l1, tfidf__sublinear_tf=True, tfidf__use_idf=False, score=0.8699569190453184, total=   9.4s\n",
      "[CV] tfidf__norm=l1, tfidf__sublinear_tf=True, tfidf__use_idf=False ..\n"
     ]
    },
    {
     "name": "stderr",
     "output_type": "stream",
     "text": [
      "[Parallel(n_jobs=1)]: Done   6 out of   6 | elapsed:   42.0s remaining:    0.0s\n"
     ]
    },
    {
     "name": "stdout",
     "output_type": "stream",
     "text": [
      "[CV]  tfidf__norm=l1, tfidf__sublinear_tf=True, tfidf__use_idf=False, score=0.8656153135347872, total=   6.8s\n",
      "[CV] tfidf__norm=l1, tfidf__sublinear_tf=True, tfidf__use_idf=False ..\n"
     ]
    },
    {
     "name": "stderr",
     "output_type": "stream",
     "text": [
      "[Parallel(n_jobs=1)]: Done   7 out of   7 | elapsed:   48.9s remaining:    0.0s\n"
     ]
    },
    {
     "name": "stdout",
     "output_type": "stream",
     "text": [
      "[CV]  tfidf__norm=l1, tfidf__sublinear_tf=True, tfidf__use_idf=False, score=0.8674439907899424, total=   5.6s\n",
      "[CV] tfidf__norm=l1, tfidf__sublinear_tf=True, tfidf__use_idf=False ..\n"
     ]
    },
    {
     "name": "stderr",
     "output_type": "stream",
     "text": [
      "[Parallel(n_jobs=1)]: Done   8 out of   8 | elapsed:   54.7s remaining:    0.0s\n"
     ]
    },
    {
     "name": "stdout",
     "output_type": "stream",
     "text": [
      "[CV]  tfidf__norm=l1, tfidf__sublinear_tf=True, tfidf__use_idf=False, score=0.8613360205407009, total=   5.5s\n",
      "[CV] tfidf__norm=l1, tfidf__sublinear_tf=True, tfidf__use_idf=False ..\n"
     ]
    },
    {
     "name": "stderr",
     "output_type": "stream",
     "text": [
      "[Parallel(n_jobs=1)]: Done   9 out of   9 | elapsed:  1.0min remaining:    0.0s\n"
     ]
    },
    {
     "name": "stdout",
     "output_type": "stream",
     "text": [
      "[CV]  tfidf__norm=l1, tfidf__sublinear_tf=True, tfidf__use_idf=False, score=0.8656967542130221, total=   5.7s\n",
      "[CV] tfidf__norm=l1, tfidf__sublinear_tf=False, tfidf__use_idf=True ..\n",
      "[CV]  tfidf__norm=l1, tfidf__sublinear_tf=False, tfidf__use_idf=True, score=0.875973473181622, total=   5.4s\n",
      "[CV] tfidf__norm=l1, tfidf__sublinear_tf=False, tfidf__use_idf=True ..\n",
      "[CV]  tfidf__norm=l1, tfidf__sublinear_tf=False, tfidf__use_idf=True, score=0.8737137513603678, total=   5.8s\n",
      "[CV] tfidf__norm=l1, tfidf__sublinear_tf=False, tfidf__use_idf=True ..\n",
      "[CV]  tfidf__norm=l1, tfidf__sublinear_tf=False, tfidf__use_idf=True, score=0.8705914448537289, total=   5.6s\n",
      "[CV] tfidf__norm=l1, tfidf__sublinear_tf=False, tfidf__use_idf=True ..\n",
      "[CV]  tfidf__norm=l1, tfidf__sublinear_tf=False, tfidf__use_idf=True, score=0.8679574706921318, total=   6.2s\n",
      "[CV] tfidf__norm=l1, tfidf__sublinear_tf=False, tfidf__use_idf=True ..\n",
      "[CV]  tfidf__norm=l1, tfidf__sublinear_tf=False, tfidf__use_idf=True, score=0.8717076330709671, total=   6.0s\n",
      "[CV] tfidf__norm=l1, tfidf__sublinear_tf=False, tfidf__use_idf=False .\n",
      "[CV]  tfidf__norm=l1, tfidf__sublinear_tf=False, tfidf__use_idf=False, score=0.8690789887369317, total=   8.8s\n",
      "[CV] tfidf__norm=l1, tfidf__sublinear_tf=False, tfidf__use_idf=False .\n",
      "[CV]  tfidf__norm=l1, tfidf__sublinear_tf=False, tfidf__use_idf=False, score=0.8641036008410323, total=   7.1s\n",
      "[CV] tfidf__norm=l1, tfidf__sublinear_tf=False, tfidf__use_idf=False .\n",
      "[CV]  tfidf__norm=l1, tfidf__sublinear_tf=False, tfidf__use_idf=False, score=0.8661706827424714, total=   5.6s\n",
      "[CV] tfidf__norm=l1, tfidf__sublinear_tf=False, tfidf__use_idf=False .\n",
      "[CV]  tfidf__norm=l1, tfidf__sublinear_tf=False, tfidf__use_idf=False, score=0.860010391170547, total=   5.2s\n",
      "[CV] tfidf__norm=l1, tfidf__sublinear_tf=False, tfidf__use_idf=False .\n",
      "[CV]  tfidf__norm=l1, tfidf__sublinear_tf=False, tfidf__use_idf=False, score=0.8660689208602237, total=   6.0s\n",
      "[CV] tfidf__norm=l2, tfidf__sublinear_tf=True, tfidf__use_idf=True ...\n",
      "[CV]  tfidf__norm=l2, tfidf__sublinear_tf=True, tfidf__use_idf=True, score=0.9010685323615037, total=   7.0s\n",
      "[CV] tfidf__norm=l2, tfidf__sublinear_tf=True, tfidf__use_idf=True ...\n",
      "[CV]  tfidf__norm=l2, tfidf__sublinear_tf=True, tfidf__use_idf=True, score=0.9005415135970137, total=   8.1s\n",
      "[CV] tfidf__norm=l2, tfidf__sublinear_tf=True, tfidf__use_idf=True ...\n",
      "[CV]  tfidf__norm=l2, tfidf__sublinear_tf=True, tfidf__use_idf=True, score=0.9011896906732231, total=   7.5s\n",
      "[CV] tfidf__norm=l2, tfidf__sublinear_tf=True, tfidf__use_idf=True ...\n",
      "[CV]  tfidf__norm=l2, tfidf__sublinear_tf=True, tfidf__use_idf=True, score=0.8984424315769045, total=   7.8s\n",
      "[CV] tfidf__norm=l2, tfidf__sublinear_tf=True, tfidf__use_idf=True ...\n",
      "[CV]  tfidf__norm=l2, tfidf__sublinear_tf=True, tfidf__use_idf=True, score=0.9001952738178781, total=   6.9s\n",
      "[CV] tfidf__norm=l2, tfidf__sublinear_tf=True, tfidf__use_idf=False ..\n",
      "[CV]  tfidf__norm=l2, tfidf__sublinear_tf=True, tfidf__use_idf=False, score=0.9025198542685671, total=  10.6s\n",
      "[CV] tfidf__norm=l2, tfidf__sublinear_tf=True, tfidf__use_idf=False ..\n",
      "[CV]  tfidf__norm=l2, tfidf__sublinear_tf=True, tfidf__use_idf=False, score=0.901725362125629, total=  10.1s\n",
      "[CV] tfidf__norm=l2, tfidf__sublinear_tf=True, tfidf__use_idf=False ..\n",
      "[CV]  tfidf__norm=l2, tfidf__sublinear_tf=True, tfidf__use_idf=False, score=0.9029781931069035, total=   9.0s\n",
      "[CV] tfidf__norm=l2, tfidf__sublinear_tf=True, tfidf__use_idf=False ..\n",
      "[CV]  tfidf__norm=l2, tfidf__sublinear_tf=True, tfidf__use_idf=False, score=0.900120529838982, total=  11.4s\n",
      "[CV] tfidf__norm=l2, tfidf__sublinear_tf=True, tfidf__use_idf=False ..\n",
      "[CV]  tfidf__norm=l2, tfidf__sublinear_tf=True, tfidf__use_idf=False, score=0.9017164081119063, total=   9.8s\n",
      "[CV] tfidf__norm=l2, tfidf__sublinear_tf=False, tfidf__use_idf=True ..\n",
      "[CV]  tfidf__norm=l2, tfidf__sublinear_tf=False, tfidf__use_idf=True, score=0.8993590525629568, total=   6.5s\n",
      "[CV] tfidf__norm=l2, tfidf__sublinear_tf=False, tfidf__use_idf=True ..\n",
      "[CV]  tfidf__norm=l2, tfidf__sublinear_tf=False, tfidf__use_idf=True, score=0.8985704320515855, total=   7.5s\n",
      "[CV] tfidf__norm=l2, tfidf__sublinear_tf=False, tfidf__use_idf=True ..\n",
      "[CV]  tfidf__norm=l2, tfidf__sublinear_tf=False, tfidf__use_idf=True, score=0.899064525922864, total=   6.9s\n",
      "[CV] tfidf__norm=l2, tfidf__sublinear_tf=False, tfidf__use_idf=True ..\n",
      "[CV]  tfidf__norm=l2, tfidf__sublinear_tf=False, tfidf__use_idf=True, score=0.8972766469379181, total=   7.0s\n",
      "[CV] tfidf__norm=l2, tfidf__sublinear_tf=False, tfidf__use_idf=True ..\n",
      "[CV]  tfidf__norm=l2, tfidf__sublinear_tf=False, tfidf__use_idf=True, score=0.8982213115093312, total=   6.8s\n",
      "[CV] tfidf__norm=l2, tfidf__sublinear_tf=False, tfidf__use_idf=False .\n",
      "[CV]  tfidf__norm=l2, tfidf__sublinear_tf=False, tfidf__use_idf=False, score=0.8999266935850976, total=  11.0s\n",
      "[CV] tfidf__norm=l2, tfidf__sublinear_tf=False, tfidf__use_idf=False .\n",
      "[CV]  tfidf__norm=l2, tfidf__sublinear_tf=False, tfidf__use_idf=False, score=0.8979372822397029, total=  10.0s\n",
      "[CV] tfidf__norm=l2, tfidf__sublinear_tf=False, tfidf__use_idf=False .\n",
      "[CV]  tfidf__norm=l2, tfidf__sublinear_tf=False, tfidf__use_idf=False, score=0.9014258380051231, total=  10.2s\n",
      "[CV] tfidf__norm=l2, tfidf__sublinear_tf=False, tfidf__use_idf=False .\n",
      "[CV]  tfidf__norm=l2, tfidf__sublinear_tf=False, tfidf__use_idf=False, score=0.899533316374811, total=   9.6s\n",
      "[CV] tfidf__norm=l2, tfidf__sublinear_tf=False, tfidf__use_idf=False .\n",
      "[CV]  tfidf__norm=l2, tfidf__sublinear_tf=False, tfidf__use_idf=False, score=0.8985621014865975, total=  10.5s\n",
      "[CV] tfidf__norm=None, tfidf__sublinear_tf=True, tfidf__use_idf=True .\n",
      "[CV]  tfidf__norm=None, tfidf__sublinear_tf=True, tfidf__use_idf=True, score=0.8699546618096688, total=  44.0s\n",
      "[CV] tfidf__norm=None, tfidf__sublinear_tf=True, tfidf__use_idf=True .\n",
      "[CV]  tfidf__norm=None, tfidf__sublinear_tf=True, tfidf__use_idf=True, score=0.8721431765067748, total=  40.3s\n",
      "[CV] tfidf__norm=None, tfidf__sublinear_tf=True, tfidf__use_idf=True .\n",
      "[CV]  tfidf__norm=None, tfidf__sublinear_tf=True, tfidf__use_idf=True, score=0.865081431810214, total=  48.0s\n",
      "[CV] tfidf__norm=None, tfidf__sublinear_tf=True, tfidf__use_idf=True .\n",
      "[CV]  tfidf__norm=None, tfidf__sublinear_tf=True, tfidf__use_idf=True, score=0.8688317500512329, total=  48.4s\n",
      "[CV] tfidf__norm=None, tfidf__sublinear_tf=True, tfidf__use_idf=True .\n",
      "[CV]  tfidf__norm=None, tfidf__sublinear_tf=True, tfidf__use_idf=True, score=0.8699597730453124, total=  35.5s\n",
      "[CV] tfidf__norm=None, tfidf__sublinear_tf=True, tfidf__use_idf=False \n",
      "[CV]  tfidf__norm=None, tfidf__sublinear_tf=True, tfidf__use_idf=False, score=0.896392964303968, total=  20.2s\n",
      "[CV] tfidf__norm=None, tfidf__sublinear_tf=True, tfidf__use_idf=False \n",
      "[CV]  tfidf__norm=None, tfidf__sublinear_tf=True, tfidf__use_idf=False, score=0.8958748708292152, total=  17.5s\n",
      "[CV] tfidf__norm=None, tfidf__sublinear_tf=True, tfidf__use_idf=False \n",
      "[CV]  tfidf__norm=None, tfidf__sublinear_tf=True, tfidf__use_idf=False, score=0.8923482416945206, total=  16.4s\n",
      "[CV] tfidf__norm=None, tfidf__sublinear_tf=True, tfidf__use_idf=False \n",
      "[CV]  tfidf__norm=None, tfidf__sublinear_tf=True, tfidf__use_idf=False, score=0.893170979041857, total=  14.2s\n",
      "[CV] tfidf__norm=None, tfidf__sublinear_tf=True, tfidf__use_idf=False \n",
      "[CV]  tfidf__norm=None, tfidf__sublinear_tf=True, tfidf__use_idf=False, score=0.8914237424649369, total=  13.6s\n",
      "[CV] tfidf__norm=None, tfidf__sublinear_tf=False, tfidf__use_idf=True \n",
      "[CV]  tfidf__norm=None, tfidf__sublinear_tf=False, tfidf__use_idf=True, score=0.8675679038288628, total= 3.1min\n",
      "[CV] tfidf__norm=None, tfidf__sublinear_tf=False, tfidf__use_idf=True \n",
      "[CV]  tfidf__norm=None, tfidf__sublinear_tf=False, tfidf__use_idf=True, score=0.8688115847094039, total= 3.7min\n",
      "[CV] tfidf__norm=None, tfidf__sublinear_tf=False, tfidf__use_idf=True \n",
      "[CV]  tfidf__norm=None, tfidf__sublinear_tf=False, tfidf__use_idf=True, score=0.8629213861780662, total= 2.2min\n",
      "[CV] tfidf__norm=None, tfidf__sublinear_tf=False, tfidf__use_idf=True \n",
      "[CV]  tfidf__norm=None, tfidf__sublinear_tf=False, tfidf__use_idf=True, score=0.8667387412817279, total= 3.6min\n",
      "[CV] tfidf__norm=None, tfidf__sublinear_tf=False, tfidf__use_idf=True \n",
      "[CV]  tfidf__norm=None, tfidf__sublinear_tf=False, tfidf__use_idf=True, score=0.8689946314077027, total= 2.5min\n",
      "[CV] tfidf__norm=None, tfidf__sublinear_tf=False, tfidf__use_idf=False \n"
     ]
    },
    {
     "name": "stdout",
     "output_type": "stream",
     "text": [
      "[CV]  tfidf__norm=None, tfidf__sublinear_tf=False, tfidf__use_idf=False, score=0.8932212257541989, total= 1.2min\n",
      "[CV] tfidf__norm=None, tfidf__sublinear_tf=False, tfidf__use_idf=False \n",
      "[CV]  tfidf__norm=None, tfidf__sublinear_tf=False, tfidf__use_idf=False, score=0.8934415396689949, total= 1.1min\n",
      "[CV] tfidf__norm=None, tfidf__sublinear_tf=False, tfidf__use_idf=False \n",
      "[CV]  tfidf__norm=None, tfidf__sublinear_tf=False, tfidf__use_idf=False, score=0.8895049822421913, total= 1.8min\n",
      "[CV] tfidf__norm=None, tfidf__sublinear_tf=False, tfidf__use_idf=False \n",
      "[CV]  tfidf__norm=None, tfidf__sublinear_tf=False, tfidf__use_idf=False, score=0.892781371953761, total= 1.1min\n",
      "[CV] tfidf__norm=None, tfidf__sublinear_tf=False, tfidf__use_idf=False \n",
      "[CV]  tfidf__norm=None, tfidf__sublinear_tf=False, tfidf__use_idf=False, score=0.8886996853357494, total= 1.0min\n"
     ]
    },
    {
     "name": "stderr",
     "output_type": "stream",
     "text": [
      "[Parallel(n_jobs=1)]: Done  60 out of  60 | elapsed: 31.4min finished\n"
     ]
    },
    {
     "data": {
      "text/plain": [
       "GridSearchCV(cv=5, error_score=0.0,\n",
       "       estimator=Pipeline(memory=None,\n",
       "     steps=[('tfidf', TfidfTransformer(norm='l2', smooth_idf=True, sublinear_tf=False, use_idf=True)), ('clf', LogisticRegression(C=1.0, class_weight='balanced', dual=False,\n",
       "          fit_intercept=True, intercept_scaling=1, max_iter=100,\n",
       "          multi_class='ovr', n_jobs=None, penalty='l2', random_state=None,\n",
       "          solver='newton-cg', tol=0.0001, verbose=0, warm_start=False))]),\n",
       "       fit_params=None, iid='warn', n_jobs=None,\n",
       "       param_grid={'tfidf__norm': ('l1', 'l2', None), 'tfidf__use_idf': (True, False), 'tfidf__sublinear_tf': (True, False)},\n",
       "       pre_dispatch='2*n_jobs', refit=True, return_train_score='warn',\n",
       "       scoring=make_scorer(roc_auc_score, average=macro), verbose=10)"
      ]
     },
     "execution_count": 9,
     "metadata": {},
     "output_type": "execute_result"
    }
   ],
   "source": [
    "grid.fit(train_feature_vectors_sparse, train_labels)"
   ]
  },
  {
   "cell_type": "code",
   "execution_count": 16,
   "metadata": {
    "scrolled": true
   },
   "outputs": [
    {
     "data": {
      "text/plain": [
       "0.9018120739259452"
      ]
     },
     "execution_count": 16,
     "metadata": {},
     "output_type": "execute_result"
    }
   ],
   "source": [
    "grid.best_score_"
   ]
  },
  {
   "cell_type": "code",
   "execution_count": 17,
   "metadata": {
    "scrolled": true
   },
   "outputs": [
    {
     "data": {
      "text/html": [
       "<div>\n",
       "<style>\n",
       "    .dataframe thead tr:only-child th {\n",
       "        text-align: right;\n",
       "    }\n",
       "\n",
       "    .dataframe thead th {\n",
       "        text-align: left;\n",
       "    }\n",
       "\n",
       "    .dataframe tbody tr th {\n",
       "        vertical-align: top;\n",
       "    }\n",
       "</style>\n",
       "<table border=\"1\" class=\"dataframe\">\n",
       "  <thead>\n",
       "    <tr style=\"text-align: right;\">\n",
       "      <th></th>\n",
       "      <th>mean_fit_time</th>\n",
       "      <th>mean_score_time</th>\n",
       "      <th>mean_test_score</th>\n",
       "      <th>mean_train_score</th>\n",
       "      <th>param_tfidf__norm</th>\n",
       "      <th>param_tfidf__sublinear_tf</th>\n",
       "      <th>param_tfidf__use_idf</th>\n",
       "      <th>params</th>\n",
       "      <th>rank_test_score</th>\n",
       "      <th>split0_test_score</th>\n",
       "      <th>...</th>\n",
       "      <th>split2_test_score</th>\n",
       "      <th>split2_train_score</th>\n",
       "      <th>split3_test_score</th>\n",
       "      <th>split3_train_score</th>\n",
       "      <th>split4_test_score</th>\n",
       "      <th>split4_train_score</th>\n",
       "      <th>std_fit_time</th>\n",
       "      <th>std_score_time</th>\n",
       "      <th>std_test_score</th>\n",
       "      <th>std_train_score</th>\n",
       "    </tr>\n",
       "  </thead>\n",
       "  <tbody>\n",
       "    <tr>\n",
       "      <th>0</th>\n",
       "      <td>5.779844</td>\n",
       "      <td>0.197611</td>\n",
       "      <td>0.873538</td>\n",
       "      <td>0.899872</td>\n",
       "      <td>l1</td>\n",
       "      <td>True</td>\n",
       "      <td>True</td>\n",
       "      <td>{'tfidf__norm': 'l1', 'tfidf__sublinear_tf': T...</td>\n",
       "      <td>7</td>\n",
       "      <td>0.876424</td>\n",
       "      <td>...</td>\n",
       "      <td>0.871903</td>\n",
       "      <td>0.899266</td>\n",
       "      <td>0.868972</td>\n",
       "      <td>0.901213</td>\n",
       "      <td>0.873097</td>\n",
       "      <td>0.899722</td>\n",
       "      <td>0.566887</td>\n",
       "      <td>0.031128</td>\n",
       "      <td>0.003039</td>\n",
       "      <td>0.000703</td>\n",
       "    </tr>\n",
       "    <tr>\n",
       "      <th>1</th>\n",
       "      <td>6.545013</td>\n",
       "      <td>0.083951</td>\n",
       "      <td>0.866010</td>\n",
       "      <td>0.884674</td>\n",
       "      <td>l1</td>\n",
       "      <td>True</td>\n",
       "      <td>False</td>\n",
       "      <td>{'tfidf__norm': 'l1', 'tfidf__sublinear_tf': T...</td>\n",
       "      <td>11</td>\n",
       "      <td>0.869957</td>\n",
       "      <td>...</td>\n",
       "      <td>0.867444</td>\n",
       "      <td>0.884137</td>\n",
       "      <td>0.861336</td>\n",
       "      <td>0.885625</td>\n",
       "      <td>0.865697</td>\n",
       "      <td>0.884555</td>\n",
       "      <td>1.465721</td>\n",
       "      <td>0.011201</td>\n",
       "      <td>0.002819</td>\n",
       "      <td>0.000805</td>\n",
       "    </tr>\n",
       "    <tr>\n",
       "      <th>2</th>\n",
       "      <td>5.640599</td>\n",
       "      <td>0.166581</td>\n",
       "      <td>0.871989</td>\n",
       "      <td>0.899668</td>\n",
       "      <td>l1</td>\n",
       "      <td>False</td>\n",
       "      <td>True</td>\n",
       "      <td>{'tfidf__norm': 'l1', 'tfidf__sublinear_tf': F...</td>\n",
       "      <td>8</td>\n",
       "      <td>0.875973</td>\n",
       "      <td>...</td>\n",
       "      <td>0.870591</td>\n",
       "      <td>0.899502</td>\n",
       "      <td>0.867957</td>\n",
       "      <td>0.901377</td>\n",
       "      <td>0.871708</td>\n",
       "      <td>0.898613</td>\n",
       "      <td>0.268764</td>\n",
       "      <td>0.022087</td>\n",
       "      <td>0.002725</td>\n",
       "      <td>0.000933</td>\n",
       "    </tr>\n",
       "    <tr>\n",
       "      <th>3</th>\n",
       "      <td>6.445744</td>\n",
       "      <td>0.080625</td>\n",
       "      <td>0.865087</td>\n",
       "      <td>0.884227</td>\n",
       "      <td>l1</td>\n",
       "      <td>False</td>\n",
       "      <td>False</td>\n",
       "      <td>{'tfidf__norm': 'l1', 'tfidf__sublinear_tf': F...</td>\n",
       "      <td>12</td>\n",
       "      <td>0.869079</td>\n",
       "      <td>...</td>\n",
       "      <td>0.866171</td>\n",
       "      <td>0.883666</td>\n",
       "      <td>0.860010</td>\n",
       "      <td>0.885094</td>\n",
       "      <td>0.866069</td>\n",
       "      <td>0.884196</td>\n",
       "      <td>1.274221</td>\n",
       "      <td>0.026144</td>\n",
       "      <td>0.002994</td>\n",
       "      <td>0.000723</td>\n",
       "    </tr>\n",
       "    <tr>\n",
       "      <th>4</th>\n",
       "      <td>7.280396</td>\n",
       "      <td>0.175471</td>\n",
       "      <td>0.900287</td>\n",
       "      <td>0.967755</td>\n",
       "      <td>l2</td>\n",
       "      <td>True</td>\n",
       "      <td>True</td>\n",
       "      <td>{'tfidf__norm': 'l2', 'tfidf__sublinear_tf': T...</td>\n",
       "      <td>2</td>\n",
       "      <td>0.901069</td>\n",
       "      <td>...</td>\n",
       "      <td>0.901190</td>\n",
       "      <td>0.967301</td>\n",
       "      <td>0.898442</td>\n",
       "      <td>0.968020</td>\n",
       "      <td>0.900195</td>\n",
       "      <td>0.967993</td>\n",
       "      <td>0.449275</td>\n",
       "      <td>0.015337</td>\n",
       "      <td>0.000990</td>\n",
       "      <td>0.000258</td>\n",
       "    </tr>\n",
       "    <tr>\n",
       "      <th>5</th>\n",
       "      <td>10.096277</td>\n",
       "      <td>0.084227</td>\n",
       "      <td>0.901812</td>\n",
       "      <td>0.950805</td>\n",
       "      <td>l2</td>\n",
       "      <td>True</td>\n",
       "      <td>False</td>\n",
       "      <td>{'tfidf__norm': 'l2', 'tfidf__sublinear_tf': T...</td>\n",
       "      <td>1</td>\n",
       "      <td>0.902520</td>\n",
       "      <td>...</td>\n",
       "      <td>0.902978</td>\n",
       "      <td>0.950529</td>\n",
       "      <td>0.900121</td>\n",
       "      <td>0.950599</td>\n",
       "      <td>0.901716</td>\n",
       "      <td>0.950992</td>\n",
       "      <td>0.800501</td>\n",
       "      <td>0.010093</td>\n",
       "      <td>0.000974</td>\n",
       "      <td>0.000340</td>\n",
       "    </tr>\n",
       "    <tr>\n",
       "      <th>6</th>\n",
       "      <td>6.769680</td>\n",
       "      <td>0.164669</td>\n",
       "      <td>0.898498</td>\n",
       "      <td>0.966752</td>\n",
       "      <td>l2</td>\n",
       "      <td>False</td>\n",
       "      <td>True</td>\n",
       "      <td>{'tfidf__norm': 'l2', 'tfidf__sublinear_tf': F...</td>\n",
       "      <td>4</td>\n",
       "      <td>0.899359</td>\n",
       "      <td>...</td>\n",
       "      <td>0.899065</td>\n",
       "      <td>0.966085</td>\n",
       "      <td>0.897277</td>\n",
       "      <td>0.966803</td>\n",
       "      <td>0.898221</td>\n",
       "      <td>0.967314</td>\n",
       "      <td>0.292792</td>\n",
       "      <td>0.024074</td>\n",
       "      <td>0.000726</td>\n",
       "      <td>0.000409</td>\n",
       "    </tr>\n",
       "    <tr>\n",
       "      <th>7</th>\n",
       "      <td>10.195719</td>\n",
       "      <td>0.072587</td>\n",
       "      <td>0.899477</td>\n",
       "      <td>0.949320</td>\n",
       "      <td>l2</td>\n",
       "      <td>False</td>\n",
       "      <td>False</td>\n",
       "      <td>{'tfidf__norm': 'l2', 'tfidf__sublinear_tf': F...</td>\n",
       "      <td>3</td>\n",
       "      <td>0.899927</td>\n",
       "      <td>...</td>\n",
       "      <td>0.901426</td>\n",
       "      <td>0.949258</td>\n",
       "      <td>0.899533</td>\n",
       "      <td>0.948402</td>\n",
       "      <td>0.898562</td>\n",
       "      <td>0.949633</td>\n",
       "      <td>0.493661</td>\n",
       "      <td>0.010294</td>\n",
       "      <td>0.001201</td>\n",
       "      <td>0.000499</td>\n",
       "    </tr>\n",
       "    <tr>\n",
       "      <th>8</th>\n",
       "      <td>43.090925</td>\n",
       "      <td>0.128365</td>\n",
       "      <td>0.869194</td>\n",
       "      <td>0.998451</td>\n",
       "      <td>None</td>\n",
       "      <td>True</td>\n",
       "      <td>True</td>\n",
       "      <td>{'tfidf__norm': None, 'tfidf__sublinear_tf': T...</td>\n",
       "      <td>9</td>\n",
       "      <td>0.869955</td>\n",
       "      <td>...</td>\n",
       "      <td>0.865081</td>\n",
       "      <td>0.998502</td>\n",
       "      <td>0.868832</td>\n",
       "      <td>0.998525</td>\n",
       "      <td>0.869960</td>\n",
       "      <td>0.998395</td>\n",
       "      <td>4.874078</td>\n",
       "      <td>0.022862</td>\n",
       "      <td>0.002320</td>\n",
       "      <td>0.000052</td>\n",
       "    </tr>\n",
       "    <tr>\n",
       "      <th>9</th>\n",
       "      <td>16.289951</td>\n",
       "      <td>0.073058</td>\n",
       "      <td>0.893842</td>\n",
       "      <td>0.986290</td>\n",
       "      <td>None</td>\n",
       "      <td>True</td>\n",
       "      <td>False</td>\n",
       "      <td>{'tfidf__norm': None, 'tfidf__sublinear_tf': T...</td>\n",
       "      <td>5</td>\n",
       "      <td>0.896393</td>\n",
       "      <td>...</td>\n",
       "      <td>0.892348</td>\n",
       "      <td>0.986350</td>\n",
       "      <td>0.893171</td>\n",
       "      <td>0.986822</td>\n",
       "      <td>0.891424</td>\n",
       "      <td>0.986226</td>\n",
       "      <td>2.391543</td>\n",
       "      <td>0.005185</td>\n",
       "      <td>0.001958</td>\n",
       "      <td>0.000298</td>\n",
       "    </tr>\n",
       "    <tr>\n",
       "      <th>10</th>\n",
       "      <td>179.733014</td>\n",
       "      <td>0.131982</td>\n",
       "      <td>0.867007</td>\n",
       "      <td>0.998380</td>\n",
       "      <td>None</td>\n",
       "      <td>False</td>\n",
       "      <td>True</td>\n",
       "      <td>{'tfidf__norm': None, 'tfidf__sublinear_tf': F...</td>\n",
       "      <td>10</td>\n",
       "      <td>0.867568</td>\n",
       "      <td>...</td>\n",
       "      <td>0.862921</td>\n",
       "      <td>0.998408</td>\n",
       "      <td>0.866739</td>\n",
       "      <td>0.998456</td>\n",
       "      <td>0.868995</td>\n",
       "      <td>0.998305</td>\n",
       "      <td>34.783726</td>\n",
       "      <td>0.030663</td>\n",
       "      <td>0.002204</td>\n",
       "      <td>0.000061</td>\n",
       "    </tr>\n",
       "    <tr>\n",
       "      <th>11</th>\n",
       "      <td>74.846343</td>\n",
       "      <td>0.053726</td>\n",
       "      <td>0.891530</td>\n",
       "      <td>0.986435</td>\n",
       "      <td>None</td>\n",
       "      <td>False</td>\n",
       "      <td>False</td>\n",
       "      <td>{'tfidf__norm': None, 'tfidf__sublinear_tf': F...</td>\n",
       "      <td>6</td>\n",
       "      <td>0.893221</td>\n",
       "      <td>...</td>\n",
       "      <td>0.889505</td>\n",
       "      <td>0.986695</td>\n",
       "      <td>0.892781</td>\n",
       "      <td>0.986791</td>\n",
       "      <td>0.888700</td>\n",
       "      <td>0.986346</td>\n",
       "      <td>15.797212</td>\n",
       "      <td>0.002546</td>\n",
       "      <td>0.002010</td>\n",
       "      <td>0.000270</td>\n",
       "    </tr>\n",
       "  </tbody>\n",
       "</table>\n",
       "<p>12 rows × 23 columns</p>\n",
       "</div>"
      ],
      "text/plain": [
       "    mean_fit_time  mean_score_time  mean_test_score  mean_train_score  \\\n",
       "0        5.779844         0.197611         0.873538          0.899872   \n",
       "1        6.545013         0.083951         0.866010          0.884674   \n",
       "2        5.640599         0.166581         0.871989          0.899668   \n",
       "3        6.445744         0.080625         0.865087          0.884227   \n",
       "4        7.280396         0.175471         0.900287          0.967755   \n",
       "5       10.096277         0.084227         0.901812          0.950805   \n",
       "6        6.769680         0.164669         0.898498          0.966752   \n",
       "7       10.195719         0.072587         0.899477          0.949320   \n",
       "8       43.090925         0.128365         0.869194          0.998451   \n",
       "9       16.289951         0.073058         0.893842          0.986290   \n",
       "10     179.733014         0.131982         0.867007          0.998380   \n",
       "11      74.846343         0.053726         0.891530          0.986435   \n",
       "\n",
       "   param_tfidf__norm param_tfidf__sublinear_tf param_tfidf__use_idf  \\\n",
       "0                 l1                      True                 True   \n",
       "1                 l1                      True                False   \n",
       "2                 l1                     False                 True   \n",
       "3                 l1                     False                False   \n",
       "4                 l2                      True                 True   \n",
       "5                 l2                      True                False   \n",
       "6                 l2                     False                 True   \n",
       "7                 l2                     False                False   \n",
       "8               None                      True                 True   \n",
       "9               None                      True                False   \n",
       "10              None                     False                 True   \n",
       "11              None                     False                False   \n",
       "\n",
       "                                               params  rank_test_score  \\\n",
       "0   {'tfidf__norm': 'l1', 'tfidf__sublinear_tf': T...                7   \n",
       "1   {'tfidf__norm': 'l1', 'tfidf__sublinear_tf': T...               11   \n",
       "2   {'tfidf__norm': 'l1', 'tfidf__sublinear_tf': F...                8   \n",
       "3   {'tfidf__norm': 'l1', 'tfidf__sublinear_tf': F...               12   \n",
       "4   {'tfidf__norm': 'l2', 'tfidf__sublinear_tf': T...                2   \n",
       "5   {'tfidf__norm': 'l2', 'tfidf__sublinear_tf': T...                1   \n",
       "6   {'tfidf__norm': 'l2', 'tfidf__sublinear_tf': F...                4   \n",
       "7   {'tfidf__norm': 'l2', 'tfidf__sublinear_tf': F...                3   \n",
       "8   {'tfidf__norm': None, 'tfidf__sublinear_tf': T...                9   \n",
       "9   {'tfidf__norm': None, 'tfidf__sublinear_tf': T...                5   \n",
       "10  {'tfidf__norm': None, 'tfidf__sublinear_tf': F...               10   \n",
       "11  {'tfidf__norm': None, 'tfidf__sublinear_tf': F...                6   \n",
       "\n",
       "    split0_test_score       ...         split2_test_score  split2_train_score  \\\n",
       "0            0.876424       ...                  0.871903            0.899266   \n",
       "1            0.869957       ...                  0.867444            0.884137   \n",
       "2            0.875973       ...                  0.870591            0.899502   \n",
       "3            0.869079       ...                  0.866171            0.883666   \n",
       "4            0.901069       ...                  0.901190            0.967301   \n",
       "5            0.902520       ...                  0.902978            0.950529   \n",
       "6            0.899359       ...                  0.899065            0.966085   \n",
       "7            0.899927       ...                  0.901426            0.949258   \n",
       "8            0.869955       ...                  0.865081            0.998502   \n",
       "9            0.896393       ...                  0.892348            0.986350   \n",
       "10           0.867568       ...                  0.862921            0.998408   \n",
       "11           0.893221       ...                  0.889505            0.986695   \n",
       "\n",
       "    split3_test_score  split3_train_score  split4_test_score  \\\n",
       "0            0.868972            0.901213           0.873097   \n",
       "1            0.861336            0.885625           0.865697   \n",
       "2            0.867957            0.901377           0.871708   \n",
       "3            0.860010            0.885094           0.866069   \n",
       "4            0.898442            0.968020           0.900195   \n",
       "5            0.900121            0.950599           0.901716   \n",
       "6            0.897277            0.966803           0.898221   \n",
       "7            0.899533            0.948402           0.898562   \n",
       "8            0.868832            0.998525           0.869960   \n",
       "9            0.893171            0.986822           0.891424   \n",
       "10           0.866739            0.998456           0.868995   \n",
       "11           0.892781            0.986791           0.888700   \n",
       "\n",
       "    split4_train_score  std_fit_time  std_score_time  std_test_score  \\\n",
       "0             0.899722      0.566887        0.031128        0.003039   \n",
       "1             0.884555      1.465721        0.011201        0.002819   \n",
       "2             0.898613      0.268764        0.022087        0.002725   \n",
       "3             0.884196      1.274221        0.026144        0.002994   \n",
       "4             0.967993      0.449275        0.015337        0.000990   \n",
       "5             0.950992      0.800501        0.010093        0.000974   \n",
       "6             0.967314      0.292792        0.024074        0.000726   \n",
       "7             0.949633      0.493661        0.010294        0.001201   \n",
       "8             0.998395      4.874078        0.022862        0.002320   \n",
       "9             0.986226      2.391543        0.005185        0.001958   \n",
       "10            0.998305     34.783726        0.030663        0.002204   \n",
       "11            0.986346     15.797212        0.002546        0.002010   \n",
       "\n",
       "    std_train_score  \n",
       "0          0.000703  \n",
       "1          0.000805  \n",
       "2          0.000933  \n",
       "3          0.000723  \n",
       "4          0.000258  \n",
       "5          0.000340  \n",
       "6          0.000409  \n",
       "7          0.000499  \n",
       "8          0.000052  \n",
       "9          0.000298  \n",
       "10         0.000061  \n",
       "11         0.000270  \n",
       "\n",
       "[12 rows x 23 columns]"
      ]
     },
     "execution_count": 17,
     "metadata": {},
     "output_type": "execute_result"
    }
   ],
   "source": [
    "a = pd.DataFrame.from_dict(grid.cv_results_)\n",
    "a"
   ]
  },
  {
   "cell_type": "code",
   "execution_count": 21,
   "metadata": {},
   "outputs": [
    {
     "data": {
      "text/plain": [
       "Pipeline(memory=None,\n",
       "     steps=[('tfidf', TfidfTransformer(norm='l2', smooth_idf=True, sublinear_tf=True, use_idf=False)), ('clf', LogisticRegression(C=1.0, class_weight='balanced', dual=False,\n",
       "          fit_intercept=True, intercept_scaling=1, max_iter=100,\n",
       "          multi_class='ovr', n_jobs=None, penalty='l2', random_state=None,\n",
       "          solver='newton-cg', tol=0.0001, verbose=0, warm_start=False))])"
      ]
     },
     "execution_count": 21,
     "metadata": {},
     "output_type": "execute_result"
    }
   ],
   "source": [
    "grid.best_estimator_"
   ]
  },
  {
   "cell_type": "code",
   "execution_count": 31,
   "metadata": {},
   "outputs": [
    {
     "name": "stdout",
     "output_type": "stream",
     "text": [
      "Precision =  0.911580970687\n",
      "Recall =  0.453105095541\n",
      "F_score =  0.768670899775\n",
      "CCR =  0.884007002407\n",
      "ROC_AUC =  0.896303172622\n",
      "\n",
      "Confusion Matrix: \n",
      " [[50866  6869]\n",
      " [  552  5691]]\n",
      "\n"
     ]
    }
   ],
   "source": [
    "tfidf_transformer = TfidfTransformer(norm= 'l2', smooth_idf=True, sublinear_tf=True, use_idf=False)\n",
    "train_feature_vectors_sparse = tfidf_transformer.fit_transform(train_feature_vectors_sparse)\n",
    "test_feature_vectors_sparse = tfidf_transformer.transform(test_feature_vectors_sparse)\n",
    "\n",
    "clf = LogisticRegression(C=1.0, class_weight='balanced', dual=False,\n",
    "          fit_intercept=True, intercept_scaling=1, max_iter=100,\n",
    "          multi_class='ovr', n_jobs=None, penalty='l2', random_state=None,\n",
    "          solver='newton-cg', tol=0.0001, verbose=0, warm_start=False)\n",
    "\n",
    "clf.fit(train_feature_vectors_sparse, train_labels)\n",
    "\n",
    "predictions = clf.predict(test_feature_vectors_sparse)\n",
    "confmat = confusion_matrix(test_labels, predictions)\n",
    "\n",
    "precision = confmat[1,1]/(confmat[1,1] + confmat[1,0])\n",
    "recall = confmat[1,1]/(confmat[1,1] + confmat[0,1])\n",
    "fScore = f1_score(test_labels, predictions, average='macro')\n",
    "ccr = (confmat[0,0] + confmat[1,1])/(sum(sum(confmat)))\n",
    "roc_auc = roc_auc_score(test_labels, predictions)\n",
    "print(\"Precision = \",precision)\n",
    "print(\"Recall = \",recall)\n",
    "print(\"F_score = \",fScore)\n",
    "print(\"CCR = \",ccr)\n",
    "print(\"ROC_AUC = \", roc_auc)\n",
    "print()\n",
    "print(\"Confusion Matrix: \\n\", confmat)\n",
    "print()"
   ]
  },
  {
   "cell_type": "code",
   "execution_count": null,
   "metadata": {
    "collapsed": true
   },
   "outputs": [],
   "source": []
  }
 ],
 "metadata": {
  "kernelspec": {
   "display_name": "Python 3",
   "language": "python",
   "name": "python3"
  },
  "language_info": {
   "codemirror_mode": {
    "name": "ipython",
    "version": 3
   },
   "file_extension": ".py",
   "mimetype": "text/x-python",
   "name": "python",
   "nbconvert_exporter": "python",
   "pygments_lexer": "ipython3",
   "version": "3.6.3"
  }
 },
 "nbformat": 4,
 "nbformat_minor": 2
}
