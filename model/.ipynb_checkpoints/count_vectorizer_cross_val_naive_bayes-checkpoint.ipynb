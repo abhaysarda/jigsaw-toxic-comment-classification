{
 "cells": [
  {
   "cell_type": "code",
   "execution_count": 55,
   "metadata": {
    "collapsed": true
   },
   "outputs": [],
   "source": [
    "import pandas as pd, numpy as np\n",
    "import sklearn\n",
    "import scipy.sparse\n",
    "import warnings\n",
    "warnings.filterwarnings('ignore')\n",
    "from sklearn.feature_extraction.text import CountVectorizer\n",
    "from scipy import sparse\n",
    "from sklearn.metrics import confusion_matrix\n",
    "from sklearn.naive_bayes import MultinomialNB\n",
    "from bs4 import BeautifulSoup"
   ]
  },
  {
   "cell_type": "code",
   "execution_count": 80,
   "metadata": {
    "collapsed": true
   },
   "outputs": [],
   "source": [
    "data = pd.read_csv('../data/raw_data/kaggle/train.csv')\n",
    "labels=(data[\"toxic\"] | data[\"severe_toxic\"] | data[\"obscene\"] | data[\"threat\"] | data[\"insult\"] | data[\"identity_hate\"])\n",
    "# labels=data[\"Labels\"]\n",
    "train_data = data[0:100000]\n",
    "test_data = data[100001:]\n",
    "train_labels = labels[0:100000]\n",
    "test_labels = labels[100001:]\n",
    "\n",
    "corpus = data[\"comment_text\"]"
   ]
  },
  {
   "cell_type": "code",
   "execution_count": 88,
   "metadata": {},
   "outputs": [],
   "source": [
    "def review_to_words( corpus ):\n",
    "    # Function to convert a raw review to a string of words\n",
    "    # The input is a single string (a raw movie review), and \n",
    "    # the output is a single string (a preprocessed movie review)\n",
    "    #\n",
    "    new_corp = []\n",
    "    i=0\n",
    "    for rev in corpus:\n",
    "        i+=1\n",
    "        if(i%10000 == 0):\n",
    "            print(\"iter\", i/10000,\"of\", len(corpus)/10000)\n",
    "        \n",
    "        # 1. Remove HTML\n",
    "        review_text = BeautifulSoup(rev).get_text() \n",
    "        #\n",
    "        # 2. Remove non-letters        \n",
    "        letters_only = re.sub(\"[^a-zA-Z']\", \" \", review_text)\n",
    "\n",
    "        p = letters_only.split()\n",
    "        new_corp.append(\" \".join(p))\n",
    "    return(new_corp)   "
   ]
  },
  {
   "cell_type": "markdown",
   "metadata": {},
   "source": [
    "## Multinomial naive bayes"
   ]
  },
  {
   "cell_type": "code",
   "execution_count": 89,
   "metadata": {},
   "outputs": [
    {
     "name": "stdout",
     "output_type": "stream",
     "text": [
      "iter 1.0 of 15.9571\n",
      "iter 2.0 of 15.9571\n",
      "iter 3.0 of 15.9571\n",
      "iter 4.0 of 15.9571\n",
      "iter 5.0 of 15.9571\n",
      "iter 6.0 of 15.9571\n",
      "iter 7.0 of 15.9571\n",
      "iter 8.0 of 15.9571\n",
      "iter 9.0 of 15.9571\n",
      "iter 10.0 of 15.9571\n",
      "iter 11.0 of 15.9571\n",
      "iter 12.0 of 15.9571\n",
      "iter 13.0 of 15.9571\n",
      "iter 14.0 of 15.9571\n",
      "iter 15.0 of 15.9571\n"
     ]
    }
   ],
   "source": [
    "corpus = list(corpus)\n",
    "new_corp=review_to_words(corpus)\n"
   ]
  },
  {
   "cell_type": "code",
   "execution_count": 102,
   "metadata": {
    "collapsed": true
   },
   "outputs": [],
   "source": [
    "def cross_val_count_vec(vectorizer, corpus):\n",
    "    X = vectorizer.fit_transform(corpus)\n",
    "    vocab = vectorizer.get_feature_names()\n",
    "    train_feature_vectors_sparse = X[0:100000]\n",
    "    test_feature_vectors_sparse = X[100001:]\n",
    "    # TRAINING\n",
    "\n",
    "    clf = MultinomialNB()\n",
    "    clf.fit(train_feature_vectors_sparse, train_labels)\n",
    "\n",
    "    # PREDICTION\n",
    "    predictions = clf.predict(test_feature_vectors_sparse)\n",
    "\n",
    "\n",
    "    # PERFORMANCE METRICS\n",
    "\n",
    "    confmat = confusion_matrix(test_labels, predictions)\n",
    "\n",
    "    precision = confmat[1,1]/(confmat[1,1] + confmat[1,0])\n",
    "    recall = confmat[1,1]/(confmat[1,1] + confmat[0,1])\n",
    "    fScore = (2*precision*recall)/(recall+precision)\n",
    "    ccr = (confmat[0,0] + confmat[1,1])/(sum(sum(confmat)))\n",
    "\n",
    "    print(\"Precision = \",precision)\n",
    "    print(\"Recall = \",recall)\n",
    "    print(\"F_score = \",fScore)\n",
    "    print(\"CCR = \",ccr)\n",
    "    print()\n",
    "    print(\"Confusion Matrix: \\n\", confmat)\n",
    "    \n",
    "    return fScore"
   ]
  },
  {
   "cell_type": "code",
   "execution_count": 112,
   "metadata": {},
   "outputs": [
    {
     "ename": "SyntaxError",
     "evalue": "invalid syntax (<ipython-input-112-f7a5566563c9>, line 2)",
     "output_type": "error",
     "traceback": [
      "\u001b[0;36m  File \u001b[0;32m\"<ipython-input-112-f7a5566563c9>\"\u001b[0;36m, line \u001b[0;32m2\u001b[0m\n\u001b[0;31m    for i in range (1,6)\u001b[0m\n\u001b[0m                        ^\u001b[0m\n\u001b[0;31mSyntaxError\u001b[0m\u001b[0;31m:\u001b[0m invalid syntax\n"
     ]
    }
   ],
   "source": [
    "fsc = []\n",
    "for i in range (1,6):\n",
    "    \n",
    "    vectorizer = CountVectorizer(strip_accents='unicode',lowercase=True,stop_words='english',ngram_range=(1, i))\n",
    "\n",
    "    fsc.append(cross_val_count_vec(vectorizer, new_corp))\n",
    "    "
   ]
  },
  {
   "cell_type": "code",
   "execution_count": 110,
   "metadata": {},
   "outputs": [
    {
     "data": {
      "text/plain": [
       "[' ',\n",
       " \"'\",\n",
       " 'a',\n",
       " 'b',\n",
       " 'c',\n",
       " 'd',\n",
       " 'e',\n",
       " 'f',\n",
       " 'g',\n",
       " 'h',\n",
       " 'i',\n",
       " 'j',\n",
       " 'k',\n",
       " 'l',\n",
       " 'm',\n",
       " 'n',\n",
       " 'o',\n",
       " 'p',\n",
       " 'q',\n",
       " 'r',\n",
       " 's',\n",
       " 't',\n",
       " 'u',\n",
       " 'v',\n",
       " 'w',\n",
       " 'x',\n",
       " 'y',\n",
       " 'z']"
      ]
     },
     "execution_count": 110,
     "metadata": {},
     "output_type": "execute_result"
    }
   ],
   "source": [
    "vectorizer.get_feature_names()"
   ]
  },
  {
   "cell_type": "code",
   "execution_count": 104,
   "metadata": {},
   "outputs": [
    {
     "name": "stdout",
     "output_type": "stream",
     "text": [
      "Precision =  0.602088167053\n",
      "Recall =  0.763716628127\n",
      "F_score =  0.673338893522\n",
      "CCR =  0.940825919087\n",
      "\n",
      "Confusion Matrix: \n",
      " [[52412  1124]\n",
      " [ 2401  3633]]\n"
     ]
    }
   ],
   "source": [
    "vectorizer = CountVectorizer(strip_accents='unicode',lowercase=True,stop_words='english', analyzer=\"word\",token_pattern=r'\\w{1,}')\n",
    "\n",
    "cross_val_count_vec(vectorizer, corpus)"
   ]
  },
  {
   "cell_type": "code",
   "execution_count": null,
   "metadata": {
    "collapsed": true
   },
   "outputs": [],
   "source": []
  }
 ],
 "metadata": {
  "kernelspec": {
   "display_name": "Python 3",
   "language": "python",
   "name": "python3"
  },
  "language_info": {
   "codemirror_mode": {
    "name": "ipython",
    "version": 3
   },
   "file_extension": ".py",
   "mimetype": "text/x-python",
   "name": "python",
   "nbconvert_exporter": "python",
   "pygments_lexer": "ipython3",
   "version": "3.6.3"
  }
 },
 "nbformat": 4,
 "nbformat_minor": 2
}
