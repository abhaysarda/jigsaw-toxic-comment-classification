{
 "cells": [
  {
   "cell_type": "code",
   "execution_count": 1,
   "metadata": {},
   "outputs": [
    {
     "name": "stderr",
     "output_type": "stream",
     "text": [
      "Using TensorFlow backend.\n"
     ]
    }
   ],
   "source": [
    "import numpy as np\n",
    "np.random.seed(42)\n",
    "import pandas as pd\n",
    "\n",
    "from sklearn.model_selection import train_test_split\n",
    "from sklearn.metrics import roc_auc_score\n",
    "\n",
    "from keras.models import Model\n",
    "from keras.layers import Input, Dense, Embedding, SpatialDropout1D, concatenate\n",
    "from keras.layers import GRU, Bidirectional, GlobalAveragePooling1D, GlobalMaxPooling1D\n",
    "from keras.preprocessing import text, sequence\n",
    "from keras.callbacks import Callback, EarlyStopping, ModelCheckpoint, ReduceLROnPlateau\n",
    "from keras.optimizers import Adam"
   ]
  },
  {
   "cell_type": "code",
   "execution_count": 2,
   "metadata": {},
   "outputs": [],
   "source": [
    "import warnings\n",
    "warnings.filterwarnings('ignore')\n",
    "\n",
    "import os\n",
    "os.environ['OMP_NUM_THREADS'] = '4'\n"
   ]
  },
  {
   "cell_type": "code",
   "execution_count": 3,
   "metadata": {},
   "outputs": [],
   "source": [
    "EMBEDDING_FILE = './word_embeddings/glove.840B.300d.txt'\n",
    "\n",
    "train = pd.read_csv('../data/raw_data/train.csv')\n",
    "test = pd.read_csv('../data/raw_data/test.csv')\n",
    "X_train = train['Comment']\n",
    "y_train = train['Labels']\n",
    "X_test = test['Comment']\n",
    "y_test = test['Labels']"
   ]
  },
  {
   "cell_type": "code",
   "execution_count": 4,
   "metadata": {},
   "outputs": [],
   "source": [
    "max_features = 40000\n",
    "maxlen = 300\n",
    "embed_size = 300\n",
    "\n",
    "tokenizer = text.Tokenizer(num_words=max_features)\n",
    "tokenizer.fit_on_texts(list(X_train) + list(X_test))\n",
    "X_train = tokenizer.texts_to_sequences(X_train)\n",
    "X_test = tokenizer.texts_to_sequences(X_test)\n",
    "x_train = sequence.pad_sequences(X_train, maxlen=maxlen)\n",
    "x_test = sequence.pad_sequences(X_test, maxlen=maxlen)\n"
   ]
  },
  {
   "cell_type": "code",
   "execution_count": 5,
   "metadata": {},
   "outputs": [],
   "source": [
    "def get_coefs(word, *arr): return word, np.asarray(arr, dtype='float32')\n",
    "embeddings_index = dict(get_coefs(*o.rstrip().rsplit(' ')) for o in open(EMBEDDING_FILE, encoding='utf-8'))\n",
    "\n",
    "word_index = tokenizer.word_index\n",
    "nb_words = min(max_features, len(word_index))\n",
    "embedding_matrix = np.zeros((nb_words, embed_size))\n",
    "for word, i in word_index.items():\n",
    "    if i >= max_features: continue\n",
    "    embedding_vector = embeddings_index.get(word)\n",
    "    if embedding_vector is not None: embedding_matrix[i] = embedding_vector"
   ]
  },
  {
   "cell_type": "code",
   "execution_count": 6,
   "metadata": {},
   "outputs": [],
   "source": [
    "class RocAucEvaluation(Callback):\n",
    "    def __init__(self, validation_data=(), interval=1):\n",
    "        super(Callback, self).__init__()\n",
    "\n",
    "        self.interval = interval\n",
    "        self.X_val, self.y_val = validation_data\n",
    "\n",
    "    def on_epoch_end(self, epoch, logs={}):\n",
    "        if epoch % self.interval == 0:\n",
    "            y_pred = self.model.predict(self.X_val, verbose=0)\n",
    "            score = roc_auc_score(self.y_val, y_pred)\n",
    "            print(\"\\n ROC-AUC - epoch: %d - score: %.6f \\n\" % (epoch+1, score))"
   ]
  },
  {
   "cell_type": "code",
   "execution_count": 7,
   "metadata": {},
   "outputs": [],
   "source": [
    "def get_model():\n",
    "    inp = Input(shape=(maxlen, ))\n",
    "    x = Embedding(max_features, embed_size, weights=[embedding_matrix])(inp)\n",
    "    x = SpatialDropout1D(0.4)(x)\n",
    "    x = Bidirectional(GRU(256, return_sequences=True))(x)\n",
    "    avg_pool = GlobalAveragePooling1D()(x)\n",
    "    max_pool = GlobalMaxPooling1D()(x)\n",
    "    conc = concatenate([avg_pool, max_pool])\n",
    "    outp = Dense(1, activation=\"sigmoid\")(conc)\n",
    "    adam = Adam(lr=0.00001, beta_1=0.9, beta_2=0.99, epsilon=1e-8)\n",
    "    model = Model(inputs=inp, outputs=outp)\n",
    "    model.compile(loss='binary_crossentropy',\n",
    "                  optimizer=adam,\n",
    "                  metrics=['accuracy'])\n",
    "\n",
    "    return model\n",
    "\n",
    "model = get_model()\n"
   ]
  },
  {
   "cell_type": "code",
   "execution_count": 8,
   "metadata": {},
   "outputs": [
    {
     "name": "stdout",
     "output_type": "stream",
     "text": [
      "Train on 127656 samples, validate on 31915 samples\n",
      "Epoch 1/20\n",
      "127656/127656 [==============================] - 396s 3ms/step - loss: 0.3812 - acc: 0.8958 - val_loss: 0.2957 - val_acc: 0.8995\n",
      "\n",
      " ROC-AUC - epoch: 1 - score: 0.743796 \n",
      "\n",
      "Epoch 2/20\n",
      "127656/127656 [==============================] - 394s 3ms/step - loss: 0.2773 - acc: 0.9016 - val_loss: 0.2374 - val_acc: 0.9118\n",
      "\n",
      " ROC-AUC - epoch: 2 - score: 0.876157 \n",
      "\n",
      "Epoch 3/20\n",
      "127656/127656 [==============================] - 394s 3ms/step - loss: 0.2179 - acc: 0.9221 - val_loss: 0.1726 - val_acc: 0.9384\n",
      "\n",
      " ROC-AUC - epoch: 3 - score: 0.930754 \n",
      "\n",
      "Epoch 4/20\n",
      "127656/127656 [==============================] - 385s 3ms/step - loss: 0.1721 - acc: 0.9375 - val_loss: 0.1448 - val_acc: 0.9463\n",
      "\n",
      " ROC-AUC - epoch: 4 - score: 0.951098 \n",
      "\n",
      "Epoch 5/20\n",
      "127656/127656 [==============================] - 391s 3ms/step - loss: 0.1550 - acc: 0.9429 - val_loss: 0.1327 - val_acc: 0.9504\n",
      "\n",
      " ROC-AUC - epoch: 5 - score: 0.960037 \n",
      "\n",
      "Epoch 6/20\n",
      "127656/127656 [==============================] - 393s 3ms/step - loss: 0.1445 - acc: 0.9464 - val_loss: 0.1241 - val_acc: 0.9533\n",
      "\n",
      " ROC-AUC - epoch: 6 - score: 0.965686 \n",
      "\n",
      "Epoch 7/20\n",
      "127656/127656 [==============================] - 385s 3ms/step - loss: 0.1367 - acc: 0.9496 - val_loss: 0.1192 - val_acc: 0.9556\n",
      "\n",
      " ROC-AUC - epoch: 7 - score: 0.968334 \n",
      "\n",
      "Epoch 8/20\n",
      "127656/127656 [==============================] - 385s 3ms/step - loss: 0.1306 - acc: 0.9519 - val_loss: 0.1144 - val_acc: 0.9572\n",
      "\n",
      " ROC-AUC - epoch: 8 - score: 0.970641 \n",
      "\n",
      "Epoch 9/20\n",
      "127656/127656 [==============================] - 379s 3ms/step - loss: 0.1263 - acc: 0.9533 - val_loss: 0.1106 - val_acc: 0.9586\n",
      "\n",
      " ROC-AUC - epoch: 9 - score: 0.972775 \n",
      "\n",
      "Epoch 10/20\n",
      "127656/127656 [==============================] - 391s 3ms/step - loss: 0.1227 - acc: 0.9548 - val_loss: 0.1081 - val_acc: 0.9591\n",
      "\n",
      " ROC-AUC - epoch: 10 - score: 0.973935 \n",
      "\n",
      "Epoch 11/20\n",
      "127656/127656 [==============================] - 383s 3ms/step - loss: 0.1190 - acc: 0.9559 - val_loss: 0.1062 - val_acc: 0.9596\n",
      "\n",
      " ROC-AUC - epoch: 11 - score: 0.975032 \n",
      "\n",
      "Epoch 12/20\n",
      "127656/127656 [==============================] - 386s 3ms/step - loss: 0.1160 - acc: 0.9566 - val_loss: 0.1047 - val_acc: 0.9600\n",
      "\n",
      " ROC-AUC - epoch: 12 - score: 0.975823 \n",
      "\n",
      "Epoch 13/20\n",
      "127656/127656 [==============================] - 387s 3ms/step - loss: 0.1132 - acc: 0.9580 - val_loss: 0.1034 - val_acc: 0.9602\n",
      "\n",
      " ROC-AUC - epoch: 13 - score: 0.976297 \n",
      "\n",
      "Epoch 14/20\n",
      "127656/127656 [==============================] - 388s 3ms/step - loss: 0.1128 - acc: 0.9580 - val_loss: 0.1025 - val_acc: 0.9610\n",
      "\n",
      " ROC-AUC - epoch: 14 - score: 0.976680 \n",
      "\n",
      "Epoch 15/20\n",
      "127656/127656 [==============================] - 388s 3ms/step - loss: 0.1102 - acc: 0.9585 - val_loss: 0.1017 - val_acc: 0.9607\n",
      "\n",
      " ROC-AUC - epoch: 15 - score: 0.977055 \n",
      "\n",
      "Epoch 16/20\n",
      "127656/127656 [==============================] - 392s 3ms/step - loss: 0.1092 - acc: 0.9589 - val_loss: 0.1009 - val_acc: 0.9606\n",
      "\n",
      " ROC-AUC - epoch: 16 - score: 0.977526 \n",
      "\n",
      "Epoch 17/20\n",
      "127656/127656 [==============================] - 387s 3ms/step - loss: 0.1079 - acc: 0.9592 - val_loss: 0.1007 - val_acc: 0.9610\n",
      "\n",
      " ROC-AUC - epoch: 17 - score: 0.977840 \n",
      "\n",
      "Epoch 18/20\n",
      "127656/127656 [==============================] - 383s 3ms/step - loss: 0.1072 - acc: 0.9599 - val_loss: 0.0995 - val_acc: 0.9614\n",
      "\n",
      " ROC-AUC - epoch: 18 - score: 0.978129 \n",
      "\n",
      "Epoch 19/20\n",
      "127656/127656 [==============================] - 377s 3ms/step - loss: 0.1051 - acc: 0.9606 - val_loss: 0.0988 - val_acc: 0.9617\n",
      "\n",
      " ROC-AUC - epoch: 19 - score: 0.978298 \n",
      "\n",
      "Epoch 20/20\n",
      "127656/127656 [==============================] - 382s 3ms/step - loss: 0.1053 - acc: 0.9598 - val_loss: 0.0983 - val_acc: 0.9618\n",
      "\n",
      " ROC-AUC - epoch: 20 - score: 0.978573 \n",
      "\n"
     ]
    }
   ],
   "source": [
    "batch_size = 256\n",
    "num_epochs = 20\n",
    "X_tra, X_val, y_tra, y_val = train_test_split(x_train, y_train, train_size=0.8, random_state=233)\n",
    "RocAuc = RocAucEvaluation(validation_data=(X_val, y_val), interval=1)\n",
    "\n",
    "hist = model.fit(X_tra, y_tra, batch_size=batch_size, epochs=num_epochs, validation_data=(X_val, y_val),\n",
    "                 callbacks=[RocAuc], verbose=1)\n",
    "\n",
    "\n",
    "y_pred = model.predict(x_test, batch_size=1024)\n"
   ]
  },
  {
   "cell_type": "code",
   "execution_count": null,
   "metadata": {},
   "outputs": [],
   "source": []
  },
  {
   "cell_type": "code",
   "execution_count": 14,
   "metadata": {},
   "outputs": [
    {
     "data": {
      "image/png": "[encoded data removed]",
      "text/plain": [
       "<Figure size 1200x800 with 2 Axes>"
      ]
     },
     "metadata": {
      "needs_background": "light"
     },
     "output_type": "display_data"
    }
   ],
   "source": [
    "import matplotlib.pyplot as plt\n",
    "fig = plt.figure(figsize= (15,10), dpi=80)\n",
    "fig.subplots_adjust(hspace = 0.4, wspace = 0.4)\n",
    "plt.subplot(1,2,1)\n",
    "plt.plot(np.arange(num_epochs), hist.history['val_loss'], label=\"Validation Loss\")\n",
    "plt.plot( np.arange(num_epochs), hist.history['loss'], label=\"Training loss\")\n",
    "plt.xlabel(\"Epochs\")\n",
    "plt.ylabel(\"Binary Cross Entropy Loss\")\n",
    "plt.ylim((0, 0.3))\n",
    "plt.legend(loc='upper left')\n",
    "plt.subplot(1,2,2)\n",
    "plt.plot(np.arange(num_epochs), hist.history['val_acc'], label =\"Validation Accuracy\")\n",
    "plt.plot(np.arange(num_epochs), hist.history['acc'], label = \"Training Accuracy\")\n",
    "plt.xlabel(\"Epochs\")\n",
    "plt.ylabel(\"Accuracy\")\n",
    "plt.ylim((0.9, 1))\n",
    "plt.legend(loc='upper left')\n",
    "plt.show()"
   ]
  },
  {
   "cell_type": "code",
   "execution_count": 10,
   "metadata": {},
   "outputs": [
    {
     "name": "stdout",
     "output_type": "stream",
     "text": [
      "__________________________________________________________________________________________________\n",
      "Layer (type)                    Output Shape         Param #     Connected to                     \n",
      "==================================================================================================\n",
      "input_1 (InputLayer)            (None, 300)          0                                            \n",
      "__________________________________________________________________________________________________\n",
      "embedding_1 (Embedding)         (None, 300, 300)     12000000    input_1[0][0]                    \n",
      "__________________________________________________________________________________________________\n",
      "spatial_dropout1d_1 (SpatialDro (None, 300, 300)     0           embedding_1[0][0]                \n",
      "__________________________________________________________________________________________________\n",
      "bidirectional_1 (Bidirectional) (None, 300, 512)     855552      spatial_dropout1d_1[0][0]        \n",
      "__________________________________________________________________________________________________\n",
      "global_average_pooling1d_1 (Glo (None, 512)          0           bidirectional_1[0][0]            \n",
      "__________________________________________________________________________________________________\n",
      "global_max_pooling1d_1 (GlobalM (None, 512)          0           bidirectional_1[0][0]            \n",
      "__________________________________________________________________________________________________\n",
      "concatenate_1 (Concatenate)     (None, 1024)         0           global_average_pooling1d_1[0][0] \n",
      "                                                                 global_max_pooling1d_1[0][0]     \n",
      "__________________________________________________________________________________________________\n",
      "dense_1 (Dense)                 (None, 1)            1025        concatenate_1[0][0]              \n",
      "==================================================================================================\n",
      "Total params: 12,856,577\n",
      "Trainable params: 12,856,577\n",
      "Non-trainable params: 0\n",
      "__________________________________________________________________________________________________\n"
     ]
    }
   ],
   "source": [
    "model.summary()"
   ]
  },
  {
   "cell_type": "code",
   "execution_count": 15,
   "metadata": {},
   "outputs": [
    {
     "name": "stdout",
     "output_type": "stream",
     "text": [
      "[[53271  4464]\n",
      " [  889  5354]]\n"
     ]
    }
   ],
   "source": [
    "from sklearn.metrics import confusion_matrix, roc_auc_score\n",
    "from sklearn.metrics import precision_recall_fscore_support\n",
    "y_pred = np.where(y_pred > 0.5, 1, 0)\n",
    "confmat = confusion_matrix(list(test[\"Labels\"]), y_pred)\n",
    "print(confmat)"
   ]
  },
  {
   "cell_type": "code",
   "execution_count": 16,
   "metadata": {},
   "outputs": [
    {
     "name": "stdout",
     "output_type": "stream",
     "text": [
      "ROC AUC score mean: 0.890141\n"
     ]
    }
   ],
   "source": [
    "roc_auc = roc_auc_score(list(test[\"Labels\"]), y_pred, 'macro')\n",
    "print(\"ROC AUC score mean: %f\" % (roc_auc))"
   ]
  },
  {
   "cell_type": "code",
   "execution_count": 17,
   "metadata": {},
   "outputs": [
    {
     "data": {
      "text/plain": [
       "0.8901408642371583"
      ]
     },
     "execution_count": 17,
     "metadata": {},
     "output_type": "execute_result"
    }
   ],
   "source": [
    "roc_auc"
   ]
  },
  {
   "cell_type": "code",
   "execution_count": null,
   "metadata": {},
   "outputs": [],
   "source": []
  }
 ],
 "metadata": {
  "kernelspec": {
   "display_name": "Python 3",
   "language": "python",
   "name": "python3"
  },
  "language_info": {
   "codemirror_mode": {
    "name": "ipython",
    "version": 3
   },
   "file_extension": ".py",
   "mimetype": "text/x-python",
   "name": "python",
   "nbconvert_exporter": "python",
   "pygments_lexer": "ipython3",
   "version": "3.6.7"
  }
 },
 "nbformat": 4,
 "nbformat_minor": 2
}
