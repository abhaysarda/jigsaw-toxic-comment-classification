{
 "cells": [
  {
   "cell_type": "code",
   "execution_count": 1,
   "metadata": {
    "collapsed": true
   },
   "outputs": [],
   "source": [
    "import pandas as pd, numpy as np\n",
    "import sklearn\n",
    "import scipy.sparse\n",
    "import warnings\n",
    "warnings.filterwarnings('ignore')\n",
    "from sklearn.feature_extraction.text import CountVectorizer\n",
    "from scipy import sparse\n",
    "from sklearn.metrics import confusion_matrix\n",
    "from bs4 import BeautifulSoup\n",
    "import re\n",
    "from sklearn.metrics import f1_score\n",
    "from sklearn.linear_model import LogisticRegression\n",
    "from sklearn.naive_bayes import MultinomialNB"
   ]
  },
  {
   "cell_type": "code",
   "execution_count": 2,
   "metadata": {
    "collapsed": true
   },
   "outputs": [],
   "source": [
    "train_data = pd.read_csv('../data/raw_data/train.csv')\n",
    "test_data = pd.read_csv('../data/raw_data/test.csv')\n",
    "\n",
    "train_labels=(train_data[\"Labels\"])\n",
    "test_labels = test_data[\"Labels\"]\n",
    "\n",
    "corpus_train = train_data[\"Comment\"]\n",
    "corpus_test = test_data[\"Comment\"]"
   ]
  },
  {
   "cell_type": "code",
   "execution_count": 3,
   "metadata": {},
   "outputs": [
    {
     "data": {
      "text/plain": [
       "(63978, 2)"
      ]
     },
     "execution_count": 3,
     "metadata": {},
     "output_type": "execute_result"
    }
   ],
   "source": [
    "test_data.shape"
   ]
  },
  {
   "cell_type": "code",
   "execution_count": 9,
   "metadata": {
    "collapsed": true
   },
   "outputs": [],
   "source": [
    "# vectorizer = CountVectorizer(strip_accents='unicode',lowercase=True,stop_words='english',ngram_range=(1, i))\n",
    "# train_feature_vectors_sparse = vectorizer.fit_transform(corpus_train)\n",
    "# test_feature_vectors_sparse = vectorizer.fit_transform(corpus_test)"
   ]
  },
  {
   "cell_type": "code",
   "execution_count": 17,
   "metadata": {
    "collapsed": true
   },
   "outputs": [],
   "source": [
    "from sklearn.pipeline import Pipeline\n",
    "pipeline = Pipeline([\n",
    "    ('cv', CountVectorizer(strip_accents='unicode',lowercase=True,stop_words='english',token_pattern=r'\\w{1,}')),\n",
    "    ('clf',MultinomialNB())\n",
    "])\n"
   ]
  },
  {
   "cell_type": "code",
   "execution_count": 18,
   "metadata": {
    "collapsed": true
   },
   "outputs": [],
   "source": [
    "from sklearn.metrics import make_scorer\n",
    "\n",
    "from sklearn.model_selection import GridSearchCV\n",
    "# tfidf_transformer = TfidfTransformer()\n",
    "parameters = {'cv__ngram_range':((1, 1),(2, 2),(3, 3),(1, 2),(1, 3))}\n",
    "grid = GridSearchCV(pipeline, parameters, scoring = make_scorer(f1_score), cv=5, error_score=0.0, verbose=10)\n"
   ]
  },
  {
   "cell_type": "code",
   "execution_count": 19,
   "metadata": {
    "scrolled": true
   },
   "outputs": [
    {
     "name": "stdout",
     "output_type": "stream",
     "text": [
      "Fitting 5 folds for each of 5 candidates, totalling 25 fits\n",
      "[CV] cv__ngram_range=(1, 1) ..........................................\n"
     ]
    },
    {
     "name": "stderr",
     "output_type": "stream",
     "text": [
      "[Parallel(n_jobs=1)]: Using backend SequentialBackend with 1 concurrent workers.\n"
     ]
    },
    {
     "name": "stdout",
     "output_type": "stream",
     "text": [
      "[CV] . cv__ngram_range=(1, 1), score=0.7100818387602299, total=   9.3s\n",
      "[CV] cv__ngram_range=(1, 1) ..........................................\n"
     ]
    },
    {
     "name": "stderr",
     "output_type": "stream",
     "text": [
      "[Parallel(n_jobs=1)]: Done   1 out of   1 | elapsed:   17.1s remaining:    0.0s\n"
     ]
    },
    {
     "name": "stdout",
     "output_type": "stream",
     "text": [
      "[CV] . cv__ngram_range=(1, 1), score=0.7146853146853145, total=  11.4s\n",
      "[CV] cv__ngram_range=(1, 1) ..........................................\n"
     ]
    },
    {
     "name": "stderr",
     "output_type": "stream",
     "text": [
      "[Parallel(n_jobs=1)]: Done   2 out of   2 | elapsed:   37.5s remaining:    0.0s\n"
     ]
    },
    {
     "name": "stdout",
     "output_type": "stream",
     "text": [
      "[CV] . cv__ngram_range=(1, 1), score=0.7019264448336253, total=  13.1s\n",
      "[CV] cv__ngram_range=(1, 1) ..........................................\n"
     ]
    },
    {
     "name": "stderr",
     "output_type": "stream",
     "text": [
      "[Parallel(n_jobs=1)]: Done   3 out of   3 | elapsed:   57.5s remaining:    0.0s\n"
     ]
    },
    {
     "name": "stdout",
     "output_type": "stream",
     "text": [
      "[CV] . cv__ngram_range=(1, 1), score=0.7035531200282835, total=   9.0s\n",
      "[CV] cv__ngram_range=(1, 1) ..........................................\n"
     ]
    },
    {
     "name": "stderr",
     "output_type": "stream",
     "text": [
      "[Parallel(n_jobs=1)]: Done   4 out of   4 | elapsed:  1.2min remaining:    0.0s\n"
     ]
    },
    {
     "name": "stdout",
     "output_type": "stream",
     "text": [
      "[CV] . cv__ngram_range=(1, 1), score=0.7195951840865469, total=   9.9s\n",
      "[CV] cv__ngram_range=(2, 2) ..........................................\n"
     ]
    },
    {
     "name": "stderr",
     "output_type": "stream",
     "text": [
      "[Parallel(n_jobs=1)]: Done   5 out of   5 | elapsed:  1.5min remaining:    0.0s\n"
     ]
    },
    {
     "name": "stdout",
     "output_type": "stream",
     "text": [
      "[CV]  cv__ngram_range=(2, 2), score=0.45357548240635637, total=  26.3s\n",
      "[CV] cv__ngram_range=(2, 2) ..........................................\n"
     ]
    },
    {
     "name": "stderr",
     "output_type": "stream",
     "text": [
      "[Parallel(n_jobs=1)]: Done   6 out of   6 | elapsed:  2.1min remaining:    0.0s\n"
     ]
    },
    {
     "name": "stdout",
     "output_type": "stream",
     "text": [
      "[CV]  cv__ngram_range=(2, 2), score=0.46258812826927453, total=  26.0s\n",
      "[CV] cv__ngram_range=(2, 2) ..........................................\n"
     ]
    },
    {
     "name": "stderr",
     "output_type": "stream",
     "text": [
      "[Parallel(n_jobs=1)]: Done   7 out of   7 | elapsed:  2.7min remaining:    0.0s\n"
     ]
    },
    {
     "name": "stdout",
     "output_type": "stream",
     "text": [
      "[CV]  cv__ngram_range=(2, 2), score=0.45880746472462447, total=  25.7s\n",
      "[CV] cv__ngram_range=(2, 2) ..........................................\n"
     ]
    },
    {
     "name": "stderr",
     "output_type": "stream",
     "text": [
      "[Parallel(n_jobs=1)]: Done   8 out of   8 | elapsed:  3.3min remaining:    0.0s\n"
     ]
    },
    {
     "name": "stdout",
     "output_type": "stream",
     "text": [
      "[CV] . cv__ngram_range=(2, 2), score=0.4498521719354105, total=  26.4s\n",
      "[CV] cv__ngram_range=(2, 2) ..........................................\n"
     ]
    },
    {
     "name": "stderr",
     "output_type": "stream",
     "text": [
      "[Parallel(n_jobs=1)]: Done   9 out of   9 | elapsed:  3.9min remaining:    0.0s\n"
     ]
    },
    {
     "name": "stdout",
     "output_type": "stream",
     "text": [
      "[CV]  cv__ngram_range=(2, 2), score=0.46337615505972496, total=  27.1s\n",
      "[CV] cv__ngram_range=(3, 3) ..........................................\n",
      "[CV]  cv__ngram_range=(3, 3), score=0.21708278580814716, total=  33.1s\n",
      "[CV] cv__ngram_range=(3, 3) ..........................................\n",
      "[CV]  cv__ngram_range=(3, 3), score=0.22082018927444794, total=  41.5s\n",
      "[CV] cv__ngram_range=(3, 3) ..........................................\n",
      "[CV] . cv__ngram_range=(3, 3), score=0.2048417132216015, total=  44.6s\n",
      "[CV] cv__ngram_range=(3, 3) ..........................................\n",
      "[CV]  cv__ngram_range=(3, 3), score=0.20577427821522307, total=  43.0s\n",
      "[CV] cv__ngram_range=(3, 3) ..........................................\n",
      "[CV]  cv__ngram_range=(3, 3), score=0.20578095995757095, total=  47.5s\n",
      "[CV] cv__ngram_range=(1, 2) ..........................................\n",
      "[CV] . cv__ngram_range=(1, 2), score=0.5484221980413493, total=  45.0s\n",
      "[CV] cv__ngram_range=(1, 2) ..........................................\n",
      "[CV] . cv__ngram_range=(1, 2), score=0.5485639114229336, total=  44.6s\n",
      "[CV] cv__ngram_range=(1, 2) ..........................................\n",
      "[CV] . cv__ngram_range=(1, 2), score=0.5486262538159616, total=  31.6s\n",
      "[CV] cv__ngram_range=(1, 2) ..........................................\n",
      "[CV] . cv__ngram_range=(1, 2), score=0.5439824945295404, total=  35.9s\n",
      "[CV] cv__ngram_range=(1, 2) ..........................................\n",
      "[CV] . cv__ngram_range=(1, 2), score=0.5531358885017421, total=  35.4s\n",
      "[CV] cv__ngram_range=(1, 3) ..........................................\n",
      "[CV] .. cv__ngram_range=(1, 3), score=0.501806684733514, total= 1.2min\n",
      "[CV] cv__ngram_range=(1, 3) ..........................................\n",
      "[CV]  cv__ngram_range=(1, 3), score=0.49886724059809706, total= 1.2min\n",
      "[CV] cv__ngram_range=(1, 3) ..........................................\n",
      "[CV]  cv__ngram_range=(1, 3), score=0.49029901848892943, total= 1.2min\n",
      "[CV] cv__ngram_range=(1, 3) ..........................................\n",
      "[CV] . cv__ngram_range=(1, 3), score=0.4966047985513807, total= 1.2min\n",
      "[CV] cv__ngram_range=(1, 3) ..........................................\n",
      "[CV] . cv__ngram_range=(1, 3), score=0.4994340049807561, total= 1.2min\n"
     ]
    },
    {
     "name": "stderr",
     "output_type": "stream",
     "text": [
      "[Parallel(n_jobs=1)]: Done  25 out of  25 | elapsed: 21.8min finished\n"
     ]
    },
    {
     "data": {
      "text/plain": [
       "GridSearchCV(cv=5, error_score=0.0,\n",
       "       estimator=Pipeline(memory=None,\n",
       "     steps=[('cv', CountVectorizer(analyzer='word', binary=False, decode_error='strict',\n",
       "        dtype=<class 'numpy.int64'>, encoding='utf-8', input='content',\n",
       "        lowercase=True, max_df=1.0, max_features=None, min_df=1,\n",
       "        ngram_range=(1, 1), preprocessor=None, stop_words='english',\n",
       "        strip_accents='unicode', token_pattern='\\\\w{1,}', tokenizer=None,\n",
       "        vocabulary=None)), ('clf', MultinomialNB(alpha=1.0, class_prior=None, fit_prior=True))]),\n",
       "       fit_params=None, iid='warn', n_jobs=None,\n",
       "       param_grid={'cv__ngram_range': ((1, 1), (2, 2), (3, 3), (1, 2), (1, 3))},\n",
       "       pre_dispatch='2*n_jobs', refit=True, return_train_score='warn',\n",
       "       scoring=make_scorer(f1_score), verbose=10)"
      ]
     },
     "execution_count": 19,
     "metadata": {},
     "output_type": "execute_result"
    }
   ],
   "source": [
    "grid.fit(corpus_train, train_labels)"
   ]
  },
  {
   "cell_type": "code",
   "execution_count": 20,
   "metadata": {
    "scrolled": true
   },
   "outputs": [
    {
     "data": {
      "text/plain": [
       "0.70996838118982064"
      ]
     },
     "execution_count": 20,
     "metadata": {},
     "output_type": "execute_result"
    }
   ],
   "source": [
    "grid.best_score_"
   ]
  },
  {
   "cell_type": "code",
   "execution_count": 21,
   "metadata": {
    "scrolled": false
   },
   "outputs": [
    {
     "data": {
      "text/html": [
       "<div>\n",
       "<style>\n",
       "    .dataframe thead tr:only-child th {\n",
       "        text-align: right;\n",
       "    }\n",
       "\n",
       "    .dataframe thead th {\n",
       "        text-align: left;\n",
       "    }\n",
       "\n",
       "    .dataframe tbody tr th {\n",
       "        vertical-align: top;\n",
       "    }\n",
       "</style>\n",
       "<table border=\"1\" class=\"dataframe\">\n",
       "  <thead>\n",
       "    <tr style=\"text-align: right;\">\n",
       "      <th></th>\n",
       "      <th>mean_fit_time</th>\n",
       "      <th>mean_score_time</th>\n",
       "      <th>mean_test_score</th>\n",
       "      <th>mean_train_score</th>\n",
       "      <th>param_cv__ngram_range</th>\n",
       "      <th>params</th>\n",
       "      <th>rank_test_score</th>\n",
       "      <th>split0_test_score</th>\n",
       "      <th>split0_train_score</th>\n",
       "      <th>split1_test_score</th>\n",
       "      <th>...</th>\n",
       "      <th>split2_test_score</th>\n",
       "      <th>split2_train_score</th>\n",
       "      <th>split3_test_score</th>\n",
       "      <th>split3_train_score</th>\n",
       "      <th>split4_test_score</th>\n",
       "      <th>split4_train_score</th>\n",
       "      <th>std_fit_time</th>\n",
       "      <th>std_score_time</th>\n",
       "      <th>std_test_score</th>\n",
       "      <th>std_train_score</th>\n",
       "    </tr>\n",
       "  </thead>\n",
       "  <tbody>\n",
       "    <tr>\n",
       "      <th>0</th>\n",
       "      <td>8.489473</td>\n",
       "      <td>2.054676</td>\n",
       "      <td>0.709968</td>\n",
       "      <td>0.761823</td>\n",
       "      <td>(1, 1)</td>\n",
       "      <td>{'cv__ngram_range': (1, 1)}</td>\n",
       "      <td>1</td>\n",
       "      <td>0.710082</td>\n",
       "      <td>0.761749</td>\n",
       "      <td>0.714685</td>\n",
       "      <td>...</td>\n",
       "      <td>0.701926</td>\n",
       "      <td>0.761017</td>\n",
       "      <td>0.703553</td>\n",
       "      <td>0.762151</td>\n",
       "      <td>0.719595</td>\n",
       "      <td>0.762342</td>\n",
       "      <td>1.250331</td>\n",
       "      <td>0.362520</td>\n",
       "      <td>0.006645</td>\n",
       "      <td>0.000454</td>\n",
       "    </tr>\n",
       "    <tr>\n",
       "      <th>1</th>\n",
       "      <td>23.855005</td>\n",
       "      <td>2.461469</td>\n",
       "      <td>0.457640</td>\n",
       "      <td>0.922315</td>\n",
       "      <td>(2, 2)</td>\n",
       "      <td>{'cv__ngram_range': (2, 2)}</td>\n",
       "      <td>4</td>\n",
       "      <td>0.453575</td>\n",
       "      <td>0.922235</td>\n",
       "      <td>0.462588</td>\n",
       "      <td>...</td>\n",
       "      <td>0.458807</td>\n",
       "      <td>0.921617</td>\n",
       "      <td>0.449852</td>\n",
       "      <td>0.924979</td>\n",
       "      <td>0.463376</td>\n",
       "      <td>0.921740</td>\n",
       "      <td>0.460904</td>\n",
       "      <td>0.145632</td>\n",
       "      <td>0.005214</td>\n",
       "      <td>0.001388</td>\n",
       "    </tr>\n",
       "    <tr>\n",
       "      <th>2</th>\n",
       "      <td>38.812240</td>\n",
       "      <td>3.134367</td>\n",
       "      <td>0.210860</td>\n",
       "      <td>0.941015</td>\n",
       "      <td>(3, 3)</td>\n",
       "      <td>{'cv__ngram_range': (3, 3)}</td>\n",
       "      <td>5</td>\n",
       "      <td>0.217083</td>\n",
       "      <td>0.940780</td>\n",
       "      <td>0.220820</td>\n",
       "      <td>...</td>\n",
       "      <td>0.204842</td>\n",
       "      <td>0.940213</td>\n",
       "      <td>0.205774</td>\n",
       "      <td>0.941941</td>\n",
       "      <td>0.205781</td>\n",
       "      <td>0.941370</td>\n",
       "      <td>4.469182</td>\n",
       "      <td>0.471080</td>\n",
       "      <td>0.006720</td>\n",
       "      <td>0.000590</td>\n",
       "    </tr>\n",
       "    <tr>\n",
       "      <th>3</th>\n",
       "      <td>34.332621</td>\n",
       "      <td>4.165262</td>\n",
       "      <td>0.548546</td>\n",
       "      <td>0.864423</td>\n",
       "      <td>(1, 2)</td>\n",
       "      <td>{'cv__ngram_range': (1, 2)}</td>\n",
       "      <td>2</td>\n",
       "      <td>0.548422</td>\n",
       "      <td>0.865234</td>\n",
       "      <td>0.548564</td>\n",
       "      <td>...</td>\n",
       "      <td>0.548626</td>\n",
       "      <td>0.865488</td>\n",
       "      <td>0.543982</td>\n",
       "      <td>0.863886</td>\n",
       "      <td>0.553136</td>\n",
       "      <td>0.863760</td>\n",
       "      <td>5.007601</td>\n",
       "      <td>0.396512</td>\n",
       "      <td>0.002895</td>\n",
       "      <td>0.000772</td>\n",
       "    </tr>\n",
       "    <tr>\n",
       "      <th>4</th>\n",
       "      <td>65.880983</td>\n",
       "      <td>5.755076</td>\n",
       "      <td>0.497402</td>\n",
       "      <td>0.955078</td>\n",
       "      <td>(1, 3)</td>\n",
       "      <td>{'cv__ngram_range': (1, 3)}</td>\n",
       "      <td>3</td>\n",
       "      <td>0.501807</td>\n",
       "      <td>0.956449</td>\n",
       "      <td>0.498867</td>\n",
       "      <td>...</td>\n",
       "      <td>0.490299</td>\n",
       "      <td>0.954306</td>\n",
       "      <td>0.496605</td>\n",
       "      <td>0.955370</td>\n",
       "      <td>0.499434</td>\n",
       "      <td>0.955259</td>\n",
       "      <td>1.978157</td>\n",
       "      <td>0.282630</td>\n",
       "      <td>0.003918</td>\n",
       "      <td>0.000866</td>\n",
       "    </tr>\n",
       "  </tbody>\n",
       "</table>\n",
       "<p>5 rows × 21 columns</p>\n",
       "</div>"
      ],
      "text/plain": [
       "   mean_fit_time  mean_score_time  mean_test_score  mean_train_score  \\\n",
       "0       8.489473         2.054676         0.709968          0.761823   \n",
       "1      23.855005         2.461469         0.457640          0.922315   \n",
       "2      38.812240         3.134367         0.210860          0.941015   \n",
       "3      34.332621         4.165262         0.548546          0.864423   \n",
       "4      65.880983         5.755076         0.497402          0.955078   \n",
       "\n",
       "  param_cv__ngram_range                       params  rank_test_score  \\\n",
       "0                (1, 1)  {'cv__ngram_range': (1, 1)}                1   \n",
       "1                (2, 2)  {'cv__ngram_range': (2, 2)}                4   \n",
       "2                (3, 3)  {'cv__ngram_range': (3, 3)}                5   \n",
       "3                (1, 2)  {'cv__ngram_range': (1, 2)}                2   \n",
       "4                (1, 3)  {'cv__ngram_range': (1, 3)}                3   \n",
       "\n",
       "   split0_test_score  split0_train_score  split1_test_score       ...         \\\n",
       "0           0.710082            0.761749           0.714685       ...          \n",
       "1           0.453575            0.922235           0.462588       ...          \n",
       "2           0.217083            0.940780           0.220820       ...          \n",
       "3           0.548422            0.865234           0.548564       ...          \n",
       "4           0.501807            0.956449           0.498867       ...          \n",
       "\n",
       "   split2_test_score  split2_train_score  split3_test_score  \\\n",
       "0           0.701926            0.761017           0.703553   \n",
       "1           0.458807            0.921617           0.449852   \n",
       "2           0.204842            0.940213           0.205774   \n",
       "3           0.548626            0.865488           0.543982   \n",
       "4           0.490299            0.954306           0.496605   \n",
       "\n",
       "   split3_train_score  split4_test_score  split4_train_score  std_fit_time  \\\n",
       "0            0.762151           0.719595            0.762342      1.250331   \n",
       "1            0.924979           0.463376            0.921740      0.460904   \n",
       "2            0.941941           0.205781            0.941370      4.469182   \n",
       "3            0.863886           0.553136            0.863760      5.007601   \n",
       "4            0.955370           0.499434            0.955259      1.978157   \n",
       "\n",
       "   std_score_time  std_test_score  std_train_score  \n",
       "0        0.362520        0.006645         0.000454  \n",
       "1        0.145632        0.005214         0.001388  \n",
       "2        0.471080        0.006720         0.000590  \n",
       "3        0.396512        0.002895         0.000772  \n",
       "4        0.282630        0.003918         0.000866  \n",
       "\n",
       "[5 rows x 21 columns]"
      ]
     },
     "execution_count": 21,
     "metadata": {},
     "output_type": "execute_result"
    }
   ],
   "source": [
    "a = pd.DataFrame.from_dict(grid.cv_results_)\n",
    "a"
   ]
  },
  {
   "cell_type": "code",
   "execution_count": 22,
   "metadata": {},
   "outputs": [
    {
     "data": {
      "text/plain": [
       "Pipeline(memory=None,\n",
       "     steps=[('cv', CountVectorizer(analyzer='word', binary=False, decode_error='strict',\n",
       "        dtype=<class 'numpy.int64'>, encoding='utf-8', input='content',\n",
       "        lowercase=True, max_df=1.0, max_features=None, min_df=1,\n",
       "        ngram_range=(1, 1), preprocessor=None, stop_words='english',\n",
       "        strip_accents='unicode', token_pattern='\\\\w{1,}', tokenizer=None,\n",
       "        vocabulary=None)), ('clf', MultinomialNB(alpha=1.0, class_prior=None, fit_prior=True))])"
      ]
     },
     "execution_count": 22,
     "metadata": {},
     "output_type": "execute_result"
    }
   ],
   "source": [
    "grid.best_estimator_"
   ]
  },
  {
   "cell_type": "code",
   "execution_count": 4,
   "metadata": {},
   "outputs": [
    {
     "name": "stdout",
     "output_type": "stream",
     "text": [
      "Precision =  0.695338779433\n",
      "Recall =  0.550538998098\n",
      "F_score =  0.783340116564\n",
      "CCR =  0.914876988965\n",
      "ROC_AUC =  0.816977435096\n",
      "\n",
      "Confusion Matrix: \n",
      " [[54191  3544]\n",
      " [ 1902  4341]]\n",
      "\n"
     ]
    }
   ],
   "source": [
    "from sklearn.metrics import roc_auc_score\n",
    "\n",
    "vectorizer = CountVectorizer(strip_accents='unicode',lowercase=True,stop_words='english', ngram_range=(1, 1))\n",
    "\n",
    "train_feature_vectors_sparse = vectorizer.fit_transform(corpus_train)\n",
    "vectorizer_test = CountVectorizer(strip_accents='unicode',lowercase=True,stop_words='english', ngram_range=(1, 2),vocabulary=vectorizer.get_feature_names())\n",
    "test_feature_vectors_sparse = vectorizer_test.fit_transform(corpus_test)\n",
    "\n",
    "clf = MultinomialNB()\n",
    "\n",
    "clf.fit(train_feature_vectors_sparse, train_labels)\n",
    "\n",
    "predictions = clf.predict(test_feature_vectors_sparse)\n",
    "confmat = confusion_matrix(test_labels, predictions)\n",
    "\n",
    "precision = confmat[1,1]/(confmat[1,1] + confmat[1,0])\n",
    "recall = confmat[1,1]/(confmat[1,1] + confmat[0,1])\n",
    "fScore = f1_score(test_labels, predictions, average='macro')\n",
    "ccr = (confmat[0,0] + confmat[1,1])/(sum(sum(confmat)))\n",
    "roc_auc = roc_auc_score(test_labels, predictions)\n",
    "print(\"Precision = \",precision)\n",
    "print(\"Recall = \",recall)\n",
    "print(\"F_score = \",fScore)\n",
    "print(\"CCR = \",ccr)\n",
    "print(\"ROC_AUC = \", roc_auc)\n",
    "print()\n",
    "print(\"Confusion Matrix: \\n\", confmat)\n",
    "print()\n"
   ]
  },
  {
   "cell_type": "code",
   "execution_count": 5,
   "metadata": {
    "collapsed": true
   },
   "outputs": [],
   "source": [
    "import seaborn as sns\n",
    "import matplotlib.pyplot as plt\n",
    "fig, ax = plt.subplots(figsize=(10,10))         # Sample figsize in inches\n",
    "\n",
    "sns.set(font_scale=3.0)\n",
    "cm = pd.DataFrame(confmat);\n",
    "sns.heatmap(cm, annot=True, linewidths=.5, ax=ax,fmt='g')\n",
    "sns.set(font_scale=2.0)\n",
    "plt.ylabel('True label')\n",
    "plt.xlabel('Predicted label')\n",
    "# plt.show()\n",
    "plt.savefig('../CV_NB.png')"
   ]
  },
  {
   "cell_type": "code",
   "execution_count": null,
   "metadata": {
    "collapsed": true
   },
   "outputs": [],
   "source": []
  }
 ],
 "metadata": {
  "kernelspec": {
   "display_name": "Python 3",
   "language": "python",
   "name": "python3"
  },
  "language_info": {
   "codemirror_mode": {
    "name": "ipython",
    "version": 3
   },
   "file_extension": ".py",
   "mimetype": "text/x-python",
   "name": "python",
   "nbconvert_exporter": "python",
   "pygments_lexer": "ipython3",
   "version": "3.6.3"
  }
 },
 "nbformat": 4,
 "nbformat_minor": 2
}
