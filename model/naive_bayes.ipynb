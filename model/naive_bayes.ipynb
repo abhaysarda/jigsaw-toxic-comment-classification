{
 "cells": [
  {
   "cell_type": "markdown",
   "metadata": {},
   "source": [
    "# IMPORTS"
   ]
  },
  {
   "cell_type": "code",
   "execution_count": 3,
   "metadata": {
    "collapsed": true
   },
   "outputs": [],
   "source": [
    "import pandas as pd, numpy as np\n",
    "import sklearn\n",
    "import warnings\n",
    "warnings.filterwarnings('ignore')\n",
    "\n",
    "from ipynb.fs.full.Data_Preprocessing import remove_stop_words, make_feature_vec"
   ]
  },
  {
   "cell_type": "markdown",
   "metadata": {},
   "source": [
    "# TRAIN-TEST SPLIT + PROCESSING"
   ]
  },
  {
   "cell_type": "code",
   "execution_count": 4,
   "metadata": {},
   "outputs": [
    {
     "name": "stdout",
     "output_type": "stream",
     "text": [
      "6.26680286518227% of 100.0% processed\n",
      "12.53360573036454% of 100.0% processed\n",
      "18.80040859554681% of 100.0% processed\n",
      "25.06721146072908% of 100.0% processed\n",
      "31.33401432591135% of 100.0% processed\n",
      "37.60081719109362% of 100.0% processed\n",
      "43.86762005627589% of 100.0% processed\n",
      "50.13442292145816% of 100.0% processed\n",
      "56.40122578664043% of 100.0% processed\n",
      "62.6680286518227% of 100.0% processed\n",
      "68.93483151700497% of 100.0% processed\n",
      "75.20163438218724% of 100.0% processed\n",
      "81.46843724736951% of 100.0% processed\n",
      "87.73524011255178% of 100.0% processed\n",
      "94.00204297773405% of 100.0% processed\n",
      "Data processed!\n",
      "Starting to create bag of words...\n",
      "Bag of words created.\n",
      "Vocabulary size:168595\n"
     ]
    }
   ],
   "source": [
    "data = pd.read_csv('../data/train.csv')\n",
    "labels=(data[\"toxic\"] | data[\"severe_toxic\"] | data[\"obscene\"] | data[\"threat\"] | data[\"insult\"] | data[\"identity_hate\"])\n",
    "\n",
    "train_data = data[0:100000]\n",
    "train_labels = labels[0:100000]\n",
    "test_data = data[100001:]\n",
    "test_labels = labels[100001:]\n",
    "\n",
    "### CLEANING DATA \n",
    "clean_comments = remove_stop_words(data)\n",
    "ret = make_feature_vec(clean_comments)\n",
    "\n",
    "train_feature_vectors_sparse = ret['train_feature_vectors_sparse'][0:100000]\n",
    "test_feature_vectors_sparse = ret['train_feature_vectors_sparse'][100001:]\n",
    "vocab = ret['vocab']"
   ]
  },
  {
   "cell_type": "code",
   "execution_count": 5,
   "metadata": {},
   "outputs": [
    {
     "name": "stdout",
     "output_type": "stream",
     "text": [
      "Shape of train vec: (100000, 168595)\n",
      "Shape of test vec: (59570, 168595)\n"
     ]
    }
   ],
   "source": [
    "print(\"Shape of train vec:\", train_feature_vectors_sparse.shape)\n",
    "print(\"Shape of test vec:\", test_feature_vectors_sparse.shape)"
   ]
  },
  {
   "cell_type": "markdown",
   "metadata": {},
   "source": [
    "# TRAINING NB CLASSIFIER"
   ]
  },
  {
   "cell_type": "code",
   "execution_count": 6,
   "metadata": {},
   "outputs": [
    {
     "data": {
      "text/plain": [
       "ComplementNB(alpha=1.0, class_prior=None, fit_prior=True, norm=False)"
      ]
     },
     "execution_count": 6,
     "metadata": {},
     "output_type": "execute_result"
    }
   ],
   "source": [
    "from sklearn.naive_bayes import ComplementNB\n",
    "clf = ComplementNB()\n",
    "clf.fit(train_feature_vectors_sparse, train_labels)"
   ]
  },
  {
   "cell_type": "markdown",
   "metadata": {},
   "source": [
    "###### TEST DATA PROCESSING"
   ]
  },
  {
   "cell_type": "code",
   "execution_count": 7,
   "metadata": {
    "collapsed": true
   },
   "outputs": [],
   "source": [
    "##### STRAY BLOCK FOR LATER USAGE #####\n",
    "\n",
    "# # creating sparse representation of test feature vectors\n",
    "# vocab_mapping=set(zip([i for i in range (0,len(vocab))],vocab))\n",
    "# print(\"Starting to create bag of words...\")\n",
    "# vectorizer_test = CountVectorizer(analyzer=\"word\", tokenizer=None, preprocessor=None, vocabulary=vocab_mapping)\n",
    "# test_feature_vectors_sparse = vectorizer_test.fit_transform(clean_test_comments)\n",
    "# test_feature_vectors_full = test_feature_vectors_sparse.toarray()\n",
    "\n",
    "# print(\"Bag of words created.\")"
   ]
  },
  {
   "cell_type": "markdown",
   "metadata": {},
   "source": [
    "# PREDICTION"
   ]
  },
  {
   "cell_type": "code",
   "execution_count": 8,
   "metadata": {},
   "outputs": [
    {
     "name": "stdout",
     "output_type": "stream",
     "text": [
      "0.101292596945\n",
      "0.10191\n"
     ]
    }
   ],
   "source": [
    "predictions = clf.predict(test_feature_vectors_sparse)\n",
    "\n",
    "print(sum(test_labels)/len(test_labels))\n",
    "print(sum(train_labels)/len(train_labels))"
   ]
  },
  {
   "cell_type": "markdown",
   "metadata": {},
   "source": [
    "# PERFORMANCE METRICS"
   ]
  },
  {
   "cell_type": "code",
   "execution_count": 9,
   "metadata": {
    "collapsed": true
   },
   "outputs": [],
   "source": [
    "confmat = sklearn.metrics.confusion_matrix(test_labels, predictions)"
   ]
  },
  {
   "cell_type": "code",
   "execution_count": 10,
   "metadata": {},
   "outputs": [
    {
     "name": "stdout",
     "output_type": "stream",
     "text": [
      "Precision =  0.712462711303\n",
      "Recall =  0.588904109589\n",
      "F_score =  0.644817759112\n",
      "CCR =  0.92049689441\n"
     ]
    }
   ],
   "source": [
    "precision = confmat[1,1]/(confmat[1,1] + confmat[1,0])\n",
    "recall = confmat[1,1]/(confmat[1,1] + confmat[0,1])\n",
    "fScore = (2*precision*recall)/(recall+precision)\n",
    "ccr = (confmat[0,0] + confmat[1,1])/(sum(sum(confmat)))\n",
    "\n",
    "print(\"Precision = \",precision)\n",
    "print(\"Recall = \",recall)\n",
    "print(\"F_score = \",fScore)\n",
    "print(\"CCR = \",ccr)"
   ]
  },
  {
   "cell_type": "code",
   "execution_count": 11,
   "metadata": {},
   "outputs": [
    {
     "data": {
      "text/plain": [
       "array([[50535,  3001],\n",
       "       [ 1735,  4299]])"
      ]
     },
     "execution_count": 11,
     "metadata": {},
     "output_type": "execute_result"
    }
   ],
   "source": [
    "confmat"
   ]
  },
  {
   "cell_type": "code",
   "execution_count": 12,
   "metadata": {},
   "outputs": [
    {
     "data": {
      "text/plain": [
       "168595"
      ]
     },
     "execution_count": 12,
     "metadata": {},
     "output_type": "execute_result"
    }
   ],
   "source": [
    "len(vocab)"
   ]
  },
  {
   "cell_type": "code",
   "execution_count": null,
   "metadata": {
    "collapsed": true
   },
   "outputs": [],
   "source": []
  }
 ],
 "metadata": {
  "kernelspec": {
   "display_name": "Python 3",
   "language": "python",
   "name": "python3"
  },
  "language_info": {
   "codemirror_mode": {
    "name": "ipython",
    "version": 3
   },
   "file_extension": ".py",
   "mimetype": "text/x-python",
   "name": "python",
   "nbconvert_exporter": "python",
   "pygments_lexer": "ipython3",
   "version": "3.6.3"
  }
 },
 "nbformat": 4,
 "nbformat_minor": 2
}
