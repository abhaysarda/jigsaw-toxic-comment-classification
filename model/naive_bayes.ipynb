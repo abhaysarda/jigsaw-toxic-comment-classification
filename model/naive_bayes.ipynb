{
 "cells": [
  {
   "cell_type": "markdown",
   "metadata": {},
   "source": [
    "# IMPORTS"
   ]
  },
  {
   "cell_type": "code",
   "execution_count": 1,
   "metadata": {
    "collapsed": true
   },
   "outputs": [],
   "source": [
    "import pandas as pd, numpy as np\n",
    "import sklearn\n",
    "import scipy.sparse\n",
    "import warnings\n",
    "warnings.filterwarnings('ignore')\n",
    "from sklearn.feature_extraction.text import CountVectorizer\n",
    "from scipy import sparse"
   ]
  },
  {
   "cell_type": "markdown",
   "metadata": {},
   "source": [
    "## UNCOMMENT TO PROCESS DATA FROM SCRATCH"
   ]
  },
  {
   "cell_type": "code",
   "execution_count": 18,
   "metadata": {},
   "outputs": [
    {
     "data": {
      "text/plain": [
       "pandas.core.frame.DataFrame"
      ]
     },
     "execution_count": 18,
     "metadata": {},
     "output_type": "execute_result"
    }
   ],
   "source": [
    "data = pd.read_csv('../data/raw_data/blah.csv')\n",
    "labels=(data[\"toxic\"] | data[\"severe_toxic\"] | data[\"obscene\"] | data[\"threat\"] | data[\"insult\"] | data[\"identity_hate\"])\n",
    "# labels=data[\"Labels\"]\n",
    "train_data = data[0:100000]\n",
    "test_data = data[100001:]\n",
    "train_labels = labels[0:100000]\n",
    "test_labels = labels[100001:]\n",
    "\n",
    "## CLEANING DATA \n",
    "# clean_comments = remove_stop_words(data)\n",
    "# ret = make_feature_vec(clean_comments)\n",
    "\n",
    "type(data)"
   ]
  },
  {
   "cell_type": "code",
   "execution_count": 3,
   "metadata": {
    "collapsed": true
   },
   "outputs": [],
   "source": [
    "corpus = data[\"comment_text\"]\n",
    "vectorizer = CountVectorizer(strip_accents='unicode',lowercase=True,stop_words='english', analyzer=\"word\",token_pattern=r'\\w{1,}')\n",
    "X = vectorizer.fit_transform(corpus)\n",
    "\n",
    "vocab = vectorizer.get_feature_names()\n",
    "train_feature_vectors_sparse = X[0:100000]\n",
    "test_feature_vectors_sparse = X[100001:]\n"
   ]
  },
  {
   "cell_type": "markdown",
   "metadata": {},
   "source": [
    "# USE ALREADY PROCESSED DATA"
   ]
  },
  {
   "cell_type": "code",
   "execution_count": 4,
   "metadata": {
    "collapsed": true
   },
   "outputs": [],
   "source": [
    "# labels = pd.read_csv('../data/Processed/labels.csv')[\"labels\"]\n",
    "# train_labels = labels[0:100000]\n",
    "# test_labels = labels[100001:]\n",
    "\n",
    "# train_feature_vectors_sparse_load = scipy.sparse.load_npz('../data/Processed/sparse_train_matrix.npz')\n",
    "\n",
    "# train_feature_vectors_sparse = train_feature_vectors_sparse_load[0:100000]\n",
    "# test_feature_vectors_sparse = train_feature_vectors_sparse_load[100001:]\n",
    "# vocab = pd.read_csv('../data/Processed/vocab.csv')[\"vocab\"]"
   ]
  },
  {
   "cell_type": "code",
   "execution_count": 5,
   "metadata": {},
   "outputs": [
    {
     "name": "stdout",
     "output_type": "stream",
     "text": [
      "Shape of train vec: (100000, 188744)\n",
      "Shape of test vec: (59570, 188744)\n"
     ]
    }
   ],
   "source": [
    "print(\"Shape of train vec:\", train_feature_vectors_sparse.shape)\n",
    "print(\"Shape of test vec:\", test_feature_vectors_sparse.shape)"
   ]
  },
  {
   "cell_type": "markdown",
   "metadata": {},
   "source": [
    "# TRAINING COMPLEMENT-NB CLASSIFIER"
   ]
  },
  {
   "cell_type": "code",
   "execution_count": 49,
   "metadata": {},
   "outputs": [
    {
     "name": "stdout",
     "output_type": "stream",
     "text": [
      "% of 1s in taining data 0.101292596945\n",
      "% if 1s in test data 0.10191\n",
      "\n",
      "Precision =  0.694066953928\n",
      "Recall =  0.596071733561\n",
      "F_score =  0.64134762634\n",
      "CCR =  0.921369817022\n",
      "\n",
      "Confusion Matrix: \n",
      " [[50698  2838]\n",
      " [ 1846  4188]]\n"
     ]
    }
   ],
   "source": [
    "#TRAINING\n",
    "from sklearn.naive_bayes import ComplementNB\n",
    "from sklearn.metrics import confusion_matrix\n",
    "clf = ComplementNB()\n",
    "clf.fit(train_feature_vectors_sparse, train_labels)\n",
    "\n",
    "# PREDICTION\n",
    "predictions = clf.predict(test_feature_vectors_sparse)\n",
    "\n",
    "print(\"% of 1s in taining data\",sum(test_labels)/len(test_labels))\n",
    "print(\"% if 1s in test data\", sum(train_labels)/len(train_labels))\n",
    "print()\n",
    "\n",
    "# PERFORMANCE METRICS\n",
    "\n",
    "confmat = confusion_matrix(test_labels, predictions)\n",
    "\n",
    "precision = confmat[1,1]/(confmat[1,1] + confmat[1,0])\n",
    "recall = confmat[1,1]/(confmat[1,1] + confmat[0,1])\n",
    "fScore = (2*precision*recall)/(recall+precision)\n",
    "ccr = (confmat[0,0] + confmat[1,1])/(sum(sum(confmat)))\n",
    "\n",
    "print(\"Precision = \",precision)\n",
    "print(\"Recall = \",recall)\n",
    "print(\"F_score = \",fScore)\n",
    "print(\"CCR = \",ccr)\n",
    "print()\n",
    "print(\"Confusion Matrix: \\n\", confmat)"
   ]
  },
  {
   "cell_type": "markdown",
   "metadata": {},
   "source": [
    "###### TEST DATA PROCESSING - STRAY BLOCK FOR LATER USAGE"
   ]
  },
  {
   "cell_type": "code",
   "execution_count": 6,
   "metadata": {
    "collapsed": true
   },
   "outputs": [],
   "source": [
    "##### STRAY BLOCK FOR LATER USAGE #####\n",
    "\n",
    "# # creating sparse representation of test feature vectors\n",
    "# vocab_mapping=set(zip([i for i in range (0,len(vocab))],vocab))\n",
    "# print(\"Starting to create bag of words...\")\n",
    "# vectorizer_test = CountVectorizer(analyzer=\"word\", tokenizer=None, preprocessor=None, vocabulary=vocab_mapping)\n",
    "# test_feature_vectors_sparse = vectorizer_test.fit_transform(clean_test_comments)\n",
    "test_feature_vectors_full = test_feature_vectors_sparse.toarray()\n",
    "train_feature_vectors_full = train_feature_vectors_sparse.toarray()\n",
    "# print(\"Bag of words created.\")"
   ]
  },
  {
   "cell_type": "markdown",
   "metadata": {},
   "source": [
    "# USING NORMAL MULTINOMIAL-NB, THE F-SCORE DECREASES"
   ]
  },
  {
   "cell_type": "code",
   "execution_count": 51,
   "metadata": {},
   "outputs": [
    {
     "name": "stdout",
     "output_type": "stream",
     "text": [
      "Precision =  0.602088167053\n",
      "Recall =  0.763716628127\n",
      "F_score =  0.673338893522\n",
      "CCR =  0.940825919087\n",
      "\n",
      "Confusion Matrix: \n",
      " [[52412  1124]\n",
      " [ 2401  3633]]\n"
     ]
    }
   ],
   "source": [
    "# TRAINING\n",
    "from sklearn.naive_bayes import MultinomialNB\n",
    "clf = MultinomialNB()\n",
    "clf.fit(train_feature_vectors_sparse, train_labels)\n",
    "\n",
    "# PREDICTION\n",
    "predictions = clf.predict(test_feature_vectors_sparse)\n",
    "\n",
    "\n",
    "# PERFORMANCE METRICS\n",
    "\n",
    "confmat = sklearn.metrics.confusion_matrix(test_labels, predictions)\n",
    "\n",
    "precision = confmat[1,1]/(confmat[1,1] + confmat[1,0])\n",
    "recall = confmat[1,1]/(confmat[1,1] + confmat[0,1])\n",
    "fScore = (2*precision*recall)/(recall+precision)\n",
    "ccr = (confmat[0,0] + confmat[1,1])/(sum(sum(confmat)))\n",
    "\n",
    "print(\"Precision = \",precision)\n",
    "print(\"Recall = \",recall)\n",
    "print(\"F_score = \",fScore)\n",
    "print(\"CCR = \",ccr)\n",
    "print()\n",
    "print(\"Confusion Matrix: \\n\", confmat)"
   ]
  },
  {
   "cell_type": "markdown",
   "metadata": {
    "collapsed": true
   },
   "source": [
    "# TF-IDF"
   ]
  },
  {
   "cell_type": "code",
   "execution_count": 52,
   "metadata": {},
   "outputs": [
    {
     "data": {
      "text/plain": [
       "TfidfTransformer(norm=None, smooth_idf=True, sublinear_tf=False, use_idf=True)"
      ]
     },
     "execution_count": 52,
     "metadata": {},
     "output_type": "execute_result"
    }
   ],
   "source": [
    "from sklearn.feature_extraction.text import TfidfTransformer\n",
    "tfidf_transformer = TfidfTransformer(norm=None, use_idf=True, smooth_idf=True, sublinear_tf=False)\n",
    "X_train_tfidf = tfidf_transformer.fit_transform(train_feature_vectors_sparse)\n",
    "X_test_tfidf = tfidf_transformer.transform(test_feature_vectors_sparse)\n",
    "tfidf_transformer"
   ]
  },
  {
   "cell_type": "markdown",
   "metadata": {},
   "source": [
    "### Multinomial NB"
   ]
  },
  {
   "cell_type": "code",
   "execution_count": 53,
   "metadata": {},
   "outputs": [
    {
     "name": "stdout",
     "output_type": "stream",
     "text": [
      "Precision =  0.803115677826\n",
      "Recall =  0.442274345167\n",
      "F_score =  0.570419633924\n",
      "CCR =  0.87747188182\n",
      "\n",
      "Confusion Matrix: \n",
      " [[47425  6111]\n",
      " [ 1188  4846]]\n"
     ]
    }
   ],
   "source": [
    "# TRAINING\n",
    "from sklearn.naive_bayes import MultinomialNB\n",
    "clf = MultinomialNB()\n",
    "clf.fit(X_train_tfidf, train_labels)\n",
    "\n",
    "# PREDICTION\n",
    "predictions = clf.predict(X_test_tfidf)\n",
    "\n",
    "\n",
    "# PERFORMANCE METRICS\n",
    "\n",
    "confmat = sklearn.metrics.confusion_matrix(test_labels, predictions)\n",
    "\n",
    "precision = confmat[1,1]/(confmat[1,1] + confmat[1,0])\n",
    "recall = confmat[1,1]/(confmat[1,1] + confmat[0,1])\n",
    "fScore = (2*precision*recall)/(recall+precision)\n",
    "ccr = (confmat[0,0] + confmat[1,1])/(sum(sum(confmat)))\n",
    "\n",
    "print(\"Precision = \",precision)\n",
    "print(\"Recall = \",recall)\n",
    "print(\"F_score = \",fScore)\n",
    "print(\"CCR = \",ccr)\n",
    "print()\n",
    "print(\"Confusion Matrix: \\n\", confmat)"
   ]
  },
  {
   "cell_type": "markdown",
   "metadata": {},
   "source": [
    "### Complement NB"
   ]
  },
  {
   "cell_type": "code",
   "execution_count": 54,
   "metadata": {},
   "outputs": [
    {
     "name": "stdout",
     "output_type": "stream",
     "text": [
      "Precision =  0.812562147829\n",
      "Recall =  0.425718503082\n",
      "F_score =  0.558714603157\n",
      "CCR =  0.869984891724\n",
      "\n",
      "Confusion Matrix: \n",
      " [[46922  6614]\n",
      " [ 1131  4903]]\n"
     ]
    }
   ],
   "source": [
    "# TRAINING\n",
    "from sklearn.naive_bayes import ComplementNB\n",
    "clf = ComplementNB()\n",
    "clf.fit(X_train_tfidf, train_labels)\n",
    "\n",
    "# PREDICTION\n",
    "predictions = clf.predict(X_test_tfidf)\n",
    "\n",
    "\n",
    "# PERFORMANCE METRICS\n",
    "\n",
    "confmat = sklearn.metrics.confusion_matrix(test_labels, predictions)\n",
    "\n",
    "precision = confmat[1,1]/(confmat[1,1] + confmat[1,0])\n",
    "recall = confmat[1,1]/(confmat[1,1] + confmat[0,1])\n",
    "fScore = (2*precision*recall)/(recall+precision)\n",
    "ccr = (confmat[0,0] + confmat[1,1])/(sum(sum(confmat)))\n",
    "\n",
    "print(\"Precision = \",precision)\n",
    "print(\"Recall = \",recall)\n",
    "print(\"F_score = \",fScore)\n",
    "print(\"CCR = \",ccr)\n",
    "print()\n",
    "print(\"Confusion Matrix: \\n\", confmat)"
   ]
  },
  {
   "cell_type": "markdown",
   "metadata": {},
   "source": [
    "# GAUSSIAN NAIVE BAYES"
   ]
  },
  {
   "cell_type": "code",
   "execution_count": 1,
   "metadata": {
    "collapsed": true
   },
   "outputs": [],
   "source": [
    "# # TRAINING\n",
    "# from sklearn.naive_bayes import GaussianNB\n",
    "# clf = GaussianNB()\n",
    "\n",
    "# for i in range(0, 10000):\n",
    "#     if(i%100 == 0):\n",
    "        \n",
    "#         print(\"Iter\", (i/100) + 1, \"of\", 100)\n",
    "#     clf.partial_fit(train_feature_vectors_full[10*i:10*(i+1), :], train_labels[10*i:10*(i+1)], classes=np.array([0,1]), sample_weight=None)\n",
    "\n",
    "# # PREDICTION\n",
    "# predictions = clf.predict(test_feature_vectors_full)\n",
    "\n",
    "\n",
    "# # PERFORMANCE METRICS\n",
    "\n",
    "# confmat = sklearn.metrics.confusion_matrix(test_labels, predictions)\n",
    "\n",
    "# precision = confmat[1,1]/(confmat[1,1] + confmat[1,0])\n",
    "# recall = confmat[1,1]/(confmat[1,1] + confmat[0,1])\n",
    "# fScore = (2*precision*recall)/(recall+precision)\n",
    "# ccr = (confmat[0,0] + confmat[1,1])/(sum(sum(confmat)))\n",
    "\n",
    "# print(\"Precision = \",precision)\n",
    "# print(\"Recall = \",recall)\n",
    "# print(\"F_score = \",fScore)\n",
    "# print(\"CCR = \",ccr)\n",
    "# print()\n",
    "# print(\"Confusion Matrix: \\n\", confmat)"
   ]
  },
  {
   "cell_type": "markdown",
   "metadata": {
    "collapsed": true
   },
   "source": [
    "# WORD2VEC"
   ]
  },
  {
   "cell_type": "code",
   "execution_count": 6,
   "metadata": {
    "collapsed": true
   },
   "outputs": [],
   "source": [
    "analyze = vectorizer.build_analyzer()\n",
    "\n",
    "sentences = []\n",
    "for comment in data[\"comment_text\"]:    \n",
    "    sentences.append(analyze(comment))\n"
   ]
  },
  {
   "cell_type": "code",
   "execution_count": 7,
   "metadata": {
    "collapsed": true
   },
   "outputs": [],
   "source": [
    "# Set values for various parameters\n",
    "num_features = 300    # Word vector dimensionality                      \n",
    "min_word_count = 1   # Minimum word count                        \n",
    "num_workers = 4       # Number of threads to run in parallel\n",
    "context = 10          # Context window size                                                                                    \n",
    "downsampling = 1e-3   # Downsample setting for frequent words\n",
    "\n",
    "from gensim.models import word2vec\n",
    "model = word2vec.Word2Vec(sentences, workers=num_workers, \\\n",
    "            size=num_features, min_count = min_word_count, \\\n",
    "            window = context, sample = downsampling)"
   ]
  },
  {
   "cell_type": "code",
   "execution_count": 8,
   "metadata": {
    "collapsed": true
   },
   "outputs": [],
   "source": [
    "word2vec_matrix = model.wv.vectors\n",
    "word2vec_matrix_sparse = sparse.csr_matrix(word2vec_matrix)\n",
    "\n",
    "f = np.dot(X,word2vec_matrix_sparse)\n",
    "train_feature_vectors_full = f[0:100000].toarray()\n",
    "test_feature_vectors_full = f[100001:].toarray()\n"
   ]
  },
  {
   "cell_type": "code",
   "execution_count": 17,
   "metadata": {},
   "outputs": [
    {
     "data": {
      "image/png": "[encoded data removed]",
      "text/plain": [
       "<matplotlib.figure.Figure at 0x1aae2a7320>"
      ]
     },
     "metadata": {},
     "output_type": "display_data"
    }
   ],
   "source": [
    "import matplotlib.pyplot as plt\n",
    "plt.plot(train_feature_vectors_full[:,1])\n",
    "plt.plot(train_feature_vectors_full[:,200])\n",
    "plt.show()"
   ]
  },
  {
   "cell_type": "code",
   "execution_count": 11,
   "metadata": {},
   "outputs": [
    {
     "name": "stdout",
     "output_type": "stream",
     "text": [
      "Precision =  0.038283062645\n",
      "Recall =  0.0609498680739\n",
      "F_score =  0.0470276872964\n",
      "CCR =  0.842840355884\n",
      "\n",
      "Confusion Matrix: \n",
      " [[49977  3559]\n",
      " [ 5803   231]]\n"
     ]
    }
   ],
   "source": [
    "# TRAINING\n",
    "from sklearn.metrics import confusion_matrix\n",
    "from sklearn.naive_bayes import GaussianNB\n",
    "clf = GaussianNB()\n",
    "\n",
    "clf.fit(train_feature_vectors_full, train_labels)\n",
    "\n",
    "# PREDICTION\n",
    "predictions = clf.predict(test_feature_vectors_full)\n",
    "\n",
    "\n",
    "# PERFORMANCE METRICS\n",
    "\n",
    "confmat = confusion_matrix(test_labels, predictions)\n",
    "\n",
    "precision = confmat[1,1]/(confmat[1,1] + confmat[1,0])\n",
    "recall = confmat[1,1]/(confmat[1,1] + confmat[0,1])\n",
    "fScore = (2*precision*recall)/(recall+precision)\n",
    "ccr = (confmat[0,0] + confmat[1,1])/(sum(sum(confmat)))\n",
    "\n",
    "print(\"Precision = \",precision)\n",
    "print(\"Recall = \",recall)\n",
    "print(\"F_score = \",fScore)\n",
    "print(\"CCR = \",ccr)\n",
    "print()\n",
    "print(\"Confusion Matrix: \\n\", confmat)"
   ]
  },
  {
   "cell_type": "code",
   "execution_count": null,
   "metadata": {
    "collapsed": true
   },
   "outputs": [],
   "source": []
  }
 ],
 "metadata": {
  "kernelspec": {
   "display_name": "Python 3",
   "language": "python",
   "name": "python3"
  },
  "language_info": {
   "codemirror_mode": {
    "name": "ipython",
    "version": 3
   },
   "file_extension": ".py",
   "mimetype": "text/x-python",
   "name": "python",
   "nbconvert_exporter": "python",
   "pygments_lexer": "ipython3",
   "version": "3.6.3"
  }
 },
 "nbformat": 4,
 "nbformat_minor": 2
}
