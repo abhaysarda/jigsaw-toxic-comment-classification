{
 "cells": [
  {
   "cell_type": "code",
   "execution_count": 12,
   "metadata": {
    "collapsed": true
   },
   "outputs": [],
   "source": [
    "import pandas as pd, numpy as np\n",
    "import warnings\n",
    "warnings.filterwarnings('ignore')\n",
    "\n",
    "from ipynb.fs.full.Data_Preprocessing import remove_stop_words, make_feature_vec"
   ]
  },
  {
   "cell_type": "code",
   "execution_count": 14,
   "metadata": {},
   "outputs": [
    {
     "name": "stdout",
     "output_type": "stream",
     "text": [
      "10.0% of 100.0% processed\n",
      "20.0% of 100.0% processed\n",
      "30.0% of 100.0% processed\n",
      "40.0% of 100.0% processed\n",
      "50.0% of 100.0% processed\n",
      "60.0% of 100.0% processed\n",
      "70.0% of 100.0% processed\n",
      "80.0% of 100.0% processed\n",
      "90.0% of 100.0% processed\n",
      "100.0% of 100.0% processed\n",
      "Data processed!\n",
      "Starting to create bag of words...\n",
      "Bag of words created.\n",
      "Vocabulary size:128467\n"
     ]
    }
   ],
   "source": [
    "data = pd.read_csv('data/train.csv')\n",
    "labels=(train_data[\"toxic\"] | train_data[\"severe_toxic\"] | train_data[\"obscene\"] | train_data[\"threat\"] | train_data[\"insult\"] | train_data[\"identity_hate\"])\n",
    "\n",
    "train_data = data[0:100000]\n",
    "train_labels = labels[0:100000]\n",
    "test_data = train_data[100001:]\n",
    "test_labels = train_labels[100001:]\n",
    "\n",
    "### CLEANING DATA \n",
    "clean_comments = remove_stop_words(train_data)\n",
    "ret = make_feature_vec(clean_comments)\n",
    "\n",
    "train_feature_vectors_sparse = ret['train_feature_vectors_sparse']\n",
    "vocab = ret['vocab']"
   ]
  },
  {
   "cell_type": "code",
   "execution_count": 16,
   "metadata": {},
   "outputs": [
    {
     "data": {
      "text/plain": [
       "(100000, 128467)"
      ]
     },
     "execution_count": 16,
     "metadata": {},
     "output_type": "execute_result"
    }
   ],
   "source": [
    "train_feature_vectors_sparse.shape\n"
   ]
  },
  {
   "cell_type": "code",
   "execution_count": 11,
   "metadata": {},
   "outputs": [
    {
     "data": {
      "text/plain": [
       "ComplementNB(alpha=1.0, class_prior=None, fit_prior=True, norm=False)"
      ]
     },
     "execution_count": 11,
     "metadata": {},
     "output_type": "execute_result"
    }
   ],
   "source": [
    "from sklearn.naive_bayes import ComplementNB\n",
    "clf = ComplementNB()\n",
    "clf.fit(train_feature_vectors_sparse, train_labels)"
   ]
  },
  {
   "cell_type": "markdown",
   "metadata": {},
   "source": [
    "# TEST DATA PROCESSING"
   ]
  },
  {
   "cell_type": "code",
   "execution_count": 58,
   "metadata": {},
   "outputs": [
    {
     "data": {
      "text/html": [
       "<div>\n",
       "<style>\n",
       "    .dataframe thead tr:only-child th {\n",
       "        text-align: right;\n",
       "    }\n",
       "\n",
       "    .dataframe thead th {\n",
       "        text-align: left;\n",
       "    }\n",
       "\n",
       "    .dataframe tbody tr th {\n",
       "        vertical-align: top;\n",
       "    }\n",
       "</style>\n",
       "<table border=\"1\" class=\"dataframe\">\n",
       "  <thead>\n",
       "    <tr style=\"text-align: right;\">\n",
       "      <th></th>\n",
       "      <th>id</th>\n",
       "      <th>comment_text</th>\n",
       "      <th>toxic</th>\n",
       "      <th>severe_toxic</th>\n",
       "      <th>obscene</th>\n",
       "      <th>threat</th>\n",
       "      <th>insult</th>\n",
       "      <th>identity_hate</th>\n",
       "    </tr>\n",
       "  </thead>\n",
       "  <tbody>\n",
       "    <tr>\n",
       "      <th>100001</th>\n",
       "      <td>17359f940f219872</td>\n",
       "      <td>\"\\n\\n Nice tavern article \\n\\nArticles like th...</td>\n",
       "      <td>0</td>\n",
       "      <td>0</td>\n",
       "      <td>0</td>\n",
       "      <td>0</td>\n",
       "      <td>0</td>\n",
       "      <td>0</td>\n",
       "    </tr>\n",
       "    <tr>\n",
       "      <th>100002</th>\n",
       "      <td>173693e634e1a6cf</td>\n",
       "      <td>MfD nomination of User:Wikitrevor/Sandbox\\n. Y...</td>\n",
       "      <td>0</td>\n",
       "      <td>0</td>\n",
       "      <td>0</td>\n",
       "      <td>0</td>\n",
       "      <td>0</td>\n",
       "      <td>0</td>\n",
       "    </tr>\n",
       "    <tr>\n",
       "      <th>100003</th>\n",
       "      <td>17375e3fff2d9d1a</td>\n",
       "      <td>I am not speaking of sales. I am speaking of p...</td>\n",
       "      <td>0</td>\n",
       "      <td>0</td>\n",
       "      <td>0</td>\n",
       "      <td>0</td>\n",
       "      <td>0</td>\n",
       "      <td>0</td>\n",
       "    </tr>\n",
       "    <tr>\n",
       "      <th>100004</th>\n",
       "      <td>173a0ca6d52dd01d</td>\n",
       "      <td>\"\\nG.S.K. Lee, what I intended to say is that ...</td>\n",
       "      <td>0</td>\n",
       "      <td>0</td>\n",
       "      <td>0</td>\n",
       "      <td>0</td>\n",
       "      <td>0</td>\n",
       "      <td>0</td>\n",
       "    </tr>\n",
       "    <tr>\n",
       "      <th>100005</th>\n",
       "      <td>173a573b6011f226</td>\n",
       "      <td>querie \\nOur town near Bronkhorstspruit recent...</td>\n",
       "      <td>0</td>\n",
       "      <td>0</td>\n",
       "      <td>0</td>\n",
       "      <td>0</td>\n",
       "      <td>0</td>\n",
       "      <td>0</td>\n",
       "    </tr>\n",
       "  </tbody>\n",
       "</table>\n",
       "</div>"
      ],
      "text/plain": [
       "                      id                                       comment_text  \\\n",
       "100001  17359f940f219872  \"\\n\\n Nice tavern article \\n\\nArticles like th...   \n",
       "100002  173693e634e1a6cf  MfD nomination of User:Wikitrevor/Sandbox\\n. Y...   \n",
       "100003  17375e3fff2d9d1a  I am not speaking of sales. I am speaking of p...   \n",
       "100004  173a0ca6d52dd01d  \"\\nG.S.K. Lee, what I intended to say is that ...   \n",
       "100005  173a573b6011f226  querie \\nOur town near Bronkhorstspruit recent...   \n",
       "\n",
       "        toxic  severe_toxic  obscene  threat  insult  identity_hate  \n",
       "100001      0             0        0       0       0              0  \n",
       "100002      0             0        0       0       0              0  \n",
       "100003      0             0        0       0       0              0  \n",
       "100004      0             0        0       0       0              0  \n",
       "100005      0             0        0       0       0              0  "
      ]
     },
     "execution_count": 58,
     "metadata": {},
     "output_type": "execute_result"
    }
   ],
   "source": [
    "test_data = pd.read_csv('data/train.csv')\n",
    "test_data.head()\n"
   ]
  },
  {
   "cell_type": "code",
   "execution_count": 68,
   "metadata": {},
   "outputs": [
    {
     "name": "stdout",
     "output_type": "stream",
     "text": [
      "16.785294611381566% of 100.0% processed\n",
      "33.572267920094006% of 100.0% processed\n",
      "50.35924122880645% of 100.0% processed\n",
      "67.14621453751889% of 100.0% processed\n",
      "83.93318784623132% of 100.0% processed\n",
      "Data processed!\n"
     ]
    }
   ],
   "source": [
    "#making a list of all test comments after cleaning\n",
    "\n",
    "num_test_comments = test_data[\"comment_text\"].size\n",
    "clean_test_comments = []\n",
    "\n",
    "for i in range(100001,100001+num_test_comments):\n",
    "    clean_comment = clean_data(test_data[\"comment_text\"][i])\n",
    "    clean_test_comments.append(clean_comment)\n",
    "    \n",
    "    if((i+1)%10000==0):\n",
    "        print(\"{}% of {}% processed\".format((i-100001+1)*100/(num_test_comments),num_test_comments*100/num_test_comments))\n",
    "        \n",
    "print(\"Data processed!\")"
   ]
  },
  {
   "cell_type": "code",
   "execution_count": 69,
   "metadata": {},
   "outputs": [
    {
     "name": "stdout",
     "output_type": "stream",
     "text": [
      "Starting to create bag of words...\n",
      "Bag of words created.\n"
     ]
    }
   ],
   "source": [
    "# creating sparse representation of test feature vectors\n",
    "vocab_mapping=set(zip([i for i in range (0,len(vocab))],vocab))\n",
    "print(\"Starting to create bag of words...\")\n",
    "vectorizer_test = CountVectorizer(analyzer=\"word\", tokenizer=None, preprocessor=None, vocabulary=vocab_mapping)\n",
    "test_feature_vectors_sparse = vectorizer_test.fit_transform(clean_test_comments)\n",
    "test_feature_vectors_full = test_feature_vectors_sparse.toarray()\n",
    "\n",
    "print(\"Bag of words created.\")"
   ]
  },
  {
   "cell_type": "code",
   "execution_count": 71,
   "metadata": {
    "collapsed": true
   },
   "outputs": [],
   "source": [
    "predictions = clf.predict(test_feature_vectors_sparse)\n",
    "\n",
    "# test_feature_vectors_sparse.shape"
   ]
  },
  {
   "cell_type": "code",
   "execution_count": 72,
   "metadata": {
    "collapsed": true
   },
   "outputs": [],
   "source": [
    "# test_labels[\"toxic\"]\n",
    "test_labels=(test_data[\"toxic\"] | test_data[\"severe_toxic\"] | test_data[\"obscene\"] | test_data[\"threat\"] | test_data[\"insult\"] | test_data[\"identity_hate\"])\n",
    "\n"
   ]
  },
  {
   "cell_type": "code",
   "execution_count": 76,
   "metadata": {},
   "outputs": [
    {
     "data": {
      "text/plain": [
       "array([[53536,     0],\n",
       "       [ 6034,     0]])"
      ]
     },
     "execution_count": 76,
     "metadata": {},
     "output_type": "execute_result"
    }
   ],
   "source": [
    "import sklearn\n",
    "sklearn.metrics.confusion_matrix(test_labels, predictions)"
   ]
  },
  {
   "cell_type": "code",
   "execution_count": null,
   "metadata": {
    "collapsed": true
   },
   "outputs": [],
   "source": []
  }
 ],
 "metadata": {
  "kernelspec": {
   "display_name": "Python 3",
   "language": "python",
   "name": "python3"
  },
  "language_info": {
   "codemirror_mode": {
    "name": "ipython",
    "version": 3
   },
   "file_extension": ".py",
   "mimetype": "text/x-python",
   "name": "python",
   "nbconvert_exporter": "python",
   "pygments_lexer": "ipython3",
   "version": "3.6.3"
  }
 },
 "nbformat": 4,
 "nbformat_minor": 2
}
