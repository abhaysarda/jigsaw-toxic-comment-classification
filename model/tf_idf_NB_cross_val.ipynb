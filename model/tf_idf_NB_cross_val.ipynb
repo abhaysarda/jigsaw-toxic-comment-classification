{
 "cells": [
  {
   "cell_type": "code",
   "execution_count": 6,
   "metadata": {
    "collapsed": true
   },
   "outputs": [],
   "source": [
    "import pandas as pd, numpy as np\n",
    "import sklearn\n",
    "import scipy.sparse\n",
    "import warnings\n",
    "warnings.filterwarnings('ignore')\n",
    "from sklearn.feature_extraction.text import CountVectorizer\n",
    "from scipy import sparse\n",
    "from sklearn.metrics import confusion_matrix\n",
    "from sklearn.naive_bayes import MultinomialNB\n",
    "from bs4 import BeautifulSoup\n",
    "import re\n",
    "from sklearn.metrics import f1_score\n",
    "from sklearn.feature_extraction.text import TfidfTransformer\n",
    "from sklearn.metrics import make_scorer, roc_auc_score"
   ]
  },
  {
   "cell_type": "code",
   "execution_count": 3,
   "metadata": {
    "collapsed": true
   },
   "outputs": [],
   "source": [
    "train_data = pd.read_csv('../data/raw_data/train.csv')\n",
    "test_data = pd.read_csv('../data/raw_data/test.csv')\n",
    "\n",
    "train_labels=(train_data[\"Labels\"])\n",
    "test_labels = test_data[\"Labels\"]\n",
    "\n",
    "corpus_train = train_data[\"Comment\"]\n",
    "corpus_test = test_data[\"Comment\"]"
   ]
  },
  {
   "cell_type": "code",
   "execution_count": 4,
   "metadata": {
    "collapsed": true
   },
   "outputs": [],
   "source": [
    "vectorizer = CountVectorizer(strip_accents='unicode',lowercase=True,stop_words='english', analyzer=\"word\",token_pattern=r'\\w{1,}')\n",
    "train_feature_vectors_sparse = vectorizer.fit_transform(corpus_train)\n",
    "vectorizer_test = CountVectorizer(strip_accents='unicode',lowercase=True,stop_words='english', analyzer=\"word\",token_pattern=r'\\w{1,}', vocabulary= vectorizer.get_feature_names())\n",
    "test_feature_vectors_sparse = vectorizer_test.fit_transform(corpus_test)"
   ]
  },
  {
   "cell_type": "code",
   "execution_count": 15,
   "metadata": {
    "collapsed": true
   },
   "outputs": [],
   "source": [
    "from sklearn.pipeline import Pipeline\n",
    "pipeline = Pipeline([\n",
    "    ('tfidf', TfidfTransformer(smooth_idf=True)),\n",
    "    ('clf', MultinomialNB())\n",
    "])\n"
   ]
  },
  {
   "cell_type": "code",
   "execution_count": 16,
   "metadata": {
    "collapsed": true
   },
   "outputs": [],
   "source": [
    "\n",
    "\n",
    "from sklearn.model_selection import GridSearchCV\n",
    "from sklearn.feature_extraction.text import TfidfTransformer\n",
    "# tfidf_transformer = TfidfTransformer()\n",
    "parameters = {'tfidf__norm':('l1','l2', None), 'tfidf__use_idf':(True, False), 'tfidf__sublinear_tf':(True, False)}\n",
    "grid = GridSearchCV(pipeline, parameters, scoring = make_scorer(roc_auc_score, average='macro'), cv=5, error_score=0.0, verbose=10)\n"
   ]
  },
  {
   "cell_type": "code",
   "execution_count": 18,
   "metadata": {
    "scrolled": true
   },
   "outputs": [
    {
     "name": "stdout",
     "output_type": "stream",
     "text": [
      "Fitting 5 folds for each of 12 candidates, totalling 60 fits\n",
      "[CV] tfidf__norm=l1, tfidf__sublinear_tf=True, tfidf__use_idf=True ...\n"
     ]
    },
    {
     "name": "stderr",
     "output_type": "stream",
     "text": [
      "[Parallel(n_jobs=1)]: Using backend SequentialBackend with 1 concurrent workers.\n"
     ]
    },
    {
     "name": "stdout",
     "output_type": "stream",
     "text": [
      "[CV]  tfidf__norm=l1, tfidf__sublinear_tf=True, tfidf__use_idf=True, score=0.5121725731895224, total=   0.6s\n",
      "[CV] tfidf__norm=l1, tfidf__sublinear_tf=True, tfidf__use_idf=True ...\n"
     ]
    },
    {
     "name": "stderr",
     "output_type": "stream",
     "text": [
      "[Parallel(n_jobs=1)]: Done   1 out of   1 | elapsed:    1.0s remaining:    0.0s\n"
     ]
    },
    {
     "name": "stdout",
     "output_type": "stream",
     "text": [
      "[CV]  tfidf__norm=l1, tfidf__sublinear_tf=True, tfidf__use_idf=True, score=0.5117103235747303, total=   0.6s\n",
      "[CV] tfidf__norm=l1, tfidf__sublinear_tf=True, tfidf__use_idf=True ...\n"
     ]
    },
    {
     "name": "stderr",
     "output_type": "stream",
     "text": [
      "[Parallel(n_jobs=1)]: Done   2 out of   2 | elapsed:    2.0s remaining:    0.0s\n"
     ]
    },
    {
     "name": "stdout",
     "output_type": "stream",
     "text": [
      "[CV]  tfidf__norm=l1, tfidf__sublinear_tf=True, tfidf__use_idf=True, score=0.5104776579352851, total=   0.6s\n",
      "[CV] tfidf__norm=l1, tfidf__sublinear_tf=True, tfidf__use_idf=True ...\n"
     ]
    },
    {
     "name": "stderr",
     "output_type": "stream",
     "text": [
      "[Parallel(n_jobs=1)]: Done   3 out of   3 | elapsed:    3.1s remaining:    0.0s\n"
     ]
    },
    {
     "name": "stdout",
     "output_type": "stream",
     "text": [
      "[CV]  tfidf__norm=l1, tfidf__sublinear_tf=True, tfidf__use_idf=True, score=0.5134052388289676, total=   0.6s\n",
      "[CV] tfidf__norm=l1, tfidf__sublinear_tf=True, tfidf__use_idf=True ...\n"
     ]
    },
    {
     "name": "stderr",
     "output_type": "stream",
     "text": [
      "[Parallel(n_jobs=1)]: Done   4 out of   4 | elapsed:    4.1s remaining:    0.0s\n"
     ]
    },
    {
     "name": "stdout",
     "output_type": "stream",
     "text": [
      "[CV]  tfidf__norm=l1, tfidf__sublinear_tf=True, tfidf__use_idf=True, score=0.5124807395993837, total=   0.6s\n",
      "[CV] tfidf__norm=l1, tfidf__sublinear_tf=True, tfidf__use_idf=False ..\n"
     ]
    },
    {
     "name": "stderr",
     "output_type": "stream",
     "text": [
      "[Parallel(n_jobs=1)]: Done   5 out of   5 | elapsed:    5.2s remaining:    0.0s\n"
     ]
    },
    {
     "name": "stdout",
     "output_type": "stream",
     "text": [
      "[CV]  tfidf__norm=l1, tfidf__sublinear_tf=True, tfidf__use_idf=False, score=0.5154083204930663, total=   0.3s\n",
      "[CV] tfidf__norm=l1, tfidf__sublinear_tf=True, tfidf__use_idf=False ..\n"
     ]
    },
    {
     "name": "stderr",
     "output_type": "stream",
     "text": [
      "[Parallel(n_jobs=1)]: Done   6 out of   6 | elapsed:    5.7s remaining:    0.0s\n"
     ]
    },
    {
     "name": "stdout",
     "output_type": "stream",
     "text": [
      "[CV]  tfidf__norm=l1, tfidf__sublinear_tf=True, tfidf__use_idf=False, score=0.5130970724191063, total=   0.3s\n",
      "[CV] tfidf__norm=l1, tfidf__sublinear_tf=True, tfidf__use_idf=False ..\n"
     ]
    },
    {
     "name": "stderr",
     "output_type": "stream",
     "text": [
      "[Parallel(n_jobs=1)]: Done   7 out of   7 | elapsed:    6.3s remaining:    0.0s\n"
     ]
    },
    {
     "name": "stdout",
     "output_type": "stream",
     "text": [
      "[CV]  tfidf__norm=l1, tfidf__sublinear_tf=True, tfidf__use_idf=False, score=0.5129429892141757, total=   0.3s\n",
      "[CV] tfidf__norm=l1, tfidf__sublinear_tf=True, tfidf__use_idf=False ..\n"
     ]
    },
    {
     "name": "stderr",
     "output_type": "stream",
     "text": [
      "[Parallel(n_jobs=1)]: Done   8 out of   8 | elapsed:    6.8s remaining:    0.0s\n"
     ]
    },
    {
     "name": "stdout",
     "output_type": "stream",
     "text": [
      "[CV]  tfidf__norm=l1, tfidf__sublinear_tf=True, tfidf__use_idf=False, score=0.5174114021571649, total=   0.3s\n",
      "[CV] tfidf__norm=l1, tfidf__sublinear_tf=True, tfidf__use_idf=False ..\n"
     ]
    },
    {
     "name": "stderr",
     "output_type": "stream",
     "text": [
      "[Parallel(n_jobs=1)]: Done   9 out of   9 | elapsed:    7.3s remaining:    0.0s\n"
     ]
    },
    {
     "name": "stdout",
     "output_type": "stream",
     "text": [
      "[CV]  tfidf__norm=l1, tfidf__sublinear_tf=True, tfidf__use_idf=False, score=0.5149460708782743, total=   0.3s\n",
      "[CV] tfidf__norm=l1, tfidf__sublinear_tf=False, tfidf__use_idf=True ..\n",
      "[CV]  tfidf__norm=l1, tfidf__sublinear_tf=False, tfidf__use_idf=True, score=0.513713405238829, total=   0.5s\n",
      "[CV] tfidf__norm=l1, tfidf__sublinear_tf=False, tfidf__use_idf=True ..\n",
      "[CV]  tfidf__norm=l1, tfidf__sublinear_tf=False, tfidf__use_idf=True, score=0.5124807395993837, total=   0.5s\n",
      "[CV] tfidf__norm=l1, tfidf__sublinear_tf=False, tfidf__use_idf=True ..\n",
      "[CV]  tfidf__norm=l1, tfidf__sublinear_tf=False, tfidf__use_idf=True, score=0.510939907550077, total=   0.5s\n",
      "[CV] tfidf__norm=l1, tfidf__sublinear_tf=False, tfidf__use_idf=True ..\n",
      "[CV]  tfidf__norm=l1, tfidf__sublinear_tf=False, tfidf__use_idf=True, score=0.5147919876733436, total=   0.5s\n",
      "[CV] tfidf__norm=l1, tfidf__sublinear_tf=False, tfidf__use_idf=True ..\n",
      "[CV]  tfidf__norm=l1, tfidf__sublinear_tf=False, tfidf__use_idf=True, score=0.513713405238829, total=   0.5s\n",
      "[CV] tfidf__norm=l1, tfidf__sublinear_tf=False, tfidf__use_idf=False .\n",
      "[CV]  tfidf__norm=l1, tfidf__sublinear_tf=False, tfidf__use_idf=False, score=0.5164869029275809, total=   0.3s\n",
      "[CV] tfidf__norm=l1, tfidf__sublinear_tf=False, tfidf__use_idf=False .\n",
      "[CV]  tfidf__norm=l1, tfidf__sublinear_tf=False, tfidf__use_idf=False, score=0.5141756548536209, total=   0.3s\n",
      "[CV] tfidf__norm=l1, tfidf__sublinear_tf=False, tfidf__use_idf=False .\n",
      "[CV]  tfidf__norm=l1, tfidf__sublinear_tf=False, tfidf__use_idf=False, score=0.5138674884437596, total=   0.3s\n",
      "[CV] tfidf__norm=l1, tfidf__sublinear_tf=False, tfidf__use_idf=False .\n",
      "[CV]  tfidf__norm=l1, tfidf__sublinear_tf=False, tfidf__use_idf=False, score=0.5180277349768875, total=   0.3s\n",
      "[CV] tfidf__norm=l1, tfidf__sublinear_tf=False, tfidf__use_idf=False .\n",
      "[CV]  tfidf__norm=l1, tfidf__sublinear_tf=False, tfidf__use_idf=False, score=0.5160246533127889, total=   0.3s\n",
      "[CV] tfidf__norm=l2, tfidf__sublinear_tf=True, tfidf__use_idf=True ...\n",
      "[CV]  tfidf__norm=l2, tfidf__sublinear_tf=True, tfidf__use_idf=True, score=0.5978225200101253, total=   0.6s\n",
      "[CV] tfidf__norm=l2, tfidf__sublinear_tf=True, tfidf__use_idf=True ...\n",
      "[CV]  tfidf__norm=l2, tfidf__sublinear_tf=True, tfidf__use_idf=True, score=0.5999622383550929, total=   0.6s\n",
      "[CV] tfidf__norm=l2, tfidf__sublinear_tf=True, tfidf__use_idf=True ...\n",
      "[CV]  tfidf__norm=l2, tfidf__sublinear_tf=True, tfidf__use_idf=True, score=0.5952874208844899, total=   0.6s\n",
      "[CV] tfidf__norm=l2, tfidf__sublinear_tf=True, tfidf__use_idf=True ...\n",
      "[CV]  tfidf__norm=l2, tfidf__sublinear_tf=True, tfidf__use_idf=True, score=0.6010233803487132, total=   0.6s\n",
      "[CV] tfidf__norm=l2, tfidf__sublinear_tf=True, tfidf__use_idf=True ...\n",
      "[CV]  tfidf__norm=l2, tfidf__sublinear_tf=True, tfidf__use_idf=True, score=0.5957147896174931, total=   0.6s\n",
      "[CV] tfidf__norm=l2, tfidf__sublinear_tf=True, tfidf__use_idf=False ..\n",
      "[CV]  tfidf__norm=l2, tfidf__sublinear_tf=True, tfidf__use_idf=False, score=0.5897433093116883, total=   0.3s\n",
      "[CV] tfidf__norm=l2, tfidf__sublinear_tf=True, tfidf__use_idf=False ..\n",
      "[CV]  tfidf__norm=l2, tfidf__sublinear_tf=True, tfidf__use_idf=False, score=0.5920196734622758, total=   0.3s\n",
      "[CV] tfidf__norm=l2, tfidf__sublinear_tf=True, tfidf__use_idf=False ..\n",
      "[CV]  tfidf__norm=l2, tfidf__sublinear_tf=True, tfidf__use_idf=False, score=0.5877227841651116, total=   0.3s\n",
      "[CV] tfidf__norm=l2, tfidf__sublinear_tf=True, tfidf__use_idf=False ..\n",
      "[CV]  tfidf__norm=l2, tfidf__sublinear_tf=True, tfidf__use_idf=False, score=0.5908044482637248, total=   0.3s\n",
      "[CV] tfidf__norm=l2, tfidf__sublinear_tf=True, tfidf__use_idf=False ..\n",
      "[CV]  tfidf__norm=l2, tfidf__sublinear_tf=True, tfidf__use_idf=False, score=0.5893304972148772, total=   0.3s\n",
      "[CV] tfidf__norm=l2, tfidf__sublinear_tf=False, tfidf__use_idf=True ..\n",
      "[CV]  tfidf__norm=l2, tfidf__sublinear_tf=False, tfidf__use_idf=True, score=0.5969503402782741, total=   0.5s\n",
      "[CV] tfidf__norm=l2, tfidf__sublinear_tf=False, tfidf__use_idf=True ..\n",
      "[CV]  tfidf__norm=l2, tfidf__sublinear_tf=False, tfidf__use_idf=True, score=0.6004419284107793, total=   0.6s\n",
      "[CV] tfidf__norm=l2, tfidf__sublinear_tf=False, tfidf__use_idf=True ..\n",
      "[CV]  tfidf__norm=l2, tfidf__sublinear_tf=False, tfidf__use_idf=True, score=0.5948600521514866, total=   0.5s\n",
      "[CV] tfidf__norm=l2, tfidf__sublinear_tf=False, tfidf__use_idf=True ..\n",
      "[CV]  tfidf__norm=l2, tfidf__sublinear_tf=False, tfidf__use_idf=True, score=0.6007500948206406, total=   0.5s\n",
      "[CV] tfidf__norm=l2, tfidf__sublinear_tf=False, tfidf__use_idf=True ..\n",
      "[CV]  tfidf__norm=l2, tfidf__sublinear_tf=False, tfidf__use_idf=True, score=0.596435765082582, total=   0.5s\n",
      "[CV] tfidf__norm=l2, tfidf__sublinear_tf=False, tfidf__use_idf=False .\n",
      "[CV]  tfidf__norm=l2, tfidf__sublinear_tf=False, tfidf__use_idf=False, score=0.5894525827344046, total=   0.3s\n",
      "[CV] tfidf__norm=l2, tfidf__sublinear_tf=False, tfidf__use_idf=False .\n",
      "[CV]  tfidf__norm=l2, tfidf__sublinear_tf=False, tfidf__use_idf=False, score=0.5915923047292725, total=   0.3s\n",
      "[CV] tfidf__norm=l2, tfidf__sublinear_tf=False, tfidf__use_idf=False .\n",
      "[CV]  tfidf__norm=l2, tfidf__sublinear_tf=False, tfidf__use_idf=False, score=0.5872954154321084, total=   0.3s\n",
      "[CV] tfidf__norm=l2, tfidf__sublinear_tf=False, tfidf__use_idf=False .\n",
      "[CV]  tfidf__norm=l2, tfidf__sublinear_tf=False, tfidf__use_idf=False, score=0.5896241039469625, total=   0.3s\n",
      "[CV] tfidf__norm=l2, tfidf__sublinear_tf=False, tfidf__use_idf=False .\n",
      "[CV]  tfidf__norm=l2, tfidf__sublinear_tf=False, tfidf__use_idf=False, score=0.5897084253883159, total=   0.3s\n",
      "[CV] tfidf__norm=None, tfidf__sublinear_tf=True, tfidf__use_idf=True .\n",
      "[CV]  tfidf__norm=None, tfidf__sublinear_tf=True, tfidf__use_idf=True, score=0.8496109761845517, total=   0.6s\n",
      "[CV] tfidf__norm=None, tfidf__sublinear_tf=True, tfidf__use_idf=True .\n",
      "[CV]  tfidf__norm=None, tfidf__sublinear_tf=True, tfidf__use_idf=True, score=0.8512704030988412, total=   0.6s\n",
      "[CV] tfidf__norm=None, tfidf__sublinear_tf=True, tfidf__use_idf=True .\n",
      "[CV]  tfidf__norm=None, tfidf__sublinear_tf=True, tfidf__use_idf=True, score=0.8454298009892518, total=   0.6s\n",
      "[CV] tfidf__norm=None, tfidf__sublinear_tf=True, tfidf__use_idf=True .\n",
      "[CV]  tfidf__norm=None, tfidf__sublinear_tf=True, tfidf__use_idf=True, score=0.8464299793708339, total=   0.6s\n",
      "[CV] tfidf__norm=None, tfidf__sublinear_tf=True, tfidf__use_idf=True .\n",
      "[CV]  tfidf__norm=None, tfidf__sublinear_tf=True, tfidf__use_idf=True, score=0.85002317778162, total=   0.6s\n",
      "[CV] tfidf__norm=None, tfidf__sublinear_tf=True, tfidf__use_idf=False \n",
      "[CV]  tfidf__norm=None, tfidf__sublinear_tf=True, tfidf__use_idf=False, score=0.8167256324693675, total=   0.3s\n",
      "[CV] tfidf__norm=None, tfidf__sublinear_tf=True, tfidf__use_idf=False \n",
      "[CV]  tfidf__norm=None, tfidf__sublinear_tf=True, tfidf__use_idf=False, score=0.8091983572555809, total=   0.3s\n",
      "[CV] tfidf__norm=None, tfidf__sublinear_tf=True, tfidf__use_idf=False \n",
      "[CV]  tfidf__norm=None, tfidf__sublinear_tf=True, tfidf__use_idf=False, score=0.8100994986558498, total=   0.3s\n",
      "[CV] tfidf__norm=None, tfidf__sublinear_tf=True, tfidf__use_idf=False \n",
      "[CV]  tfidf__norm=None, tfidf__sublinear_tf=True, tfidf__use_idf=False, score=0.8083407390264559, total=   0.3s\n",
      "[CV] tfidf__norm=None, tfidf__sublinear_tf=True, tfidf__use_idf=False \n",
      "[CV]  tfidf__norm=None, tfidf__sublinear_tf=True, tfidf__use_idf=False, score=0.8192921696290065, total=   0.3s\n",
      "[CV] tfidf__norm=None, tfidf__sublinear_tf=False, tfidf__use_idf=True \n",
      "[CV]  tfidf__norm=None, tfidf__sublinear_tf=False, tfidf__use_idf=True, score=0.8513972557388872, total=   0.5s\n",
      "[CV] tfidf__norm=None, tfidf__sublinear_tf=False, tfidf__use_idf=True \n",
      "[CV]  tfidf__norm=None, tfidf__sublinear_tf=False, tfidf__use_idf=True, score=0.8501308516777302, total=   0.5s\n",
      "[CV] tfidf__norm=None, tfidf__sublinear_tf=False, tfidf__use_idf=True \n",
      "[CV]  tfidf__norm=None, tfidf__sublinear_tf=False, tfidf__use_idf=True, score=0.8449294726306276, total=   0.5s\n",
      "[CV] tfidf__norm=None, tfidf__sublinear_tf=False, tfidf__use_idf=True \n",
      "[CV]  tfidf__norm=None, tfidf__sublinear_tf=False, tfidf__use_idf=True, score=0.8460166973544975, total=   0.5s\n",
      "[CV] tfidf__norm=None, tfidf__sublinear_tf=False, tfidf__use_idf=True \n",
      "[CV]  tfidf__norm=None, tfidf__sublinear_tf=False, tfidf__use_idf=True, score=0.8503863850405412, total=   0.5s\n",
      "[CV] tfidf__norm=None, tfidf__sublinear_tf=False, tfidf__use_idf=False \n"
     ]
    },
    {
     "name": "stdout",
     "output_type": "stream",
     "text": [
      "[CV]  tfidf__norm=None, tfidf__sublinear_tf=False, tfidf__use_idf=False, score=0.8085440937548201, total=   0.2s\n",
      "[CV] tfidf__norm=None, tfidf__sublinear_tf=False, tfidf__use_idf=False \n",
      "[CV]  tfidf__norm=None, tfidf__sublinear_tf=False, tfidf__use_idf=False, score=0.8035956922057246, total=   0.2s\n",
      "[CV] tfidf__norm=None, tfidf__sublinear_tf=False, tfidf__use_idf=False \n",
      "[CV]  tfidf__norm=None, tfidf__sublinear_tf=False, tfidf__use_idf=False, score=0.8026361562321682, total=   0.2s\n",
      "[CV] tfidf__norm=None, tfidf__sublinear_tf=False, tfidf__use_idf=False \n",
      "[CV]  tfidf__norm=None, tfidf__sublinear_tf=False, tfidf__use_idf=False, score=0.8018308593257263, total=   0.2s\n",
      "[CV] tfidf__norm=None, tfidf__sublinear_tf=False, tfidf__use_idf=False \n",
      "[CV]  tfidf__norm=None, tfidf__sublinear_tf=False, tfidf__use_idf=False, score=0.8115525050519502, total=   0.2s\n"
     ]
    },
    {
     "name": "stderr",
     "output_type": "stream",
     "text": [
      "[Parallel(n_jobs=1)]: Done  60 out of  60 | elapsed:   44.4s finished\n"
     ]
    },
    {
     "data": {
      "text/plain": [
       "GridSearchCV(cv=5, error_score=0.0,\n",
       "       estimator=Pipeline(memory=None,\n",
       "     steps=[('tfidf', TfidfTransformer(norm='l2', smooth_idf=True, sublinear_tf=False, use_idf=True)), ('clf', MultinomialNB(alpha=1.0, class_prior=None, fit_prior=True))]),\n",
       "       fit_params=None, iid='warn', n_jobs=None,\n",
       "       param_grid={'tfidf__norm': ('l1', 'l2', None), 'tfidf__use_idf': (True, False), 'tfidf__sublinear_tf': (True, False)},\n",
       "       pre_dispatch='2*n_jobs', refit=True, return_train_score='warn',\n",
       "       scoring=make_scorer(roc_auc_score, average=macro), verbose=10)"
      ]
     },
     "execution_count": 18,
     "metadata": {},
     "output_type": "execute_result"
    }
   ],
   "source": [
    "grid.fit(train_feature_vectors_sparse, train_labels)"
   ]
  },
  {
   "cell_type": "code",
   "execution_count": 19,
   "metadata": {
    "scrolled": true
   },
   "outputs": [
    {
     "data": {
      "text/plain": [
       "0.8485721501929472"
      ]
     },
     "execution_count": 19,
     "metadata": {},
     "output_type": "execute_result"
    }
   ],
   "source": [
    "grid.best_score_"
   ]
  },
  {
   "cell_type": "code",
   "execution_count": 20,
   "metadata": {
    "scrolled": true
   },
   "outputs": [
    {
     "data": {
      "text/html": [
       "<div>\n",
       "<style scoped>\n",
       "    .dataframe tbody tr th:only-of-type {\n",
       "        vertical-align: middle;\n",
       "    }\n",
       "\n",
       "    .dataframe tbody tr th {\n",
       "        vertical-align: top;\n",
       "    }\n",
       "\n",
       "    .dataframe thead th {\n",
       "        text-align: right;\n",
       "    }\n",
       "</style>\n",
       "<table border=\"1\" class=\"dataframe\">\n",
       "  <thead>\n",
       "    <tr style=\"text-align: right;\">\n",
       "      <th></th>\n",
       "      <th>mean_fit_time</th>\n",
       "      <th>std_fit_time</th>\n",
       "      <th>mean_score_time</th>\n",
       "      <th>std_score_time</th>\n",
       "      <th>param_tfidf__norm</th>\n",
       "      <th>param_tfidf__sublinear_tf</th>\n",
       "      <th>param_tfidf__use_idf</th>\n",
       "      <th>params</th>\n",
       "      <th>split0_test_score</th>\n",
       "      <th>split1_test_score</th>\n",
       "      <th>...</th>\n",
       "      <th>mean_test_score</th>\n",
       "      <th>std_test_score</th>\n",
       "      <th>rank_test_score</th>\n",
       "      <th>split0_train_score</th>\n",
       "      <th>split1_train_score</th>\n",
       "      <th>split2_train_score</th>\n",
       "      <th>split3_train_score</th>\n",
       "      <th>split4_train_score</th>\n",
       "      <th>mean_train_score</th>\n",
       "      <th>std_train_score</th>\n",
       "    </tr>\n",
       "  </thead>\n",
       "  <tbody>\n",
       "    <tr>\n",
       "      <th>0</th>\n",
       "      <td>0.593424</td>\n",
       "      <td>0.005066</td>\n",
       "      <td>0.106676</td>\n",
       "      <td>0.003205</td>\n",
       "      <td>l1</td>\n",
       "      <td>True</td>\n",
       "      <td>True</td>\n",
       "      <td>{'tfidf__norm': 'l1', 'tfidf__sublinear_tf': T...</td>\n",
       "      <td>0.512173</td>\n",
       "      <td>0.511710</td>\n",
       "      <td>...</td>\n",
       "      <td>0.512049</td>\n",
       "      <td>0.000962</td>\n",
       "      <td>12</td>\n",
       "      <td>0.513213</td>\n",
       "      <td>0.513482</td>\n",
       "      <td>0.513598</td>\n",
       "      <td>0.512750</td>\n",
       "      <td>0.513213</td>\n",
       "      <td>0.513251</td>\n",
       "      <td>0.000292</td>\n",
       "    </tr>\n",
       "    <tr>\n",
       "      <th>1</th>\n",
       "      <td>0.344644</td>\n",
       "      <td>0.002500</td>\n",
       "      <td>0.049635</td>\n",
       "      <td>0.000486</td>\n",
       "      <td>l1</td>\n",
       "      <td>True</td>\n",
       "      <td>False</td>\n",
       "      <td>{'tfidf__norm': 'l1', 'tfidf__sublinear_tf': T...</td>\n",
       "      <td>0.515408</td>\n",
       "      <td>0.513097</td>\n",
       "      <td>...</td>\n",
       "      <td>0.514761</td>\n",
       "      <td>0.001646</td>\n",
       "      <td>10</td>\n",
       "      <td>0.515678</td>\n",
       "      <td>0.516025</td>\n",
       "      <td>0.516333</td>\n",
       "      <td>0.515100</td>\n",
       "      <td>0.515562</td>\n",
       "      <td>0.515740</td>\n",
       "      <td>0.000419</td>\n",
       "    </tr>\n",
       "    <tr>\n",
       "      <th>2</th>\n",
       "      <td>0.548989</td>\n",
       "      <td>0.001356</td>\n",
       "      <td>0.095270</td>\n",
       "      <td>0.002480</td>\n",
       "      <td>l1</td>\n",
       "      <td>False</td>\n",
       "      <td>True</td>\n",
       "      <td>{'tfidf__norm': 'l1', 'tfidf__sublinear_tf': F...</td>\n",
       "      <td>0.513713</td>\n",
       "      <td>0.512481</td>\n",
       "      <td>...</td>\n",
       "      <td>0.513128</td>\n",
       "      <td>0.001316</td>\n",
       "      <td>11</td>\n",
       "      <td>0.513829</td>\n",
       "      <td>0.514599</td>\n",
       "      <td>0.514869</td>\n",
       "      <td>0.513945</td>\n",
       "      <td>0.514484</td>\n",
       "      <td>0.514345</td>\n",
       "      <td>0.000396</td>\n",
       "    </tr>\n",
       "    <tr>\n",
       "      <th>3</th>\n",
       "      <td>0.314826</td>\n",
       "      <td>0.001964</td>\n",
       "      <td>0.043231</td>\n",
       "      <td>0.000748</td>\n",
       "      <td>l1</td>\n",
       "      <td>False</td>\n",
       "      <td>False</td>\n",
       "      <td>{'tfidf__norm': 'l1', 'tfidf__sublinear_tf': F...</td>\n",
       "      <td>0.516487</td>\n",
       "      <td>0.514176</td>\n",
       "      <td>...</td>\n",
       "      <td>0.515716</td>\n",
       "      <td>0.001538</td>\n",
       "      <td>9</td>\n",
       "      <td>0.516949</td>\n",
       "      <td>0.517373</td>\n",
       "      <td>0.517643</td>\n",
       "      <td>0.516834</td>\n",
       "      <td>0.516949</td>\n",
       "      <td>0.517149</td>\n",
       "      <td>0.000308</td>\n",
       "    </tr>\n",
       "    <tr>\n",
       "      <th>4</th>\n",
       "      <td>0.593819</td>\n",
       "      <td>0.019253</td>\n",
       "      <td>0.104877</td>\n",
       "      <td>0.002788</td>\n",
       "      <td>l2</td>\n",
       "      <td>True</td>\n",
       "      <td>True</td>\n",
       "      <td>{'tfidf__norm': 'l2', 'tfidf__sublinear_tf': T...</td>\n",
       "      <td>0.597823</td>\n",
       "      <td>0.599962</td>\n",
       "      <td>...</td>\n",
       "      <td>0.597962</td>\n",
       "      <td>0.002263</td>\n",
       "      <td>5</td>\n",
       "      <td>0.614157</td>\n",
       "      <td>0.612890</td>\n",
       "      <td>0.613669</td>\n",
       "      <td>0.613917</td>\n",
       "      <td>0.614841</td>\n",
       "      <td>0.613895</td>\n",
       "      <td>0.000637</td>\n",
       "    </tr>\n",
       "    <tr>\n",
       "      <th>5</th>\n",
       "      <td>0.344450</td>\n",
       "      <td>0.002568</td>\n",
       "      <td>0.049633</td>\n",
       "      <td>0.000493</td>\n",
       "      <td>l2</td>\n",
       "      <td>True</td>\n",
       "      <td>False</td>\n",
       "      <td>{'tfidf__norm': 'l2', 'tfidf__sublinear_tf': T...</td>\n",
       "      <td>0.589743</td>\n",
       "      <td>0.592020</td>\n",
       "      <td>...</td>\n",
       "      <td>0.589924</td>\n",
       "      <td>0.001442</td>\n",
       "      <td>7</td>\n",
       "      <td>0.598595</td>\n",
       "      <td>0.597761</td>\n",
       "      <td>0.597739</td>\n",
       "      <td>0.599053</td>\n",
       "      <td>0.599318</td>\n",
       "      <td>0.598493</td>\n",
       "      <td>0.000650</td>\n",
       "    </tr>\n",
       "    <tr>\n",
       "      <th>6</th>\n",
       "      <td>0.548790</td>\n",
       "      <td>0.004416</td>\n",
       "      <td>0.095469</td>\n",
       "      <td>0.002247</td>\n",
       "      <td>l2</td>\n",
       "      <td>False</td>\n",
       "      <td>True</td>\n",
       "      <td>{'tfidf__norm': 'l2', 'tfidf__sublinear_tf': F...</td>\n",
       "      <td>0.596950</td>\n",
       "      <td>0.600442</td>\n",
       "      <td>...</td>\n",
       "      <td>0.597888</td>\n",
       "      <td>0.002318</td>\n",
       "      <td>6</td>\n",
       "      <td>0.613399</td>\n",
       "      <td>0.612287</td>\n",
       "      <td>0.612681</td>\n",
       "      <td>0.613232</td>\n",
       "      <td>0.613434</td>\n",
       "      <td>0.613007</td>\n",
       "      <td>0.000450</td>\n",
       "    </tr>\n",
       "    <tr>\n",
       "      <th>7</th>\n",
       "      <td>0.317622</td>\n",
       "      <td>0.002576</td>\n",
       "      <td>0.043031</td>\n",
       "      <td>0.000628</td>\n",
       "      <td>l2</td>\n",
       "      <td>False</td>\n",
       "      <td>False</td>\n",
       "      <td>{'tfidf__norm': 'l2', 'tfidf__sublinear_tf': F...</td>\n",
       "      <td>0.589453</td>\n",
       "      <td>0.591592</td>\n",
       "      <td>...</td>\n",
       "      <td>0.589535</td>\n",
       "      <td>0.001363</td>\n",
       "      <td>8</td>\n",
       "      <td>0.598429</td>\n",
       "      <td>0.596931</td>\n",
       "      <td>0.597607</td>\n",
       "      <td>0.597996</td>\n",
       "      <td>0.598270</td>\n",
       "      <td>0.597846</td>\n",
       "      <td>0.000536</td>\n",
       "    </tr>\n",
       "    <tr>\n",
       "      <th>8</th>\n",
       "      <td>0.558998</td>\n",
       "      <td>0.004228</td>\n",
       "      <td>0.098469</td>\n",
       "      <td>0.001741</td>\n",
       "      <td>None</td>\n",
       "      <td>True</td>\n",
       "      <td>True</td>\n",
       "      <td>{'tfidf__norm': None, 'tfidf__sublinear_tf': T...</td>\n",
       "      <td>0.849611</td>\n",
       "      <td>0.851270</td>\n",
       "      <td>...</td>\n",
       "      <td>0.848553</td>\n",
       "      <td>0.002233</td>\n",
       "      <td>2</td>\n",
       "      <td>0.939212</td>\n",
       "      <td>0.939713</td>\n",
       "      <td>0.940174</td>\n",
       "      <td>0.938856</td>\n",
       "      <td>0.938646</td>\n",
       "      <td>0.939320</td>\n",
       "      <td>0.000560</td>\n",
       "    </tr>\n",
       "    <tr>\n",
       "      <th>9</th>\n",
       "      <td>0.326635</td>\n",
       "      <td>0.001856</td>\n",
       "      <td>0.045603</td>\n",
       "      <td>0.000468</td>\n",
       "      <td>None</td>\n",
       "      <td>True</td>\n",
       "      <td>False</td>\n",
       "      <td>{'tfidf__norm': None, 'tfidf__sublinear_tf': T...</td>\n",
       "      <td>0.816726</td>\n",
       "      <td>0.809198</td>\n",
       "      <td>...</td>\n",
       "      <td>0.812731</td>\n",
       "      <td>0.004420</td>\n",
       "      <td>3</td>\n",
       "      <td>0.849489</td>\n",
       "      <td>0.849170</td>\n",
       "      <td>0.849271</td>\n",
       "      <td>0.850010</td>\n",
       "      <td>0.849010</td>\n",
       "      <td>0.849390</td>\n",
       "      <td>0.000347</td>\n",
       "    </tr>\n",
       "    <tr>\n",
       "      <th>10</th>\n",
       "      <td>0.532177</td>\n",
       "      <td>0.002319</td>\n",
       "      <td>0.089665</td>\n",
       "      <td>0.000799</td>\n",
       "      <td>None</td>\n",
       "      <td>False</td>\n",
       "      <td>True</td>\n",
       "      <td>{'tfidf__norm': None, 'tfidf__sublinear_tf': F...</td>\n",
       "      <td>0.851397</td>\n",
       "      <td>0.850131</td>\n",
       "      <td>...</td>\n",
       "      <td>0.848572</td>\n",
       "      <td>0.002589</td>\n",
       "      <td>1</td>\n",
       "      <td>0.937728</td>\n",
       "      <td>0.938403</td>\n",
       "      <td>0.938014</td>\n",
       "      <td>0.937678</td>\n",
       "      <td>0.939299</td>\n",
       "      <td>0.938224</td>\n",
       "      <td>0.000596</td>\n",
       "    </tr>\n",
       "    <tr>\n",
       "      <th>11</th>\n",
       "      <td>0.296007</td>\n",
       "      <td>0.002643</td>\n",
       "      <td>0.038433</td>\n",
       "      <td>0.000486</td>\n",
       "      <td>None</td>\n",
       "      <td>False</td>\n",
       "      <td>False</td>\n",
       "      <td>{'tfidf__norm': None, 'tfidf__sublinear_tf': F...</td>\n",
       "      <td>0.808544</td>\n",
       "      <td>0.803596</td>\n",
       "      <td>...</td>\n",
       "      <td>0.805632</td>\n",
       "      <td>0.003771</td>\n",
       "      <td>4</td>\n",
       "      <td>0.839348</td>\n",
       "      <td>0.839900</td>\n",
       "      <td>0.838952</td>\n",
       "      <td>0.838637</td>\n",
       "      <td>0.838697</td>\n",
       "      <td>0.839107</td>\n",
       "      <td>0.000469</td>\n",
       "    </tr>\n",
       "  </tbody>\n",
       "</table>\n",
       "<p>12 rows × 23 columns</p>\n",
       "</div>"
      ],
      "text/plain": [
       "    mean_fit_time  std_fit_time  mean_score_time  std_score_time  \\\n",
       "0        0.593424      0.005066         0.106676        0.003205   \n",
       "1        0.344644      0.002500         0.049635        0.000486   \n",
       "2        0.548989      0.001356         0.095270        0.002480   \n",
       "3        0.314826      0.001964         0.043231        0.000748   \n",
       "4        0.593819      0.019253         0.104877        0.002788   \n",
       "5        0.344450      0.002568         0.049633        0.000493   \n",
       "6        0.548790      0.004416         0.095469        0.002247   \n",
       "7        0.317622      0.002576         0.043031        0.000628   \n",
       "8        0.558998      0.004228         0.098469        0.001741   \n",
       "9        0.326635      0.001856         0.045603        0.000468   \n",
       "10       0.532177      0.002319         0.089665        0.000799   \n",
       "11       0.296007      0.002643         0.038433        0.000486   \n",
       "\n",
       "   param_tfidf__norm param_tfidf__sublinear_tf param_tfidf__use_idf  \\\n",
       "0                 l1                      True                 True   \n",
       "1                 l1                      True                False   \n",
       "2                 l1                     False                 True   \n",
       "3                 l1                     False                False   \n",
       "4                 l2                      True                 True   \n",
       "5                 l2                      True                False   \n",
       "6                 l2                     False                 True   \n",
       "7                 l2                     False                False   \n",
       "8               None                      True                 True   \n",
       "9               None                      True                False   \n",
       "10              None                     False                 True   \n",
       "11              None                     False                False   \n",
       "\n",
       "                                               params  split0_test_score  \\\n",
       "0   {'tfidf__norm': 'l1', 'tfidf__sublinear_tf': T...           0.512173   \n",
       "1   {'tfidf__norm': 'l1', 'tfidf__sublinear_tf': T...           0.515408   \n",
       "2   {'tfidf__norm': 'l1', 'tfidf__sublinear_tf': F...           0.513713   \n",
       "3   {'tfidf__norm': 'l1', 'tfidf__sublinear_tf': F...           0.516487   \n",
       "4   {'tfidf__norm': 'l2', 'tfidf__sublinear_tf': T...           0.597823   \n",
       "5   {'tfidf__norm': 'l2', 'tfidf__sublinear_tf': T...           0.589743   \n",
       "6   {'tfidf__norm': 'l2', 'tfidf__sublinear_tf': F...           0.596950   \n",
       "7   {'tfidf__norm': 'l2', 'tfidf__sublinear_tf': F...           0.589453   \n",
       "8   {'tfidf__norm': None, 'tfidf__sublinear_tf': T...           0.849611   \n",
       "9   {'tfidf__norm': None, 'tfidf__sublinear_tf': T...           0.816726   \n",
       "10  {'tfidf__norm': None, 'tfidf__sublinear_tf': F...           0.851397   \n",
       "11  {'tfidf__norm': None, 'tfidf__sublinear_tf': F...           0.808544   \n",
       "\n",
       "    split1_test_score       ...         mean_test_score  std_test_score  \\\n",
       "0            0.511710       ...                0.512049        0.000962   \n",
       "1            0.513097       ...                0.514761        0.001646   \n",
       "2            0.512481       ...                0.513128        0.001316   \n",
       "3            0.514176       ...                0.515716        0.001538   \n",
       "4            0.599962       ...                0.597962        0.002263   \n",
       "5            0.592020       ...                0.589924        0.001442   \n",
       "6            0.600442       ...                0.597888        0.002318   \n",
       "7            0.591592       ...                0.589535        0.001363   \n",
       "8            0.851270       ...                0.848553        0.002233   \n",
       "9            0.809198       ...                0.812731        0.004420   \n",
       "10           0.850131       ...                0.848572        0.002589   \n",
       "11           0.803596       ...                0.805632        0.003771   \n",
       "\n",
       "    rank_test_score  split0_train_score  split1_train_score  \\\n",
       "0                12            0.513213            0.513482   \n",
       "1                10            0.515678            0.516025   \n",
       "2                11            0.513829            0.514599   \n",
       "3                 9            0.516949            0.517373   \n",
       "4                 5            0.614157            0.612890   \n",
       "5                 7            0.598595            0.597761   \n",
       "6                 6            0.613399            0.612287   \n",
       "7                 8            0.598429            0.596931   \n",
       "8                 2            0.939212            0.939713   \n",
       "9                 3            0.849489            0.849170   \n",
       "10                1            0.937728            0.938403   \n",
       "11                4            0.839348            0.839900   \n",
       "\n",
       "    split2_train_score  split3_train_score  split4_train_score  \\\n",
       "0             0.513598            0.512750            0.513213   \n",
       "1             0.516333            0.515100            0.515562   \n",
       "2             0.514869            0.513945            0.514484   \n",
       "3             0.517643            0.516834            0.516949   \n",
       "4             0.613669            0.613917            0.614841   \n",
       "5             0.597739            0.599053            0.599318   \n",
       "6             0.612681            0.613232            0.613434   \n",
       "7             0.597607            0.597996            0.598270   \n",
       "8             0.940174            0.938856            0.938646   \n",
       "9             0.849271            0.850010            0.849010   \n",
       "10            0.938014            0.937678            0.939299   \n",
       "11            0.838952            0.838637            0.838697   \n",
       "\n",
       "    mean_train_score  std_train_score  \n",
       "0           0.513251         0.000292  \n",
       "1           0.515740         0.000419  \n",
       "2           0.514345         0.000396  \n",
       "3           0.517149         0.000308  \n",
       "4           0.613895         0.000637  \n",
       "5           0.598493         0.000650  \n",
       "6           0.613007         0.000450  \n",
       "7           0.597846         0.000536  \n",
       "8           0.939320         0.000560  \n",
       "9           0.849390         0.000347  \n",
       "10          0.938224         0.000596  \n",
       "11          0.839107         0.000469  \n",
       "\n",
       "[12 rows x 23 columns]"
      ]
     },
     "execution_count": 20,
     "metadata": {},
     "output_type": "execute_result"
    }
   ],
   "source": [
    "a = pd.DataFrame.from_dict(grid.cv_results_)\n",
    "a"
   ]
  },
  {
   "cell_type": "code",
   "execution_count": 1,
   "metadata": {},
   "outputs": [
    {
     "ename": "NameError",
     "evalue": "name 'grid' is not defined",
     "output_type": "error",
     "traceback": [
      "\u001b[0;31m---------------------------------------------------------------------------\u001b[0m",
      "\u001b[0;31mNameError\u001b[0m                                 Traceback (most recent call last)",
      "\u001b[0;32m<ipython-input-1-fb6b380b5a97>\u001b[0m in \u001b[0;36m<module>\u001b[0;34m\u001b[0m\n\u001b[0;32m----> 1\u001b[0;31m \u001b[0mgrid\u001b[0m\u001b[0;34m.\u001b[0m\u001b[0mbest_estimator_\u001b[0m\u001b[0;34m\u001b[0m\u001b[0m\n\u001b[0m",
      "\u001b[0;31mNameError\u001b[0m: name 'grid' is not defined"
     ]
    }
   ],
   "source": [
    "grid.best_estimator_"
   ]
  },
  {
   "cell_type": "code",
   "execution_count": 7,
   "metadata": {},
   "outputs": [
    {
     "name": "stdout",
     "output_type": "stream",
     "text": [
      "Precision =  0.707512413904\n",
      "Recall =  0.423368158727\n",
      "F_score =  0.729636229736\n",
      "CCR =  0.877426615399\n",
      "ROC_AUC =  0.801656094368\n",
      "\n",
      "Confusion Matrix: \n",
      " [[51719  6016]\n",
      " [ 1826  4417]]\n",
      "\n"
     ]
    }
   ],
   "source": [
    "vectorizer = TfidfTransformer(norm=None, smooth_idf=True, sublinear_tf=False, use_idf=True)\n",
    "train_feature_vectors_sparse = vectorizer.fit_transform(train_feature_vectors_sparse)\n",
    "test_feature_vectors_sparse = vectorizer.fit_transform(test_feature_vectors_sparse)\n",
    "\n",
    "clf = MultinomialNB()\n",
    "\n",
    "clf.fit(train_feature_vectors_sparse, train_labels)\n",
    "\n",
    "predictions = clf.predict(test_feature_vectors_sparse)\n",
    "confmat = confusion_matrix(test_labels, predictions)\n",
    "\n",
    "precision = confmat[1,1]/(confmat[1,1] + confmat[1,0])\n",
    "recall = confmat[1,1]/(confmat[1,1] + confmat[0,1])\n",
    "fScore = f1_score(test_labels, predictions, average='macro')\n",
    "ccr = (confmat[0,0] + confmat[1,1])/(sum(sum(confmat)))\n",
    "roc_auc = roc_auc_score(test_labels, predictions)\n",
    "print(\"Precision = \",precision)\n",
    "print(\"Recall = \",recall)\n",
    "print(\"F_score = \",fScore)\n",
    "print(\"CCR = \",ccr)\n",
    "print(\"ROC_AUC = \", roc_auc)\n",
    "print()\n",
    "print(\"Confusion Matrix: \\n\", confmat)\n",
    "print()"
   ]
  },
  {
   "cell_type": "code",
   "execution_count": null,
   "metadata": {
    "collapsed": true
   },
   "outputs": [],
   "source": []
  }
 ],
 "metadata": {
  "kernelspec": {
   "display_name": "Python 3",
   "language": "python",
   "name": "python3"
  },
  "language_info": {
   "codemirror_mode": {
    "name": "ipython",
    "version": 3
   },
   "file_extension": ".py",
   "mimetype": "text/x-python",
   "name": "python",
   "nbconvert_exporter": "python",
   "pygments_lexer": "ipython3",
   "version": "3.6.3"
  }
 },
 "nbformat": 4,
 "nbformat_minor": 2
}
