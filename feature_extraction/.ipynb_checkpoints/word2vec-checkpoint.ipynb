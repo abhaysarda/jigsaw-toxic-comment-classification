{
 "cells": [
  {
   "cell_type": "markdown",
   "metadata": {},
   "source": [
    "## Verify later\n",
    "Since word2vec relies on predicting words by context, we do not need to eliminate stop words, since they eliminate valuable contextual information.  "
   ]
  },
  {
   "cell_type": "code",
   "execution_count": 34,
   "metadata": {},
   "outputs": [],
   "source": [
    "from time import time\n",
    "import gensim\n",
    "import pandas as pd\n",
    "import numpy as np\n",
    "from sklearn.preprocessing import Imputer\n",
    "from sklearn import svm\n",
    "from sklearn.metrics import confusion_matrix, f1_score"
   ]
  },
  {
   "cell_type": "code",
   "execution_count": 35,
   "metadata": {},
   "outputs": [],
   "source": [
    "train_data_path = '../data/raw_data/train.csv'\n",
    "test_data_path = '../data/raw_data/test.csv'"
   ]
  },
  {
   "cell_type": "code",
   "execution_count": 36,
   "metadata": {
    "scrolled": true
   },
   "outputs": [
    {
     "name": "stdout",
     "output_type": "stream",
     "text": [
      "(159571, 2)\n",
      "(63978, 2)\n"
     ]
    }
   ],
   "source": [
    "train_data = pd.read_csv(train_data_path)\n",
    "test_data = pd.read_csv(test_data_path)\n",
    "print(train_data.shape)\n",
    "print(test_data.shape)"
   ]
  },
  {
   "cell_type": "code",
   "execution_count": 37,
   "metadata": {},
   "outputs": [
    {
     "data": {
      "text/plain": [
       "\"Explanation\\r\\r\\nWhy the edits made under my username Hardcore Metallica Fan were reverted? They weren't vandalisms, just closure on some GAs after I voted at New York Dolls FAC. And please don't remove the template from the talk page since I'm retired now.89.205.38.27\""
      ]
     },
     "execution_count": 37,
     "metadata": {},
     "output_type": "execute_result"
    }
   ],
   "source": [
    "comments = list(train_data['Comment'])\n",
    "comments[0]"
   ]
  },
  {
   "cell_type": "code",
   "execution_count": 38,
   "metadata": {},
   "outputs": [],
   "source": [
    "'''Simple preprocess removes common accent marks and converts the text to lowercase. \n",
    "Contrast to more advanced preprocessing techniques in tf-idf.'''\n",
    "preprocessed_comments = []\n",
    "for i, line in enumerate(comments):\n",
    "    preprocessed_comments.append(gensim.utils.simple_preprocess(line))"
   ]
  },
  {
   "cell_type": "code",
   "execution_count": 39,
   "metadata": {},
   "outputs": [],
   "source": [
    "comments_test = list(test_data['Comment'])\n",
    "preprocessed_test = []\n",
    "for i, line in enumerate(comments_test):\n",
    "    preprocessed_test.append(gensim.utils.simple_preprocess(line))"
   ]
  },
  {
   "cell_type": "code",
   "execution_count": 40,
   "metadata": {},
   "outputs": [
    {
     "data": {
      "text/plain": [
       "['explanation',\n",
       " 'why',\n",
       " 'the',\n",
       " 'edits',\n",
       " 'made',\n",
       " 'under',\n",
       " 'my',\n",
       " 'username',\n",
       " 'hardcore',\n",
       " 'metallica',\n",
       " 'fan',\n",
       " 'were',\n",
       " 'reverted',\n",
       " 'they',\n",
       " 'weren',\n",
       " 'vandalisms',\n",
       " 'just',\n",
       " 'closure',\n",
       " 'on',\n",
       " 'some',\n",
       " 'gas',\n",
       " 'after',\n",
       " 'voted',\n",
       " 'at',\n",
       " 'new',\n",
       " 'york',\n",
       " 'dolls',\n",
       " 'fac',\n",
       " 'and',\n",
       " 'please',\n",
       " 'don',\n",
       " 'remove',\n",
       " 'the',\n",
       " 'template',\n",
       " 'from',\n",
       " 'the',\n",
       " 'talk',\n",
       " 'page',\n",
       " 'since',\n",
       " 'retired',\n",
       " 'now']"
      ]
     },
     "execution_count": 40,
     "metadata": {},
     "output_type": "execute_result"
    }
   ],
   "source": [
    "preprocessed_comments[0]"
   ]
  },
  {
   "cell_type": "markdown",
   "metadata": {},
   "source": [
    "Once we have a word2vec embedding trained, we still need to take into account multiple length comments. Because of which we cannot simply convert a paragraph to a vector embedding. However, we can take many different approaches, one of which is averaging the word vectors. "
   ]
  },
  {
   "cell_type": "code",
   "execution_count": 41,
   "metadata": {},
   "outputs": [],
   "source": [
    "def make_feature_vec(words, model, num_features):\n",
    "    feature_vec = np.zeros((num_features, ), dtype=\"float32\")\n",
    "    number_of_words_added = 0\n",
    "    \n",
    "    #convert the vocabulary of the word2vec model to a set for speed\n",
    "    word_set = set(model.wv.index2word)\n",
    "    for word in words:\n",
    "        if word in word_set:\n",
    "            number_of_words_added = number_of_words_added + 1\n",
    "            feature_vec = np.add(feature_vec, model[word])\n",
    "    \n",
    "    #Normalize to 1 by dividing by length\n",
    "    feature_vec = np.divide(feature_vec, number_of_words_added)\n",
    "    return feature_vec"
   ]
  },
  {
   "cell_type": "code",
   "execution_count": 42,
   "metadata": {},
   "outputs": [],
   "source": [
    "''' \n",
    "Convert a list of sentences (our data) to word2vec embedding\n",
    "'''\n",
    "def get_feature_vec_data(model, num_features, data):\n",
    "    current_count = 0\n",
    "    \n",
    "    feature_vec_data = np.zeros((len(data), num_features), dtype=\"float32\")\n",
    "    \n",
    "    for comment in data:\n",
    "        if current_count % 1000 == 0:\n",
    "            print(\"Current processing comment %d of %d\" % (current_count, len(data)))\n",
    "            \n",
    "        feature_vec_data[current_count] = make_feature_vec(comment, model, num_features)\n",
    "        current_count = current_count + 1\n",
    "    return feature_vec_data"
   ]
  },
  {
   "cell_type": "code",
   "execution_count": 43,
   "metadata": {},
   "outputs": [
    {
     "name": "stdout",
     "output_type": "stream",
     "text": [
      "Starting to train the word2vec model.\n",
      "Training complete!\n",
      "Extracting feature representation from word2vec model.\n",
      "Current processing comment 0 of 159571\n"
     ]
    },
    {
     "name": "stderr",
     "output_type": "stream",
     "text": [
      "C:\\Users\\Abhay\\Anaconda3\\envs\\toxic-comments\\lib\\site-packages\\ipykernel_launcher.py:10: DeprecationWarning: Call to deprecated `__getitem__` (Method will be removed in 4.0.0, use self.wv.__getitem__() instead).\n",
      "  # Remove the CWD from sys.path while we load stuff.\n"
     ]
    },
    {
     "name": "stdout",
     "output_type": "stream",
     "text": [
      "Current processing comment 1000 of 159571\n",
      "Current processing comment 2000 of 159571\n",
      "Current processing comment 3000 of 159571\n",
      "Current processing comment 4000 of 159571\n"
     ]
    },
    {
     "name": "stderr",
     "output_type": "stream",
     "text": [
      "C:\\Users\\Abhay\\Anaconda3\\envs\\toxic-comments\\lib\\site-packages\\ipykernel_launcher.py:13: RuntimeWarning: invalid value encountered in true_divide\n",
      "  del sys.path[0]\n"
     ]
    },
    {
     "name": "stdout",
     "output_type": "stream",
     "text": [
      "Current processing comment 5000 of 159571\n",
      "Current processing comment 6000 of 159571\n",
      "Current processing comment 7000 of 159571\n",
      "Current processing comment 8000 of 159571\n",
      "Current processing comment 9000 of 159571\n",
      "Current processing comment 10000 of 159571\n",
      "Current processing comment 11000 of 159571\n",
      "Current processing comment 12000 of 159571\n",
      "Current processing comment 13000 of 159571\n",
      "Current processing comment 14000 of 159571\n",
      "Current processing comment 15000 of 159571\n",
      "Current processing comment 16000 of 159571\n",
      "Current processing comment 17000 of 159571\n",
      "Current processing comment 18000 of 159571\n",
      "Current processing comment 19000 of 159571\n",
      "Current processing comment 20000 of 159571\n",
      "Current processing comment 21000 of 159571\n",
      "Current processing comment 22000 of 159571\n",
      "Current processing comment 23000 of 159571\n",
      "Current processing comment 24000 of 159571\n",
      "Current processing comment 25000 of 159571\n",
      "Current processing comment 26000 of 159571\n",
      "Current processing comment 27000 of 159571\n",
      "Current processing comment 28000 of 159571\n",
      "Current processing comment 29000 of 159571\n",
      "Current processing comment 30000 of 159571\n",
      "Current processing comment 31000 of 159571\n",
      "Current processing comment 32000 of 159571\n",
      "Current processing comment 33000 of 159571\n",
      "Current processing comment 34000 of 159571\n",
      "Current processing comment 35000 of 159571\n",
      "Current processing comment 36000 of 159571\n",
      "Current processing comment 37000 of 159571\n",
      "Current processing comment 38000 of 159571\n",
      "Current processing comment 39000 of 159571\n",
      "Current processing comment 40000 of 159571\n",
      "Current processing comment 41000 of 159571\n",
      "Current processing comment 42000 of 159571\n",
      "Current processing comment 43000 of 159571\n",
      "Current processing comment 44000 of 159571\n",
      "Current processing comment 45000 of 159571\n",
      "Current processing comment 46000 of 159571\n",
      "Current processing comment 47000 of 159571\n",
      "Current processing comment 48000 of 159571\n",
      "Current processing comment 49000 of 159571\n",
      "Current processing comment 50000 of 159571\n",
      "Current processing comment 51000 of 159571\n",
      "Current processing comment 52000 of 159571\n",
      "Current processing comment 53000 of 159571\n",
      "Current processing comment 54000 of 159571\n",
      "Current processing comment 55000 of 159571\n",
      "Current processing comment 56000 of 159571\n",
      "Current processing comment 57000 of 159571\n",
      "Current processing comment 58000 of 159571\n",
      "Current processing comment 59000 of 159571\n",
      "Current processing comment 60000 of 159571\n",
      "Current processing comment 61000 of 159571\n",
      "Current processing comment 62000 of 159571\n",
      "Current processing comment 63000 of 159571\n",
      "Current processing comment 64000 of 159571\n",
      "Current processing comment 65000 of 159571\n",
      "Current processing comment 66000 of 159571\n",
      "Current processing comment 67000 of 159571\n",
      "Current processing comment 68000 of 159571\n",
      "Current processing comment 69000 of 159571\n",
      "Current processing comment 70000 of 159571\n",
      "Current processing comment 71000 of 159571\n",
      "Current processing comment 72000 of 159571\n",
      "Current processing comment 73000 of 159571\n",
      "Current processing comment 74000 of 159571\n",
      "Current processing comment 75000 of 159571\n",
      "Current processing comment 76000 of 159571\n",
      "Current processing comment 77000 of 159571\n",
      "Current processing comment 78000 of 159571\n",
      "Current processing comment 79000 of 159571\n",
      "Current processing comment 80000 of 159571\n",
      "Current processing comment 81000 of 159571\n",
      "Current processing comment 82000 of 159571\n",
      "Current processing comment 83000 of 159571\n",
      "Current processing comment 84000 of 159571\n",
      "Current processing comment 85000 of 159571\n",
      "Current processing comment 86000 of 159571\n",
      "Current processing comment 87000 of 159571\n",
      "Current processing comment 88000 of 159571\n",
      "Current processing comment 89000 of 159571\n",
      "Current processing comment 90000 of 159571\n",
      "Current processing comment 91000 of 159571\n",
      "Current processing comment 92000 of 159571\n",
      "Current processing comment 93000 of 159571\n",
      "Current processing comment 94000 of 159571\n",
      "Current processing comment 95000 of 159571\n",
      "Current processing comment 96000 of 159571\n",
      "Current processing comment 97000 of 159571\n",
      "Current processing comment 98000 of 159571\n",
      "Current processing comment 99000 of 159571\n",
      "Current processing comment 100000 of 159571\n",
      "Current processing comment 101000 of 159571\n",
      "Current processing comment 102000 of 159571\n",
      "Current processing comment 103000 of 159571\n",
      "Current processing comment 104000 of 159571\n",
      "Current processing comment 105000 of 159571\n",
      "Current processing comment 106000 of 159571\n",
      "Current processing comment 107000 of 159571\n",
      "Current processing comment 108000 of 159571\n",
      "Current processing comment 109000 of 159571\n",
      "Current processing comment 110000 of 159571\n",
      "Current processing comment 111000 of 159571\n",
      "Current processing comment 112000 of 159571\n",
      "Current processing comment 113000 of 159571\n",
      "Current processing comment 114000 of 159571\n",
      "Current processing comment 115000 of 159571\n",
      "Current processing comment 116000 of 159571\n",
      "Current processing comment 117000 of 159571\n",
      "Current processing comment 118000 of 159571\n",
      "Current processing comment 119000 of 159571\n",
      "Current processing comment 120000 of 159571\n",
      "Current processing comment 121000 of 159571\n",
      "Current processing comment 122000 of 159571\n",
      "Current processing comment 123000 of 159571\n",
      "Current processing comment 124000 of 159571\n",
      "Current processing comment 125000 of 159571\n",
      "Current processing comment 126000 of 159571\n",
      "Current processing comment 127000 of 159571\n",
      "Current processing comment 128000 of 159571\n",
      "Current processing comment 129000 of 159571\n",
      "Current processing comment 130000 of 159571\n",
      "Current processing comment 131000 of 159571\n",
      "Current processing comment 132000 of 159571\n",
      "Current processing comment 133000 of 159571\n",
      "Current processing comment 134000 of 159571\n",
      "Current processing comment 135000 of 159571\n",
      "Current processing comment 136000 of 159571\n",
      "Current processing comment 137000 of 159571\n",
      "Current processing comment 138000 of 159571\n",
      "Current processing comment 139000 of 159571\n",
      "Current processing comment 140000 of 159571\n",
      "Current processing comment 141000 of 159571\n",
      "Current processing comment 142000 of 159571\n",
      "Current processing comment 143000 of 159571\n",
      "Current processing comment 144000 of 159571\n",
      "Current processing comment 145000 of 159571\n",
      "Current processing comment 146000 of 159571\n",
      "Current processing comment 147000 of 159571\n",
      "Current processing comment 148000 of 159571\n",
      "Current processing comment 149000 of 159571\n",
      "Current processing comment 150000 of 159571\n",
      "Current processing comment 151000 of 159571\n",
      "Current processing comment 152000 of 159571\n",
      "Current processing comment 153000 of 159571\n",
      "Current processing comment 154000 of 159571\n",
      "Current processing comment 155000 of 159571\n",
      "Current processing comment 156000 of 159571\n",
      "Current processing comment 157000 of 159571\n",
      "Current processing comment 158000 of 159571\n",
      "Current processing comment 159000 of 159571\n",
      "Current processing comment 0 of 63978\n",
      "Current processing comment 1000 of 63978\n",
      "Current processing comment 2000 of 63978\n",
      "Current processing comment 3000 of 63978\n",
      "Current processing comment 4000 of 63978\n",
      "Current processing comment 5000 of 63978\n",
      "Current processing comment 6000 of 63978\n",
      "Current processing comment 7000 of 63978\n",
      "Current processing comment 8000 of 63978\n",
      "Current processing comment 9000 of 63978\n",
      "Current processing comment 10000 of 63978\n",
      "Current processing comment 11000 of 63978\n",
      "Current processing comment 12000 of 63978\n",
      "Current processing comment 13000 of 63978\n",
      "Current processing comment 14000 of 63978\n",
      "Current processing comment 15000 of 63978\n",
      "Current processing comment 16000 of 63978\n",
      "Current processing comment 17000 of 63978\n",
      "Current processing comment 18000 of 63978\n",
      "Current processing comment 19000 of 63978\n",
      "Current processing comment 20000 of 63978\n",
      "Current processing comment 21000 of 63978\n",
      "Current processing comment 22000 of 63978\n",
      "Current processing comment 23000 of 63978\n",
      "Current processing comment 24000 of 63978\n",
      "Current processing comment 25000 of 63978\n",
      "Current processing comment 26000 of 63978\n",
      "Current processing comment 27000 of 63978\n",
      "Current processing comment 28000 of 63978\n",
      "Current processing comment 29000 of 63978\n",
      "Current processing comment 30000 of 63978\n",
      "Current processing comment 31000 of 63978\n",
      "Current processing comment 32000 of 63978\n",
      "Current processing comment 33000 of 63978\n",
      "Current processing comment 34000 of 63978\n",
      "Current processing comment 35000 of 63978\n"
     ]
    },
    {
     "name": "stdout",
     "output_type": "stream",
     "text": [
      "Current processing comment 36000 of 63978\n",
      "Current processing comment 37000 of 63978\n",
      "Current processing comment 38000 of 63978\n",
      "Current processing comment 39000 of 63978\n",
      "Current processing comment 40000 of 63978\n",
      "Current processing comment 41000 of 63978\n",
      "Current processing comment 42000 of 63978\n",
      "Current processing comment 43000 of 63978\n",
      "Current processing comment 44000 of 63978\n",
      "Current processing comment 45000 of 63978\n",
      "Current processing comment 46000 of 63978\n",
      "Current processing comment 47000 of 63978\n",
      "Current processing comment 48000 of 63978\n",
      "Current processing comment 49000 of 63978\n",
      "Current processing comment 50000 of 63978\n",
      "Current processing comment 51000 of 63978\n",
      "Current processing comment 52000 of 63978\n",
      "Current processing comment 53000 of 63978\n",
      "Current processing comment 54000 of 63978\n",
      "Current processing comment 55000 of 63978\n",
      "Current processing comment 56000 of 63978\n",
      "Current processing comment 57000 of 63978\n",
      "Current processing comment 58000 of 63978\n",
      "Current processing comment 59000 of 63978\n",
      "Current processing comment 60000 of 63978\n",
      "Current processing comment 61000 of 63978\n",
      "Current processing comment 62000 of 63978\n",
      "Current processing comment 63000 of 63978\n"
     ]
    },
    {
     "name": "stderr",
     "output_type": "stream",
     "text": [
      "C:\\Users\\Abhay\\Anaconda3\\envs\\toxic-comments\\lib\\site-packages\\sklearn\\utils\\deprecation.py:58: DeprecationWarning: Class Imputer is deprecated; Imputer was deprecated in version 0.20 and will be removed in 0.22. Import impute.SimpleImputer from sklearn instead.\n",
      "  warnings.warn(msg, category=DeprecationWarning)\n",
      "C:\\Users\\Abhay\\Anaconda3\\envs\\toxic-comments\\lib\\site-packages\\sklearn\\utils\\deprecation.py:58: DeprecationWarning: Class Imputer is deprecated; Imputer was deprecated in version 0.20 and will be removed in 0.22. Import impute.SimpleImputer from sklearn instead.\n",
      "  warnings.warn(msg, category=DeprecationWarning)\n"
     ]
    },
    {
     "name": "stdout",
     "output_type": "stream",
     "text": [
      "Fitting SVM to data.\n",
      "The total time taken is : 1905.3048725128174\n",
      "F Score is:  0.5424708533359459\n"
     ]
    }
   ],
   "source": [
    "def crossval():\n",
    "    \n",
    "    start = time()\n",
    "    '''The number of features indicate what dimension of a word vector we shall be using'''\n",
    "    num_features = 300 # The dimension of the word vector(HyperParameter)\n",
    "    min_word_count = 3# The minimum word count(HyperParameter)\n",
    "    num_of_workers = 4 # Number of threads to be used in parallel\n",
    "    context = 10 # The context window size (HyperParameter)\n",
    "    downsampling = 1e-3\n",
    "    \n",
    "    print(\"Starting to train the word2vec model.\")\n",
    "    model = gensim.models.Word2Vec(\n",
    "        preprocessed_comments,\n",
    "        size = num_features,\n",
    "        window = context,\n",
    "        min_count = min_word_count,\n",
    "        workers = num_of_workers,\n",
    "        sample = downsampling)\n",
    "    \n",
    "    model.train(preprocessed_comments, total_examples = len(comments), epochs=10)\n",
    "    print(\"Training complete!\")\n",
    "    model.init_sims(replace=True)\n",
    "    print(\"Extracting feature representation from word2vec model.\")\n",
    "    wv_data = get_feature_vec_data(model, num_features, preprocessed_comments)\n",
    "    # Do the same for test data\n",
    "    wv_test = get_feature_vec_data(model, num_features, preprocessed_test)\n",
    "    wv_test = Imputer().fit_transform(wv_test)\n",
    "    wv_data = Imputer().fit_transform(wv_data)\n",
    "    clf = svm.LinearSVC(dual=False, class_weight=\"balanced\")\n",
    "\n",
    "    print(\"Fitting SVM to data.\")\n",
    "    \n",
    "    clf.fit(wv_data, train_data['Labels'])\n",
    "\n",
    "    result = clf.predict(wv_test)\n",
    "    conf_mat = confusion_matrix(test_data['Labels'], result)\n",
    "    fscore = f1_score(test_data['Labels'], result, 'weighted')\n",
    "    end = time()\n",
    "    print(\"The total time taken is :\", end-start)\n",
    "    print(\"F Score is: \", fscore)\n",
    "    return model, conf_mat, clf\n",
    "model, conf, clf = crossval()"
   ]
  },
  {
   "cell_type": "code",
   "execution_count": 46,
   "metadata": {},
   "outputs": [
    {
     "data": {
      "text/plain": [
       "[('hi', 0.6419724822044373),\n",
       " ('hello', 0.5233088731765747),\n",
       " ('dude', 0.483754962682724),\n",
       " ('yo', 0.4745360314846039),\n",
       " ('howdy', 0.4510461688041687),\n",
       " ('haha', 0.43993693590164185),\n",
       " ('btw', 0.4390471279621124),\n",
       " ('wtf', 0.4210343658924103),\n",
       " ('omg', 0.420622318983078),\n",
       " ('hahahaha', 0.4120093286037445)]"
      ]
     },
     "execution_count": 46,
     "metadata": {},
     "output_type": "execute_result"
    }
   ],
   "source": [
    "w1 = \"hey\"\n",
    "model.wv.most_similar(positive=w1)"
   ]
  },
  {
   "cell_type": "code",
   "execution_count": 47,
   "metadata": {},
   "outputs": [
    {
     "name": "stderr",
     "output_type": "stream",
     "text": [
      "C:\\Users\\Abhay\\Anaconda3\\envs\\toxic-comments\\lib\\site-packages\\ipykernel_launcher.py:1: DeprecationWarning: Call to deprecated `doesnt_match` (Method will be removed in 4.0.0, use self.wv.doesnt_match() instead).\n",
      "  \"\"\"Entry point for launching an IPython kernel.\n"
     ]
    },
    {
     "data": {
      "text/plain": [
       "'kitchen'"
      ]
     },
     "execution_count": 47,
     "metadata": {},
     "output_type": "execute_result"
    }
   ],
   "source": [
    "model.doesnt_match(\"man woman child kitchen\".split())"
   ]
  },
  {
   "cell_type": "code",
   "execution_count": 48,
   "metadata": {},
   "outputs": [
    {
     "data": {
      "text/plain": [
       "array([[49101,  8634],\n",
       "       [  706,  5537]], dtype=int64)"
      ]
     },
     "execution_count": 48,
     "metadata": {},
     "output_type": "execute_result"
    }
   ],
   "source": [
    "conf"
   ]
  },
  {
   "cell_type": "code",
   "execution_count": null,
   "metadata": {},
   "outputs": [],
   "source": []
  }
 ],
 "metadata": {
  "kernelspec": {
   "display_name": "Python 3",
   "language": "python",
   "name": "python3"
  },
  "language_info": {
   "codemirror_mode": {
    "name": "ipython",
    "version": 3
   },
   "file_extension": ".py",
   "mimetype": "text/x-python",
   "name": "python",
   "nbconvert_exporter": "python",
   "pygments_lexer": "ipython3",
   "version": "3.6.7"
  }
 },
 "nbformat": 4,
 "nbformat_minor": 2
}
