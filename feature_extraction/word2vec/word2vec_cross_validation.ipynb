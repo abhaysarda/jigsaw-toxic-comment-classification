{
 "cells": [
  {
   "cell_type": "markdown",
   "metadata": {},
   "source": [
    "## Word2Vec\n",
    "Since word2vec relies on predicting words by context, we do not need to eliminate stop words, since they eliminate valuable contextual information.  "
   ]
  },
  {
   "cell_type": "code",
   "execution_count": 1,
   "metadata": {},
   "outputs": [
    {
     "name": "stderr",
     "output_type": "stream",
     "text": [
      "C:\\Users\\Abhay\\Anaconda3\\envs\\toxic-comments\\lib\\site-packages\\gensim\\utils.py:1197: UserWarning: detected Windows; aliasing chunkize to chunkize_serial\n",
      "  warnings.warn(\"detected Windows; aliasing chunkize to chunkize_serial\")\n"
     ]
    }
   ],
   "source": [
    "from time import time\n",
    "import gensim\n",
    "import pandas as pd\n",
    "import numpy as np\n",
    "from sklearn.preprocessing import Imputer\n",
    "from sklearn import svm\n",
    "from sklearn.metrics import confusion_matrix, roc_auc_score\n",
    "from sklearn.model_selection import train_test_split"
   ]
  },
  {
   "cell_type": "markdown",
   "metadata": {},
   "source": [
    "## Input data\n",
    "    We are taking both train and test data from kaggle, preprocessed and combined into two classes. However, a large part of the test set has no labels, which means it's not used for training/testing but may prove to be valuable to train the word2vec model. Hence, we also load the unlabelled test data to check later on in the notebook on it's effect on word2vec performance, after hyperparameter search. "
   ]
  },
  {
   "cell_type": "code",
   "execution_count": 2,
   "metadata": {},
   "outputs": [],
   "source": [
    "train_data_path = '../../data/raw_data/train.csv'\n",
    "test_data_path = '../../data/raw_data/test.csv'\n",
    "unlabelled_test_path = '../../data/raw_data/unlabelled_test.csv'"
   ]
  },
  {
   "cell_type": "code",
   "execution_count": 3,
   "metadata": {
    "scrolled": true
   },
   "outputs": [
    {
     "name": "stdout",
     "output_type": "stream",
     "text": [
      "(159571, 2)\n",
      "(63978, 2)\n",
      "(89186, 1)\n"
     ]
    }
   ],
   "source": [
    "train_data = pd.read_csv(train_data_path)\n",
    "test_data = pd.read_csv(test_data_path)\n",
    "unlabelled_test = pd.read_csv(unlabelled_test_path)\n",
    "print(train_data.shape)\n",
    "print(test_data.shape)\n",
    "print(unlabelled_test.shape)"
   ]
  },
  {
   "cell_type": "code",
   "execution_count": 4,
   "metadata": {},
   "outputs": [],
   "source": [
    "comments = list(train_data['Comment'])\n",
    "comments_test = list(test_data['Comment'])\n",
    "unlabelled_test = list(unlabelled_test['Comment'])"
   ]
  },
  {
   "cell_type": "code",
   "execution_count": 5,
   "metadata": {},
   "outputs": [],
   "source": [
    "# Assemble labels\n",
    "data_label = pd.concat([train_data['Labels'], test_data['Labels']])"
   ]
  },
  {
   "cell_type": "code",
   "execution_count": 6,
   "metadata": {},
   "outputs": [
    {
     "data": {
      "text/plain": [
       "312735"
      ]
     },
     "execution_count": 6,
     "metadata": {},
     "output_type": "execute_result"
    }
   ],
   "source": [
    "'''Simple preprocess removes common accent marks and converts the text to lowercase. \n",
    "Contrast to more advanced preprocessing techniques in tf-idf.'''\n",
    "preprocessed_comments = []\n",
    "for i, line in enumerate(comments):\n",
    "    preprocessed_comments.append(gensim.utils.simple_preprocess(line))\n",
    "for i, line in enumerate(comments_test):\n",
    "    preprocessed_comments.append(gensim.utils.simple_preprocess(line))\n",
    "preprocessed_comments_total = preprocessed_comments.copy()\n",
    "for i, line in enumerate(unlabelled_test):\n",
    "    preprocessed_comments_total.append(gensim.utils.simple_preprocess(line))\n",
    "len(preprocessed_comments_total)"
   ]
  },
  {
   "cell_type": "code",
   "execution_count": 7,
   "metadata": {},
   "outputs": [],
   "source": [
    "train_data, test_data, train_labels, test_labels = train_test_split(preprocessed_comments, data_label , test_size = 0.15, random_state = 2, stratify=data_label)"
   ]
  },
  {
   "cell_type": "markdown",
   "metadata": {},
   "source": [
    "Once we have a word2vec embedding trained, we still need to take into account multiple length comments. Because of which we cannot simply convert a paragraph to a vector embedding. However, we can take many different approaches, one of which is averaging the word vectors. "
   ]
  },
  {
   "cell_type": "code",
   "execution_count": 8,
   "metadata": {},
   "outputs": [],
   "source": [
    "def make_feature_vec(words, model, num_features, word_set):\n",
    "    feature_vec = np.zeros((num_features, ), dtype=\"float32\")\n",
    "    number_of_words_added = 0\n",
    "\n",
    "    #convert the vocabulary of the word2vec model to a set for speed\n",
    "    for word in words:\n",
    "        if word in word_set:\n",
    "            number_of_words_added = number_of_words_added + 1\n",
    "            feature_vec = np.add(feature_vec, model[word])\n",
    "    \n",
    "    #Normalize to 1 by dividing by length\n",
    "    feature_vec = np.divide(feature_vec, number_of_words_added)\n",
    "    return feature_vec"
   ]
  },
  {
   "cell_type": "code",
   "execution_count": 9,
   "metadata": {},
   "outputs": [],
   "source": [
    "''' \n",
    "Convert a list of sentences (our data) to word2vec embedding\n",
    "'''\n",
    "def get_feature_vec_data(model, num_features, data): \n",
    "    current_count = 0\n",
    "    word_set = set(model.wv.index2word)\n",
    "    feature_vec_data = np.zeros((len(data), num_features), dtype=\"float32\")\n",
    "    for comment in data:         \n",
    "        feature_vec_data[current_count] = make_feature_vec(comment, model, num_features, word_set)\n",
    "        current_count = current_count + 1\n",
    "    return feature_vec_data"
   ]
  },
  {
   "cell_type": "code",
   "execution_count": 10,
   "metadata": {},
   "outputs": [],
   "source": [
    "def eval_model(num_features, min_word_count, context, downsampling, preprocessed_comments, train_label, num_epochs):\n",
    "    \n",
    "    start = time()\n",
    "    X_train, X_test, y_train, y_test = train_test_split(preprocessed_comments, train_label, test_size = 0.176, random_state = 2)\n",
    "    print(\"Starting to train the word2vec model.\")\n",
    "    num_of_workers = 6 # Number of threads to be used in parallel\n",
    "\n",
    "    model = gensim.models.Word2Vec(\n",
    "        X_train,\n",
    "        size = num_features,\n",
    "        window = context,\n",
    "        min_count = min_word_count,\n",
    "        workers = num_of_workers,\n",
    "        sample = downsampling)\n",
    "    \n",
    "    model.train(X_train, total_examples = len(X_train), epochs=num_epochs)\n",
    "    print(\"Training complete!\")\n",
    "    model.init_sims(replace=True)\n",
    "    \n",
    "    \n",
    "    print(\"Extracting feature representation from word2vec model.\")\n",
    "    wv_data = get_feature_vec_data(model, num_features, X_train)\n",
    "    wv_data = Imputer().fit_transform(wv_data)\n",
    "    \n",
    "    wv_test = get_feature_vec_data(model, num_features, X_test)\n",
    "    wv_test = Imputer().fit_transform(wv_test)\n",
    "    clf = svm.LinearSVC(dual=False, class_weight=\"balanced\")\n",
    "    print(\"Fitting SVM to data.\")\n",
    "    \n",
    "    clf.fit(wv_data, y_train)\n",
    "\n",
    "    result = clf.predict(wv_test)\n",
    "    #conf_mat = confusion_matrix(test_data['Labels'], result)\n",
    "    roc_auc = roc_auc_score(y_test, result, 'macro')\n",
    "    end = time()\n",
    "    print(\"The total time taken for this iteration is :\", end-start)\n",
    "    print(\"Mean AUC ROC Score is: \", roc_auc)\n",
    "    return roc_auc"
   ]
  },
  {
   "cell_type": "code",
   "execution_count": 11,
   "metadata": {},
   "outputs": [
    {
     "name": "stdout",
     "output_type": "stream",
     "text": [
      "Iteration 0, Current parameters: num_features: 25, min_word_count: 3, context: 10, downsampling: 0, num_epochs: 10\n",
      "Starting to train the word2vec model.\n",
      "Training complete!\n",
      "Extracting feature representation from word2vec model.\n"
     ]
    },
    {
     "name": "stderr",
     "output_type": "stream",
     "text": [
      "C:\\Users\\Abhay\\Anaconda3\\envs\\toxic-comments\\lib\\site-packages\\ipykernel_launcher.py:9: DeprecationWarning: Call to deprecated `__getitem__` (Method will be removed in 4.0.0, use self.wv.__getitem__() instead).\n",
      "  if __name__ == '__main__':\n",
      "C:\\Users\\Abhay\\Anaconda3\\envs\\toxic-comments\\lib\\site-packages\\ipykernel_launcher.py:12: RuntimeWarning: invalid value encountered in true_divide\n",
      "  if sys.path[0] == '':\n",
      "C:\\Users\\Abhay\\Anaconda3\\envs\\toxic-comments\\lib\\site-packages\\sklearn\\utils\\deprecation.py:58: DeprecationWarning: Class Imputer is deprecated; Imputer was deprecated in version 0.20 and will be removed in 0.22. Import impute.SimpleImputer from sklearn instead.\n",
      "  warnings.warn(msg, category=DeprecationWarning)\n",
      "C:\\Users\\Abhay\\Anaconda3\\envs\\toxic-comments\\lib\\site-packages\\ipykernel_launcher.py:9: DeprecationWarning: Call to deprecated `__getitem__` (Method will be removed in 4.0.0, use self.wv.__getitem__() instead).\n",
      "  if __name__ == '__main__':\n",
      "C:\\Users\\Abhay\\Anaconda3\\envs\\toxic-comments\\lib\\site-packages\\ipykernel_launcher.py:12: RuntimeWarning: invalid value encountered in true_divide\n",
      "  if sys.path[0] == '':\n",
      "C:\\Users\\Abhay\\Anaconda3\\envs\\toxic-comments\\lib\\site-packages\\sklearn\\utils\\deprecation.py:58: DeprecationWarning: Class Imputer is deprecated; Imputer was deprecated in version 0.20 and will be removed in 0.22. Import impute.SimpleImputer from sklearn instead.\n",
      "  warnings.warn(msg, category=DeprecationWarning)\n"
     ]
    },
    {
     "name": "stdout",
     "output_type": "stream",
     "text": [
      "Fitting SVM to data.\n",
      "The total time taken for this iteration is : 100.87986207008362\n",
      "Mean AUC ROC Score is:  0.8514222860670103\n",
      "Iteration 1, Current parameters: num_features: 50, min_word_count: 3, context: 10, downsampling: 0, num_epochs: 10\n",
      "Starting to train the word2vec model.\n",
      "Training complete!\n",
      "Extracting feature representation from word2vec model.\n"
     ]
    },
    {
     "name": "stderr",
     "output_type": "stream",
     "text": [
      "C:\\Users\\Abhay\\Anaconda3\\envs\\toxic-comments\\lib\\site-packages\\ipykernel_launcher.py:9: DeprecationWarning: Call to deprecated `__getitem__` (Method will be removed in 4.0.0, use self.wv.__getitem__() instead).\n",
      "  if __name__ == '__main__':\n",
      "C:\\Users\\Abhay\\Anaconda3\\envs\\toxic-comments\\lib\\site-packages\\ipykernel_launcher.py:12: RuntimeWarning: invalid value encountered in true_divide\n",
      "  if sys.path[0] == '':\n",
      "C:\\Users\\Abhay\\Anaconda3\\envs\\toxic-comments\\lib\\site-packages\\sklearn\\utils\\deprecation.py:58: DeprecationWarning: Class Imputer is deprecated; Imputer was deprecated in version 0.20 and will be removed in 0.22. Import impute.SimpleImputer from sklearn instead.\n",
      "  warnings.warn(msg, category=DeprecationWarning)\n",
      "C:\\Users\\Abhay\\Anaconda3\\envs\\toxic-comments\\lib\\site-packages\\ipykernel_launcher.py:9: DeprecationWarning: Call to deprecated `__getitem__` (Method will be removed in 4.0.0, use self.wv.__getitem__() instead).\n",
      "  if __name__ == '__main__':\n",
      "C:\\Users\\Abhay\\Anaconda3\\envs\\toxic-comments\\lib\\site-packages\\ipykernel_launcher.py:12: RuntimeWarning: invalid value encountered in true_divide\n",
      "  if sys.path[0] == '':\n",
      "C:\\Users\\Abhay\\Anaconda3\\envs\\toxic-comments\\lib\\site-packages\\sklearn\\utils\\deprecation.py:58: DeprecationWarning: Class Imputer is deprecated; Imputer was deprecated in version 0.20 and will be removed in 0.22. Import impute.SimpleImputer from sklearn instead.\n",
      "  warnings.warn(msg, category=DeprecationWarning)\n"
     ]
    },
    {
     "name": "stdout",
     "output_type": "stream",
     "text": [
      "Fitting SVM to data.\n",
      "The total time taken for this iteration is : 104.23780345916748\n",
      "Mean AUC ROC Score is:  0.8629761095936687\n",
      "Iteration 2, Current parameters: num_features: 100, min_word_count: 3, context: 10, downsampling: 0, num_epochs: 10\n",
      "Starting to train the word2vec model.\n",
      "Training complete!\n",
      "Extracting feature representation from word2vec model.\n"
     ]
    },
    {
     "name": "stderr",
     "output_type": "stream",
     "text": [
      "C:\\Users\\Abhay\\Anaconda3\\envs\\toxic-comments\\lib\\site-packages\\ipykernel_launcher.py:9: DeprecationWarning: Call to deprecated `__getitem__` (Method will be removed in 4.0.0, use self.wv.__getitem__() instead).\n",
      "  if __name__ == '__main__':\n",
      "C:\\Users\\Abhay\\Anaconda3\\envs\\toxic-comments\\lib\\site-packages\\ipykernel_launcher.py:12: RuntimeWarning: invalid value encountered in true_divide\n",
      "  if sys.path[0] == '':\n",
      "C:\\Users\\Abhay\\Anaconda3\\envs\\toxic-comments\\lib\\site-packages\\sklearn\\utils\\deprecation.py:58: DeprecationWarning: Class Imputer is deprecated; Imputer was deprecated in version 0.20 and will be removed in 0.22. Import impute.SimpleImputer from sklearn instead.\n",
      "  warnings.warn(msg, category=DeprecationWarning)\n",
      "C:\\Users\\Abhay\\Anaconda3\\envs\\toxic-comments\\lib\\site-packages\\ipykernel_launcher.py:9: DeprecationWarning: Call to deprecated `__getitem__` (Method will be removed in 4.0.0, use self.wv.__getitem__() instead).\n",
      "  if __name__ == '__main__':\n",
      "C:\\Users\\Abhay\\Anaconda3\\envs\\toxic-comments\\lib\\site-packages\\ipykernel_launcher.py:12: RuntimeWarning: invalid value encountered in true_divide\n",
      "  if sys.path[0] == '':\n",
      "C:\\Users\\Abhay\\Anaconda3\\envs\\toxic-comments\\lib\\site-packages\\sklearn\\utils\\deprecation.py:58: DeprecationWarning: Class Imputer is deprecated; Imputer was deprecated in version 0.20 and will be removed in 0.22. Import impute.SimpleImputer from sklearn instead.\n",
      "  warnings.warn(msg, category=DeprecationWarning)\n"
     ]
    },
    {
     "name": "stdout",
     "output_type": "stream",
     "text": [
      "Fitting SVM to data.\n",
      "The total time taken for this iteration is : 115.13221478462219\n",
      "Mean AUC ROC Score is:  0.8729033848958342\n",
      "Iteration 3, Current parameters: num_features: 200, min_word_count: 3, context: 10, downsampling: 0, num_epochs: 10\n",
      "Starting to train the word2vec model.\n",
      "Training complete!\n",
      "Extracting feature representation from word2vec model.\n"
     ]
    },
    {
     "name": "stderr",
     "output_type": "stream",
     "text": [
      "C:\\Users\\Abhay\\Anaconda3\\envs\\toxic-comments\\lib\\site-packages\\ipykernel_launcher.py:9: DeprecationWarning: Call to deprecated `__getitem__` (Method will be removed in 4.0.0, use self.wv.__getitem__() instead).\n",
      "  if __name__ == '__main__':\n",
      "C:\\Users\\Abhay\\Anaconda3\\envs\\toxic-comments\\lib\\site-packages\\ipykernel_launcher.py:12: RuntimeWarning: invalid value encountered in true_divide\n",
      "  if sys.path[0] == '':\n",
      "C:\\Users\\Abhay\\Anaconda3\\envs\\toxic-comments\\lib\\site-packages\\sklearn\\utils\\deprecation.py:58: DeprecationWarning: Class Imputer is deprecated; Imputer was deprecated in version 0.20 and will be removed in 0.22. Import impute.SimpleImputer from sklearn instead.\n",
      "  warnings.warn(msg, category=DeprecationWarning)\n",
      "C:\\Users\\Abhay\\Anaconda3\\envs\\toxic-comments\\lib\\site-packages\\ipykernel_launcher.py:9: DeprecationWarning: Call to deprecated `__getitem__` (Method will be removed in 4.0.0, use self.wv.__getitem__() instead).\n",
      "  if __name__ == '__main__':\n",
      "C:\\Users\\Abhay\\Anaconda3\\envs\\toxic-comments\\lib\\site-packages\\ipykernel_launcher.py:12: RuntimeWarning: invalid value encountered in true_divide\n",
      "  if sys.path[0] == '':\n",
      "C:\\Users\\Abhay\\Anaconda3\\envs\\toxic-comments\\lib\\site-packages\\sklearn\\utils\\deprecation.py:58: DeprecationWarning: Class Imputer is deprecated; Imputer was deprecated in version 0.20 and will be removed in 0.22. Import impute.SimpleImputer from sklearn instead.\n",
      "  warnings.warn(msg, category=DeprecationWarning)\n"
     ]
    },
    {
     "name": "stdout",
     "output_type": "stream",
     "text": [
      "Fitting SVM to data.\n",
      "The total time taken for this iteration is : 138.76492500305176\n",
      "Mean AUC ROC Score is:  0.8755466577193667\n",
      "Iteration 4, Current parameters: num_features: 300, min_word_count: 3, context: 10, downsampling: 0, num_epochs: 10\n",
      "Starting to train the word2vec model.\n",
      "Training complete!\n",
      "Extracting feature representation from word2vec model.\n"
     ]
    },
    {
     "name": "stderr",
     "output_type": "stream",
     "text": [
      "C:\\Users\\Abhay\\Anaconda3\\envs\\toxic-comments\\lib\\site-packages\\ipykernel_launcher.py:9: DeprecationWarning: Call to deprecated `__getitem__` (Method will be removed in 4.0.0, use self.wv.__getitem__() instead).\n",
      "  if __name__ == '__main__':\n",
      "C:\\Users\\Abhay\\Anaconda3\\envs\\toxic-comments\\lib\\site-packages\\ipykernel_launcher.py:12: RuntimeWarning: invalid value encountered in true_divide\n",
      "  if sys.path[0] == '':\n",
      "C:\\Users\\Abhay\\Anaconda3\\envs\\toxic-comments\\lib\\site-packages\\sklearn\\utils\\deprecation.py:58: DeprecationWarning: Class Imputer is deprecated; Imputer was deprecated in version 0.20 and will be removed in 0.22. Import impute.SimpleImputer from sklearn instead.\n",
      "  warnings.warn(msg, category=DeprecationWarning)\n",
      "C:\\Users\\Abhay\\Anaconda3\\envs\\toxic-comments\\lib\\site-packages\\ipykernel_launcher.py:9: DeprecationWarning: Call to deprecated `__getitem__` (Method will be removed in 4.0.0, use self.wv.__getitem__() instead).\n",
      "  if __name__ == '__main__':\n",
      "C:\\Users\\Abhay\\Anaconda3\\envs\\toxic-comments\\lib\\site-packages\\ipykernel_launcher.py:12: RuntimeWarning: invalid value encountered in true_divide\n",
      "  if sys.path[0] == '':\n",
      "C:\\Users\\Abhay\\Anaconda3\\envs\\toxic-comments\\lib\\site-packages\\sklearn\\utils\\deprecation.py:58: DeprecationWarning: Class Imputer is deprecated; Imputer was deprecated in version 0.20 and will be removed in 0.22. Import impute.SimpleImputer from sklearn instead.\n",
      "  warnings.warn(msg, category=DeprecationWarning)\n"
     ]
    },
    {
     "name": "stdout",
     "output_type": "stream",
     "text": [
      "Fitting SVM to data.\n",
      "The total time taken for this iteration is : 156.91902947425842\n",
      "Mean AUC ROC Score is:  0.878474099936879\n",
      "Iteration 5, Current parameters: num_features: 400, min_word_count: 3, context: 10, downsampling: 0, num_epochs: 10\n",
      "Starting to train the word2vec model.\n",
      "Training complete!\n",
      "Extracting feature representation from word2vec model.\n"
     ]
    },
    {
     "name": "stderr",
     "output_type": "stream",
     "text": [
      "C:\\Users\\Abhay\\Anaconda3\\envs\\toxic-comments\\lib\\site-packages\\ipykernel_launcher.py:9: DeprecationWarning: Call to deprecated `__getitem__` (Method will be removed in 4.0.0, use self.wv.__getitem__() instead).\n",
      "  if __name__ == '__main__':\n",
      "C:\\Users\\Abhay\\Anaconda3\\envs\\toxic-comments\\lib\\site-packages\\ipykernel_launcher.py:12: RuntimeWarning: invalid value encountered in true_divide\n",
      "  if sys.path[0] == '':\n",
      "C:\\Users\\Abhay\\Anaconda3\\envs\\toxic-comments\\lib\\site-packages\\sklearn\\utils\\deprecation.py:58: DeprecationWarning: Class Imputer is deprecated; Imputer was deprecated in version 0.20 and will be removed in 0.22. Import impute.SimpleImputer from sklearn instead.\n",
      "  warnings.warn(msg, category=DeprecationWarning)\n",
      "C:\\Users\\Abhay\\Anaconda3\\envs\\toxic-comments\\lib\\site-packages\\ipykernel_launcher.py:9: DeprecationWarning: Call to deprecated `__getitem__` (Method will be removed in 4.0.0, use self.wv.__getitem__() instead).\n",
      "  if __name__ == '__main__':\n",
      "C:\\Users\\Abhay\\Anaconda3\\envs\\toxic-comments\\lib\\site-packages\\ipykernel_launcher.py:12: RuntimeWarning: invalid value encountered in true_divide\n",
      "  if sys.path[0] == '':\n",
      "C:\\Users\\Abhay\\Anaconda3\\envs\\toxic-comments\\lib\\site-packages\\sklearn\\utils\\deprecation.py:58: DeprecationWarning: Class Imputer is deprecated; Imputer was deprecated in version 0.20 and will be removed in 0.22. Import impute.SimpleImputer from sklearn instead.\n",
      "  warnings.warn(msg, category=DeprecationWarning)\n"
     ]
    },
    {
     "name": "stdout",
     "output_type": "stream",
     "text": [
      "Fitting SVM to data.\n",
      "The total time taken for this iteration is : 175.4446303844452\n",
      "Mean AUC ROC Score is:  0.8782697232491766\n",
      "Iteration 6, Current parameters: num_features: 500, min_word_count: 3, context: 10, downsampling: 0, num_epochs: 10\n",
      "Starting to train the word2vec model.\n",
      "Training complete!\n",
      "Extracting feature representation from word2vec model.\n"
     ]
    },
    {
     "name": "stderr",
     "output_type": "stream",
     "text": [
      "C:\\Users\\Abhay\\Anaconda3\\envs\\toxic-comments\\lib\\site-packages\\ipykernel_launcher.py:9: DeprecationWarning: Call to deprecated `__getitem__` (Method will be removed in 4.0.0, use self.wv.__getitem__() instead).\n",
      "  if __name__ == '__main__':\n",
      "C:\\Users\\Abhay\\Anaconda3\\envs\\toxic-comments\\lib\\site-packages\\ipykernel_launcher.py:12: RuntimeWarning: invalid value encountered in true_divide\n",
      "  if sys.path[0] == '':\n",
      "C:\\Users\\Abhay\\Anaconda3\\envs\\toxic-comments\\lib\\site-packages\\sklearn\\utils\\deprecation.py:58: DeprecationWarning: Class Imputer is deprecated; Imputer was deprecated in version 0.20 and will be removed in 0.22. Import impute.SimpleImputer from sklearn instead.\n",
      "  warnings.warn(msg, category=DeprecationWarning)\n",
      "C:\\Users\\Abhay\\Anaconda3\\envs\\toxic-comments\\lib\\site-packages\\ipykernel_launcher.py:9: DeprecationWarning: Call to deprecated `__getitem__` (Method will be removed in 4.0.0, use self.wv.__getitem__() instead).\n",
      "  if __name__ == '__main__':\n",
      "C:\\Users\\Abhay\\Anaconda3\\envs\\toxic-comments\\lib\\site-packages\\ipykernel_launcher.py:12: RuntimeWarning: invalid value encountered in true_divide\n",
      "  if sys.path[0] == '':\n",
      "C:\\Users\\Abhay\\Anaconda3\\envs\\toxic-comments\\lib\\site-packages\\sklearn\\utils\\deprecation.py:58: DeprecationWarning: Class Imputer is deprecated; Imputer was deprecated in version 0.20 and will be removed in 0.22. Import impute.SimpleImputer from sklearn instead.\n",
      "  warnings.warn(msg, category=DeprecationWarning)\n"
     ]
    },
    {
     "name": "stdout",
     "output_type": "stream",
     "text": [
      "Fitting SVM to data.\n",
      "The total time taken for this iteration is : 198.90626096725464\n",
      "Mean AUC ROC Score is:  0.8808507364492324\n",
      "Iteration 7, Current parameters: num_features: 600, min_word_count: 3, context: 10, downsampling: 0, num_epochs: 10\n",
      "Starting to train the word2vec model.\n",
      "Training complete!\n",
      "Extracting feature representation from word2vec model.\n"
     ]
    },
    {
     "name": "stderr",
     "output_type": "stream",
     "text": [
      "C:\\Users\\Abhay\\Anaconda3\\envs\\toxic-comments\\lib\\site-packages\\ipykernel_launcher.py:9: DeprecationWarning: Call to deprecated `__getitem__` (Method will be removed in 4.0.0, use self.wv.__getitem__() instead).\n",
      "  if __name__ == '__main__':\n",
      "C:\\Users\\Abhay\\Anaconda3\\envs\\toxic-comments\\lib\\site-packages\\ipykernel_launcher.py:12: RuntimeWarning: invalid value encountered in true_divide\n",
      "  if sys.path[0] == '':\n",
      "C:\\Users\\Abhay\\Anaconda3\\envs\\toxic-comments\\lib\\site-packages\\sklearn\\utils\\deprecation.py:58: DeprecationWarning: Class Imputer is deprecated; Imputer was deprecated in version 0.20 and will be removed in 0.22. Import impute.SimpleImputer from sklearn instead.\n",
      "  warnings.warn(msg, category=DeprecationWarning)\n",
      "C:\\Users\\Abhay\\Anaconda3\\envs\\toxic-comments\\lib\\site-packages\\ipykernel_launcher.py:9: DeprecationWarning: Call to deprecated `__getitem__` (Method will be removed in 4.0.0, use self.wv.__getitem__() instead).\n",
      "  if __name__ == '__main__':\n",
      "C:\\Users\\Abhay\\Anaconda3\\envs\\toxic-comments\\lib\\site-packages\\ipykernel_launcher.py:12: RuntimeWarning: invalid value encountered in true_divide\n",
      "  if sys.path[0] == '':\n",
      "C:\\Users\\Abhay\\Anaconda3\\envs\\toxic-comments\\lib\\site-packages\\sklearn\\utils\\deprecation.py:58: DeprecationWarning: Class Imputer is deprecated; Imputer was deprecated in version 0.20 and will be removed in 0.22. Import impute.SimpleImputer from sklearn instead.\n",
      "  warnings.warn(msg, category=DeprecationWarning)\n"
     ]
    },
    {
     "name": "stdout",
     "output_type": "stream",
     "text": [
      "Fitting SVM to data.\n",
      "The total time taken for this iteration is : 222.25997114181519\n",
      "Mean AUC ROC Score is:  0.8819975375006797\n",
      "Iteration 8, Current parameters: num_features: 700, min_word_count: 3, context: 10, downsampling: 0, num_epochs: 10\n",
      "Starting to train the word2vec model.\n",
      "Training complete!\n",
      "Extracting feature representation from word2vec model.\n"
     ]
    },
    {
     "name": "stderr",
     "output_type": "stream",
     "text": [
      "C:\\Users\\Abhay\\Anaconda3\\envs\\toxic-comments\\lib\\site-packages\\ipykernel_launcher.py:9: DeprecationWarning: Call to deprecated `__getitem__` (Method will be removed in 4.0.0, use self.wv.__getitem__() instead).\n",
      "  if __name__ == '__main__':\n",
      "C:\\Users\\Abhay\\Anaconda3\\envs\\toxic-comments\\lib\\site-packages\\ipykernel_launcher.py:12: RuntimeWarning: invalid value encountered in true_divide\n",
      "  if sys.path[0] == '':\n",
      "C:\\Users\\Abhay\\Anaconda3\\envs\\toxic-comments\\lib\\site-packages\\sklearn\\utils\\deprecation.py:58: DeprecationWarning: Class Imputer is deprecated; Imputer was deprecated in version 0.20 and will be removed in 0.22. Import impute.SimpleImputer from sklearn instead.\n",
      "  warnings.warn(msg, category=DeprecationWarning)\n",
      "C:\\Users\\Abhay\\Anaconda3\\envs\\toxic-comments\\lib\\site-packages\\ipykernel_launcher.py:9: DeprecationWarning: Call to deprecated `__getitem__` (Method will be removed in 4.0.0, use self.wv.__getitem__() instead).\n",
      "  if __name__ == '__main__':\n",
      "C:\\Users\\Abhay\\Anaconda3\\envs\\toxic-comments\\lib\\site-packages\\ipykernel_launcher.py:12: RuntimeWarning: invalid value encountered in true_divide\n",
      "  if sys.path[0] == '':\n",
      "C:\\Users\\Abhay\\Anaconda3\\envs\\toxic-comments\\lib\\site-packages\\sklearn\\utils\\deprecation.py:58: DeprecationWarning: Class Imputer is deprecated; Imputer was deprecated in version 0.20 and will be removed in 0.22. Import impute.SimpleImputer from sklearn instead.\n",
      "  warnings.warn(msg, category=DeprecationWarning)\n"
     ]
    },
    {
     "name": "stdout",
     "output_type": "stream",
     "text": [
      "Fitting SVM to data.\n",
      "The total time taken for this iteration is : 245.17424201965332\n",
      "Mean AUC ROC Score is:  0.8823476713217724\n",
      "Iteration 9, Current parameters: num_features: 300, min_word_count: 1, context: 10, downsampling: 0, num_epochs: 10\n",
      "Starting to train the word2vec model.\n",
      "Training complete!\n",
      "Extracting feature representation from word2vec model.\n"
     ]
    },
    {
     "name": "stderr",
     "output_type": "stream",
     "text": [
      "C:\\Users\\Abhay\\Anaconda3\\envs\\toxic-comments\\lib\\site-packages\\ipykernel_launcher.py:9: DeprecationWarning: Call to deprecated `__getitem__` (Method will be removed in 4.0.0, use self.wv.__getitem__() instead).\n",
      "  if __name__ == '__main__':\n",
      "C:\\Users\\Abhay\\Anaconda3\\envs\\toxic-comments\\lib\\site-packages\\ipykernel_launcher.py:12: RuntimeWarning: invalid value encountered in true_divide\n",
      "  if sys.path[0] == '':\n",
      "C:\\Users\\Abhay\\Anaconda3\\envs\\toxic-comments\\lib\\site-packages\\sklearn\\utils\\deprecation.py:58: DeprecationWarning: Class Imputer is deprecated; Imputer was deprecated in version 0.20 and will be removed in 0.22. Import impute.SimpleImputer from sklearn instead.\n",
      "  warnings.warn(msg, category=DeprecationWarning)\n",
      "C:\\Users\\Abhay\\Anaconda3\\envs\\toxic-comments\\lib\\site-packages\\ipykernel_launcher.py:9: DeprecationWarning: Call to deprecated `__getitem__` (Method will be removed in 4.0.0, use self.wv.__getitem__() instead).\n",
      "  if __name__ == '__main__':\n",
      "C:\\Users\\Abhay\\Anaconda3\\envs\\toxic-comments\\lib\\site-packages\\ipykernel_launcher.py:12: RuntimeWarning: invalid value encountered in true_divide\n",
      "  if sys.path[0] == '':\n",
      "C:\\Users\\Abhay\\Anaconda3\\envs\\toxic-comments\\lib\\site-packages\\sklearn\\utils\\deprecation.py:58: DeprecationWarning: Class Imputer is deprecated; Imputer was deprecated in version 0.20 and will be removed in 0.22. Import impute.SimpleImputer from sklearn instead.\n",
      "  warnings.warn(msg, category=DeprecationWarning)\n"
     ]
    },
    {
     "name": "stdout",
     "output_type": "stream",
     "text": [
      "Fitting SVM to data.\n",
      "The total time taken for this iteration is : 163.56704139709473\n",
      "Mean AUC ROC Score is:  0.8767944893635287\n",
      "Iteration 10, Current parameters: num_features: 300, min_word_count: 2, context: 10, downsampling: 0, num_epochs: 10\n",
      "Starting to train the word2vec model.\n",
      "Training complete!\n",
      "Extracting feature representation from word2vec model.\n"
     ]
    },
    {
     "name": "stderr",
     "output_type": "stream",
     "text": [
      "C:\\Users\\Abhay\\Anaconda3\\envs\\toxic-comments\\lib\\site-packages\\ipykernel_launcher.py:9: DeprecationWarning: Call to deprecated `__getitem__` (Method will be removed in 4.0.0, use self.wv.__getitem__() instead).\n",
      "  if __name__ == '__main__':\n",
      "C:\\Users\\Abhay\\Anaconda3\\envs\\toxic-comments\\lib\\site-packages\\ipykernel_launcher.py:12: RuntimeWarning: invalid value encountered in true_divide\n",
      "  if sys.path[0] == '':\n",
      "C:\\Users\\Abhay\\Anaconda3\\envs\\toxic-comments\\lib\\site-packages\\sklearn\\utils\\deprecation.py:58: DeprecationWarning: Class Imputer is deprecated; Imputer was deprecated in version 0.20 and will be removed in 0.22. Import impute.SimpleImputer from sklearn instead.\n",
      "  warnings.warn(msg, category=DeprecationWarning)\n",
      "C:\\Users\\Abhay\\Anaconda3\\envs\\toxic-comments\\lib\\site-packages\\ipykernel_launcher.py:9: DeprecationWarning: Call to deprecated `__getitem__` (Method will be removed in 4.0.0, use self.wv.__getitem__() instead).\n",
      "  if __name__ == '__main__':\n",
      "C:\\Users\\Abhay\\Anaconda3\\envs\\toxic-comments\\lib\\site-packages\\ipykernel_launcher.py:12: RuntimeWarning: invalid value encountered in true_divide\n",
      "  if sys.path[0] == '':\n",
      "C:\\Users\\Abhay\\Anaconda3\\envs\\toxic-comments\\lib\\site-packages\\sklearn\\utils\\deprecation.py:58: DeprecationWarning: Class Imputer is deprecated; Imputer was deprecated in version 0.20 and will be removed in 0.22. Import impute.SimpleImputer from sklearn instead.\n",
      "  warnings.warn(msg, category=DeprecationWarning)\n"
     ]
    },
    {
     "name": "stdout",
     "output_type": "stream",
     "text": [
      "Fitting SVM to data.\n",
      "The total time taken for this iteration is : 154.88094758987427\n",
      "Mean AUC ROC Score is:  0.8759576618625721\n",
      "Iteration 11, Current parameters: num_features: 300, min_word_count: 3, context: 10, downsampling: 0, num_epochs: 10\n",
      "Starting to train the word2vec model.\n",
      "Training complete!\n",
      "Extracting feature representation from word2vec model.\n"
     ]
    },
    {
     "name": "stderr",
     "output_type": "stream",
     "text": [
      "C:\\Users\\Abhay\\Anaconda3\\envs\\toxic-comments\\lib\\site-packages\\ipykernel_launcher.py:9: DeprecationWarning: Call to deprecated `__getitem__` (Method will be removed in 4.0.0, use self.wv.__getitem__() instead).\n",
      "  if __name__ == '__main__':\n",
      "C:\\Users\\Abhay\\Anaconda3\\envs\\toxic-comments\\lib\\site-packages\\ipykernel_launcher.py:12: RuntimeWarning: invalid value encountered in true_divide\n",
      "  if sys.path[0] == '':\n",
      "C:\\Users\\Abhay\\Anaconda3\\envs\\toxic-comments\\lib\\site-packages\\sklearn\\utils\\deprecation.py:58: DeprecationWarning: Class Imputer is deprecated; Imputer was deprecated in version 0.20 and will be removed in 0.22. Import impute.SimpleImputer from sklearn instead.\n",
      "  warnings.warn(msg, category=DeprecationWarning)\n",
      "C:\\Users\\Abhay\\Anaconda3\\envs\\toxic-comments\\lib\\site-packages\\ipykernel_launcher.py:9: DeprecationWarning: Call to deprecated `__getitem__` (Method will be removed in 4.0.0, use self.wv.__getitem__() instead).\n",
      "  if __name__ == '__main__':\n",
      "C:\\Users\\Abhay\\Anaconda3\\envs\\toxic-comments\\lib\\site-packages\\ipykernel_launcher.py:12: RuntimeWarning: invalid value encountered in true_divide\n",
      "  if sys.path[0] == '':\n",
      "C:\\Users\\Abhay\\Anaconda3\\envs\\toxic-comments\\lib\\site-packages\\sklearn\\utils\\deprecation.py:58: DeprecationWarning: Class Imputer is deprecated; Imputer was deprecated in version 0.20 and will be removed in 0.22. Import impute.SimpleImputer from sklearn instead.\n",
      "  warnings.warn(msg, category=DeprecationWarning)\n"
     ]
    },
    {
     "name": "stdout",
     "output_type": "stream",
     "text": [
      "Fitting SVM to data.\n",
      "The total time taken for this iteration is : 169.22699570655823\n",
      "Mean AUC ROC Score is:  0.8777064785662171\n",
      "Iteration 12, Current parameters: num_features: 300, min_word_count: 4, context: 10, downsampling: 0, num_epochs: 10\n",
      "Starting to train the word2vec model.\n",
      "Training complete!\n",
      "Extracting feature representation from word2vec model.\n"
     ]
    },
    {
     "name": "stderr",
     "output_type": "stream",
     "text": [
      "C:\\Users\\Abhay\\Anaconda3\\envs\\toxic-comments\\lib\\site-packages\\ipykernel_launcher.py:9: DeprecationWarning: Call to deprecated `__getitem__` (Method will be removed in 4.0.0, use self.wv.__getitem__() instead).\n",
      "  if __name__ == '__main__':\n",
      "C:\\Users\\Abhay\\Anaconda3\\envs\\toxic-comments\\lib\\site-packages\\ipykernel_launcher.py:12: RuntimeWarning: invalid value encountered in true_divide\n",
      "  if sys.path[0] == '':\n",
      "C:\\Users\\Abhay\\Anaconda3\\envs\\toxic-comments\\lib\\site-packages\\sklearn\\utils\\deprecation.py:58: DeprecationWarning: Class Imputer is deprecated; Imputer was deprecated in version 0.20 and will be removed in 0.22. Import impute.SimpleImputer from sklearn instead.\n",
      "  warnings.warn(msg, category=DeprecationWarning)\n",
      "C:\\Users\\Abhay\\Anaconda3\\envs\\toxic-comments\\lib\\site-packages\\ipykernel_launcher.py:9: DeprecationWarning: Call to deprecated `__getitem__` (Method will be removed in 4.0.0, use self.wv.__getitem__() instead).\n",
      "  if __name__ == '__main__':\n",
      "C:\\Users\\Abhay\\Anaconda3\\envs\\toxic-comments\\lib\\site-packages\\ipykernel_launcher.py:12: RuntimeWarning: invalid value encountered in true_divide\n",
      "  if sys.path[0] == '':\n",
      "C:\\Users\\Abhay\\Anaconda3\\envs\\toxic-comments\\lib\\site-packages\\sklearn\\utils\\deprecation.py:58: DeprecationWarning: Class Imputer is deprecated; Imputer was deprecated in version 0.20 and will be removed in 0.22. Import impute.SimpleImputer from sklearn instead.\n",
      "  warnings.warn(msg, category=DeprecationWarning)\n"
     ]
    },
    {
     "name": "stdout",
     "output_type": "stream",
     "text": [
      "Fitting SVM to data.\n",
      "The total time taken for this iteration is : 171.02924847602844\n",
      "Mean AUC ROC Score is:  0.8787222769643478\n",
      "Iteration 13, Current parameters: num_features: 300, min_word_count: 5, context: 10, downsampling: 0, num_epochs: 10\n",
      "Starting to train the word2vec model.\n",
      "Training complete!\n",
      "Extracting feature representation from word2vec model.\n"
     ]
    },
    {
     "name": "stderr",
     "output_type": "stream",
     "text": [
      "C:\\Users\\Abhay\\Anaconda3\\envs\\toxic-comments\\lib\\site-packages\\ipykernel_launcher.py:9: DeprecationWarning: Call to deprecated `__getitem__` (Method will be removed in 4.0.0, use self.wv.__getitem__() instead).\n",
      "  if __name__ == '__main__':\n",
      "C:\\Users\\Abhay\\Anaconda3\\envs\\toxic-comments\\lib\\site-packages\\ipykernel_launcher.py:12: RuntimeWarning: invalid value encountered in true_divide\n",
      "  if sys.path[0] == '':\n",
      "C:\\Users\\Abhay\\Anaconda3\\envs\\toxic-comments\\lib\\site-packages\\sklearn\\utils\\deprecation.py:58: DeprecationWarning: Class Imputer is deprecated; Imputer was deprecated in version 0.20 and will be removed in 0.22. Import impute.SimpleImputer from sklearn instead.\n",
      "  warnings.warn(msg, category=DeprecationWarning)\n",
      "C:\\Users\\Abhay\\Anaconda3\\envs\\toxic-comments\\lib\\site-packages\\ipykernel_launcher.py:9: DeprecationWarning: Call to deprecated `__getitem__` (Method will be removed in 4.0.0, use self.wv.__getitem__() instead).\n",
      "  if __name__ == '__main__':\n",
      "C:\\Users\\Abhay\\Anaconda3\\envs\\toxic-comments\\lib\\site-packages\\ipykernel_launcher.py:12: RuntimeWarning: invalid value encountered in true_divide\n",
      "  if sys.path[0] == '':\n",
      "C:\\Users\\Abhay\\Anaconda3\\envs\\toxic-comments\\lib\\site-packages\\sklearn\\utils\\deprecation.py:58: DeprecationWarning: Class Imputer is deprecated; Imputer was deprecated in version 0.20 and will be removed in 0.22. Import impute.SimpleImputer from sklearn instead.\n",
      "  warnings.warn(msg, category=DeprecationWarning)\n"
     ]
    },
    {
     "name": "stdout",
     "output_type": "stream",
     "text": [
      "Fitting SVM to data.\n",
      "The total time taken for this iteration is : 173.35595965385437\n",
      "Mean AUC ROC Score is:  0.8782079267261547\n",
      "Iteration 14, Current parameters: num_features: 300, min_word_count: 6, context: 10, downsampling: 0, num_epochs: 10\n",
      "Starting to train the word2vec model.\n",
      "Training complete!\n",
      "Extracting feature representation from word2vec model.\n"
     ]
    },
    {
     "name": "stderr",
     "output_type": "stream",
     "text": [
      "C:\\Users\\Abhay\\Anaconda3\\envs\\toxic-comments\\lib\\site-packages\\ipykernel_launcher.py:9: DeprecationWarning: Call to deprecated `__getitem__` (Method will be removed in 4.0.0, use self.wv.__getitem__() instead).\n",
      "  if __name__ == '__main__':\n",
      "C:\\Users\\Abhay\\Anaconda3\\envs\\toxic-comments\\lib\\site-packages\\ipykernel_launcher.py:12: RuntimeWarning: invalid value encountered in true_divide\n",
      "  if sys.path[0] == '':\n",
      "C:\\Users\\Abhay\\Anaconda3\\envs\\toxic-comments\\lib\\site-packages\\sklearn\\utils\\deprecation.py:58: DeprecationWarning: Class Imputer is deprecated; Imputer was deprecated in version 0.20 and will be removed in 0.22. Import impute.SimpleImputer from sklearn instead.\n",
      "  warnings.warn(msg, category=DeprecationWarning)\n",
      "C:\\Users\\Abhay\\Anaconda3\\envs\\toxic-comments\\lib\\site-packages\\ipykernel_launcher.py:9: DeprecationWarning: Call to deprecated `__getitem__` (Method will be removed in 4.0.0, use self.wv.__getitem__() instead).\n",
      "  if __name__ == '__main__':\n",
      "C:\\Users\\Abhay\\Anaconda3\\envs\\toxic-comments\\lib\\site-packages\\ipykernel_launcher.py:12: RuntimeWarning: invalid value encountered in true_divide\n",
      "  if sys.path[0] == '':\n",
      "C:\\Users\\Abhay\\Anaconda3\\envs\\toxic-comments\\lib\\site-packages\\sklearn\\utils\\deprecation.py:58: DeprecationWarning: Class Imputer is deprecated; Imputer was deprecated in version 0.20 and will be removed in 0.22. Import impute.SimpleImputer from sklearn instead.\n",
      "  warnings.warn(msg, category=DeprecationWarning)\n"
     ]
    },
    {
     "name": "stdout",
     "output_type": "stream",
     "text": [
      "Fitting SVM to data.\n",
      "The total time taken for this iteration is : 167.8551595211029\n",
      "Mean AUC ROC Score is:  0.8777558361114381\n",
      "Iteration 15, Current parameters: num_features: 300, min_word_count: 7, context: 10, downsampling: 0, num_epochs: 10\n",
      "Starting to train the word2vec model.\n",
      "Training complete!\n",
      "Extracting feature representation from word2vec model.\n"
     ]
    },
    {
     "name": "stderr",
     "output_type": "stream",
     "text": [
      "C:\\Users\\Abhay\\Anaconda3\\envs\\toxic-comments\\lib\\site-packages\\ipykernel_launcher.py:9: DeprecationWarning: Call to deprecated `__getitem__` (Method will be removed in 4.0.0, use self.wv.__getitem__() instead).\n",
      "  if __name__ == '__main__':\n",
      "C:\\Users\\Abhay\\Anaconda3\\envs\\toxic-comments\\lib\\site-packages\\ipykernel_launcher.py:12: RuntimeWarning: invalid value encountered in true_divide\n",
      "  if sys.path[0] == '':\n",
      "C:\\Users\\Abhay\\Anaconda3\\envs\\toxic-comments\\lib\\site-packages\\sklearn\\utils\\deprecation.py:58: DeprecationWarning: Class Imputer is deprecated; Imputer was deprecated in version 0.20 and will be removed in 0.22. Import impute.SimpleImputer from sklearn instead.\n",
      "  warnings.warn(msg, category=DeprecationWarning)\n",
      "C:\\Users\\Abhay\\Anaconda3\\envs\\toxic-comments\\lib\\site-packages\\ipykernel_launcher.py:9: DeprecationWarning: Call to deprecated `__getitem__` (Method will be removed in 4.0.0, use self.wv.__getitem__() instead).\n",
      "  if __name__ == '__main__':\n",
      "C:\\Users\\Abhay\\Anaconda3\\envs\\toxic-comments\\lib\\site-packages\\ipykernel_launcher.py:12: RuntimeWarning: invalid value encountered in true_divide\n",
      "  if sys.path[0] == '':\n",
      "C:\\Users\\Abhay\\Anaconda3\\envs\\toxic-comments\\lib\\site-packages\\sklearn\\utils\\deprecation.py:58: DeprecationWarning: Class Imputer is deprecated; Imputer was deprecated in version 0.20 and will be removed in 0.22. Import impute.SimpleImputer from sklearn instead.\n",
      "  warnings.warn(msg, category=DeprecationWarning)\n"
     ]
    },
    {
     "name": "stdout",
     "output_type": "stream",
     "text": [
      "Fitting SVM to data.\n",
      "The total time taken for this iteration is : 168.9739089012146\n",
      "Mean AUC ROC Score is:  0.8758409505888746\n",
      "Iteration 16, Current parameters: num_features: 300, min_word_count: 8, context: 10, downsampling: 0, num_epochs: 10\n",
      "Starting to train the word2vec model.\n",
      "Training complete!\n",
      "Extracting feature representation from word2vec model.\n"
     ]
    },
    {
     "name": "stderr",
     "output_type": "stream",
     "text": [
      "C:\\Users\\Abhay\\Anaconda3\\envs\\toxic-comments\\lib\\site-packages\\ipykernel_launcher.py:9: DeprecationWarning: Call to deprecated `__getitem__` (Method will be removed in 4.0.0, use self.wv.__getitem__() instead).\n",
      "  if __name__ == '__main__':\n",
      "C:\\Users\\Abhay\\Anaconda3\\envs\\toxic-comments\\lib\\site-packages\\ipykernel_launcher.py:12: RuntimeWarning: invalid value encountered in true_divide\n",
      "  if sys.path[0] == '':\n",
      "C:\\Users\\Abhay\\Anaconda3\\envs\\toxic-comments\\lib\\site-packages\\sklearn\\utils\\deprecation.py:58: DeprecationWarning: Class Imputer is deprecated; Imputer was deprecated in version 0.20 and will be removed in 0.22. Import impute.SimpleImputer from sklearn instead.\n",
      "  warnings.warn(msg, category=DeprecationWarning)\n",
      "C:\\Users\\Abhay\\Anaconda3\\envs\\toxic-comments\\lib\\site-packages\\ipykernel_launcher.py:9: DeprecationWarning: Call to deprecated `__getitem__` (Method will be removed in 4.0.0, use self.wv.__getitem__() instead).\n",
      "  if __name__ == '__main__':\n",
      "C:\\Users\\Abhay\\Anaconda3\\envs\\toxic-comments\\lib\\site-packages\\ipykernel_launcher.py:12: RuntimeWarning: invalid value encountered in true_divide\n",
      "  if sys.path[0] == '':\n",
      "C:\\Users\\Abhay\\Anaconda3\\envs\\toxic-comments\\lib\\site-packages\\sklearn\\utils\\deprecation.py:58: DeprecationWarning: Class Imputer is deprecated; Imputer was deprecated in version 0.20 and will be removed in 0.22. Import impute.SimpleImputer from sklearn instead.\n",
      "  warnings.warn(msg, category=DeprecationWarning)\n"
     ]
    },
    {
     "name": "stdout",
     "output_type": "stream",
     "text": [
      "Fitting SVM to data.\n",
      "The total time taken for this iteration is : 166.3850154876709\n",
      "Mean AUC ROC Score is:  0.8802385973215067\n",
      "Iteration 17, Current parameters: num_features: 300, min_word_count: 9, context: 10, downsampling: 0, num_epochs: 10\n",
      "Starting to train the word2vec model.\n",
      "Training complete!\n",
      "Extracting feature representation from word2vec model.\n"
     ]
    },
    {
     "name": "stderr",
     "output_type": "stream",
     "text": [
      "C:\\Users\\Abhay\\Anaconda3\\envs\\toxic-comments\\lib\\site-packages\\ipykernel_launcher.py:9: DeprecationWarning: Call to deprecated `__getitem__` (Method will be removed in 4.0.0, use self.wv.__getitem__() instead).\n",
      "  if __name__ == '__main__':\n",
      "C:\\Users\\Abhay\\Anaconda3\\envs\\toxic-comments\\lib\\site-packages\\ipykernel_launcher.py:12: RuntimeWarning: invalid value encountered in true_divide\n",
      "  if sys.path[0] == '':\n",
      "C:\\Users\\Abhay\\Anaconda3\\envs\\toxic-comments\\lib\\site-packages\\sklearn\\utils\\deprecation.py:58: DeprecationWarning: Class Imputer is deprecated; Imputer was deprecated in version 0.20 and will be removed in 0.22. Import impute.SimpleImputer from sklearn instead.\n",
      "  warnings.warn(msg, category=DeprecationWarning)\n",
      "C:\\Users\\Abhay\\Anaconda3\\envs\\toxic-comments\\lib\\site-packages\\ipykernel_launcher.py:9: DeprecationWarning: Call to deprecated `__getitem__` (Method will be removed in 4.0.0, use self.wv.__getitem__() instead).\n",
      "  if __name__ == '__main__':\n",
      "C:\\Users\\Abhay\\Anaconda3\\envs\\toxic-comments\\lib\\site-packages\\ipykernel_launcher.py:12: RuntimeWarning: invalid value encountered in true_divide\n",
      "  if sys.path[0] == '':\n",
      "C:\\Users\\Abhay\\Anaconda3\\envs\\toxic-comments\\lib\\site-packages\\sklearn\\utils\\deprecation.py:58: DeprecationWarning: Class Imputer is deprecated; Imputer was deprecated in version 0.20 and will be removed in 0.22. Import impute.SimpleImputer from sklearn instead.\n",
      "  warnings.warn(msg, category=DeprecationWarning)\n"
     ]
    },
    {
     "name": "stdout",
     "output_type": "stream",
     "text": [
      "Fitting SVM to data.\n",
      "The total time taken for this iteration is : 164.35562443733215\n",
      "Mean AUC ROC Score is:  0.8780570754877642\n",
      "Iteration 18, Current parameters: num_features: 300, min_word_count: 10, context: 10, downsampling: 0, num_epochs: 10\n",
      "Starting to train the word2vec model.\n",
      "Training complete!\n",
      "Extracting feature representation from word2vec model.\n"
     ]
    },
    {
     "name": "stderr",
     "output_type": "stream",
     "text": [
      "C:\\Users\\Abhay\\Anaconda3\\envs\\toxic-comments\\lib\\site-packages\\ipykernel_launcher.py:9: DeprecationWarning: Call to deprecated `__getitem__` (Method will be removed in 4.0.0, use self.wv.__getitem__() instead).\n",
      "  if __name__ == '__main__':\n",
      "C:\\Users\\Abhay\\Anaconda3\\envs\\toxic-comments\\lib\\site-packages\\ipykernel_launcher.py:12: RuntimeWarning: invalid value encountered in true_divide\n",
      "  if sys.path[0] == '':\n",
      "C:\\Users\\Abhay\\Anaconda3\\envs\\toxic-comments\\lib\\site-packages\\sklearn\\utils\\deprecation.py:58: DeprecationWarning: Class Imputer is deprecated; Imputer was deprecated in version 0.20 and will be removed in 0.22. Import impute.SimpleImputer from sklearn instead.\n",
      "  warnings.warn(msg, category=DeprecationWarning)\n",
      "C:\\Users\\Abhay\\Anaconda3\\envs\\toxic-comments\\lib\\site-packages\\ipykernel_launcher.py:9: DeprecationWarning: Call to deprecated `__getitem__` (Method will be removed in 4.0.0, use self.wv.__getitem__() instead).\n",
      "  if __name__ == '__main__':\n",
      "C:\\Users\\Abhay\\Anaconda3\\envs\\toxic-comments\\lib\\site-packages\\ipykernel_launcher.py:12: RuntimeWarning: invalid value encountered in true_divide\n",
      "  if sys.path[0] == '':\n",
      "C:\\Users\\Abhay\\Anaconda3\\envs\\toxic-comments\\lib\\site-packages\\sklearn\\utils\\deprecation.py:58: DeprecationWarning: Class Imputer is deprecated; Imputer was deprecated in version 0.20 and will be removed in 0.22. Import impute.SimpleImputer from sklearn instead.\n",
      "  warnings.warn(msg, category=DeprecationWarning)\n"
     ]
    },
    {
     "name": "stdout",
     "output_type": "stream",
     "text": [
      "Fitting SVM to data.\n",
      "The total time taken for this iteration is : 167.2165253162384\n",
      "Mean AUC ROC Score is:  0.8753902492755216\n",
      "Iteration 19, Current parameters: num_features: 300, min_word_count: 3, context: 2, downsampling: 0, num_epochs: 10\n",
      "Starting to train the word2vec model.\n",
      "Training complete!\n",
      "Extracting feature representation from word2vec model.\n"
     ]
    },
    {
     "name": "stderr",
     "output_type": "stream",
     "text": [
      "C:\\Users\\Abhay\\Anaconda3\\envs\\toxic-comments\\lib\\site-packages\\ipykernel_launcher.py:9: DeprecationWarning: Call to deprecated `__getitem__` (Method will be removed in 4.0.0, use self.wv.__getitem__() instead).\n",
      "  if __name__ == '__main__':\n",
      "C:\\Users\\Abhay\\Anaconda3\\envs\\toxic-comments\\lib\\site-packages\\ipykernel_launcher.py:12: RuntimeWarning: invalid value encountered in true_divide\n",
      "  if sys.path[0] == '':\n",
      "C:\\Users\\Abhay\\Anaconda3\\envs\\toxic-comments\\lib\\site-packages\\sklearn\\utils\\deprecation.py:58: DeprecationWarning: Class Imputer is deprecated; Imputer was deprecated in version 0.20 and will be removed in 0.22. Import impute.SimpleImputer from sklearn instead.\n",
      "  warnings.warn(msg, category=DeprecationWarning)\n",
      "C:\\Users\\Abhay\\Anaconda3\\envs\\toxic-comments\\lib\\site-packages\\ipykernel_launcher.py:9: DeprecationWarning: Call to deprecated `__getitem__` (Method will be removed in 4.0.0, use self.wv.__getitem__() instead).\n",
      "  if __name__ == '__main__':\n",
      "C:\\Users\\Abhay\\Anaconda3\\envs\\toxic-comments\\lib\\site-packages\\ipykernel_launcher.py:12: RuntimeWarning: invalid value encountered in true_divide\n",
      "  if sys.path[0] == '':\n",
      "C:\\Users\\Abhay\\Anaconda3\\envs\\toxic-comments\\lib\\site-packages\\sklearn\\utils\\deprecation.py:58: DeprecationWarning: Class Imputer is deprecated; Imputer was deprecated in version 0.20 and will be removed in 0.22. Import impute.SimpleImputer from sklearn instead.\n",
      "  warnings.warn(msg, category=DeprecationWarning)\n"
     ]
    },
    {
     "name": "stdout",
     "output_type": "stream",
     "text": [
      "Fitting SVM to data.\n",
      "The total time taken for this iteration is : 157.97499632835388\n",
      "Mean AUC ROC Score is:  0.8755203257279291\n",
      "Iteration 20, Current parameters: num_features: 300, min_word_count: 3, context: 4, downsampling: 0, num_epochs: 10\n",
      "Starting to train the word2vec model.\n",
      "Training complete!\n",
      "Extracting feature representation from word2vec model.\n"
     ]
    },
    {
     "name": "stderr",
     "output_type": "stream",
     "text": [
      "C:\\Users\\Abhay\\Anaconda3\\envs\\toxic-comments\\lib\\site-packages\\ipykernel_launcher.py:9: DeprecationWarning: Call to deprecated `__getitem__` (Method will be removed in 4.0.0, use self.wv.__getitem__() instead).\n",
      "  if __name__ == '__main__':\n",
      "C:\\Users\\Abhay\\Anaconda3\\envs\\toxic-comments\\lib\\site-packages\\ipykernel_launcher.py:12: RuntimeWarning: invalid value encountered in true_divide\n",
      "  if sys.path[0] == '':\n",
      "C:\\Users\\Abhay\\Anaconda3\\envs\\toxic-comments\\lib\\site-packages\\sklearn\\utils\\deprecation.py:58: DeprecationWarning: Class Imputer is deprecated; Imputer was deprecated in version 0.20 and will be removed in 0.22. Import impute.SimpleImputer from sklearn instead.\n",
      "  warnings.warn(msg, category=DeprecationWarning)\n",
      "C:\\Users\\Abhay\\Anaconda3\\envs\\toxic-comments\\lib\\site-packages\\ipykernel_launcher.py:9: DeprecationWarning: Call to deprecated `__getitem__` (Method will be removed in 4.0.0, use self.wv.__getitem__() instead).\n",
      "  if __name__ == '__main__':\n",
      "C:\\Users\\Abhay\\Anaconda3\\envs\\toxic-comments\\lib\\site-packages\\ipykernel_launcher.py:12: RuntimeWarning: invalid value encountered in true_divide\n",
      "  if sys.path[0] == '':\n",
      "C:\\Users\\Abhay\\Anaconda3\\envs\\toxic-comments\\lib\\site-packages\\sklearn\\utils\\deprecation.py:58: DeprecationWarning: Class Imputer is deprecated; Imputer was deprecated in version 0.20 and will be removed in 0.22. Import impute.SimpleImputer from sklearn instead.\n",
      "  warnings.warn(msg, category=DeprecationWarning)\n"
     ]
    },
    {
     "name": "stdout",
     "output_type": "stream",
     "text": [
      "Fitting SVM to data.\n",
      "The total time taken for this iteration is : 156.95910024642944\n",
      "Mean AUC ROC Score is:  0.8778734735860447\n",
      "Iteration 21, Current parameters: num_features: 300, min_word_count: 3, context: 6, downsampling: 0, num_epochs: 10\n",
      "Starting to train the word2vec model.\n",
      "Training complete!\n",
      "Extracting feature representation from word2vec model.\n"
     ]
    },
    {
     "name": "stderr",
     "output_type": "stream",
     "text": [
      "C:\\Users\\Abhay\\Anaconda3\\envs\\toxic-comments\\lib\\site-packages\\ipykernel_launcher.py:9: DeprecationWarning: Call to deprecated `__getitem__` (Method will be removed in 4.0.0, use self.wv.__getitem__() instead).\n",
      "  if __name__ == '__main__':\n",
      "C:\\Users\\Abhay\\Anaconda3\\envs\\toxic-comments\\lib\\site-packages\\ipykernel_launcher.py:12: RuntimeWarning: invalid value encountered in true_divide\n",
      "  if sys.path[0] == '':\n",
      "C:\\Users\\Abhay\\Anaconda3\\envs\\toxic-comments\\lib\\site-packages\\sklearn\\utils\\deprecation.py:58: DeprecationWarning: Class Imputer is deprecated; Imputer was deprecated in version 0.20 and will be removed in 0.22. Import impute.SimpleImputer from sklearn instead.\n",
      "  warnings.warn(msg, category=DeprecationWarning)\n",
      "C:\\Users\\Abhay\\Anaconda3\\envs\\toxic-comments\\lib\\site-packages\\ipykernel_launcher.py:9: DeprecationWarning: Call to deprecated `__getitem__` (Method will be removed in 4.0.0, use self.wv.__getitem__() instead).\n",
      "  if __name__ == '__main__':\n",
      "C:\\Users\\Abhay\\Anaconda3\\envs\\toxic-comments\\lib\\site-packages\\ipykernel_launcher.py:12: RuntimeWarning: invalid value encountered in true_divide\n",
      "  if sys.path[0] == '':\n",
      "C:\\Users\\Abhay\\Anaconda3\\envs\\toxic-comments\\lib\\site-packages\\sklearn\\utils\\deprecation.py:58: DeprecationWarning: Class Imputer is deprecated; Imputer was deprecated in version 0.20 and will be removed in 0.22. Import impute.SimpleImputer from sklearn instead.\n",
      "  warnings.warn(msg, category=DeprecationWarning)\n"
     ]
    },
    {
     "name": "stdout",
     "output_type": "stream",
     "text": [
      "Fitting SVM to data.\n",
      "The total time taken for this iteration is : 159.57936549186707\n",
      "Mean AUC ROC Score is:  0.877539946646844\n",
      "Iteration 22, Current parameters: num_features: 300, min_word_count: 3, context: 8, downsampling: 0, num_epochs: 10\n",
      "Starting to train the word2vec model.\n",
      "Training complete!\n",
      "Extracting feature representation from word2vec model.\n"
     ]
    },
    {
     "name": "stderr",
     "output_type": "stream",
     "text": [
      "C:\\Users\\Abhay\\Anaconda3\\envs\\toxic-comments\\lib\\site-packages\\ipykernel_launcher.py:9: DeprecationWarning: Call to deprecated `__getitem__` (Method will be removed in 4.0.0, use self.wv.__getitem__() instead).\n",
      "  if __name__ == '__main__':\n",
      "C:\\Users\\Abhay\\Anaconda3\\envs\\toxic-comments\\lib\\site-packages\\ipykernel_launcher.py:12: RuntimeWarning: invalid value encountered in true_divide\n",
      "  if sys.path[0] == '':\n",
      "C:\\Users\\Abhay\\Anaconda3\\envs\\toxic-comments\\lib\\site-packages\\sklearn\\utils\\deprecation.py:58: DeprecationWarning: Class Imputer is deprecated; Imputer was deprecated in version 0.20 and will be removed in 0.22. Import impute.SimpleImputer from sklearn instead.\n",
      "  warnings.warn(msg, category=DeprecationWarning)\n",
      "C:\\Users\\Abhay\\Anaconda3\\envs\\toxic-comments\\lib\\site-packages\\ipykernel_launcher.py:9: DeprecationWarning: Call to deprecated `__getitem__` (Method will be removed in 4.0.0, use self.wv.__getitem__() instead).\n",
      "  if __name__ == '__main__':\n",
      "C:\\Users\\Abhay\\Anaconda3\\envs\\toxic-comments\\lib\\site-packages\\ipykernel_launcher.py:12: RuntimeWarning: invalid value encountered in true_divide\n",
      "  if sys.path[0] == '':\n",
      "C:\\Users\\Abhay\\Anaconda3\\envs\\toxic-comments\\lib\\site-packages\\sklearn\\utils\\deprecation.py:58: DeprecationWarning: Class Imputer is deprecated; Imputer was deprecated in version 0.20 and will be removed in 0.22. Import impute.SimpleImputer from sklearn instead.\n",
      "  warnings.warn(msg, category=DeprecationWarning)\n"
     ]
    },
    {
     "name": "stdout",
     "output_type": "stream",
     "text": [
      "Fitting SVM to data.\n",
      "The total time taken for this iteration is : 160.17625164985657\n",
      "Mean AUC ROC Score is:  0.879504652815083\n",
      "Iteration 23, Current parameters: num_features: 300, min_word_count: 3, context: 10, downsampling: 0, num_epochs: 10\n",
      "Starting to train the word2vec model.\n",
      "Training complete!\n",
      "Extracting feature representation from word2vec model.\n"
     ]
    },
    {
     "name": "stderr",
     "output_type": "stream",
     "text": [
      "C:\\Users\\Abhay\\Anaconda3\\envs\\toxic-comments\\lib\\site-packages\\ipykernel_launcher.py:9: DeprecationWarning: Call to deprecated `__getitem__` (Method will be removed in 4.0.0, use self.wv.__getitem__() instead).\n",
      "  if __name__ == '__main__':\n",
      "C:\\Users\\Abhay\\Anaconda3\\envs\\toxic-comments\\lib\\site-packages\\ipykernel_launcher.py:12: RuntimeWarning: invalid value encountered in true_divide\n",
      "  if sys.path[0] == '':\n",
      "C:\\Users\\Abhay\\Anaconda3\\envs\\toxic-comments\\lib\\site-packages\\sklearn\\utils\\deprecation.py:58: DeprecationWarning: Class Imputer is deprecated; Imputer was deprecated in version 0.20 and will be removed in 0.22. Import impute.SimpleImputer from sklearn instead.\n",
      "  warnings.warn(msg, category=DeprecationWarning)\n",
      "C:\\Users\\Abhay\\Anaconda3\\envs\\toxic-comments\\lib\\site-packages\\ipykernel_launcher.py:9: DeprecationWarning: Call to deprecated `__getitem__` (Method will be removed in 4.0.0, use self.wv.__getitem__() instead).\n",
      "  if __name__ == '__main__':\n",
      "C:\\Users\\Abhay\\Anaconda3\\envs\\toxic-comments\\lib\\site-packages\\ipykernel_launcher.py:12: RuntimeWarning: invalid value encountered in true_divide\n",
      "  if sys.path[0] == '':\n",
      "C:\\Users\\Abhay\\Anaconda3\\envs\\toxic-comments\\lib\\site-packages\\sklearn\\utils\\deprecation.py:58: DeprecationWarning: Class Imputer is deprecated; Imputer was deprecated in version 0.20 and will be removed in 0.22. Import impute.SimpleImputer from sklearn instead.\n",
      "  warnings.warn(msg, category=DeprecationWarning)\n"
     ]
    },
    {
     "name": "stdout",
     "output_type": "stream",
     "text": [
      "Fitting SVM to data.\n",
      "The total time taken for this iteration is : 168.2773778438568\n",
      "Mean AUC ROC Score is:  0.8772234896899896\n",
      "Iteration 24, Current parameters: num_features: 300, min_word_count: 3, context: 12, downsampling: 0, num_epochs: 10\n",
      "Starting to train the word2vec model.\n",
      "Training complete!\n",
      "Extracting feature representation from word2vec model.\n"
     ]
    },
    {
     "name": "stderr",
     "output_type": "stream",
     "text": [
      "C:\\Users\\Abhay\\Anaconda3\\envs\\toxic-comments\\lib\\site-packages\\ipykernel_launcher.py:9: DeprecationWarning: Call to deprecated `__getitem__` (Method will be removed in 4.0.0, use self.wv.__getitem__() instead).\n",
      "  if __name__ == '__main__':\n",
      "C:\\Users\\Abhay\\Anaconda3\\envs\\toxic-comments\\lib\\site-packages\\ipykernel_launcher.py:12: RuntimeWarning: invalid value encountered in true_divide\n",
      "  if sys.path[0] == '':\n",
      "C:\\Users\\Abhay\\Anaconda3\\envs\\toxic-comments\\lib\\site-packages\\sklearn\\utils\\deprecation.py:58: DeprecationWarning: Class Imputer is deprecated; Imputer was deprecated in version 0.20 and will be removed in 0.22. Import impute.SimpleImputer from sklearn instead.\n",
      "  warnings.warn(msg, category=DeprecationWarning)\n",
      "C:\\Users\\Abhay\\Anaconda3\\envs\\toxic-comments\\lib\\site-packages\\ipykernel_launcher.py:9: DeprecationWarning: Call to deprecated `__getitem__` (Method will be removed in 4.0.0, use self.wv.__getitem__() instead).\n",
      "  if __name__ == '__main__':\n",
      "C:\\Users\\Abhay\\Anaconda3\\envs\\toxic-comments\\lib\\site-packages\\ipykernel_launcher.py:12: RuntimeWarning: invalid value encountered in true_divide\n",
      "  if sys.path[0] == '':\n",
      "C:\\Users\\Abhay\\Anaconda3\\envs\\toxic-comments\\lib\\site-packages\\sklearn\\utils\\deprecation.py:58: DeprecationWarning: Class Imputer is deprecated; Imputer was deprecated in version 0.20 and will be removed in 0.22. Import impute.SimpleImputer from sklearn instead.\n",
      "  warnings.warn(msg, category=DeprecationWarning)\n"
     ]
    },
    {
     "name": "stdout",
     "output_type": "stream",
     "text": [
      "Fitting SVM to data.\n",
      "The total time taken for this iteration is : 173.77556085586548\n",
      "Mean AUC ROC Score is:  0.8766736101857401\n",
      "Iteration 25, Current parameters: num_features: 300, min_word_count: 3, context: 14, downsampling: 0, num_epochs: 10\n",
      "Starting to train the word2vec model.\n",
      "Training complete!\n",
      "Extracting feature representation from word2vec model.\n"
     ]
    },
    {
     "name": "stderr",
     "output_type": "stream",
     "text": [
      "C:\\Users\\Abhay\\Anaconda3\\envs\\toxic-comments\\lib\\site-packages\\ipykernel_launcher.py:9: DeprecationWarning: Call to deprecated `__getitem__` (Method will be removed in 4.0.0, use self.wv.__getitem__() instead).\n",
      "  if __name__ == '__main__':\n",
      "C:\\Users\\Abhay\\Anaconda3\\envs\\toxic-comments\\lib\\site-packages\\ipykernel_launcher.py:12: RuntimeWarning: invalid value encountered in true_divide\n",
      "  if sys.path[0] == '':\n",
      "C:\\Users\\Abhay\\Anaconda3\\envs\\toxic-comments\\lib\\site-packages\\sklearn\\utils\\deprecation.py:58: DeprecationWarning: Class Imputer is deprecated; Imputer was deprecated in version 0.20 and will be removed in 0.22. Import impute.SimpleImputer from sklearn instead.\n",
      "  warnings.warn(msg, category=DeprecationWarning)\n",
      "C:\\Users\\Abhay\\Anaconda3\\envs\\toxic-comments\\lib\\site-packages\\ipykernel_launcher.py:9: DeprecationWarning: Call to deprecated `__getitem__` (Method will be removed in 4.0.0, use self.wv.__getitem__() instead).\n",
      "  if __name__ == '__main__':\n",
      "C:\\Users\\Abhay\\Anaconda3\\envs\\toxic-comments\\lib\\site-packages\\ipykernel_launcher.py:12: RuntimeWarning: invalid value encountered in true_divide\n",
      "  if sys.path[0] == '':\n",
      "C:\\Users\\Abhay\\Anaconda3\\envs\\toxic-comments\\lib\\site-packages\\sklearn\\utils\\deprecation.py:58: DeprecationWarning: Class Imputer is deprecated; Imputer was deprecated in version 0.20 and will be removed in 0.22. Import impute.SimpleImputer from sklearn instead.\n",
      "  warnings.warn(msg, category=DeprecationWarning)\n"
     ]
    },
    {
     "name": "stdout",
     "output_type": "stream",
     "text": [
      "Fitting SVM to data.\n",
      "The total time taken for this iteration is : 183.59684586524963\n",
      "Mean AUC ROC Score is:  0.8769748495620664\n",
      "Iteration 26, Current parameters: num_features: 300, min_word_count: 3, context: 16, downsampling: 0, num_epochs: 10\n",
      "Starting to train the word2vec model.\n",
      "Training complete!\n",
      "Extracting feature representation from word2vec model.\n"
     ]
    },
    {
     "name": "stderr",
     "output_type": "stream",
     "text": [
      "C:\\Users\\Abhay\\Anaconda3\\envs\\toxic-comments\\lib\\site-packages\\ipykernel_launcher.py:9: DeprecationWarning: Call to deprecated `__getitem__` (Method will be removed in 4.0.0, use self.wv.__getitem__() instead).\n",
      "  if __name__ == '__main__':\n",
      "C:\\Users\\Abhay\\Anaconda3\\envs\\toxic-comments\\lib\\site-packages\\ipykernel_launcher.py:12: RuntimeWarning: invalid value encountered in true_divide\n",
      "  if sys.path[0] == '':\n",
      "C:\\Users\\Abhay\\Anaconda3\\envs\\toxic-comments\\lib\\site-packages\\sklearn\\utils\\deprecation.py:58: DeprecationWarning: Class Imputer is deprecated; Imputer was deprecated in version 0.20 and will be removed in 0.22. Import impute.SimpleImputer from sklearn instead.\n",
      "  warnings.warn(msg, category=DeprecationWarning)\n",
      "C:\\Users\\Abhay\\Anaconda3\\envs\\toxic-comments\\lib\\site-packages\\ipykernel_launcher.py:9: DeprecationWarning: Call to deprecated `__getitem__` (Method will be removed in 4.0.0, use self.wv.__getitem__() instead).\n",
      "  if __name__ == '__main__':\n",
      "C:\\Users\\Abhay\\Anaconda3\\envs\\toxic-comments\\lib\\site-packages\\ipykernel_launcher.py:12: RuntimeWarning: invalid value encountered in true_divide\n",
      "  if sys.path[0] == '':\n",
      "C:\\Users\\Abhay\\Anaconda3\\envs\\toxic-comments\\lib\\site-packages\\sklearn\\utils\\deprecation.py:58: DeprecationWarning: Class Imputer is deprecated; Imputer was deprecated in version 0.20 and will be removed in 0.22. Import impute.SimpleImputer from sklearn instead.\n",
      "  warnings.warn(msg, category=DeprecationWarning)\n"
     ]
    },
    {
     "name": "stdout",
     "output_type": "stream",
     "text": [
      "Fitting SVM to data.\n",
      "The total time taken for this iteration is : 188.0512237548828\n",
      "Mean AUC ROC Score is:  0.8748616076577096\n",
      "Iteration 27, Current parameters: num_features: 300, min_word_count: 3, context: 18, downsampling: 0, num_epochs: 10\n",
      "Starting to train the word2vec model.\n",
      "Training complete!\n",
      "Extracting feature representation from word2vec model.\n"
     ]
    },
    {
     "name": "stderr",
     "output_type": "stream",
     "text": [
      "C:\\Users\\Abhay\\Anaconda3\\envs\\toxic-comments\\lib\\site-packages\\ipykernel_launcher.py:9: DeprecationWarning: Call to deprecated `__getitem__` (Method will be removed in 4.0.0, use self.wv.__getitem__() instead).\n",
      "  if __name__ == '__main__':\n",
      "C:\\Users\\Abhay\\Anaconda3\\envs\\toxic-comments\\lib\\site-packages\\ipykernel_launcher.py:12: RuntimeWarning: invalid value encountered in true_divide\n",
      "  if sys.path[0] == '':\n",
      "C:\\Users\\Abhay\\Anaconda3\\envs\\toxic-comments\\lib\\site-packages\\sklearn\\utils\\deprecation.py:58: DeprecationWarning: Class Imputer is deprecated; Imputer was deprecated in version 0.20 and will be removed in 0.22. Import impute.SimpleImputer from sklearn instead.\n",
      "  warnings.warn(msg, category=DeprecationWarning)\n",
      "C:\\Users\\Abhay\\Anaconda3\\envs\\toxic-comments\\lib\\site-packages\\ipykernel_launcher.py:9: DeprecationWarning: Call to deprecated `__getitem__` (Method will be removed in 4.0.0, use self.wv.__getitem__() instead).\n",
      "  if __name__ == '__main__':\n",
      "C:\\Users\\Abhay\\Anaconda3\\envs\\toxic-comments\\lib\\site-packages\\ipykernel_launcher.py:12: RuntimeWarning: invalid value encountered in true_divide\n",
      "  if sys.path[0] == '':\n",
      "C:\\Users\\Abhay\\Anaconda3\\envs\\toxic-comments\\lib\\site-packages\\sklearn\\utils\\deprecation.py:58: DeprecationWarning: Class Imputer is deprecated; Imputer was deprecated in version 0.20 and will be removed in 0.22. Import impute.SimpleImputer from sklearn instead.\n",
      "  warnings.warn(msg, category=DeprecationWarning)\n"
     ]
    },
    {
     "name": "stdout",
     "output_type": "stream",
     "text": [
      "Fitting SVM to data.\n",
      "The total time taken for this iteration is : 204.63461017608643\n",
      "Mean AUC ROC Score is:  0.8790913331696049\n",
      "Iteration 28, Current parameters: num_features: 300, min_word_count: 3, context: 20, downsampling: 0, num_epochs: 10\n",
      "Starting to train the word2vec model.\n",
      "Training complete!\n",
      "Extracting feature representation from word2vec model.\n"
     ]
    },
    {
     "name": "stderr",
     "output_type": "stream",
     "text": [
      "C:\\Users\\Abhay\\Anaconda3\\envs\\toxic-comments\\lib\\site-packages\\ipykernel_launcher.py:9: DeprecationWarning: Call to deprecated `__getitem__` (Method will be removed in 4.0.0, use self.wv.__getitem__() instead).\n",
      "  if __name__ == '__main__':\n",
      "C:\\Users\\Abhay\\Anaconda3\\envs\\toxic-comments\\lib\\site-packages\\ipykernel_launcher.py:12: RuntimeWarning: invalid value encountered in true_divide\n",
      "  if sys.path[0] == '':\n",
      "C:\\Users\\Abhay\\Anaconda3\\envs\\toxic-comments\\lib\\site-packages\\sklearn\\utils\\deprecation.py:58: DeprecationWarning: Class Imputer is deprecated; Imputer was deprecated in version 0.20 and will be removed in 0.22. Import impute.SimpleImputer from sklearn instead.\n",
      "  warnings.warn(msg, category=DeprecationWarning)\n",
      "C:\\Users\\Abhay\\Anaconda3\\envs\\toxic-comments\\lib\\site-packages\\ipykernel_launcher.py:9: DeprecationWarning: Call to deprecated `__getitem__` (Method will be removed in 4.0.0, use self.wv.__getitem__() instead).\n",
      "  if __name__ == '__main__':\n",
      "C:\\Users\\Abhay\\Anaconda3\\envs\\toxic-comments\\lib\\site-packages\\ipykernel_launcher.py:12: RuntimeWarning: invalid value encountered in true_divide\n",
      "  if sys.path[0] == '':\n",
      "C:\\Users\\Abhay\\Anaconda3\\envs\\toxic-comments\\lib\\site-packages\\sklearn\\utils\\deprecation.py:58: DeprecationWarning: Class Imputer is deprecated; Imputer was deprecated in version 0.20 and will be removed in 0.22. Import impute.SimpleImputer from sklearn instead.\n",
      "  warnings.warn(msg, category=DeprecationWarning)\n"
     ]
    },
    {
     "name": "stdout",
     "output_type": "stream",
     "text": [
      "Fitting SVM to data.\n",
      "The total time taken for this iteration is : 212.00046730041504\n",
      "Mean AUC ROC Score is:  0.8757284072192679\n",
      "Iteration 29, Current parameters: num_features: 300, min_word_count: 3, context: 10, downsampling: 0, num_epochs: 10\n",
      "Starting to train the word2vec model.\n",
      "Training complete!\n",
      "Extracting feature representation from word2vec model.\n"
     ]
    },
    {
     "name": "stderr",
     "output_type": "stream",
     "text": [
      "C:\\Users\\Abhay\\Anaconda3\\envs\\toxic-comments\\lib\\site-packages\\ipykernel_launcher.py:9: DeprecationWarning: Call to deprecated `__getitem__` (Method will be removed in 4.0.0, use self.wv.__getitem__() instead).\n",
      "  if __name__ == '__main__':\n",
      "C:\\Users\\Abhay\\Anaconda3\\envs\\toxic-comments\\lib\\site-packages\\ipykernel_launcher.py:12: RuntimeWarning: invalid value encountered in true_divide\n",
      "  if sys.path[0] == '':\n",
      "C:\\Users\\Abhay\\Anaconda3\\envs\\toxic-comments\\lib\\site-packages\\sklearn\\utils\\deprecation.py:58: DeprecationWarning: Class Imputer is deprecated; Imputer was deprecated in version 0.20 and will be removed in 0.22. Import impute.SimpleImputer from sklearn instead.\n",
      "  warnings.warn(msg, category=DeprecationWarning)\n",
      "C:\\Users\\Abhay\\Anaconda3\\envs\\toxic-comments\\lib\\site-packages\\ipykernel_launcher.py:9: DeprecationWarning: Call to deprecated `__getitem__` (Method will be removed in 4.0.0, use self.wv.__getitem__() instead).\n",
      "  if __name__ == '__main__':\n",
      "C:\\Users\\Abhay\\Anaconda3\\envs\\toxic-comments\\lib\\site-packages\\ipykernel_launcher.py:12: RuntimeWarning: invalid value encountered in true_divide\n",
      "  if sys.path[0] == '':\n",
      "C:\\Users\\Abhay\\Anaconda3\\envs\\toxic-comments\\lib\\site-packages\\sklearn\\utils\\deprecation.py:58: DeprecationWarning: Class Imputer is deprecated; Imputer was deprecated in version 0.20 and will be removed in 0.22. Import impute.SimpleImputer from sklearn instead.\n",
      "  warnings.warn(msg, category=DeprecationWarning)\n"
     ]
    },
    {
     "name": "stdout",
     "output_type": "stream",
     "text": [
      "Fitting SVM to data.\n",
      "The total time taken for this iteration is : 236.820298910141\n",
      "Mean AUC ROC Score is:  0.8802708848843812\n",
      "Iteration 30, Current parameters: num_features: 300, min_word_count: 3, context: 10, downsampling: 0, num_epochs: 10\n",
      "Starting to train the word2vec model.\n",
      "Training complete!\n",
      "Extracting feature representation from word2vec model.\n"
     ]
    },
    {
     "name": "stderr",
     "output_type": "stream",
     "text": [
      "C:\\Users\\Abhay\\Anaconda3\\envs\\toxic-comments\\lib\\site-packages\\ipykernel_launcher.py:9: DeprecationWarning: Call to deprecated `__getitem__` (Method will be removed in 4.0.0, use self.wv.__getitem__() instead).\n",
      "  if __name__ == '__main__':\n",
      "C:\\Users\\Abhay\\Anaconda3\\envs\\toxic-comments\\lib\\site-packages\\ipykernel_launcher.py:12: RuntimeWarning: invalid value encountered in true_divide\n",
      "  if sys.path[0] == '':\n",
      "C:\\Users\\Abhay\\Anaconda3\\envs\\toxic-comments\\lib\\site-packages\\sklearn\\utils\\deprecation.py:58: DeprecationWarning: Class Imputer is deprecated; Imputer was deprecated in version 0.20 and will be removed in 0.22. Import impute.SimpleImputer from sklearn instead.\n",
      "  warnings.warn(msg, category=DeprecationWarning)\n",
      "C:\\Users\\Abhay\\Anaconda3\\envs\\toxic-comments\\lib\\site-packages\\ipykernel_launcher.py:9: DeprecationWarning: Call to deprecated `__getitem__` (Method will be removed in 4.0.0, use self.wv.__getitem__() instead).\n",
      "  if __name__ == '__main__':\n",
      "C:\\Users\\Abhay\\Anaconda3\\envs\\toxic-comments\\lib\\site-packages\\ipykernel_launcher.py:12: RuntimeWarning: invalid value encountered in true_divide\n",
      "  if sys.path[0] == '':\n",
      "C:\\Users\\Abhay\\Anaconda3\\envs\\toxic-comments\\lib\\site-packages\\sklearn\\utils\\deprecation.py:58: DeprecationWarning: Class Imputer is deprecated; Imputer was deprecated in version 0.20 and will be removed in 0.22. Import impute.SimpleImputer from sklearn instead.\n",
      "  warnings.warn(msg, category=DeprecationWarning)\n"
     ]
    },
    {
     "name": "stdout",
     "output_type": "stream",
     "text": [
      "Fitting SVM to data.\n",
      "The total time taken for this iteration is : 228.51112627983093\n",
      "Mean AUC ROC Score is:  0.8790876283659685\n",
      "Iteration 31, Current parameters: num_features: 300, min_word_count: 3, context: 10, downsampling: 0, num_epochs: 10\n",
      "Starting to train the word2vec model.\n",
      "Training complete!\n",
      "Extracting feature representation from word2vec model.\n"
     ]
    },
    {
     "name": "stderr",
     "output_type": "stream",
     "text": [
      "C:\\Users\\Abhay\\Anaconda3\\envs\\toxic-comments\\lib\\site-packages\\ipykernel_launcher.py:9: DeprecationWarning: Call to deprecated `__getitem__` (Method will be removed in 4.0.0, use self.wv.__getitem__() instead).\n",
      "  if __name__ == '__main__':\n",
      "C:\\Users\\Abhay\\Anaconda3\\envs\\toxic-comments\\lib\\site-packages\\ipykernel_launcher.py:12: RuntimeWarning: invalid value encountered in true_divide\n",
      "  if sys.path[0] == '':\n",
      "C:\\Users\\Abhay\\Anaconda3\\envs\\toxic-comments\\lib\\site-packages\\sklearn\\utils\\deprecation.py:58: DeprecationWarning: Class Imputer is deprecated; Imputer was deprecated in version 0.20 and will be removed in 0.22. Import impute.SimpleImputer from sklearn instead.\n",
      "  warnings.warn(msg, category=DeprecationWarning)\n",
      "C:\\Users\\Abhay\\Anaconda3\\envs\\toxic-comments\\lib\\site-packages\\ipykernel_launcher.py:9: DeprecationWarning: Call to deprecated `__getitem__` (Method will be removed in 4.0.0, use self.wv.__getitem__() instead).\n",
      "  if __name__ == '__main__':\n",
      "C:\\Users\\Abhay\\Anaconda3\\envs\\toxic-comments\\lib\\site-packages\\ipykernel_launcher.py:12: RuntimeWarning: invalid value encountered in true_divide\n",
      "  if sys.path[0] == '':\n",
      "C:\\Users\\Abhay\\Anaconda3\\envs\\toxic-comments\\lib\\site-packages\\sklearn\\utils\\deprecation.py:58: DeprecationWarning: Class Imputer is deprecated; Imputer was deprecated in version 0.20 and will be removed in 0.22. Import impute.SimpleImputer from sklearn instead.\n",
      "  warnings.warn(msg, category=DeprecationWarning)\n"
     ]
    },
    {
     "name": "stdout",
     "output_type": "stream",
     "text": [
      "Fitting SVM to data.\n",
      "The total time taken for this iteration is : 215.8206844329834\n",
      "Mean AUC ROC Score is:  0.8787047438815467\n",
      "Iteration 32, Current parameters: num_features: 300, min_word_count: 3, context: 10, downsampling: 0, num_epochs: 10\n",
      "Starting to train the word2vec model.\n",
      "Training complete!\n",
      "Extracting feature representation from word2vec model.\n"
     ]
    },
    {
     "name": "stderr",
     "output_type": "stream",
     "text": [
      "C:\\Users\\Abhay\\Anaconda3\\envs\\toxic-comments\\lib\\site-packages\\ipykernel_launcher.py:9: DeprecationWarning: Call to deprecated `__getitem__` (Method will be removed in 4.0.0, use self.wv.__getitem__() instead).\n",
      "  if __name__ == '__main__':\n",
      "C:\\Users\\Abhay\\Anaconda3\\envs\\toxic-comments\\lib\\site-packages\\ipykernel_launcher.py:12: RuntimeWarning: invalid value encountered in true_divide\n",
      "  if sys.path[0] == '':\n",
      "C:\\Users\\Abhay\\Anaconda3\\envs\\toxic-comments\\lib\\site-packages\\sklearn\\utils\\deprecation.py:58: DeprecationWarning: Class Imputer is deprecated; Imputer was deprecated in version 0.20 and will be removed in 0.22. Import impute.SimpleImputer from sklearn instead.\n",
      "  warnings.warn(msg, category=DeprecationWarning)\n",
      "C:\\Users\\Abhay\\Anaconda3\\envs\\toxic-comments\\lib\\site-packages\\ipykernel_launcher.py:9: DeprecationWarning: Call to deprecated `__getitem__` (Method will be removed in 4.0.0, use self.wv.__getitem__() instead).\n",
      "  if __name__ == '__main__':\n",
      "C:\\Users\\Abhay\\Anaconda3\\envs\\toxic-comments\\lib\\site-packages\\ipykernel_launcher.py:12: RuntimeWarning: invalid value encountered in true_divide\n",
      "  if sys.path[0] == '':\n",
      "C:\\Users\\Abhay\\Anaconda3\\envs\\toxic-comments\\lib\\site-packages\\sklearn\\utils\\deprecation.py:58: DeprecationWarning: Class Imputer is deprecated; Imputer was deprecated in version 0.20 and will be removed in 0.22. Import impute.SimpleImputer from sklearn instead.\n",
      "  warnings.warn(msg, category=DeprecationWarning)\n"
     ]
    },
    {
     "name": "stdout",
     "output_type": "stream",
     "text": [
      "Fitting SVM to data.\n",
      "The total time taken for this iteration is : 228.32095336914062\n",
      "Mean AUC ROC Score is:  0.8781899305428992\n",
      "Iteration 33, Current parameters: num_features: 300, min_word_count: 3, context: 10, downsampling: 0, num_epochs: 10\n",
      "Starting to train the word2vec model.\n",
      "Training complete!\n",
      "Extracting feature representation from word2vec model.\n"
     ]
    },
    {
     "name": "stderr",
     "output_type": "stream",
     "text": [
      "C:\\Users\\Abhay\\Anaconda3\\envs\\toxic-comments\\lib\\site-packages\\ipykernel_launcher.py:9: DeprecationWarning: Call to deprecated `__getitem__` (Method will be removed in 4.0.0, use self.wv.__getitem__() instead).\n",
      "  if __name__ == '__main__':\n",
      "C:\\Users\\Abhay\\Anaconda3\\envs\\toxic-comments\\lib\\site-packages\\ipykernel_launcher.py:12: RuntimeWarning: invalid value encountered in true_divide\n",
      "  if sys.path[0] == '':\n",
      "C:\\Users\\Abhay\\Anaconda3\\envs\\toxic-comments\\lib\\site-packages\\sklearn\\utils\\deprecation.py:58: DeprecationWarning: Class Imputer is deprecated; Imputer was deprecated in version 0.20 and will be removed in 0.22. Import impute.SimpleImputer from sklearn instead.\n",
      "  warnings.warn(msg, category=DeprecationWarning)\n",
      "C:\\Users\\Abhay\\Anaconda3\\envs\\toxic-comments\\lib\\site-packages\\ipykernel_launcher.py:9: DeprecationWarning: Call to deprecated `__getitem__` (Method will be removed in 4.0.0, use self.wv.__getitem__() instead).\n",
      "  if __name__ == '__main__':\n",
      "C:\\Users\\Abhay\\Anaconda3\\envs\\toxic-comments\\lib\\site-packages\\ipykernel_launcher.py:12: RuntimeWarning: invalid value encountered in true_divide\n",
      "  if sys.path[0] == '':\n",
      "C:\\Users\\Abhay\\Anaconda3\\envs\\toxic-comments\\lib\\site-packages\\sklearn\\utils\\deprecation.py:58: DeprecationWarning: Class Imputer is deprecated; Imputer was deprecated in version 0.20 and will be removed in 0.22. Import impute.SimpleImputer from sklearn instead.\n",
      "  warnings.warn(msg, category=DeprecationWarning)\n"
     ]
    },
    {
     "name": "stdout",
     "output_type": "stream",
     "text": [
      "Fitting SVM to data.\n",
      "The total time taken for this iteration is : 180.05685949325562\n",
      "Mean AUC ROC Score is:  0.8778411860231703\n",
      "Iteration 34, Current parameters: num_features: 300, min_word_count: 3, context: 10, downsampling: 0, num_epochs: 10\n",
      "Starting to train the word2vec model.\n",
      "Training complete!\n",
      "Extracting feature representation from word2vec model.\n"
     ]
    },
    {
     "name": "stderr",
     "output_type": "stream",
     "text": [
      "C:\\Users\\Abhay\\Anaconda3\\envs\\toxic-comments\\lib\\site-packages\\ipykernel_launcher.py:9: DeprecationWarning: Call to deprecated `__getitem__` (Method will be removed in 4.0.0, use self.wv.__getitem__() instead).\n",
      "  if __name__ == '__main__':\n",
      "C:\\Users\\Abhay\\Anaconda3\\envs\\toxic-comments\\lib\\site-packages\\ipykernel_launcher.py:12: RuntimeWarning: invalid value encountered in true_divide\n",
      "  if sys.path[0] == '':\n",
      "C:\\Users\\Abhay\\Anaconda3\\envs\\toxic-comments\\lib\\site-packages\\sklearn\\utils\\deprecation.py:58: DeprecationWarning: Class Imputer is deprecated; Imputer was deprecated in version 0.20 and will be removed in 0.22. Import impute.SimpleImputer from sklearn instead.\n",
      "  warnings.warn(msg, category=DeprecationWarning)\n",
      "C:\\Users\\Abhay\\Anaconda3\\envs\\toxic-comments\\lib\\site-packages\\ipykernel_launcher.py:9: DeprecationWarning: Call to deprecated `__getitem__` (Method will be removed in 4.0.0, use self.wv.__getitem__() instead).\n",
      "  if __name__ == '__main__':\n",
      "C:\\Users\\Abhay\\Anaconda3\\envs\\toxic-comments\\lib\\site-packages\\ipykernel_launcher.py:12: RuntimeWarning: invalid value encountered in true_divide\n",
      "  if sys.path[0] == '':\n",
      "C:\\Users\\Abhay\\Anaconda3\\envs\\toxic-comments\\lib\\site-packages\\sklearn\\utils\\deprecation.py:58: DeprecationWarning: Class Imputer is deprecated; Imputer was deprecated in version 0.20 and will be removed in 0.22. Import impute.SimpleImputer from sklearn instead.\n",
      "  warnings.warn(msg, category=DeprecationWarning)\n"
     ]
    },
    {
     "name": "stdout",
     "output_type": "stream",
     "text": [
      "Fitting SVM to data.\n",
      "The total time taken for this iteration is : 207.31279277801514\n",
      "Mean AUC ROC Score is:  0.879437762187061\n",
      "Iteration 35, Current parameters: num_features: 300, min_word_count: 3, context: 10, downsampling: 0, num_epochs: 10\n",
      "Starting to train the word2vec model.\n",
      "Training complete!\n",
      "Extracting feature representation from word2vec model.\n"
     ]
    },
    {
     "name": "stderr",
     "output_type": "stream",
     "text": [
      "C:\\Users\\Abhay\\Anaconda3\\envs\\toxic-comments\\lib\\site-packages\\ipykernel_launcher.py:9: DeprecationWarning: Call to deprecated `__getitem__` (Method will be removed in 4.0.0, use self.wv.__getitem__() instead).\n",
      "  if __name__ == '__main__':\n",
      "C:\\Users\\Abhay\\Anaconda3\\envs\\toxic-comments\\lib\\site-packages\\ipykernel_launcher.py:12: RuntimeWarning: invalid value encountered in true_divide\n",
      "  if sys.path[0] == '':\n",
      "C:\\Users\\Abhay\\Anaconda3\\envs\\toxic-comments\\lib\\site-packages\\sklearn\\utils\\deprecation.py:58: DeprecationWarning: Class Imputer is deprecated; Imputer was deprecated in version 0.20 and will be removed in 0.22. Import impute.SimpleImputer from sklearn instead.\n",
      "  warnings.warn(msg, category=DeprecationWarning)\n",
      "C:\\Users\\Abhay\\Anaconda3\\envs\\toxic-comments\\lib\\site-packages\\ipykernel_launcher.py:9: DeprecationWarning: Call to deprecated `__getitem__` (Method will be removed in 4.0.0, use self.wv.__getitem__() instead).\n",
      "  if __name__ == '__main__':\n",
      "C:\\Users\\Abhay\\Anaconda3\\envs\\toxic-comments\\lib\\site-packages\\ipykernel_launcher.py:12: RuntimeWarning: invalid value encountered in true_divide\n",
      "  if sys.path[0] == '':\n",
      "C:\\Users\\Abhay\\Anaconda3\\envs\\toxic-comments\\lib\\site-packages\\sklearn\\utils\\deprecation.py:58: DeprecationWarning: Class Imputer is deprecated; Imputer was deprecated in version 0.20 and will be removed in 0.22. Import impute.SimpleImputer from sklearn instead.\n",
      "  warnings.warn(msg, category=DeprecationWarning)\n"
     ]
    },
    {
     "name": "stdout",
     "output_type": "stream",
     "text": [
      "Fitting SVM to data.\n",
      "The total time taken for this iteration is : 151.3936471939087\n",
      "Mean AUC ROC Score is:  0.8775380942450258\n",
      "Iteration 36, Current parameters: num_features: 300, min_word_count: 3, context: 10, downsampling: 0, num_epochs: 10\n",
      "Starting to train the word2vec model.\n",
      "Training complete!\n",
      "Extracting feature representation from word2vec model.\n"
     ]
    },
    {
     "name": "stderr",
     "output_type": "stream",
     "text": [
      "C:\\Users\\Abhay\\Anaconda3\\envs\\toxic-comments\\lib\\site-packages\\ipykernel_launcher.py:9: DeprecationWarning: Call to deprecated `__getitem__` (Method will be removed in 4.0.0, use self.wv.__getitem__() instead).\n",
      "  if __name__ == '__main__':\n",
      "C:\\Users\\Abhay\\Anaconda3\\envs\\toxic-comments\\lib\\site-packages\\ipykernel_launcher.py:12: RuntimeWarning: invalid value encountered in true_divide\n",
      "  if sys.path[0] == '':\n",
      "C:\\Users\\Abhay\\Anaconda3\\envs\\toxic-comments\\lib\\site-packages\\sklearn\\utils\\deprecation.py:58: DeprecationWarning: Class Imputer is deprecated; Imputer was deprecated in version 0.20 and will be removed in 0.22. Import impute.SimpleImputer from sklearn instead.\n",
      "  warnings.warn(msg, category=DeprecationWarning)\n",
      "C:\\Users\\Abhay\\Anaconda3\\envs\\toxic-comments\\lib\\site-packages\\ipykernel_launcher.py:9: DeprecationWarning: Call to deprecated `__getitem__` (Method will be removed in 4.0.0, use self.wv.__getitem__() instead).\n",
      "  if __name__ == '__main__':\n",
      "C:\\Users\\Abhay\\Anaconda3\\envs\\toxic-comments\\lib\\site-packages\\ipykernel_launcher.py:12: RuntimeWarning: invalid value encountered in true_divide\n",
      "  if sys.path[0] == '':\n",
      "C:\\Users\\Abhay\\Anaconda3\\envs\\toxic-comments\\lib\\site-packages\\sklearn\\utils\\deprecation.py:58: DeprecationWarning: Class Imputer is deprecated; Imputer was deprecated in version 0.20 and will be removed in 0.22. Import impute.SimpleImputer from sklearn instead.\n",
      "  warnings.warn(msg, category=DeprecationWarning)\n"
     ]
    },
    {
     "name": "stdout",
     "output_type": "stream",
     "text": [
      "Fitting SVM to data.\n",
      "The total time taken for this iteration is : 158.1520140171051\n",
      "Mean AUC ROC Score is:  0.8771589145642404\n",
      "Iteration 37, Current parameters: num_features: 300, min_word_count: 3, context: 10, downsampling: 0, num_epochs: 2\n",
      "Starting to train the word2vec model.\n",
      "Training complete!\n",
      "Extracting feature representation from word2vec model.\n"
     ]
    },
    {
     "name": "stderr",
     "output_type": "stream",
     "text": [
      "C:\\Users\\Abhay\\Anaconda3\\envs\\toxic-comments\\lib\\site-packages\\ipykernel_launcher.py:9: DeprecationWarning: Call to deprecated `__getitem__` (Method will be removed in 4.0.0, use self.wv.__getitem__() instead).\n",
      "  if __name__ == '__main__':\n",
      "C:\\Users\\Abhay\\Anaconda3\\envs\\toxic-comments\\lib\\site-packages\\ipykernel_launcher.py:12: RuntimeWarning: invalid value encountered in true_divide\n",
      "  if sys.path[0] == '':\n",
      "C:\\Users\\Abhay\\Anaconda3\\envs\\toxic-comments\\lib\\site-packages\\sklearn\\utils\\deprecation.py:58: DeprecationWarning: Class Imputer is deprecated; Imputer was deprecated in version 0.20 and will be removed in 0.22. Import impute.SimpleImputer from sklearn instead.\n",
      "  warnings.warn(msg, category=DeprecationWarning)\n",
      "C:\\Users\\Abhay\\Anaconda3\\envs\\toxic-comments\\lib\\site-packages\\ipykernel_launcher.py:9: DeprecationWarning: Call to deprecated `__getitem__` (Method will be removed in 4.0.0, use self.wv.__getitem__() instead).\n",
      "  if __name__ == '__main__':\n",
      "C:\\Users\\Abhay\\Anaconda3\\envs\\toxic-comments\\lib\\site-packages\\ipykernel_launcher.py:12: RuntimeWarning: invalid value encountered in true_divide\n",
      "  if sys.path[0] == '':\n",
      "C:\\Users\\Abhay\\Anaconda3\\envs\\toxic-comments\\lib\\site-packages\\sklearn\\utils\\deprecation.py:58: DeprecationWarning: Class Imputer is deprecated; Imputer was deprecated in version 0.20 and will be removed in 0.22. Import impute.SimpleImputer from sklearn instead.\n",
      "  warnings.warn(msg, category=DeprecationWarning)\n"
     ]
    },
    {
     "name": "stdout",
     "output_type": "stream",
     "text": [
      "Fitting SVM to data.\n",
      "The total time taken for this iteration is : 143.2447509765625\n",
      "Mean AUC ROC Score is:  0.8765426075324235\n",
      "Iteration 38, Current parameters: num_features: 300, min_word_count: 3, context: 10, downsampling: 0, num_epochs: 4\n",
      "Starting to train the word2vec model.\n",
      "Training complete!\n",
      "Extracting feature representation from word2vec model.\n"
     ]
    },
    {
     "name": "stderr",
     "output_type": "stream",
     "text": [
      "C:\\Users\\Abhay\\Anaconda3\\envs\\toxic-comments\\lib\\site-packages\\ipykernel_launcher.py:9: DeprecationWarning: Call to deprecated `__getitem__` (Method will be removed in 4.0.0, use self.wv.__getitem__() instead).\n",
      "  if __name__ == '__main__':\n",
      "C:\\Users\\Abhay\\Anaconda3\\envs\\toxic-comments\\lib\\site-packages\\ipykernel_launcher.py:12: RuntimeWarning: invalid value encountered in true_divide\n",
      "  if sys.path[0] == '':\n",
      "C:\\Users\\Abhay\\Anaconda3\\envs\\toxic-comments\\lib\\site-packages\\sklearn\\utils\\deprecation.py:58: DeprecationWarning: Class Imputer is deprecated; Imputer was deprecated in version 0.20 and will be removed in 0.22. Import impute.SimpleImputer from sklearn instead.\n",
      "  warnings.warn(msg, category=DeprecationWarning)\n",
      "C:\\Users\\Abhay\\Anaconda3\\envs\\toxic-comments\\lib\\site-packages\\ipykernel_launcher.py:9: DeprecationWarning: Call to deprecated `__getitem__` (Method will be removed in 4.0.0, use self.wv.__getitem__() instead).\n",
      "  if __name__ == '__main__':\n",
      "C:\\Users\\Abhay\\Anaconda3\\envs\\toxic-comments\\lib\\site-packages\\ipykernel_launcher.py:12: RuntimeWarning: invalid value encountered in true_divide\n",
      "  if sys.path[0] == '':\n",
      "C:\\Users\\Abhay\\Anaconda3\\envs\\toxic-comments\\lib\\site-packages\\sklearn\\utils\\deprecation.py:58: DeprecationWarning: Class Imputer is deprecated; Imputer was deprecated in version 0.20 and will be removed in 0.22. Import impute.SimpleImputer from sklearn instead.\n",
      "  warnings.warn(msg, category=DeprecationWarning)\n"
     ]
    },
    {
     "name": "stdout",
     "output_type": "stream",
     "text": [
      "Fitting SVM to data.\n",
      "The total time taken for this iteration is : 160.76204872131348\n",
      "Mean AUC ROC Score is:  0.8777226223476544\n",
      "Iteration 39, Current parameters: num_features: 300, min_word_count: 3, context: 10, downsampling: 0, num_epochs: 6\n",
      "Starting to train the word2vec model.\n",
      "Training complete!\n",
      "Extracting feature representation from word2vec model.\n"
     ]
    },
    {
     "name": "stderr",
     "output_type": "stream",
     "text": [
      "C:\\Users\\Abhay\\Anaconda3\\envs\\toxic-comments\\lib\\site-packages\\ipykernel_launcher.py:9: DeprecationWarning: Call to deprecated `__getitem__` (Method will be removed in 4.0.0, use self.wv.__getitem__() instead).\n",
      "  if __name__ == '__main__':\n",
      "C:\\Users\\Abhay\\Anaconda3\\envs\\toxic-comments\\lib\\site-packages\\ipykernel_launcher.py:12: RuntimeWarning: invalid value encountered in true_divide\n",
      "  if sys.path[0] == '':\n",
      "C:\\Users\\Abhay\\Anaconda3\\envs\\toxic-comments\\lib\\site-packages\\sklearn\\utils\\deprecation.py:58: DeprecationWarning: Class Imputer is deprecated; Imputer was deprecated in version 0.20 and will be removed in 0.22. Import impute.SimpleImputer from sklearn instead.\n",
      "  warnings.warn(msg, category=DeprecationWarning)\n",
      "C:\\Users\\Abhay\\Anaconda3\\envs\\toxic-comments\\lib\\site-packages\\ipykernel_launcher.py:9: DeprecationWarning: Call to deprecated `__getitem__` (Method will be removed in 4.0.0, use self.wv.__getitem__() instead).\n",
      "  if __name__ == '__main__':\n",
      "C:\\Users\\Abhay\\Anaconda3\\envs\\toxic-comments\\lib\\site-packages\\ipykernel_launcher.py:12: RuntimeWarning: invalid value encountered in true_divide\n",
      "  if sys.path[0] == '':\n",
      "C:\\Users\\Abhay\\Anaconda3\\envs\\toxic-comments\\lib\\site-packages\\sklearn\\utils\\deprecation.py:58: DeprecationWarning: Class Imputer is deprecated; Imputer was deprecated in version 0.20 and will be removed in 0.22. Import impute.SimpleImputer from sklearn instead.\n",
      "  warnings.warn(msg, category=DeprecationWarning)\n"
     ]
    },
    {
     "name": "stdout",
     "output_type": "stream",
     "text": [
      "Fitting SVM to data.\n",
      "The total time taken for this iteration is : 171.2938311100006\n",
      "Mean AUC ROC Score is:  0.8798220359728466\n",
      "Iteration 40, Current parameters: num_features: 300, min_word_count: 3, context: 10, downsampling: 0, num_epochs: 8\n",
      "Starting to train the word2vec model.\n",
      "Training complete!\n",
      "Extracting feature representation from word2vec model.\n"
     ]
    },
    {
     "name": "stderr",
     "output_type": "stream",
     "text": [
      "C:\\Users\\Abhay\\Anaconda3\\envs\\toxic-comments\\lib\\site-packages\\ipykernel_launcher.py:9: DeprecationWarning: Call to deprecated `__getitem__` (Method will be removed in 4.0.0, use self.wv.__getitem__() instead).\n",
      "  if __name__ == '__main__':\n",
      "C:\\Users\\Abhay\\Anaconda3\\envs\\toxic-comments\\lib\\site-packages\\ipykernel_launcher.py:12: RuntimeWarning: invalid value encountered in true_divide\n",
      "  if sys.path[0] == '':\n",
      "C:\\Users\\Abhay\\Anaconda3\\envs\\toxic-comments\\lib\\site-packages\\sklearn\\utils\\deprecation.py:58: DeprecationWarning: Class Imputer is deprecated; Imputer was deprecated in version 0.20 and will be removed in 0.22. Import impute.SimpleImputer from sklearn instead.\n",
      "  warnings.warn(msg, category=DeprecationWarning)\n",
      "C:\\Users\\Abhay\\Anaconda3\\envs\\toxic-comments\\lib\\site-packages\\ipykernel_launcher.py:9: DeprecationWarning: Call to deprecated `__getitem__` (Method will be removed in 4.0.0, use self.wv.__getitem__() instead).\n",
      "  if __name__ == '__main__':\n",
      "C:\\Users\\Abhay\\Anaconda3\\envs\\toxic-comments\\lib\\site-packages\\ipykernel_launcher.py:12: RuntimeWarning: invalid value encountered in true_divide\n",
      "  if sys.path[0] == '':\n",
      "C:\\Users\\Abhay\\Anaconda3\\envs\\toxic-comments\\lib\\site-packages\\sklearn\\utils\\deprecation.py:58: DeprecationWarning: Class Imputer is deprecated; Imputer was deprecated in version 0.20 and will be removed in 0.22. Import impute.SimpleImputer from sklearn instead.\n",
      "  warnings.warn(msg, category=DeprecationWarning)\n"
     ]
    },
    {
     "name": "stdout",
     "output_type": "stream",
     "text": [
      "Fitting SVM to data.\n",
      "The total time taken for this iteration is : 187.08768963813782\n",
      "Mean AUC ROC Score is:  0.8769217872132088\n",
      "Iteration 41, Current parameters: num_features: 300, min_word_count: 3, context: 10, downsampling: 0, num_epochs: 10\n",
      "Starting to train the word2vec model.\n",
      "Training complete!\n",
      "Extracting feature representation from word2vec model.\n"
     ]
    },
    {
     "name": "stderr",
     "output_type": "stream",
     "text": [
      "C:\\Users\\Abhay\\Anaconda3\\envs\\toxic-comments\\lib\\site-packages\\ipykernel_launcher.py:9: DeprecationWarning: Call to deprecated `__getitem__` (Method will be removed in 4.0.0, use self.wv.__getitem__() instead).\n",
      "  if __name__ == '__main__':\n",
      "C:\\Users\\Abhay\\Anaconda3\\envs\\toxic-comments\\lib\\site-packages\\ipykernel_launcher.py:12: RuntimeWarning: invalid value encountered in true_divide\n",
      "  if sys.path[0] == '':\n",
      "C:\\Users\\Abhay\\Anaconda3\\envs\\toxic-comments\\lib\\site-packages\\sklearn\\utils\\deprecation.py:58: DeprecationWarning: Class Imputer is deprecated; Imputer was deprecated in version 0.20 and will be removed in 0.22. Import impute.SimpleImputer from sklearn instead.\n",
      "  warnings.warn(msg, category=DeprecationWarning)\n",
      "C:\\Users\\Abhay\\Anaconda3\\envs\\toxic-comments\\lib\\site-packages\\ipykernel_launcher.py:9: DeprecationWarning: Call to deprecated `__getitem__` (Method will be removed in 4.0.0, use self.wv.__getitem__() instead).\n",
      "  if __name__ == '__main__':\n",
      "C:\\Users\\Abhay\\Anaconda3\\envs\\toxic-comments\\lib\\site-packages\\ipykernel_launcher.py:12: RuntimeWarning: invalid value encountered in true_divide\n",
      "  if sys.path[0] == '':\n",
      "C:\\Users\\Abhay\\Anaconda3\\envs\\toxic-comments\\lib\\site-packages\\sklearn\\utils\\deprecation.py:58: DeprecationWarning: Class Imputer is deprecated; Imputer was deprecated in version 0.20 and will be removed in 0.22. Import impute.SimpleImputer from sklearn instead.\n",
      "  warnings.warn(msg, category=DeprecationWarning)\n"
     ]
    },
    {
     "name": "stdout",
     "output_type": "stream",
     "text": [
      "Fitting SVM to data.\n",
      "The total time taken for this iteration is : 211.06814551353455\n",
      "Mean AUC ROC Score is:  0.8764572576206915\n",
      "Iteration 42, Current parameters: num_features: 300, min_word_count: 3, context: 10, downsampling: 0, num_epochs: 12\n",
      "Starting to train the word2vec model.\n",
      "Training complete!\n",
      "Extracting feature representation from word2vec model.\n"
     ]
    },
    {
     "name": "stderr",
     "output_type": "stream",
     "text": [
      "C:\\Users\\Abhay\\Anaconda3\\envs\\toxic-comments\\lib\\site-packages\\ipykernel_launcher.py:9: DeprecationWarning: Call to deprecated `__getitem__` (Method will be removed in 4.0.0, use self.wv.__getitem__() instead).\n",
      "  if __name__ == '__main__':\n",
      "C:\\Users\\Abhay\\Anaconda3\\envs\\toxic-comments\\lib\\site-packages\\ipykernel_launcher.py:12: RuntimeWarning: invalid value encountered in true_divide\n",
      "  if sys.path[0] == '':\n",
      "C:\\Users\\Abhay\\Anaconda3\\envs\\toxic-comments\\lib\\site-packages\\sklearn\\utils\\deprecation.py:58: DeprecationWarning: Class Imputer is deprecated; Imputer was deprecated in version 0.20 and will be removed in 0.22. Import impute.SimpleImputer from sklearn instead.\n",
      "  warnings.warn(msg, category=DeprecationWarning)\n",
      "C:\\Users\\Abhay\\Anaconda3\\envs\\toxic-comments\\lib\\site-packages\\ipykernel_launcher.py:9: DeprecationWarning: Call to deprecated `__getitem__` (Method will be removed in 4.0.0, use self.wv.__getitem__() instead).\n",
      "  if __name__ == '__main__':\n",
      "C:\\Users\\Abhay\\Anaconda3\\envs\\toxic-comments\\lib\\site-packages\\ipykernel_launcher.py:12: RuntimeWarning: invalid value encountered in true_divide\n",
      "  if sys.path[0] == '':\n",
      "C:\\Users\\Abhay\\Anaconda3\\envs\\toxic-comments\\lib\\site-packages\\sklearn\\utils\\deprecation.py:58: DeprecationWarning: Class Imputer is deprecated; Imputer was deprecated in version 0.20 and will be removed in 0.22. Import impute.SimpleImputer from sklearn instead.\n",
      "  warnings.warn(msg, category=DeprecationWarning)\n"
     ]
    },
    {
     "name": "stdout",
     "output_type": "stream",
     "text": [
      "Fitting SVM to data.\n",
      "The total time taken for this iteration is : 218.24424481391907\n",
      "Mean AUC ROC Score is:  0.8791554451948996\n",
      "Iteration 43, Current parameters: num_features: 300, min_word_count: 3, context: 10, downsampling: 0, num_epochs: 14\n",
      "Starting to train the word2vec model.\n",
      "Training complete!\n",
      "Extracting feature representation from word2vec model.\n"
     ]
    },
    {
     "name": "stderr",
     "output_type": "stream",
     "text": [
      "C:\\Users\\Abhay\\Anaconda3\\envs\\toxic-comments\\lib\\site-packages\\ipykernel_launcher.py:9: DeprecationWarning: Call to deprecated `__getitem__` (Method will be removed in 4.0.0, use self.wv.__getitem__() instead).\n",
      "  if __name__ == '__main__':\n",
      "C:\\Users\\Abhay\\Anaconda3\\envs\\toxic-comments\\lib\\site-packages\\ipykernel_launcher.py:12: RuntimeWarning: invalid value encountered in true_divide\n",
      "  if sys.path[0] == '':\n",
      "C:\\Users\\Abhay\\Anaconda3\\envs\\toxic-comments\\lib\\site-packages\\sklearn\\utils\\deprecation.py:58: DeprecationWarning: Class Imputer is deprecated; Imputer was deprecated in version 0.20 and will be removed in 0.22. Import impute.SimpleImputer from sklearn instead.\n",
      "  warnings.warn(msg, category=DeprecationWarning)\n",
      "C:\\Users\\Abhay\\Anaconda3\\envs\\toxic-comments\\lib\\site-packages\\ipykernel_launcher.py:9: DeprecationWarning: Call to deprecated `__getitem__` (Method will be removed in 4.0.0, use self.wv.__getitem__() instead).\n",
      "  if __name__ == '__main__':\n",
      "C:\\Users\\Abhay\\Anaconda3\\envs\\toxic-comments\\lib\\site-packages\\ipykernel_launcher.py:12: RuntimeWarning: invalid value encountered in true_divide\n",
      "  if sys.path[0] == '':\n",
      "C:\\Users\\Abhay\\Anaconda3\\envs\\toxic-comments\\lib\\site-packages\\sklearn\\utils\\deprecation.py:58: DeprecationWarning: Class Imputer is deprecated; Imputer was deprecated in version 0.20 and will be removed in 0.22. Import impute.SimpleImputer from sklearn instead.\n",
      "  warnings.warn(msg, category=DeprecationWarning)\n"
     ]
    },
    {
     "name": "stdout",
     "output_type": "stream",
     "text": [
      "Fitting SVM to data.\n",
      "The total time taken for this iteration is : 255.4501507282257\n",
      "Mean AUC ROC Score is:  0.8779039087471011\n",
      "Iteration 44, Current parameters: num_features: 300, min_word_count: 3, context: 10, downsampling: 0, num_epochs: 16\n",
      "Starting to train the word2vec model.\n",
      "Training complete!\n",
      "Extracting feature representation from word2vec model.\n"
     ]
    },
    {
     "name": "stderr",
     "output_type": "stream",
     "text": [
      "C:\\Users\\Abhay\\Anaconda3\\envs\\toxic-comments\\lib\\site-packages\\ipykernel_launcher.py:9: DeprecationWarning: Call to deprecated `__getitem__` (Method will be removed in 4.0.0, use self.wv.__getitem__() instead).\n",
      "  if __name__ == '__main__':\n",
      "C:\\Users\\Abhay\\Anaconda3\\envs\\toxic-comments\\lib\\site-packages\\ipykernel_launcher.py:12: RuntimeWarning: invalid value encountered in true_divide\n",
      "  if sys.path[0] == '':\n",
      "C:\\Users\\Abhay\\Anaconda3\\envs\\toxic-comments\\lib\\site-packages\\sklearn\\utils\\deprecation.py:58: DeprecationWarning: Class Imputer is deprecated; Imputer was deprecated in version 0.20 and will be removed in 0.22. Import impute.SimpleImputer from sklearn instead.\n",
      "  warnings.warn(msg, category=DeprecationWarning)\n",
      "C:\\Users\\Abhay\\Anaconda3\\envs\\toxic-comments\\lib\\site-packages\\ipykernel_launcher.py:9: DeprecationWarning: Call to deprecated `__getitem__` (Method will be removed in 4.0.0, use self.wv.__getitem__() instead).\n",
      "  if __name__ == '__main__':\n",
      "C:\\Users\\Abhay\\Anaconda3\\envs\\toxic-comments\\lib\\site-packages\\ipykernel_launcher.py:12: RuntimeWarning: invalid value encountered in true_divide\n",
      "  if sys.path[0] == '':\n",
      "C:\\Users\\Abhay\\Anaconda3\\envs\\toxic-comments\\lib\\site-packages\\sklearn\\utils\\deprecation.py:58: DeprecationWarning: Class Imputer is deprecated; Imputer was deprecated in version 0.20 and will be removed in 0.22. Import impute.SimpleImputer from sklearn instead.\n",
      "  warnings.warn(msg, category=DeprecationWarning)\n"
     ]
    },
    {
     "name": "stdout",
     "output_type": "stream",
     "text": [
      "Fitting SVM to data.\n",
      "The total time taken for this iteration is : 290.1234972476959\n",
      "Mean AUC ROC Score is:  0.8798058921914093\n",
      "Iteration 45, Current parameters: num_features: 300, min_word_count: 3, context: 10, downsampling: 0, num_epochs: 18\n",
      "Starting to train the word2vec model.\n",
      "Training complete!\n",
      "Extracting feature representation from word2vec model.\n"
     ]
    },
    {
     "name": "stderr",
     "output_type": "stream",
     "text": [
      "C:\\Users\\Abhay\\Anaconda3\\envs\\toxic-comments\\lib\\site-packages\\ipykernel_launcher.py:9: DeprecationWarning: Call to deprecated `__getitem__` (Method will be removed in 4.0.0, use self.wv.__getitem__() instead).\n",
      "  if __name__ == '__main__':\n",
      "C:\\Users\\Abhay\\Anaconda3\\envs\\toxic-comments\\lib\\site-packages\\ipykernel_launcher.py:12: RuntimeWarning: invalid value encountered in true_divide\n",
      "  if sys.path[0] == '':\n",
      "C:\\Users\\Abhay\\Anaconda3\\envs\\toxic-comments\\lib\\site-packages\\sklearn\\utils\\deprecation.py:58: DeprecationWarning: Class Imputer is deprecated; Imputer was deprecated in version 0.20 and will be removed in 0.22. Import impute.SimpleImputer from sklearn instead.\n",
      "  warnings.warn(msg, category=DeprecationWarning)\n",
      "C:\\Users\\Abhay\\Anaconda3\\envs\\toxic-comments\\lib\\site-packages\\ipykernel_launcher.py:9: DeprecationWarning: Call to deprecated `__getitem__` (Method will be removed in 4.0.0, use self.wv.__getitem__() instead).\n",
      "  if __name__ == '__main__':\n",
      "C:\\Users\\Abhay\\Anaconda3\\envs\\toxic-comments\\lib\\site-packages\\ipykernel_launcher.py:12: RuntimeWarning: invalid value encountered in true_divide\n",
      "  if sys.path[0] == '':\n",
      "C:\\Users\\Abhay\\Anaconda3\\envs\\toxic-comments\\lib\\site-packages\\sklearn\\utils\\deprecation.py:58: DeprecationWarning: Class Imputer is deprecated; Imputer was deprecated in version 0.20 and will be removed in 0.22. Import impute.SimpleImputer from sklearn instead.\n",
      "  warnings.warn(msg, category=DeprecationWarning)\n"
     ]
    },
    {
     "name": "stdout",
     "output_type": "stream",
     "text": [
      "Fitting SVM to data.\n",
      "The total time taken for this iteration is : 312.5202491283417\n",
      "Mean AUC ROC Score is:  0.8786710670173083\n",
      "Iteration 46, Current parameters: num_features: 300, min_word_count: 3, context: 10, downsampling: 0, num_epochs: 20\n",
      "Starting to train the word2vec model.\n",
      "Training complete!\n",
      "Extracting feature representation from word2vec model.\n"
     ]
    },
    {
     "name": "stderr",
     "output_type": "stream",
     "text": [
      "C:\\Users\\Abhay\\Anaconda3\\envs\\toxic-comments\\lib\\site-packages\\ipykernel_launcher.py:9: DeprecationWarning: Call to deprecated `__getitem__` (Method will be removed in 4.0.0, use self.wv.__getitem__() instead).\n",
      "  if __name__ == '__main__':\n",
      "C:\\Users\\Abhay\\Anaconda3\\envs\\toxic-comments\\lib\\site-packages\\ipykernel_launcher.py:12: RuntimeWarning: invalid value encountered in true_divide\n",
      "  if sys.path[0] == '':\n",
      "C:\\Users\\Abhay\\Anaconda3\\envs\\toxic-comments\\lib\\site-packages\\sklearn\\utils\\deprecation.py:58: DeprecationWarning: Class Imputer is deprecated; Imputer was deprecated in version 0.20 and will be removed in 0.22. Import impute.SimpleImputer from sklearn instead.\n",
      "  warnings.warn(msg, category=DeprecationWarning)\n",
      "C:\\Users\\Abhay\\Anaconda3\\envs\\toxic-comments\\lib\\site-packages\\ipykernel_launcher.py:9: DeprecationWarning: Call to deprecated `__getitem__` (Method will be removed in 4.0.0, use self.wv.__getitem__() instead).\n",
      "  if __name__ == '__main__':\n",
      "C:\\Users\\Abhay\\Anaconda3\\envs\\toxic-comments\\lib\\site-packages\\ipykernel_launcher.py:12: RuntimeWarning: invalid value encountered in true_divide\n",
      "  if sys.path[0] == '':\n",
      "C:\\Users\\Abhay\\Anaconda3\\envs\\toxic-comments\\lib\\site-packages\\sklearn\\utils\\deprecation.py:58: DeprecationWarning: Class Imputer is deprecated; Imputer was deprecated in version 0.20 and will be removed in 0.22. Import impute.SimpleImputer from sklearn instead.\n",
      "  warnings.warn(msg, category=DeprecationWarning)\n"
     ]
    },
    {
     "name": "stdout",
     "output_type": "stream",
     "text": [
      "Fitting SVM to data.\n",
      "The total time taken for this iteration is : 329.10125279426575\n",
      "Mean AUC ROC Score is:  0.8790069094587818\n"
     ]
    }
   ],
   "source": [
    "def crossval():\n",
    "    # Parameters will be num_features, min_word_count, context and downsampling\n",
    "    params = [[25, 3, 10, 1e-3, 10], [50, 3, 10, 1e-3, 10], [100, 3, 10, 1e-3, 10], [200, 3, 10, 1e-3, 10], [300, 3, 10, 1e-3, 10],\n",
    "              [400, 3, 10, 1e-3, 10], [500, 3, 10, 1e-3, 10], [600, 3, 10, 1e-3, 10], [700, 3, 10, 1e-3, 10], \n",
    "             [300, 1, 10, 1e-3, 10], [300, 2, 10, 1e-3, 10], [300, 3, 10, 1e-3, 10], [300, 4, 10, 1e-3, 10], [300, 5, 10, 1e-3, 10],\n",
    "              [300, 6, 10, 1e-3, 10], [300, 7, 10, 1e-3, 10], [300, 8, 10, 1e-3, 10], [300, 9, 10, 1e-3, 10], [300, 10, 10, 1e-3, 10],\n",
    "             [300, 3, 2, 1e-3, 10], [300, 3, 4, 1e-3, 10], [300, 3, 6, 1e-3, 10], [300, 3, 8, 1e-3, 10], [300, 3, 10, 1e-3, 10],\n",
    "             [300, 3, 12, 1e-3, 10], [300, 3, 14, 1e-3, 10], [300, 3, 16, 1e-3, 10], [300, 3, 18, 1e-3, 10], [300, 3, 20, 1e-3, 10],\n",
    "             [300, 3, 10, 1e-1, 10], [300, 3, 10, 5e-1, 10], [300, 3, 10, 1e-2, 10], [300, 3, 10, 5e-2, 10],\n",
    "              [300, 3, 10, 1e-3, 10], [300, 3, 10, 5e-3, 10], [300, 3, 10, 1e-4, 10], [300, 3, 10, 5e-4, 10],\n",
    "             [300, 3, 10, 1e-1, 2], [300, 3, 10, 1e-1, 4], [300, 3, 10, 1e-1, 6], [300, 3, 10, 1e-1, 8],\n",
    "             [300, 3, 10, 1e-1, 10], [300, 3, 10, 1e-1, 12], [300, 3, 10, 1e-1, 14], [300, 3, 10, 1e-1, 16], [300, 3, 10, 1e-1, 18],\n",
    "             [300, 3, 10, 1e-1, 20]]\n",
    "    results_roc_auc = []\n",
    "    for i, param in enumerate(params):\n",
    "        [num_features, min_word_count, context, downsampling, num_epochs] = param\n",
    "        print(\"Iteration %d, Current parameters: num_features: %d, min_word_count: %d, context: %d, downsampling: %d, num_epochs: %d\" % (i, num_features, min_word_count, context, downsampling, num_epochs))\n",
    "        results_roc_auc.append(eval_model(num_features, min_word_count, context, downsampling, train_data, train_labels, num_epochs))\n",
    "    return params[results_roc_auc.index(max(results_roc_auc))], results_roc_auc\n",
    "params, results = crossval()"
   ]
  },
  {
   "cell_type": "code",
   "execution_count": 16,
   "metadata": {},
   "outputs": [
    {
     "data": {
      "text/plain": [
       "[0.8514222860670103,\n",
       " 0.8629761095936687,\n",
       " 0.8729033848958342,\n",
       " 0.8755466577193667,\n",
       " 0.878474099936879,\n",
       " 0.8782697232491766,\n",
       " 0.8808507364492324,\n",
       " 0.8819975375006797,\n",
       " 0.8823476713217724,\n",
       " 0.8767944893635287,\n",
       " 0.8759576618625721,\n",
       " 0.8777064785662171,\n",
       " 0.8787222769643478,\n",
       " 0.8782079267261547,\n",
       " 0.8777558361114381,\n",
       " 0.8758409505888746,\n",
       " 0.8802385973215067,\n",
       " 0.8780570754877642,\n",
       " 0.8753902492755216,\n",
       " 0.8755203257279291,\n",
       " 0.8778734735860447,\n",
       " 0.877539946646844,\n",
       " 0.879504652815083,\n",
       " 0.8772234896899896,\n",
       " 0.8766736101857401,\n",
       " 0.8769748495620664,\n",
       " 0.8748616076577096,\n",
       " 0.8790913331696049,\n",
       " 0.8757284072192679,\n",
       " 0.8802708848843812,\n",
       " 0.8790876283659685,\n",
       " 0.8787047438815467,\n",
       " 0.8781899305428992,\n",
       " 0.8778411860231703,\n",
       " 0.879437762187061,\n",
       " 0.8775380942450258,\n",
       " 0.8771589145642404,\n",
       " 0.8765426075324235,\n",
       " 0.8777226223476544,\n",
       " 0.8798220359728466,\n",
       " 0.8769217872132088,\n",
       " 0.8764572576206915,\n",
       " 0.8791554451948996,\n",
       " 0.8779039087471011,\n",
       " 0.8798058921914093,\n",
       " 0.8786710670173083,\n",
       " 0.8790069094587818]"
      ]
     },
     "execution_count": 16,
     "metadata": {},
     "output_type": "execute_result"
    }
   ],
   "source": [
    "results"
   ]
  },
  {
   "cell_type": "markdown",
   "metadata": {},
   "source": [
    "## Note\n",
    "The graphs are quite noisy since I did not use k-fold cross-validation. Doing so, would have taken over 1 day to finish running the code. "
   ]
  },
  {
   "cell_type": "code",
   "execution_count": 17,
   "metadata": {},
   "outputs": [
    {
     "data": {
      "text/plain": [
       "Text(0.5, 0, 'Epochs')"
      ]
     },
     "execution_count": 17,
     "metadata": {},
     "output_type": "execute_result"
    },
    {
     "data": {
      "image/png": "[encoded data removed]",
      "text/plain": [
       "<Figure size 1200x800 with 5 Axes>"
      ]
     },
     "metadata": {
      "needs_background": "light"
     },
     "output_type": "display_data"
    }
   ],
   "source": [
    "import matplotlib.pyplot as plt\n",
    "fig = plt.figure(figsize = (15, 10), dpi=80)\n",
    "fig.subplots_adjust(hspace = 0.4, wspace = 0.4)\n",
    "plt.subplot(2,3,1)\n",
    "plt.plot([25, 50, 100, 200, 300, 400, 500, 600, 700] ,results[0:9])\n",
    "#plt.ylim((0.54, 0.7))\n",
    "plt.ylabel(\"F-Score\")\n",
    "plt.xlabel(\"Dimension\")\n",
    "plt.subplot(2, 3, 2)\n",
    "#plt.ylim((0.6, 0.7))\n",
    "plt.plot([1, 2,3,4,5,6,7,8,9,10] ,results[9:19])\n",
    "plt.ylabel(\"F-Score\")\n",
    "plt.xlabel(\"Minimum word occurence\")\n",
    "plt.subplot(2, 3, 3)\n",
    "#plt.ylim((0.6, 0.7))\n",
    "plt.plot([2, 4, 6, 8, 10, 12, 14, 16, 18, 20] ,results[19:29])\n",
    "plt.ylabel(\"F-Score\")\n",
    "plt.xlabel(\"Context Window\")\n",
    "plt.subplot(2, 3, 4)\n",
    "#plt.ylim((0.6, 0.7))\n",
    "reorder = [results[30], results[29], results[31]]\n",
    "plt.semilogx([5e-1, 1e-1, 5e-2, 1e-2, 5e-3, 1e-3, 5e-4, 1e-4] ,results[29:37])\n",
    "plt.ylabel(\"F-Score\")\n",
    "plt.xlabel(\"Downsampling\")\n",
    "plt.subplot(2, 3, 5)\n",
    "#plt.ylim((0.6, 0.7))\n",
    "plt.plot([2, 4, 6, 8, 10, 12, 14, 16, 18, 20] ,results[37:47])\n",
    "plt.ylabel(\"F-Score\")\n",
    "plt.xlabel(\"Epochs\")"
   ]
  },
  {
   "cell_type": "code",
   "execution_count": 18,
   "metadata": {},
   "outputs": [
    {
     "data": {
      "text/plain": [
       "[700, 3, 10, 0.001, 10]"
      ]
     },
     "execution_count": 18,
     "metadata": {},
     "output_type": "execute_result"
    }
   ],
   "source": [
    "params"
   ]
  },
  {
   "cell_type": "code",
   "execution_count": 19,
   "metadata": {},
   "outputs": [
    {
     "name": "stdout",
     "output_type": "stream",
     "text": [
      "Starting to train the word2vec model.\n",
      "Training complete!\n",
      "Extracting feature representation from word2vec model.\n"
     ]
    },
    {
     "name": "stderr",
     "output_type": "stream",
     "text": [
      "C:\\Users\\Abhay\\Anaconda3\\envs\\toxic-comments\\lib\\site-packages\\ipykernel_launcher.py:9: DeprecationWarning: Call to deprecated `__getitem__` (Method will be removed in 4.0.0, use self.wv.__getitem__() instead).\n",
      "  if __name__ == '__main__':\n",
      "C:\\Users\\Abhay\\Anaconda3\\envs\\toxic-comments\\lib\\site-packages\\ipykernel_launcher.py:12: RuntimeWarning: invalid value encountered in true_divide\n",
      "  if sys.path[0] == '':\n",
      "C:\\Users\\Abhay\\Anaconda3\\envs\\toxic-comments\\lib\\site-packages\\sklearn\\utils\\deprecation.py:58: DeprecationWarning: Class Imputer is deprecated; Imputer was deprecated in version 0.20 and will be removed in 0.22. Import impute.SimpleImputer from sklearn instead.\n",
      "  warnings.warn(msg, category=DeprecationWarning)\n",
      "C:\\Users\\Abhay\\Anaconda3\\envs\\toxic-comments\\lib\\site-packages\\ipykernel_launcher.py:9: DeprecationWarning: Call to deprecated `__getitem__` (Method will be removed in 4.0.0, use self.wv.__getitem__() instead).\n",
      "  if __name__ == '__main__':\n",
      "C:\\Users\\Abhay\\Anaconda3\\envs\\toxic-comments\\lib\\site-packages\\ipykernel_launcher.py:12: RuntimeWarning: invalid value encountered in true_divide\n",
      "  if sys.path[0] == '':\n",
      "C:\\Users\\Abhay\\Anaconda3\\envs\\toxic-comments\\lib\\site-packages\\sklearn\\utils\\deprecation.py:58: DeprecationWarning: Class Imputer is deprecated; Imputer was deprecated in version 0.20 and will be removed in 0.22. Import impute.SimpleImputer from sklearn instead.\n",
      "  warnings.warn(msg, category=DeprecationWarning)\n"
     ]
    },
    {
     "name": "stdout",
     "output_type": "stream",
     "text": [
      "Fitting SVM to data.\n",
      "The total time taken for this iteration is : 247.24650716781616\n",
      "Mean AUC ROC Score is:  0.8819980006011343\n"
     ]
    },
    {
     "data": {
      "text/plain": [
       "0.8819980006011343"
      ]
     },
     "execution_count": 19,
     "metadata": {},
     "output_type": "execute_result"
    }
   ],
   "source": [
    "eval_model(params[0], params[1], params[2], params[3], train_data, train_labels, params[4])"
   ]
  },
  {
   "cell_type": "code",
   "execution_count": 21,
   "metadata": {},
   "outputs": [
    {
     "name": "stdout",
     "output_type": "stream",
     "text": [
      "Final parameters are: Dimensions 300, Min Word Occurence 3, Context Window 10, Downsampling 0.001, Epochs 10. \n"
     ]
    }
   ],
   "source": [
    "print(\"Final parameters are: Dimensions %d, Min Word Occurence %d, Context Window %d, Downsampling %0.3f, Epochs %d. \" % (300, 3, 10, 1e-3, 10))"
   ]
  },
  {
   "cell_type": "code",
   "execution_count": null,
   "metadata": {},
   "outputs": [],
   "source": []
  },
  {
   "cell_type": "code",
   "execution_count": null,
   "metadata": {},
   "outputs": [],
   "source": []
  },
  {
   "cell_type": "code",
   "execution_count": null,
   "metadata": {},
   "outputs": [],
   "source": []
  },
  {
   "cell_type": "code",
   "execution_count": null,
   "metadata": {},
   "outputs": [],
   "source": []
  }
 ],
 "metadata": {
  "kernelspec": {
   "display_name": "Python 3",
   "language": "python",
   "name": "python3"
  },
  "language_info": {
   "codemirror_mode": {
    "name": "ipython",
    "version": 3
   },
   "file_extension": ".py",
   "mimetype": "text/x-python",
   "name": "python",
   "nbconvert_exporter": "python",
   "pygments_lexer": "ipython3",
   "version": "3.6.7"
  }
 },
 "nbformat": 4,
 "nbformat_minor": 2
}
